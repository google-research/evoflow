{
 "cells": [
  {
   "cell_type": "code",
   "execution_count": 1,
   "metadata": {},
   "outputs": [],
   "source": [
    "%load_ext autoreload\n",
    "%autoreload 2"
   ]
  },
  {
   "cell_type": "code",
   "execution_count": 2,
   "metadata": {},
   "outputs": [
    {
     "output_type": "stream",
     "name": "stderr",
     "text": "GPUs Physical: 1 - Logical GPU:1\nUsing tensorflow backend\n"
    }
   ],
   "source": [
    "from evoflow.engine import EvoFlow\n",
    "from evoflow.selection import SelectFittest\n",
    "from evoflow.population import genRandIntPopulation\n",
    "from evoflow.fitness import Sum\n",
    "from evoflow.ops import Input, RandomMutations1D, UniformCrossover1D"
   ]
  },
  {
   "cell_type": "code",
   "execution_count": 3,
   "metadata": {},
   "outputs": [],
   "source": [
    "NUM_EVOLUTIONS = 7\n",
    "POPULATION_SIZE = 512 \n",
    "CHROMOSOME_SIZE = 1024\n",
    "\n",
    "SHAPE = (POPULATION_SIZE, CHROMOSOME_SIZE)"
   ]
  },
  {
   "cell_type": "code",
   "execution_count": 4,
   "metadata": {},
   "outputs": [],
   "source": [
    "# generate an randon population\n",
    "population = genRandIntPopulation(SHAPE, max_value=1)"
   ]
  },
  {
   "cell_type": "code",
   "execution_count": 5,
   "metadata": {},
   "outputs": [],
   "source": [
    "# basic evolution graph\n",
    "inputs = Input(shape=(SHAPE))\n",
    "x = RandomMutations1D(max_gene_value=1, min_gene_value=0)(inputs)\n",
    "outputs = UniformCrossover1D()(x)"
   ]
  },
  {
   "cell_type": "code",
   "execution_count": 8,
   "metadata": {
    "scrolled": true
   },
   "outputs": [
    {
     "output_type": "stream",
     "name": "stdout",
     "text": "OP (type)                                       Output Shape    Inputs\n----------------------------------------------  --------------  ------------------------\ninput_C197A3 (Input)                            (512, 1024)\nrandommutations1d_D4A69A (RandomMutations1D)    []              input_C197A3\nuniformcrossover1d_D0A56E (UniformCrossover1D)  []              randommutations1d_D4A69A\n"
    }
   ],
   "source": [
    "ef = EvoFlow(inputs, outputs)\n",
    "ef.summary()"
   ]
  },
  {
   "cell_type": "code",
   "execution_count": 10,
   "metadata": {},
   "outputs": [],
   "source": [
    "fitness_function = Sum(max_sum_value=CHROMOSOME_SIZE)\n",
    "evolution_strategy = SelectFittest()\n",
    "ef.compile(evolution_strategy, fitness_function)"
   ]
  },
  {
   "cell_type": "code",
   "execution_count": 13,
   "metadata": {},
   "outputs": [
    {
     "output_type": "display_data",
     "data": {
      "text/plain": "HBox(children=(IntProgress(value=0, max=7), HTML(value='')))",
      "application/vnd.jupyter.widget-view+json": {
       "version_major": 2,
       "version_minor": 0,
       "model_id": "3410e28de7254e39a56067bc94862ec2"
      }
     },
     "metadata": {}
    },
    {
     "output_type": "stream",
     "name": "stdout",
     "text": "\n"
    }
   ],
   "source": [
    "results = ef.evolve(population, num_evolutions=NUM_EVOLUTIONS)"
   ]
  },
  {
   "cell_type": "code",
   "execution_count": 14,
   "metadata": {},
   "outputs": [
    {
     "output_type": "stream",
     "name": "stdout",
     "text": "fit score  genes [:20]\n-----------  --------------------------------------------\n          1  1 1 1 1 1 1 1 1 1 1 1 1 1 1 1 1 1 1 1 1  ...\n          1  1 1 1 1 1 1 1 1 1 1 1 1 1 1 1 1 1 1 1 1  ...\n          1  1 1 1 1 1 1 1 1 1 1 1 1 1 1 1 1 1 1 1 1  ...\n          1  1 1 1 1 1 1 1 1 1 1 1 1 1 1 1 1 1 1 1 1  ...\n          1  1 1 1 1 1 1 1 1 1 1 1 1 1 1 1 1 1 1 1 1  ...\n          1  1 1 1 1 1 1 1 1 1 1 1 1 1 1 1 1 1 1 1 1  ...\n          1  1 1 1 1 1 1 1 1 1 1 1 1 1 1 1 1 1 1 1 1  ...\n          1  1 1 1 1 1 1 1 1 1 1 1 1 1 1 1 1 1 1 1 1  ...\n          1  1 1 1 1 1 1 1 1 1 1 1 1 1 1 1 1 1 1 1 1  ...\n          1  1 1 1 1 1 1 1 1 1 1 1 1 1 1 1 1 1 1 1 1  ...\n"
    }
   ],
   "source": [
    "results.display_populations(top_k=10, precision=0)"
   ]
  },
  {
   "cell_type": "code",
   "execution_count": null,
   "metadata": {},
   "outputs": [],
   "source": [
    "results.plot_metrics()"
   ]
  }
 ],
 "metadata": {
  "kernelspec": {
   "display_name": "Python 3.6.7 64-bit",
   "language": "python",
   "name": "python36764bit1164f64651f442398f7288c44aeadef0"
  },
  "language_info": {
   "codemirror_mode": {
    "name": "ipython",
    "version": 3
   },
   "file_extension": ".py",
   "mimetype": "text/x-python",
   "name": "python",
   "nbconvert_exporter": "python",
   "pygments_lexer": "ipython3",
   "version": "3.6.7-candidate"
  }
 },
 "nbformat": 4,
 "nbformat_minor": 2
}