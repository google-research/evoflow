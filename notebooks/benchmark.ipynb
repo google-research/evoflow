{
 "cells": [
  {
   "cell_type": "markdown",
   "metadata": {},
   "source": [
    "# Setup"
   ]
  },
  {
   "cell_type": "code",
   "execution_count": 1,
   "metadata": {},
   "outputs": [],
   "source": [
    "from tabulate import tabulate\n",
    "from perfcounters import PerfCounters\n",
    "from IPython.core.display import HTML\n",
    "from collections import defaultdict"
   ]
  },
  {
   "cell_type": "code",
   "execution_count": 2,
   "metadata": {},
   "outputs": [
    {
     "name": "stderr",
     "output_type": "stream",
     "text": [
      "Using cupy backend\n"
     ]
    }
   ],
   "source": [
    "import evoflow.backend.numpy as NP\n",
    "import evoflow.backend.cupy as CP\n"
   ]
  },
  {
   "cell_type": "code",
   "execution_count": 3,
   "metadata": {},
   "outputs": [],
   "source": [
    "import pandas as pd\n",
    "import altair as alt"
   ]
  },
  {
   "cell_type": "markdown",
   "metadata": {},
   "source": [
    "# Backend functions benchmarking"
   ]
  },
  {
   "cell_type": "code",
   "execution_count": 4,
   "metadata": {},
   "outputs": [],
   "source": [
    "overall_cnts = PerfCounters()  # overall counters\n",
    "NUM_REPS = 100\n",
    "BACKENDS = {\"Numpy\": NP, \"Cupy\": CP}\n",
    "\n",
    "# small shape are needed as there might be case where transfering to GPU is more costly than CPU\n",
    "SHAPE1D = {'100': 100, '1000': 1000, '10000': 10000, '100000': 100000}\n",
    "SHAPE2D = {'100x100': (100, 100), '1000x100': (1000, 100), '10000x100': (10000, 100), \n",
    "           '100000x10': (100000, 10)}\n",
    "\n",
    "# generate related inputs\n",
    "INPUTS1D = {}\n",
    "INPUTS2D = {}\n",
    "for backend_name, B in BACKENDS.items():\n",
    "    INPUTS1D[backend_name] =  {}\n",
    "    for shape_name, shape in SHAPE1D.items():\n",
    "        INPUTS1D[backend_name][shape_name] = B.randint(0, 256, shape)\n",
    "    \n",
    "    INPUTS2D[backend_name] =  {}\n",
    "    for shape_name, shape in SHAPE2D.items():\n",
    "        INPUTS2D[backend_name][shape_name] = B.randint(0, 256, shape)"
   ]
  },
  {
   "cell_type": "code",
   "execution_count": 5,
   "metadata": {},
   "outputs": [],
   "source": [
    "def display_results(cnts):\n",
    "    data  = defaultdict(list)    \n",
    "    # group results\n",
    "    \n",
    "    for cnt_name, value in cnts.get_all()['Timing counters']:\n",
    "        backend_name, op_name, shape_name = cnt_name.split(\"_\")\n",
    "        data['shape'].append(shape_name)\n",
    "        data['backend'].append(backend_name)\n",
    "        data['time'].append(value * 1000) # ms\n",
    "    \n",
    "    data  = pd.DataFrame(data)\n",
    "    chart = alt.Chart(data).mark_bar().encode(\n",
    "    x=alt.X('backend', title=''),\n",
    "    y=alt.Y('time', title='Time in ms', aggregate='sum'),\n",
    "    column='shape:N',\n",
    "    color='backend:N')\n",
    "    return chart"
   ]
  },
  {
   "cell_type": "code",
   "execution_count": 6,
   "metadata": {},
   "outputs": [
    {
     "data": {
      "text/html": [
       "<table>\n",
       "<thead>\n",
       "<tr><th>backend  </th><th>shape name  </th><th>actual shape  </th></tr>\n",
       "</thead>\n",
       "<tbody>\n",
       "<tr><td>Numpy    </td><td>100x100     </td><td>(100, 100)    </td></tr>\n",
       "<tr><td>Numpy    </td><td>1000x100    </td><td>(1000, 100)   </td></tr>\n",
       "<tr><td>Numpy    </td><td>10000x100   </td><td>(10000, 100)  </td></tr>\n",
       "<tr><td>Numpy    </td><td>100000x10   </td><td>(100000, 10)  </td></tr>\n",
       "<tr><td>Cupy     </td><td>100x100     </td><td>(100, 100)    </td></tr>\n",
       "<tr><td>Cupy     </td><td>1000x100    </td><td>(1000, 100)   </td></tr>\n",
       "<tr><td>Cupy     </td><td>10000x100   </td><td>(10000, 100)  </td></tr>\n",
       "<tr><td>Cupy     </td><td>100000x10   </td><td>(100000, 10)  </td></tr>\n",
       "</tbody>\n",
       "</table>"
      ],
      "text/plain": [
       "<IPython.core.display.HTML object>"
      ]
     },
     "execution_count": 6,
     "metadata": {},
     "output_type": "execute_result"
    }
   ],
   "source": [
    "# sanity check\n",
    "rows = []\n",
    "for backend_name, B in BACKENDS.items():\n",
    "    for shape_name, inputs in INPUTS2D[backend_name].items():\n",
    "        rows.append([backend_name, shape_name, inputs.shape])\n",
    "HTML(tabulate(rows, tablefmt='html', headers=['backend', 'shape name', 'actual shape']))"
   ]
  },
  {
   "cell_type": "markdown",
   "metadata": {},
   "source": [
    "## Initialization functions"
   ]
  },
  {
   "cell_type": "markdown",
   "metadata": {},
   "source": [
    "### zeros"
   ]
  },
  {
   "cell_type": "code",
   "execution_count": 7,
   "metadata": {},
   "outputs": [
    {
     "data": {
      "text/html": [
       "\n",
       "<div id=\"altair-viz-dd67e7e082694553abfbdb7061a4398a\"></div>\n",
       "<script type=\"text/javascript\">\n",
       "  (function(spec, embedOpt){\n",
       "    const outputDiv = document.getElementById(\"altair-viz-dd67e7e082694553abfbdb7061a4398a\");\n",
       "    const paths = {\n",
       "      \"vega\": \"https://cdn.jsdelivr.net/npm//vega@5?noext\",\n",
       "      \"vega-lib\": \"https://cdn.jsdelivr.net/npm//vega-lib?noext\",\n",
       "      \"vega-lite\": \"https://cdn.jsdelivr.net/npm//vega-lite@4.0.2?noext\",\n",
       "      \"vega-embed\": \"https://cdn.jsdelivr.net/npm//vega-embed@6?noext\",\n",
       "    };\n",
       "\n",
       "    function loadScript(lib) {\n",
       "      return new Promise(function(resolve, reject) {\n",
       "        var s = document.createElement('script');\n",
       "        s.src = paths[lib];\n",
       "        s.async = true;\n",
       "        s.onload = () => resolve(paths[lib]);\n",
       "        s.onerror = () => reject(`Error loading script: ${paths[lib]}`);\n",
       "        document.getElementsByTagName(\"head\")[0].appendChild(s);\n",
       "      });\n",
       "    }\n",
       "\n",
       "    function showError(err) {\n",
       "      outputDiv.innerHTML = `<div class=\"error\" style=\"color:red;\">${err}</div>`;\n",
       "      throw err;\n",
       "    }\n",
       "\n",
       "    function displayChart(vegaEmbed) {\n",
       "      vegaEmbed(outputDiv, spec, embedOpt)\n",
       "        .catch(err => showError(`Javascript Error: ${err.message}<br>This usually means there's a typo in your chart specification. See the javascript console for the full traceback.`));\n",
       "    }\n",
       "\n",
       "    if(typeof define === \"function\" && define.amd) {\n",
       "      requirejs.config({paths});\n",
       "      require([\"vega-embed\"], displayChart, err => showError(`Error loading script: ${err.message}`));\n",
       "    } else if (typeof vegaEmbed === \"function\") {\n",
       "      displayChart(vegaEmbed);\n",
       "    } else {\n",
       "      loadScript(\"vega\")\n",
       "        .then(() => loadScript(\"vega-lite\"))\n",
       "        .then(() => loadScript(\"vega-embed\"))\n",
       "        .catch(showError)\n",
       "        .then(() => displayChart(vegaEmbed));\n",
       "    }\n",
       "  })({\"config\": {\"view\": {\"continuousWidth\": 400, \"continuousHeight\": 300}}, \"data\": {\"name\": \"data-ab2e51a8b13e579b118afb35a0c66365\"}, \"mark\": \"bar\", \"encoding\": {\"color\": {\"type\": \"nominal\", \"field\": \"backend\"}, \"column\": {\"type\": \"nominal\", \"field\": \"shape\"}, \"x\": {\"type\": \"nominal\", \"field\": \"backend\", \"title\": \"\"}, \"y\": {\"type\": \"quantitative\", \"aggregate\": \"sum\", \"field\": \"time\", \"title\": \"Time in ms\"}}, \"$schema\": \"https://vega.github.io/schema/vega-lite/v4.0.2.json\", \"datasets\": {\"data-ab2e51a8b13e579b118afb35a0c66365\": [{\"shape\": \"10000x100\", \"backend\": \"Numpy\", \"time\": 10.970592498779297}, {\"shape\": \"100000x10\", \"backend\": \"Numpy\", \"time\": 10.970592498779297}, {\"shape\": \"1000x100\", \"backend\": \"Numpy\", \"time\": 1.9943714141845703}, {\"shape\": \"100000x10\", \"backend\": \"Cupy\", \"time\": 0.9977817535400391}, {\"shape\": \"100x100\", \"backend\": \"Cupy\", \"time\": 0.9973049163818359}, {\"shape\": \"10000x100\", \"backend\": \"Cupy\", \"time\": 0.9973049163818359}, {\"shape\": \"100x100\", \"backend\": \"Numpy\", \"time\": 0.9968280792236328}, {\"shape\": \"1000x100\", \"backend\": \"Cupy\", \"time\": 0.0}]}}, {\"mode\": \"vega-lite\"});\n",
       "</script>"
      ],
      "text/plain": [
       "alt.Chart(...)"
      ]
     },
     "execution_count": 7,
     "metadata": {},
     "output_type": "execute_result"
    }
   ],
   "source": [
    "op_name = 'zeros'\n",
    "cnts = PerfCounters()\n",
    "for backend_name, B in BACKENDS.items():\n",
    "    for shape_name, shape in SHAPE2D.items():\n",
    "        cnt_name = \"%s_%s_%s\" % (backend_name, op_name, shape_name)\n",
    "        cnts.start(cnt_name)\n",
    "        for _ in range(NUM_REPS):\n",
    "            B.zeros(shape)\n",
    "        cnts.stop(cnt_name)\n",
    "\n",
    "        \n",
    "overall_cnts.merge(cnts)\n",
    "display_results(cnts)"
   ]
  },
  {
   "cell_type": "markdown",
   "metadata": {},
   "source": [
    "### ones"
   ]
  },
  {
   "cell_type": "code",
   "execution_count": 8,
   "metadata": {},
   "outputs": [
    {
     "data": {
      "text/html": [
       "\n",
       "<div id=\"altair-viz-f2c05f5216704afea8a6f52746932fb7\"></div>\n",
       "<script type=\"text/javascript\">\n",
       "  (function(spec, embedOpt){\n",
       "    const outputDiv = document.getElementById(\"altair-viz-f2c05f5216704afea8a6f52746932fb7\");\n",
       "    const paths = {\n",
       "      \"vega\": \"https://cdn.jsdelivr.net/npm//vega@5?noext\",\n",
       "      \"vega-lib\": \"https://cdn.jsdelivr.net/npm//vega-lib?noext\",\n",
       "      \"vega-lite\": \"https://cdn.jsdelivr.net/npm//vega-lite@4.0.2?noext\",\n",
       "      \"vega-embed\": \"https://cdn.jsdelivr.net/npm//vega-embed@6?noext\",\n",
       "    };\n",
       "\n",
       "    function loadScript(lib) {\n",
       "      return new Promise(function(resolve, reject) {\n",
       "        var s = document.createElement('script');\n",
       "        s.src = paths[lib];\n",
       "        s.async = true;\n",
       "        s.onload = () => resolve(paths[lib]);\n",
       "        s.onerror = () => reject(`Error loading script: ${paths[lib]}`);\n",
       "        document.getElementsByTagName(\"head\")[0].appendChild(s);\n",
       "      });\n",
       "    }\n",
       "\n",
       "    function showError(err) {\n",
       "      outputDiv.innerHTML = `<div class=\"error\" style=\"color:red;\">${err}</div>`;\n",
       "      throw err;\n",
       "    }\n",
       "\n",
       "    function displayChart(vegaEmbed) {\n",
       "      vegaEmbed(outputDiv, spec, embedOpt)\n",
       "        .catch(err => showError(`Javascript Error: ${err.message}<br>This usually means there's a typo in your chart specification. See the javascript console for the full traceback.`));\n",
       "    }\n",
       "\n",
       "    if(typeof define === \"function\" && define.amd) {\n",
       "      requirejs.config({paths});\n",
       "      require([\"vega-embed\"], displayChart, err => showError(`Error loading script: ${err.message}`));\n",
       "    } else if (typeof vegaEmbed === \"function\") {\n",
       "      displayChart(vegaEmbed);\n",
       "    } else {\n",
       "      loadScript(\"vega\")\n",
       "        .then(() => loadScript(\"vega-lite\"))\n",
       "        .then(() => loadScript(\"vega-embed\"))\n",
       "        .catch(showError)\n",
       "        .then(() => displayChart(vegaEmbed));\n",
       "    }\n",
       "  })({\"config\": {\"view\": {\"continuousWidth\": 400, \"continuousHeight\": 300}}, \"data\": {\"name\": \"data-cefa5b5e47620e0481b5f203a442ab4b\"}, \"mark\": \"bar\", \"encoding\": {\"color\": {\"type\": \"nominal\", \"field\": \"backend\"}, \"column\": {\"type\": \"nominal\", \"field\": \"shape\"}, \"x\": {\"type\": \"nominal\", \"field\": \"backend\", \"title\": \"\"}, \"y\": {\"type\": \"quantitative\", \"aggregate\": \"sum\", \"field\": \"time\", \"title\": \"Time in ms\"}}, \"$schema\": \"https://vega.github.io/schema/vega-lite/v4.0.2.json\", \"datasets\": {\"data-cefa5b5e47620e0481b5f203a442ab4b\": [{\"shape\": \"100000x10\", \"backend\": \"Numpy\", \"time\": 300.701379776001}, {\"shape\": \"10000x100\", \"backend\": \"Numpy\", \"time\": 290.7278537750244}, {\"shape\": \"100x100\", \"backend\": \"Cupy\", \"time\": 2.9921531677246094}, {\"shape\": \"1000x100\", \"backend\": \"Numpy\", \"time\": 1.9948482513427734}, {\"shape\": \"1000x100\", \"backend\": \"Cupy\", \"time\": 0.9973049163818359}, {\"shape\": \"10000x100\", \"backend\": \"Cupy\", \"time\": 0.9973049163818359}, {\"shape\": \"100000x10\", \"backend\": \"Cupy\", \"time\": 0.9973049163818359}, {\"shape\": \"100x100\", \"backend\": \"Numpy\", \"time\": 0.0}]}}, {\"mode\": \"vega-lite\"});\n",
       "</script>"
      ],
      "text/plain": [
       "alt.Chart(...)"
      ]
     },
     "execution_count": 8,
     "metadata": {},
     "output_type": "execute_result"
    }
   ],
   "source": [
    "op_name = 'ones'\n",
    "cnts = PerfCounters()\n",
    "for backend_name, B in BACKENDS.items():\n",
    "    for shape_name, shape in SHAPE2D.items():\n",
    "        cnt_name = \"%s_%s_%s\" % (backend_name, op_name, shape_name)\n",
    "        cnts.start(cnt_name)\n",
    "        for _ in range(NUM_REPS):\n",
    "            B.ones(shape)\n",
    "        cnts.stop(cnt_name)\n",
    "        \n",
    "overall_cnts.merge(cnts)\n",
    "display_results(cnts)"
   ]
  },
  {
   "cell_type": "markdown",
   "metadata": {},
   "source": [
    "## Randomness"
   ]
  },
  {
   "cell_type": "markdown",
   "metadata": {},
   "source": [
    "### Randint"
   ]
  },
  {
   "cell_type": "code",
   "execution_count": 9,
   "metadata": {},
   "outputs": [
    {
     "data": {
      "text/html": [
       "\n",
       "<div id=\"altair-viz-aef258ba61d74cad8349740d4c50579b\"></div>\n",
       "<script type=\"text/javascript\">\n",
       "  (function(spec, embedOpt){\n",
       "    const outputDiv = document.getElementById(\"altair-viz-aef258ba61d74cad8349740d4c50579b\");\n",
       "    const paths = {\n",
       "      \"vega\": \"https://cdn.jsdelivr.net/npm//vega@5?noext\",\n",
       "      \"vega-lib\": \"https://cdn.jsdelivr.net/npm//vega-lib?noext\",\n",
       "      \"vega-lite\": \"https://cdn.jsdelivr.net/npm//vega-lite@4.0.2?noext\",\n",
       "      \"vega-embed\": \"https://cdn.jsdelivr.net/npm//vega-embed@6?noext\",\n",
       "    };\n",
       "\n",
       "    function loadScript(lib) {\n",
       "      return new Promise(function(resolve, reject) {\n",
       "        var s = document.createElement('script');\n",
       "        s.src = paths[lib];\n",
       "        s.async = true;\n",
       "        s.onload = () => resolve(paths[lib]);\n",
       "        s.onerror = () => reject(`Error loading script: ${paths[lib]}`);\n",
       "        document.getElementsByTagName(\"head\")[0].appendChild(s);\n",
       "      });\n",
       "    }\n",
       "\n",
       "    function showError(err) {\n",
       "      outputDiv.innerHTML = `<div class=\"error\" style=\"color:red;\">${err}</div>`;\n",
       "      throw err;\n",
       "    }\n",
       "\n",
       "    function displayChart(vegaEmbed) {\n",
       "      vegaEmbed(outputDiv, spec, embedOpt)\n",
       "        .catch(err => showError(`Javascript Error: ${err.message}<br>This usually means there's a typo in your chart specification. See the javascript console for the full traceback.`));\n",
       "    }\n",
       "\n",
       "    if(typeof define === \"function\" && define.amd) {\n",
       "      requirejs.config({paths});\n",
       "      require([\"vega-embed\"], displayChart, err => showError(`Error loading script: ${err.message}`));\n",
       "    } else if (typeof vegaEmbed === \"function\") {\n",
       "      displayChart(vegaEmbed);\n",
       "    } else {\n",
       "      loadScript(\"vega\")\n",
       "        .then(() => loadScript(\"vega-lite\"))\n",
       "        .then(() => loadScript(\"vega-embed\"))\n",
       "        .catch(showError)\n",
       "        .then(() => displayChart(vegaEmbed));\n",
       "    }\n",
       "  })({\"config\": {\"view\": {\"continuousWidth\": 400, \"continuousHeight\": 300}}, \"data\": {\"name\": \"data-8adc2a7d77824c8cb1717e9a9cc96789\"}, \"mark\": \"bar\", \"encoding\": {\"color\": {\"type\": \"nominal\", \"field\": \"backend\"}, \"column\": {\"type\": \"nominal\", \"field\": \"shape\"}, \"x\": {\"type\": \"nominal\", \"field\": \"backend\", \"title\": \"\"}, \"y\": {\"type\": \"quantitative\", \"aggregate\": \"sum\", \"field\": \"time\", \"title\": \"Time in ms\"}}, \"$schema\": \"https://vega.github.io/schema/vega-lite/v4.0.2.json\", \"datasets\": {\"data-8adc2a7d77824c8cb1717e9a9cc96789\": [{\"shape\": \"10000x100\", \"backend\": \"Numpy\", \"time\": 407.9091548919678}, {\"shape\": \"100000x10\", \"backend\": \"Numpy\", \"time\": 392.57168769836426}, {\"shape\": \"100000x10\", \"backend\": \"Cupy\", \"time\": 71.8083381652832}, {\"shape\": \"10000x100\", \"backend\": \"Cupy\", \"time\": 71.8080997467041}, {\"shape\": \"1000x100\", \"backend\": \"Numpy\", \"time\": 30.91716766357422}, {\"shape\": \"1000x100\", \"backend\": \"Cupy\", \"time\": 26.928424835205078}, {\"shape\": \"100x100\", \"backend\": \"Cupy\", \"time\": 21.94046974182129}, {\"shape\": \"100x100\", \"backend\": \"Numpy\", \"time\": 4.987478256225586}]}}, {\"mode\": \"vega-lite\"});\n",
       "</script>"
      ],
      "text/plain": [
       "alt.Chart(...)"
      ]
     },
     "execution_count": 9,
     "metadata": {},
     "output_type": "execute_result"
    }
   ],
   "source": [
    "op_name = 'randint'  # name here\n",
    "cnts = PerfCounters()\n",
    "for backend_name, B in BACKENDS.items():\n",
    "    for shape_name, shape in SHAPE2D.items():\n",
    "        cnt_name = \"%s_%s_%s\" % (backend_name, op_name, shape_name)\n",
    "        cnts.start(cnt_name)\n",
    "        for _ in range(NUM_REPS):\n",
    "            B.randint(0, 256, shape)  # op here\n",
    "        cnts.stop(cnt_name)\n",
    "        \n",
    "overall_cnts.merge(cnts)\n",
    "display_results(cnts)"
   ]
  },
  {
   "cell_type": "code",
   "execution_count": 10,
   "metadata": {},
   "outputs": [
    {
     "data": {
      "text/html": [
       "\n",
       "<div id=\"altair-viz-e1027b16bfa44872bd977a3e172bc447\"></div>\n",
       "<script type=\"text/javascript\">\n",
       "  (function(spec, embedOpt){\n",
       "    const outputDiv = document.getElementById(\"altair-viz-e1027b16bfa44872bd977a3e172bc447\");\n",
       "    const paths = {\n",
       "      \"vega\": \"https://cdn.jsdelivr.net/npm//vega@5?noext\",\n",
       "      \"vega-lib\": \"https://cdn.jsdelivr.net/npm//vega-lib?noext\",\n",
       "      \"vega-lite\": \"https://cdn.jsdelivr.net/npm//vega-lite@4.0.2?noext\",\n",
       "      \"vega-embed\": \"https://cdn.jsdelivr.net/npm//vega-embed@6?noext\",\n",
       "    };\n",
       "\n",
       "    function loadScript(lib) {\n",
       "      return new Promise(function(resolve, reject) {\n",
       "        var s = document.createElement('script');\n",
       "        s.src = paths[lib];\n",
       "        s.async = true;\n",
       "        s.onload = () => resolve(paths[lib]);\n",
       "        s.onerror = () => reject(`Error loading script: ${paths[lib]}`);\n",
       "        document.getElementsByTagName(\"head\")[0].appendChild(s);\n",
       "      });\n",
       "    }\n",
       "\n",
       "    function showError(err) {\n",
       "      outputDiv.innerHTML = `<div class=\"error\" style=\"color:red;\">${err}</div>`;\n",
       "      throw err;\n",
       "    }\n",
       "\n",
       "    function displayChart(vegaEmbed) {\n",
       "      vegaEmbed(outputDiv, spec, embedOpt)\n",
       "        .catch(err => showError(`Javascript Error: ${err.message}<br>This usually means there's a typo in your chart specification. See the javascript console for the full traceback.`));\n",
       "    }\n",
       "\n",
       "    if(typeof define === \"function\" && define.amd) {\n",
       "      requirejs.config({paths});\n",
       "      require([\"vega-embed\"], displayChart, err => showError(`Error loading script: ${err.message}`));\n",
       "    } else if (typeof vegaEmbed === \"function\") {\n",
       "      displayChart(vegaEmbed);\n",
       "    } else {\n",
       "      loadScript(\"vega\")\n",
       "        .then(() => loadScript(\"vega-lite\"))\n",
       "        .then(() => loadScript(\"vega-embed\"))\n",
       "        .catch(showError)\n",
       "        .then(() => displayChart(vegaEmbed));\n",
       "    }\n",
       "  })({\"config\": {\"view\": {\"continuousWidth\": 400, \"continuousHeight\": 300}}, \"data\": {\"name\": \"data-32cc1bc8c7b9aa54d69adc90c514a4f2\"}, \"mark\": \"bar\", \"encoding\": {\"color\": {\"type\": \"nominal\", \"field\": \"backend\"}, \"column\": {\"type\": \"nominal\", \"field\": \"shape\"}, \"x\": {\"type\": \"nominal\", \"field\": \"backend\", \"title\": \"\"}, \"y\": {\"type\": \"quantitative\", \"aggregate\": \"sum\", \"field\": \"time\", \"title\": \"Time in ms\"}}, \"$schema\": \"https://vega.github.io/schema/vega-lite/v4.0.2.json\", \"datasets\": {\"data-32cc1bc8c7b9aa54d69adc90c514a4f2\": [{\"shape\": \"100000x10\", \"backend\": \"Numpy\", \"time\": 9902.153015136719}, {\"shape\": \"10000x100\", \"backend\": \"Numpy\", \"time\": 1046.2238788604736}, {\"shape\": \"1000x100\", \"backend\": \"Numpy\", \"time\": 95.74389457702637}, {\"shape\": \"100x100\", \"backend\": \"Cupy\", \"time\": 26.927471160888672}, {\"shape\": \"1000x100\", \"backend\": \"Cupy\", \"time\": 13.96322250366211}, {\"shape\": \"100x100\", \"backend\": \"Numpy\", \"time\": 9.97304916381836}, {\"shape\": \"100000x10\", \"backend\": \"Cupy\", \"time\": 7.978916168212891}, {\"shape\": \"10000x100\", \"backend\": \"Cupy\", \"time\": 7.9784393310546875}]}}, {\"mode\": \"vega-lite\"});\n",
       "</script>"
      ],
      "text/plain": [
       "alt.Chart(...)"
      ]
     },
     "execution_count": 10,
     "metadata": {},
     "output_type": "execute_result"
    }
   ],
   "source": [
    "op_name = 'shuffle'  # name here\n",
    "cnts = PerfCounters()\n",
    "for backend_name, B in BACKENDS.items():\n",
    "    for shape_name, inputs in INPUTS2D[backend_name].items():\n",
    "        cnt_name = \"%s_%s_%s\" % (backend_name, op_name, shape_name)\n",
    "        cnts.start(cnt_name)\n",
    "        for _ in range(NUM_REPS):\n",
    "            B.shuffle(inputs)  # op here\n",
    "        cnts.stop(cnt_name)\n",
    "        \n",
    "overall_cnts.merge(cnts)\n",
    "display_results(cnts)"
   ]
  },
  {
   "cell_type": "markdown",
   "metadata": {},
   "source": [
    "## Reduce"
   ]
  },
  {
   "cell_type": "markdown",
   "metadata": {},
   "source": [
    "### Sum"
   ]
  },
  {
   "cell_type": "code",
   "execution_count": 12,
   "metadata": {},
   "outputs": [
    {
     "data": {
      "text/html": [
       "\n",
       "<div id=\"altair-viz-161216c2f5d54b30913e8c49e5f6eb77\"></div>\n",
       "<script type=\"text/javascript\">\n",
       "  (function(spec, embedOpt){\n",
       "    const outputDiv = document.getElementById(\"altair-viz-161216c2f5d54b30913e8c49e5f6eb77\");\n",
       "    const paths = {\n",
       "      \"vega\": \"https://cdn.jsdelivr.net/npm//vega@5?noext\",\n",
       "      \"vega-lib\": \"https://cdn.jsdelivr.net/npm//vega-lib?noext\",\n",
       "      \"vega-lite\": \"https://cdn.jsdelivr.net/npm//vega-lite@4.0.2?noext\",\n",
       "      \"vega-embed\": \"https://cdn.jsdelivr.net/npm//vega-embed@6?noext\",\n",
       "    };\n",
       "\n",
       "    function loadScript(lib) {\n",
       "      return new Promise(function(resolve, reject) {\n",
       "        var s = document.createElement('script');\n",
       "        s.src = paths[lib];\n",
       "        s.async = true;\n",
       "        s.onload = () => resolve(paths[lib]);\n",
       "        s.onerror = () => reject(`Error loading script: ${paths[lib]}`);\n",
       "        document.getElementsByTagName(\"head\")[0].appendChild(s);\n",
       "      });\n",
       "    }\n",
       "\n",
       "    function showError(err) {\n",
       "      outputDiv.innerHTML = `<div class=\"error\" style=\"color:red;\">${err}</div>`;\n",
       "      throw err;\n",
       "    }\n",
       "\n",
       "    function displayChart(vegaEmbed) {\n",
       "      vegaEmbed(outputDiv, spec, embedOpt)\n",
       "        .catch(err => showError(`Javascript Error: ${err.message}<br>This usually means there's a typo in your chart specification. See the javascript console for the full traceback.`));\n",
       "    }\n",
       "\n",
       "    if(typeof define === \"function\" && define.amd) {\n",
       "      requirejs.config({paths});\n",
       "      require([\"vega-embed\"], displayChart, err => showError(`Error loading script: ${err.message}`));\n",
       "    } else if (typeof vegaEmbed === \"function\") {\n",
       "      displayChart(vegaEmbed);\n",
       "    } else {\n",
       "      loadScript(\"vega\")\n",
       "        .then(() => loadScript(\"vega-lite\"))\n",
       "        .then(() => loadScript(\"vega-embed\"))\n",
       "        .catch(showError)\n",
       "        .then(() => displayChart(vegaEmbed));\n",
       "    }\n",
       "  })({\"config\": {\"view\": {\"continuousWidth\": 400, \"continuousHeight\": 300}}, \"data\": {\"name\": \"data-138bdeb477a4248ea73544394fadde2e\"}, \"mark\": \"bar\", \"encoding\": {\"color\": {\"type\": \"nominal\", \"field\": \"backend\"}, \"column\": {\"type\": \"nominal\", \"field\": \"shape\"}, \"x\": {\"type\": \"nominal\", \"field\": \"backend\", \"title\": \"\"}, \"y\": {\"type\": \"quantitative\", \"aggregate\": \"sum\", \"field\": \"time\", \"title\": \"Time in ms\"}}, \"$schema\": \"https://vega.github.io/schema/vega-lite/v4.0.2.json\", \"datasets\": {\"data-138bdeb477a4248ea73544394fadde2e\": [{\"shape\": \"100000x10\", \"backend\": \"Numpy\", \"time\": 109.70664024353027}, {\"shape\": \"10000x100\", \"backend\": \"Numpy\", \"time\": 39.893388748168945}, {\"shape\": \"100x100\", \"backend\": \"Cupy\", \"time\": 5.983829498291016}, {\"shape\": \"1000x100\", \"backend\": \"Numpy\", \"time\": 4.986763000488281}, {\"shape\": \"100000x10\", \"backend\": \"Cupy\", \"time\": 1.9948482513427734}, {\"shape\": \"1000x100\", \"backend\": \"Cupy\", \"time\": 0.9975433349609375}, {\"shape\": \"100x100\", \"backend\": \"Numpy\", \"time\": 0.9973049163818359}, {\"shape\": \"10000x100\", \"backend\": \"Cupy\", \"time\": 0.9973049163818359}]}}, {\"mode\": \"vega-lite\"});\n",
       "</script>"
      ],
      "text/plain": [
       "alt.Chart(...)"
      ]
     },
     "execution_count": 12,
     "metadata": {},
     "output_type": "execute_result"
    }
   ],
   "source": [
    "op_name = 'sum'  # name here\n",
    "cnts = PerfCounters()\n",
    "for backend_name, B in BACKENDS.items():\n",
    "    for shape_name, inputs in INPUTS2D[backend_name].items():\n",
    "        cnt_name = \"%s_%s_%s\" % (backend_name, op_name, shape_name)\n",
    "        cnts.start(cnt_name)\n",
    "        for _ in range(NUM_REPS):\n",
    "            B.sum(inputs, axis=-1)  # op here\n",
    "        cnts.stop(cnt_name)\n",
    "        \n",
    "overall_cnts.merge(cnts)\n",
    "display_results(cnts)"
   ]
  },
  {
   "cell_type": "code",
   "execution_count": 17,
   "metadata": {},
   "outputs": [
    {
     "data": {
      "text/html": [
       "\n",
       "<div id=\"altair-viz-fa4710f8942e4047b5dd22c46be6cd30\"></div>\n",
       "<script type=\"text/javascript\">\n",
       "  (function(spec, embedOpt){\n",
       "    const outputDiv = document.getElementById(\"altair-viz-fa4710f8942e4047b5dd22c46be6cd30\");\n",
       "    const paths = {\n",
       "      \"vega\": \"https://cdn.jsdelivr.net/npm//vega@5?noext\",\n",
       "      \"vega-lib\": \"https://cdn.jsdelivr.net/npm//vega-lib?noext\",\n",
       "      \"vega-lite\": \"https://cdn.jsdelivr.net/npm//vega-lite@4.0.2?noext\",\n",
       "      \"vega-embed\": \"https://cdn.jsdelivr.net/npm//vega-embed@6?noext\",\n",
       "    };\n",
       "\n",
       "    function loadScript(lib) {\n",
       "      return new Promise(function(resolve, reject) {\n",
       "        var s = document.createElement('script');\n",
       "        s.src = paths[lib];\n",
       "        s.async = true;\n",
       "        s.onload = () => resolve(paths[lib]);\n",
       "        s.onerror = () => reject(`Error loading script: ${paths[lib]}`);\n",
       "        document.getElementsByTagName(\"head\")[0].appendChild(s);\n",
       "      });\n",
       "    }\n",
       "\n",
       "    function showError(err) {\n",
       "      outputDiv.innerHTML = `<div class=\"error\" style=\"color:red;\">${err}</div>`;\n",
       "      throw err;\n",
       "    }\n",
       "\n",
       "    function displayChart(vegaEmbed) {\n",
       "      vegaEmbed(outputDiv, spec, embedOpt)\n",
       "        .catch(err => showError(`Javascript Error: ${err.message}<br>This usually means there's a typo in your chart specification. See the javascript console for the full traceback.`));\n",
       "    }\n",
       "\n",
       "    if(typeof define === \"function\" && define.amd) {\n",
       "      requirejs.config({paths});\n",
       "      require([\"vega-embed\"], displayChart, err => showError(`Error loading script: ${err.message}`));\n",
       "    } else if (typeof vegaEmbed === \"function\") {\n",
       "      displayChart(vegaEmbed);\n",
       "    } else {\n",
       "      loadScript(\"vega\")\n",
       "        .then(() => loadScript(\"vega-lite\"))\n",
       "        .then(() => loadScript(\"vega-embed\"))\n",
       "        .catch(showError)\n",
       "        .then(() => displayChart(vegaEmbed));\n",
       "    }\n",
       "  })({\"config\": {\"view\": {\"continuousWidth\": 400, \"continuousHeight\": 300}}, \"data\": {\"name\": \"data-79f0f9537be857ab351cf42ff9263fa0\"}, \"mark\": \"bar\", \"encoding\": {\"color\": {\"type\": \"nominal\", \"field\": \"backend\"}, \"column\": {\"type\": \"nominal\", \"field\": \"shape\"}, \"x\": {\"type\": \"nominal\", \"field\": \"backend\", \"title\": \"\"}, \"y\": {\"type\": \"quantitative\", \"aggregate\": \"sum\", \"field\": \"time\", \"title\": \"Time in ms\"}}, \"$schema\": \"https://vega.github.io/schema/vega-lite/v4.0.2.json\", \"datasets\": {\"data-79f0f9537be857ab351cf42ff9263fa0\": [{\"shape\": \"100000x10\", \"backend\": \"Numpy\", \"time\": 218.4281349182129}, {\"shape\": \"100x100\", \"backend\": \"Cupy\", \"time\": 201.47156715393066}, {\"shape\": \"10000x100\", \"backend\": \"Numpy\", \"time\": 88.76299858093262}, {\"shape\": \"1000x100\", \"backend\": \"Numpy\", \"time\": 9.972810745239258}, {\"shape\": \"100x100\", \"backend\": \"Numpy\", \"time\": 2.991199493408203}, {\"shape\": \"1000x100\", \"backend\": \"Cupy\", \"time\": 0.9975433349609375}, {\"shape\": \"10000x100\", \"backend\": \"Cupy\", \"time\": 0.9973049163818359}, {\"shape\": \"100000x10\", \"backend\": \"Cupy\", \"time\": 0.9970664978027344}]}}, {\"mode\": \"vega-lite\"});\n",
       "</script>"
      ],
      "text/plain": [
       "alt.Chart(...)"
      ]
     },
     "execution_count": 17,
     "metadata": {},
     "output_type": "execute_result"
    }
   ],
   "source": [
    "op_name = 'mean'  # name here\n",
    "cnts = PerfCounters()\n",
    "for backend_name, B in BACKENDS.items():\n",
    "    for shape_name, inputs in INPUTS2D[backend_name].items():\n",
    "        cnt_name = \"%s_%s_%s\" % (backend_name, op_name, shape_name)\n",
    "        cnts.start(cnt_name)\n",
    "        for _ in range(NUM_REPS):\n",
    "            B.mean(inputs, axis=-1)  # op here\n",
    "        cnts.stop(cnt_name)\n",
    "        \n",
    "overall_cnts.merge(cnts)\n",
    "display_results(cnts)"
   ]
  },
  {
   "cell_type": "code",
   "execution_count": null,
   "metadata": {},
   "outputs": [],
   "source": [
    "# utils"
   ]
  },
  {
   "cell_type": "code",
   "execution_count": 7,
   "metadata": {},
   "outputs": [
    {
     "data": {
      "text/html": [
       "\n",
       "<div id=\"altair-viz-a2ce7f108e10498683b5a25095aa796b\"></div>\n",
       "<script type=\"text/javascript\">\n",
       "  (function(spec, embedOpt){\n",
       "    const outputDiv = document.getElementById(\"altair-viz-a2ce7f108e10498683b5a25095aa796b\");\n",
       "    const paths = {\n",
       "      \"vega\": \"https://cdn.jsdelivr.net/npm//vega@5?noext\",\n",
       "      \"vega-lib\": \"https://cdn.jsdelivr.net/npm//vega-lib?noext\",\n",
       "      \"vega-lite\": \"https://cdn.jsdelivr.net/npm//vega-lite@4.0.2?noext\",\n",
       "      \"vega-embed\": \"https://cdn.jsdelivr.net/npm//vega-embed@6?noext\",\n",
       "    };\n",
       "\n",
       "    function loadScript(lib) {\n",
       "      return new Promise(function(resolve, reject) {\n",
       "        var s = document.createElement('script');\n",
       "        s.src = paths[lib];\n",
       "        s.async = true;\n",
       "        s.onload = () => resolve(paths[lib]);\n",
       "        s.onerror = () => reject(`Error loading script: ${paths[lib]}`);\n",
       "        document.getElementsByTagName(\"head\")[0].appendChild(s);\n",
       "      });\n",
       "    }\n",
       "\n",
       "    function showError(err) {\n",
       "      outputDiv.innerHTML = `<div class=\"error\" style=\"color:red;\">${err}</div>`;\n",
       "      throw err;\n",
       "    }\n",
       "\n",
       "    function displayChart(vegaEmbed) {\n",
       "      vegaEmbed(outputDiv, spec, embedOpt)\n",
       "        .catch(err => showError(`Javascript Error: ${err.message}<br>This usually means there's a typo in your chart specification. See the javascript console for the full traceback.`));\n",
       "    }\n",
       "\n",
       "    if(typeof define === \"function\" && define.amd) {\n",
       "      requirejs.config({paths});\n",
       "      require([\"vega-embed\"], displayChart, err => showError(`Error loading script: ${err.message}`));\n",
       "    } else if (typeof vegaEmbed === \"function\") {\n",
       "      displayChart(vegaEmbed);\n",
       "    } else {\n",
       "      loadScript(\"vega\")\n",
       "        .then(() => loadScript(\"vega-lite\"))\n",
       "        .then(() => loadScript(\"vega-embed\"))\n",
       "        .catch(showError)\n",
       "        .then(() => displayChart(vegaEmbed));\n",
       "    }\n",
       "  })({\"config\": {\"view\": {\"continuousWidth\": 400, \"continuousHeight\": 300}}, \"data\": {\"name\": \"data-44f5cb36c3d1810878fd4ef379e690ce\"}, \"mark\": \"bar\", \"encoding\": {\"color\": {\"type\": \"nominal\", \"field\": \"backend\"}, \"column\": {\"type\": \"nominal\", \"field\": \"shape\"}, \"x\": {\"type\": \"nominal\", \"field\": \"backend\", \"title\": \"\"}, \"y\": {\"type\": \"quantitative\", \"aggregate\": \"sum\", \"field\": \"time\", \"title\": \"Time in ms\"}}, \"$schema\": \"https://vega.github.io/schema/vega-lite/v4.0.2.json\", \"datasets\": {\"data-44f5cb36c3d1810878fd4ef379e690ce\": [{\"shape\": \"10000x100\", \"backend\": \"Numpy\", \"time\": 583.9471817016602}, {\"shape\": \"100000x10\", \"backend\": \"Numpy\", \"time\": 177.52552032470703}, {\"shape\": \"1000x100\", \"backend\": \"Numpy\", \"time\": 41.88799858093262}, {\"shape\": \"100x100\", \"backend\": \"Cupy\", \"time\": 23.93627166748047}, {\"shape\": \"100000x10\", \"backend\": \"Cupy\", \"time\": 22.938966751098633}, {\"shape\": \"10000x100\", \"backend\": \"Cupy\", \"time\": 22.93848991394043}, {\"shape\": \"1000x100\", \"backend\": \"Cupy\", \"time\": 20.943641662597656}, {\"shape\": \"100x100\", \"backend\": \"Numpy\", \"time\": 16.954421997070312}]}}, {\"mode\": \"vega-lite\"});\n",
       "</script>"
      ],
      "text/plain": [
       "alt.Chart(...)"
      ]
     },
     "execution_count": 7,
     "metadata": {},
     "output_type": "execute_result"
    }
   ],
   "source": [
    "op_name = 'shuffle'  # name here\n",
    "cnts = PerfCounters()\n",
    "for backend_name, B in BACKENDS.items():\n",
    "    for shape_name, inputs in INPUTS2D[backend_name].items():\n",
    "        cnt_name = \"%s_%s_%s\" % (backend_name, op_name, shape_name)\n",
    "        cnts.start(cnt_name)\n",
    "        for _ in range(NUM_REPS):\n",
    "            B.shuffle(inputs, axis=-1)  # op here\n",
    "        cnts.stop(cnt_name)\n",
    "        \n",
    "overall_cnts.merge(cnts)\n",
    "display_results(cnts)"
   ]
  },
  {
   "cell_type": "markdown",
   "metadata": {},
   "source": [
    "## Overall backend performance"
   ]
  },
  {
   "cell_type": "code",
   "execution_count": null,
   "metadata": {},
   "outputs": [],
   "source": [
    "overall_cnts.report()"
   ]
  },
  {
   "cell_type": "markdown",
   "metadata": {},
   "source": [
    "# backend benchmarking"
   ]
  },
  {
   "cell_type": "markdown",
   "metadata": {},
   "source": [
    "## Sum"
   ]
  },
  {
   "cell_type": "code",
   "execution_count": null,
   "metadata": {},
   "outputs": [],
   "source": [
    "op_cnts = PerfCounters()\n"
   ]
  },
  {
   "cell_type": "code",
   "execution_count": null,
   "metadata": {},
   "outputs": [],
   "source": [
    "#TODO: test fitness function and look for cosine_similarity if tiling versus broadcast improve performance (can potentially cache the tiling)"
   ]
  },
  {
   "cell_type": "markdown",
   "metadata": {},
   "source": [
    "# evoflow Ops benchmarking"
   ]
  },
  {
   "cell_type": "code",
   "execution_count": null,
   "metadata": {},
   "outputs": [],
   "source": [
    "# graveyard\n",
    "\n",
    "def display_table_results(cnts):\n",
    "    results  = defaultdict(dict)    \n",
    "    # group results\n",
    "    for cnt_name, value in cnts.get_all()['Timing counters']:\n",
    "        backend_name, op_name, shape_name = cnt_name.split(\"_\")\n",
    "        results[shape_name][backend_name] = value * 1000 # ms\n",
    "    \n",
    "    # to pandas\n",
    "    data = defaultdict(list)\n",
    "    for shape_name, res in results.items():\n",
    "        data['shape'].append(shape_name)\n",
    "        for backend_name in BACKENDS.keys():\n",
    "            data[backend_name].append(results[shape_name][backend_name])\n",
    "\n",
    "    print(pd.DataFrame(data))\n",
    "\n",
    "    #print(data)\n",
    "#     results = \n"
   ]
  }
 ],
 "metadata": {
  "kernelspec": {
   "display_name": "Python 3.6.7 64-bit",
   "language": "python",
   "name": "python36764bit1164f64651f442398f7288c44aeadef0"
  },
  "language_info": {
   "codemirror_mode": {
    "name": "ipython",
    "version": 3
   },
   "file_extension": ".py",
   "mimetype": "text/x-python",
   "name": "python",
   "nbconvert_exporter": "python",
   "pygments_lexer": "ipython3",
   "version": "3.6.7rc1"
  }
 },
 "nbformat": 4,
 "nbformat_minor": 2
}
