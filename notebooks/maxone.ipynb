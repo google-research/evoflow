{
 "cells": [
  {
   "cell_type": "markdown",
   "metadata": {},
   "source": [
    "##### Copyright 2020 The EvoFlow Authors."
   ]
  },
  {
   "cell_type": "code",
   "execution_count": 1,
   "metadata": {},
   "outputs": [],
   "source": [
    "#@title Licensed under the Apache License, Version 2.0 & Creative Common licence 4.0\n",
    "# EvoFlow and its tutorials are released under the Apache 2.0 licence\n",
    "# its documentaton is licensed under the Creative Common licence 4.0"
   ]
  },
  {
   "cell_type": "markdown",
   "metadata": {},
   "source": [
    "# EvoFlow hello world: MaxOne\n",
    "\n",
    "This notebook provide a quick introduction of how EvoFlow works by showing how you can use to solve the [classic *MaxOne* problem with it](http://www.cs.cmu.edu/~02317/slides/lec_8.pdf).\n",
    "\n",
    "At its core <b>EvoFlow is a modern hardware accelerated genetic algorithm framework that recast genetic algorithm programing as a dataflow computation on tensors</b>. Conceptually is very similar to what `Tensorflow.keras` is doing so if you have experience with Keras or Tensorflow you will feel right at home. Under the hood, EvoFlow leverage Tensorflow or Cupy to provide hardware accelerated operations.\n",
    "\n",
    "\n",
    "For more information about EvoFlow design and architecture, see our paper.\n",
    "\n",
    "<b>EvoFlow, while heavily tested, is considered experimental - use at your own risks. Issues should be reported on [Github](https://github.com/google-research/evoflow/issues). For the rest: evoflow@google.com</b>"
   ]
  },
  {
   "cell_type": "markdown",
   "metadata": {},
   "source": [
    "<table align=\"left\">\n",
    "  <td>\n",
    "    <a target=\"_blank\" href=\"https://colab.sandbox.google.com/github/google-research/evoflow/blob/master/notebooks/maxone.ipynb\"><img src=\"https://storage.googleapis.com/evoflow/images/colab.png\" />Run in Google Colab</a>\n",
    "  </td>\n",
    "  <td>\n",
    "    <a target=\"_blank\" href=\"https://github.com/google-research/evoflow/blob/master/notebooks/maxone.ipynb\"><img src=\"https://storage.googleapis.com/evoflow/images/github.png\"  />View source on GitHub</a>\n",
    "  </td>\n",
    "</table>"
   ]
  },
  {
   "cell_type": "markdown",
   "metadata": {},
   "source": [
    "## Setup"
   ]
  },
  {
   "cell_type": "code",
   "execution_count": 2,
   "metadata": {},
   "outputs": [],
   "source": [
    "# installing the latest version of evoflow\n",
    "try:\n",
    "    import evoflow\n",
    "except:\n",
    "    !pip install -U evoflow\n",
    "%load_ext autoreload\n",
    "%autoreload 2"
   ]
  },
  {
   "cell_type": "code",
   "execution_count": 3,
   "metadata": {
    "scrolled": true
   },
   "outputs": [
    {
     "name": "stderr",
     "output_type": "stream",
     "text": [
      "GPUs Physical: 1 - Logical GPU:1\n",
      "Using tensorflow backend\n"
     ]
    }
   ],
   "source": [
    "from evoflow.engine import EvoFlow\n",
    "from evoflow.selection import SelectFittest\n",
    "from evoflow.population import randint_population\n",
    "from evoflow.fitness import Sum\n",
    "from evoflow.ops import Input, RandomMutations1D, UniformCrossover1D"
   ]
  },
  {
   "cell_type": "markdown",
   "metadata": {},
   "source": [
    "## Population definition\n",
    "In this example, we are going to represent the population as a 2D tensor where:\n",
    "\n",
    "- the 1st dimension is the number of chromosome (population)\n",
    "- the 2nd dimension is the number of gene per chromosome."
   ]
  },
  {
   "cell_type": "code",
   "execution_count": 4,
   "metadata": {},
   "outputs": [
    {
     "name": "stdout",
     "output_type": "stream",
     "text": [
      "Population will have 512 distinct chromosomes made of 1024 genes\n"
     ]
    }
   ],
   "source": [
    "POPULATION_SIZE = 512  #@param {type: \"slider\", min: 16, max: 2048}\n",
    "CHROMOSOME_SIZE = 1024  #@param {type: \"slider\", min: 16, max: 2048}\n",
    "\n",
    "SHAPE = (POPULATION_SIZE, CHROMOSOME_SIZE)\n",
    "print(\"Population will have\", SHAPE[0], 'distinct chromosomes made of', SHAPE[1], 'genes')"
   ]
  },
  {
   "cell_type": "markdown",
   "metadata": {},
   "source": [
    "Our model need an initial population to mutate as inputs. Here, we are taking the traditional approach to initialize this population at random while ensure the gene value is either 0 or 1 by setting the `max_value` to `1`. We will use the population in the `evolve()` funtion very similarly that you would feed your `x_train` data in deep-learning."
   ]
  },
  {
   "cell_type": "code",
   "execution_count": null,
   "metadata": {},
   "outputs": [],
   "source": [
    "population = randint_population(SHAPE, max_value=1)"
   ]
  },
  {
   "cell_type": "markdown",
   "metadata": {},
   "source": [
    "## Evolution model setup\n",
    "\n",
    "Building an evolution model requires setup the <i>evolution operations</i> and then compiling the model."
   ]
  },
  {
   "cell_type": "markdown",
   "metadata": {},
   "source": [
    "Genetic operations are represented by `OPs` that are very similar to the [tf.keras.layers](https://www.tensorflow.org/api_docs/python/tf/keras/layers). They are combined by creating a directed graph that inter-connect them, again very similarly to what the keras functional API is doing.\n",
    "\n",
    "In this example we will mutate our population using two very basic genetic algorithm operations: the Random Mutation and Uniform Crossover. As our population is made of single dimensions chromosomes we will use the 1D variant of those ops: `RandomMutations1D` and `UniformCrossover1D`.\n",
    "\n",
    "You can experiment using a 2D or even a 3D population by changing the input shape above and using operation variants that match your chromosomes shape. For example you need to use `UniformCrossover2D` for a 2D population, and `UniformCrossover3D` for a 3D population."
   ]
  },
  {
   "cell_type": "code",
   "execution_count": null,
   "metadata": {},
   "outputs": [],
   "source": [
    "inputs = Input(shape=(SHAPE))\n",
    "x = RandomMutations1D(max_gene_value=1, min_gene_value=0)(inputs)\n",
    "outputs = UniformCrossover1D()(x)"
   ]
  },
  {
   "cell_type": "markdown",
   "metadata": {},
   "source": [
    "We instantiate our model by providing its inputs and outputs. Under the hood a EvoFlow model is represented as a direct graph that support multiples inputs, multiple outputs, and arbitrary branching to tackle the most complex use-cases. You can use `summary()` to check what your model will look like."
   ]
  },
  {
   "cell_type": "code",
   "execution_count": null,
   "metadata": {
    "scrolled": true
   },
   "outputs": [
    {
     "name": "stdout",
     "output_type": "stream",
     "text": [
      "OP (type)                                       Output Shape    Inputs\n",
      "----------------------------------------------  --------------  ------------------------\n",
      "input_2C9C05 (Input)                            (512, 1024)\n",
      "randommutations1d_F96924 (RandomMutations1D)    []              input_2C9C05\n",
      "uniformcrossover1d_CF51C4 (UniformCrossover1D)  []              randommutations1d_F96924\n"
     ]
    }
   ],
   "source": [
    "ef = EvoFlow(inputs, outputs)\n",
    "ef.summary()"
   ]
  },
  {
   "cell_type": "markdown",
   "metadata": {},
   "source": [
    "## Model compilation\n",
    "\n",
    "Before the model is ready for evolutions, it needs two additional key components that will be supplied to the `compile` function:\n",
    "\n",
    "- How to asses how good is a given chromosome (`fitness function`) \n",
    "- How to select chromosomes and renew the pool (`Selection function`)\n"
   ]
  },
  {
   "cell_type": "markdown",
   "metadata": {},
   "source": [
    "### Fitness function\n",
    "\n",
    "The [fitness function](https://en.wikipedia.org/wiki/Fitness_function) is the algorithm objective function that the model try to maximize. It is the most critical part of a genetic algorithm where you express the constraints that a chromosome must satisify to solve the problem. At each evolution this function is used to compute how fit for the task each chromosome are.\n",
    "\n",
    "\n",
    "Fitness functions are very similar to loss functions in deep-learning except they don't need to be differentiable and therefore can perform arbitrary computation. Depending on the problem solved, you can decide to either maximize, minimize the fitness value or get it to converge to a fixed value. \n",
    "\n",
    "The cost of fitness function increased expressiveness and flexibility compared to neural network loss is that we don't have the gradients to help guide the model convergence and therefore coverging is more computationaly expensive.\n",
    "\n",
    "To make things efficient and fast, it is recommended to implement Fitness functions in EvoFlow as tensor operations but this is not requireds as long as the function return at the end an 1D tensor that contains the fitness value for each chromosome in the population.\n",
    "\n",
    "To solve the MaxOne problem we want a fitness function that encourages the chromosomes to have as many genes with a value of 1 as possible. In tensor representation this is easy to acheive by simply computing the sum of the chromosome and using that value as its fitness. \n",
    "\n",
    "To make the progress look nicer, we scale the fitness between 0 and 1 by supplying a max_sum_value equivalent to CHROMOSOME_SIZE as the best case is a chromosome made only of 1s."
   ]
  },
  {
   "cell_type": "code",
   "execution_count": null,
   "metadata": {},
   "outputs": [],
   "source": [
    "fitness_function = Sum(max_sum_value=CHROMOSOME_SIZE)"
   ]
  },
  {
   "cell_type": "markdown",
   "metadata": {},
   "source": [
    "### Evolution strategy\n",
    "\n",
    "The [evolution strategy](https://en.wikipedia.org/wiki/Evolution_strategy) isthe function that takes the fitness values and decides which chromosomes to keep. The simplest form, keep the fitesst ones (the one with the largest fitness values) and replace the bottom ones with the best one of the previous population. \n",
    "\n",
    "Alternative functions that have different evolutionary pressures constraints exist. For example, it is possible to inject new random chromosomes at each generation or do tournament selections.\n",
    "\n",
    "The evolution strategy very much like the optimizer function in deep-learning."
   ]
  },
  {
   "cell_type": "code",
   "execution_count": null,
   "metadata": {},
   "outputs": [],
   "source": [
    "evolution_strategy = SelectFittest()"
   ]
  },
  {
   "cell_type": "markdown",
   "metadata": {},
   "source": [
    "### Compilation\n",
    "Now that we have defined our fitness_function and our evolution_strategy, our model is ready to get compiled with those as parameters."
   ]
  },
  {
   "cell_type": "code",
   "execution_count": null,
   "metadata": {},
   "outputs": [],
   "source": [
    "ef.compile(evolution_strategy, fitness_function)"
   ]
  },
  {
   "cell_type": "markdown",
   "metadata": {},
   "source": [
    "##  Evolution\n",
    "\n",
    "We now are going to evolve our inital random population over a couple of generations. At each generation the evolution strategy keep the best invididuals and replace the low performing ones with the best one of the previous generation.\n",
    "\n",
    "`generation=` controls the number of time the model is applied to the population to generate a new generation of mutated specimens. It is equivalent to what the number of epochs is deep-learning. The harder the problem, the more generations you need."
   ]
  },
  {
   "cell_type": "code",
   "execution_count": null,
   "metadata": {},
   "outputs": [],
   "source": [
    "GENERATIONS = 10  #@param {type: \"slider\", min: 5, max: 100}"
   ]
  },
  {
   "cell_type": "markdown",
   "metadata": {},
   "source": [
    "As the model evolve, look for the value of fitness_function_max which indicate the value of the best performing chromosome. As you will see it will quickly reach 1, which indicates that we found an optimal solution"
   ]
  },
  {
   "cell_type": "code",
   "execution_count": null,
   "metadata": {},
   "outputs": [
    {
     "data": {
      "application/vnd.jupyter.widget-view+json": {
       "model_id": "4a2a2694af1c4715ae20fdf61bd4e5e1",
       "version_major": 2,
       "version_minor": 0
      },
      "text/plain": [
       "HBox(children=(IntProgress(value=0, max=10), HTML(value='')))"
      ]
     },
     "metadata": {},
     "output_type": "display_data"
    },
    {
     "name": "stdout",
     "output_type": "stream",
     "text": [
      "\n"
     ]
    }
   ],
   "source": [
    "results = ef.evolve(population, generations=GENERATIONS)"
   ]
  },
  {
   "cell_type": "markdown",
   "metadata": {},
   "source": [
    "## Results\n",
    "\n",
    "Let's check that the optimal solution we found are chromosomes fully made of 1s. "
   ]
  },
  {
   "cell_type": "code",
   "execution_count": null,
   "metadata": {},
   "outputs": [],
   "source": [
    "results.display_populations(top_k=10, precision=0)"
   ]
  },
  {
   "cell_type": "markdown",
   "metadata": {},
   "source": [
    "Finally let's look at how quickly our model converged. Depending on  your population size and chromosomes size the convergence will be slower or faster. We encourage you to experiments"
   ]
  },
  {
   "cell_type": "code",
   "execution_count": null,
   "metadata": {},
   "outputs": [],
   "source": [
    "results.plot_fitness()"
   ]
  }
 ],
 "metadata": {
  "kernelspec": {
   "display_name": "Python 3.6.7 64-bit",
   "language": "python",
   "name": "python36764bit1164f64651f442398f7288c44aeadef0"
  },
  "language_info": {
   "codemirror_mode": {
    "name": "ipython",
    "version": 3
   },
   "file_extension": ".py",
   "mimetype": "text/x-python",
   "name": "python",
   "nbconvert_exporter": "python",
   "pygments_lexer": "ipython3",
   "version": "3.6.7rc1"
  }
 },
 "nbformat": 4,
 "nbformat_minor": 2
}
