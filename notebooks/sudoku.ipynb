{
 "cells": [
  {
   "cell_type": "markdown",
   "metadata": {},
   "source": [
    "##### Copyright 2020 The EvoFlow Authors."
   ]
  },
  {
   "cell_type": "code",
   "execution_count": 2,
   "metadata": {},
   "outputs": [],
   "source": [
    "#@title Licensed under the Apache License, Version 2.0 & Creative Common licence 4.0\n",
    "# EvoFlow and its tutorials are released under the Apache 2.0 licence\n",
    "# its documentaton is licensed under the Creative Common licence 4.0"
   ]
  },
  {
   "cell_type": "markdown",
   "metadata": {},
   "source": [
    "# Visualization callback setup\n",
    "\n",
    "As seen above visualizing the route on the map is useful to quickly assess how good the current best route is so its a good idea to do the same while our model evolve its population.\n",
    "\n",
    "To do this we are going to use a callback that will redraw the best route at the end of each generation. Callbacks, similarly to [keras.callbacks](https://keras.io/api/callbacks/) allows you to add your own custom codes at key points of the algorithms so it is easy to customize the evolution loop."
   ]
  },
  {
   "cell_type": "code",
   "execution_count": null,
   "metadata": {},
   "outputs": [],
   "source": [
    "class MapCallback(Callback):\n",
    "    def __init__(self, chart_data, idx2city):\n",
    "        # init graph\n",
    "        self.chart_data = chart_data\n",
    "        self.idx2city = idx2city\n",
    "        self.fig = go.Figure(go.Scattergeo(\n",
    "                lat = chart_data['lat'],\n",
    "                lon = chart_data['lon'],\n",
    "                text = chart_data['name'],\n",
    "                marker_color= chart_data['population']))\n",
    "        self.fig.update_layout(title = 'Intial map', showlegend=False,\n",
    "                                  geo = go.layout.Geo(scope='europe', showframe = False, \n",
    "                                                      projection_type = 'mercator', \n",
    "                                                      lonaxis_range=lon_axis, \n",
    "                                                      lataxis_range=lat_axis))\n",
    "        self.fig.show()\n",
    "    def on_generation_end(self, generation, metrics, fitness_scores, populations):\n",
    "        \n",
    "        # get the best model\n",
    "        # the model only have one population hence the [0]\n",
    "        route = populations[0][0]  # population is sorted by fitness score\n",
    "        best_distance = fitness_scores[0][0]  # best fitness score = shortest distance\n",
    "        \n",
    "        frames = []\n",
    "        initial_city = self.idx2city[int(route[0])]\n",
    "        for idx in range(len(route) - 1):\n",
    "            start_city = self.idx2city[int(route[idx])]\n",
    "            stop_city = self.idx2city[int(route[idx + 1])]\n",
    "            distance = distances[start_city['idx']][stop_city['idx']]\n",
    "            frames.append(go.Scattergeo(\n",
    "                    lon = [start_city['lon'], stop_city['lon']],\n",
    "                    lat = [start_city['lat'], stop_city['lat']],\n",
    "                    mode = 'lines',\n",
    "                    line = dict(width = 1,color = 'red')))\n",
    "\n",
    "        # last leg\n",
    "        frames.append(go.Scattergeo(\n",
    "                    lon = [stop_city['lon'], initial_city['lon']],\n",
    "                    lat = [stop_city['lat'], initial_city['lat']],\n",
    "                    mode = 'lines',\n",
    "                    line = dict(width = 1,color = 'red')))\n",
    "        \n",
    "        self.fig.update_layout(title = 'Generation %d Total distance %d kms'  % (generation, best_distance))"
   ]
  }
 ],
 "metadata": {
  "kernelspec": {
   "display_name": "Python 3",
   "language": "python",
   "name": "python3"
  },
  "language_info": {
   "codemirror_mode": {
    "name": "ipython",
    "version": 3
   },
   "file_extension": ".py",
   "mimetype": "text/x-python",
   "name": "python",
   "nbconvert_exporter": "python",
   "pygments_lexer": "ipython3",
   "version": "3.6.7rc1"
  }
 },
 "nbformat": 4,
 "nbformat_minor": 2
}
