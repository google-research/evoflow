{
 "cells": [
  {
   "cell_type": "markdown",
   "metadata": {},
   "source": [
    "##### Copyright 2020 The EvoFlow Authors."
   ]
  },
  {
   "cell_type": "code",
   "execution_count": 1,
   "metadata": {},
   "outputs": [],
   "source": [
    "#@title Licensed under the Apache License, Version 2.0 & Creative Common licence 4.0\n",
    "# EvoFlow and its tutorials are released under the Apache 2.0 licence\n",
    "# its documentaton is licensed under the Creative Common licence 4.0"
   ]
  },
  {
   "cell_type": "markdown",
   "metadata": {},
   "source": [
    "# EvoFlow hello world: OneMax\n",
    "\n",
    "This notebook provide a quick introduction of how EvoFlow works by showing how you can use to solve the [classic *OneMax* problem with it](http://www.cs.cmu.edu/~02317/slides/lec_8.pdf).\n",
    "\n",
    "At its core <b>EvoFlow is a modern hardware accelerated genetic algorithm framework that recast genetic algorithm programing as a dataflow computation on tensors</b>. Conceptually is very similar to what `Tensorflow.keras` is doing so if you have experience with Keras or Tensorflow you will feel right at home. Under the hood, EvoFlow leverage Tensorflow or Cupy to provide hardware accelerated operations.\n",
    "\n",
    "\n",
    "For more information about EvoFlow design and architecture, see our paper.\n",
    "\n",
    "<b>EvoFlow, while heavily tested, is considered experimental - use at your own risks. Issues should be reported on [Github](https://github.com/google-research/evoflow/issues). For the rest: evoflow@google.com</b>"
   ]
  },
  {
   "cell_type": "markdown",
   "metadata": {},
   "source": [
    "<table align=\"left\">\n",
    "  <td>\n",
    "    <a target=\"_blank\" href=\"https://colab.research.google.com/github/google-research/evoflow/blob/master/notebooks/onemax.ipynb\"><img src=\"https://storage.googleapis.com/evoflow/images/colab.png\" />Run in Google Colab</a>\n",
    "  </td>\n",
    "  <td>\n",
    "    <a target=\"_blank\" href=\"https://github.com/google-research/evoflow/blob/master/notebooks/maxone.ipynb\"><img src=\"https://storage.googleapis.com/evoflow/images/github.png\"  />View source on GitHub</a>\n",
    "  </td>\n",
    "</table>"
   ]
  },
  {
   "cell_type": "markdown",
   "metadata": {},
   "source": [
    "## Setup"
   ]
  },
  {
   "cell_type": "code",
   "execution_count": 2,
   "metadata": {},
   "outputs": [],
   "source": [
    "# installing the latest version of evoflow\n",
    "try:\n",
    "    import evoflow\n",
    "except:\n",
    "    !pip install -U evoflow\n",
    "%load_ext autoreload\n",
    "%autoreload 2"
   ]
  },
  {
   "cell_type": "code",
   "execution_count": 3,
   "metadata": {
    "scrolled": true
   },
   "outputs": [
    {
     "name": "stderr",
     "output_type": "stream",
     "text": [
      "GPUs Physical: 1 - Logical GPU:1\n",
      "Using tensorflow backend\n"
     ]
    }
   ],
   "source": [
    "from evoflow.engine import EvoFlow\n",
    "from evoflow.selection import SelectFittest\n",
    "from evoflow.population import randint_population\n",
    "from evoflow.fitness import Sum\n",
    "from evoflow.ops import Input, RandomMutations1D, UniformCrossover1D"
   ]
  },
  {
   "cell_type": "markdown",
   "metadata": {},
   "source": [
    "## Population definition\n",
    "In this example, we are going to represent the population as a 2D tensor where:\n",
    "\n",
    "- the 1st dimension is the number of chromosome (population)\n",
    "- the 2nd dimension is the number of gene per chromosome."
   ]
  },
  {
   "cell_type": "code",
   "execution_count": 4,
   "metadata": {},
   "outputs": [
    {
     "name": "stdout",
     "output_type": "stream",
     "text": [
      "Population will have 512 distinct chromosomes made of 1024 genes\n"
     ]
    }
   ],
   "source": [
    "POPULATION_SIZE = 512  #@param {type: \"slider\", min: 16, max: 2048}\n",
    "CHROMOSOME_SIZE = 1024  #@param {type: \"slider\", min: 16, max: 2048}\n",
    "\n",
    "SHAPE = (POPULATION_SIZE, CHROMOSOME_SIZE)\n",
    "print(\"Population will have\", SHAPE[0], 'distinct chromosomes made of', SHAPE[1], 'genes')"
   ]
  },
  {
   "cell_type": "markdown",
   "metadata": {},
   "source": [
    "Our model need an initial population to mutate as inputs. Here, we are taking the traditional approach to initialize this population at random while ensure the gene value is either 0 or 1 by setting the `max_value` to `1`. We will use the population in the `evolve()` funtion very similarly that you would feed your `x_train` data in deep-learning."
   ]
  },
  {
   "cell_type": "code",
   "execution_count": 5,
   "metadata": {},
   "outputs": [],
   "source": [
    "population = randint_population(SHAPE, max_value=1)"
   ]
  },
  {
   "cell_type": "markdown",
   "metadata": {},
   "source": [
    "## Evolution model setup\n",
    "\n",
    "Building an evolution model requires setup the <i>evolution operations</i> and then compiling the model."
   ]
  },
  {
   "cell_type": "markdown",
   "metadata": {},
   "source": [
    "Genetic operations are represented by `OPs` that are very similar to the [tf.keras.layers](https://www.tensorflow.org/api_docs/python/tf/keras/layers). They are combined by creating a directed graph that inter-connect them, again very similarly to what the keras functional API is doing.\n",
    "\n",
    "In this example we will mutate our population using two very basic genetic algorithm operations: the Random Mutation and Uniform Crossover. As our population is made of single dimensions chromosomes we will use the 1D variant of those ops: `RandomMutations1D` and `UniformCrossover1D`.\n",
    "\n",
    "You can experiment using a 2D or even a 3D population by changing the input shape above and using operation variants that match your chromosomes shape. For example you need to use `UniformCrossover2D` for a 2D population, and `UniformCrossover3D` for a 3D population."
   ]
  },
  {
   "cell_type": "code",
   "execution_count": 6,
   "metadata": {},
   "outputs": [],
   "source": [
    "inputs = Input(shape=(SHAPE))\n",
    "x = RandomMutations1D(max_gene_value=1, min_gene_value=0)(inputs)\n",
    "outputs = UniformCrossover1D()(x)"
   ]
  },
  {
   "cell_type": "markdown",
   "metadata": {},
   "source": [
    "We instantiate our model by providing its inputs and outputs. Under the hood a EvoFlow model is represented as a direct graph that support multiples inputs, multiple outputs, and arbitrary branching to tackle the most complex use-cases. You can use `summary()` to check what your model will look like."
   ]
  },
  {
   "cell_type": "code",
   "execution_count": 7,
   "metadata": {
    "scrolled": true
   },
   "outputs": [
    {
     "name": "stdout",
     "output_type": "stream",
     "text": [
      "OP (type)                                       Output Shape    Inputs\n",
      "----------------------------------------------  --------------  ------------------------\n",
      "input_D9FCB5 (Input)                            (512, 1024)\n",
      "randommutations1d_0725EC (RandomMutations1D)    []              input_D9FCB5\n",
      "uniformcrossover1d_EDB30F (UniformCrossover1D)  []              randommutations1d_0725EC\n"
     ]
    }
   ],
   "source": [
    "ef = EvoFlow(inputs, outputs)\n",
    "ef.summary()"
   ]
  },
  {
   "cell_type": "markdown",
   "metadata": {},
   "source": [
    "## Model compilation\n",
    "\n",
    "Before the model is ready for evolutions, it needs two additional key components that will be supplied to the `compile` function:\n",
    "\n",
    "- How to asses how good is a given chromosome (`fitness function`) \n",
    "- How to select chromosomes and renew the pool (`Selection function`)\n"
   ]
  },
  {
   "cell_type": "markdown",
   "metadata": {},
   "source": [
    "### Fitness function\n",
    "\n",
    "The [fitness function](https://en.wikipedia.org/wiki/Fitness_function) is the algorithm objective function that the model try to maximize. It is the most critical part of a genetic algorithm where you express the constraints that a chromosome must satisify to solve the problem. At each evolution this function is used to compute how fit for the task each chromosome are.\n",
    "\n",
    "\n",
    "Fitness functions are very similar to loss functions in deep-learning except they don't need to be differentiable and therefore can perform arbitrary computation. Depending on the problem solved, you can decide to either maximize, minimize the fitness value or get it to converge to a fixed value. \n",
    "\n",
    "The cost of fitness function increased expressiveness and flexibility compared to neural network loss is that we don't have the gradients to help guide the model convergence and therefore coverging is more computationaly expensive.\n",
    "\n",
    "To make things efficient and fast, it is recommended to implement Fitness functions in EvoFlow as tensor operations but this is not requireds as long as the function return at the end an 1D tensor that contains the fitness value for each chromosome in the population.\n",
    "\n",
    "To solve the OneMax problem we want a fitness function that encourages the chromosomes to have as many genes with a value of 1 as possible. In tensor representation this is easy to acheive by simply computing the sum of the chromosome and using that value as its fitness. \n",
    "\n",
    "To make the progress look nicer, we scale the fitness between 0 and 1 by supplying a max_sum_value equivalent to CHROMOSOME_SIZE as the best case is a chromosome made only of 1s."
   ]
  },
  {
   "cell_type": "code",
   "execution_count": 8,
   "metadata": {},
   "outputs": [],
   "source": [
    "fitness_function = Sum(max_sum_value=CHROMOSOME_SIZE)"
   ]
  },
  {
   "cell_type": "markdown",
   "metadata": {},
   "source": [
    "### Modeling evolutionary selection\n",
    "\n",
    "The evolutionary process takes the fitness values and decides which chromosomes to keep. A naive form to model selection is to keep the fitest individuals and carry them over to the next generation. This is usualy referred as an [elitist selection strategy](https://en.wikipedia.org/wiki/Genetic_algorithm#Elitism). For instance, we can keep the fitest individuals (the one with the largest fitness values) as we create the next generation. \n",
    "\n",
    "Alternative functions that have different selection intensitive pressure properties exist. For example, [roulette wheel selection](https://en.wikipedia.org/wiki/Selection_(genetic_algorithm)#a._Roulette_Wheel_Selection) has non-constant selection intensity depending on the population's fitness distribution, whereas [tournament selection](https://en.wikipedia.org/wiki/Tournament_selection) provides constant selection intesity regardless of the fitness distribution.\n"
   ]
  },
  {
   "cell_type": "code",
   "execution_count": 9,
   "metadata": {},
   "outputs": [],
   "source": [
    "selection_strategy = SelectFittest()"
   ]
  },
  {
   "cell_type": "markdown",
   "metadata": {},
   "source": [
    "### Compilation\n",
    "Now that we have defined our fitness_function and our selection_strategy, our model is ready to get compiled with those as parameters."
   ]
  },
  {
   "cell_type": "code",
   "execution_count": 10,
   "metadata": {},
   "outputs": [],
   "source": [
    "ef.compile(selection_strategy, fitness_function)"
   ]
  },
  {
   "cell_type": "markdown",
   "metadata": {},
   "source": [
    "##  Evolution\n",
    "\n",
    "We now are going to evolve our inital random population over a couple of generations. At each generation the evolution strategy keep the best invididuals and replace the low performing ones with the best one of the previous generation.\n",
    "\n",
    "`generation=` controls the number of time the model is applied to the population to generate a new generation of mutated specimens. It is equivalent to what the number of epochs is deep-learning. The harder the problem, the more generations you need."
   ]
  },
  {
   "cell_type": "code",
   "execution_count": 11,
   "metadata": {},
   "outputs": [],
   "source": [
    "GENERATIONS = 10  #@param {type: \"slider\", min: 5, max: 100}"
   ]
  },
  {
   "cell_type": "markdown",
   "metadata": {},
   "source": [
    "As the model evolve, look for the value of fitness_function_max which indicate the value of the best performing chromosome. As you will see it will quickly reach 1, which indicates that we found an optimal solution"
   ]
  },
  {
   "cell_type": "code",
   "execution_count": 12,
   "metadata": {},
   "outputs": [
    {
     "data": {
      "application/vnd.jupyter.widget-view+json": {
       "model_id": "bd1ef69b11f04170b57beeae9ad4d444",
       "version_major": 2,
       "version_minor": 0
      },
      "text/plain": [
       "HBox(children=(IntProgress(value=0, max=10), HTML(value='')))"
      ]
     },
     "metadata": {},
     "output_type": "display_data"
    },
    {
     "name": "stdout",
     "output_type": "stream",
     "text": [
      "\n"
     ]
    }
   ],
   "source": [
    "results = ef.evolve(population, generations=GENERATIONS)"
   ]
  },
  {
   "cell_type": "markdown",
   "metadata": {},
   "source": [
    "## Results\n",
    "\n",
    "Let's check that the optimal solution we found are chromosomes fully made of 1s. "
   ]
  },
  {
   "cell_type": "code",
   "execution_count": 13,
   "metadata": {},
   "outputs": [
    {
     "name": "stdout",
     "output_type": "stream",
     "text": [
      "  fit score  genes [:20]\n",
      "-----------  --------------------------------------------\n",
      "          1  1 1 1 1 1 1 1 1 1 1 1 1 1 1 1 1 1 1 1 1  ...\n",
      "          1  1 1 1 1 1 1 1 1 1 1 1 1 1 1 1 1 1 1 1 1  ...\n",
      "          1  1 1 1 1 1 1 1 1 1 1 1 1 1 1 1 1 1 1 1 1  ...\n",
      "          1  1 1 1 1 1 1 1 1 1 1 1 1 1 1 1 1 1 1 1 1  ...\n",
      "          1  1 1 1 1 1 1 1 1 1 1 1 1 1 1 1 1 1 1 1 1  ...\n",
      "          1  1 1 1 1 1 1 1 1 1 1 1 1 1 1 1 1 1 1 1 1  ...\n",
      "          1  1 1 1 1 1 1 1 1 1 1 1 1 1 1 1 1 1 1 1 1  ...\n",
      "          1  1 1 1 1 1 1 1 1 1 1 1 1 1 1 1 1 1 1 1 1  ...\n",
      "          1  1 1 1 1 1 1 1 1 1 1 1 1 1 1 1 1 1 1 1 1  ...\n",
      "          1  1 1 1 1 1 1 1 1 1 1 1 1 1 1 1 1 1 1 1 1  ...\n"
     ]
    }
   ],
   "source": [
    "results.display_populations(top_k=10, precision=0)"
   ]
  },
  {
   "cell_type": "markdown",
   "metadata": {},
   "source": [
    "Finally let's look at how quickly our model converged. Depending on  your population size and chromosomes size the convergence will be slower or faster. We encourage you to experiments"
   ]
  },
  {
   "cell_type": "code",
   "execution_count": 14,
   "metadata": {},
   "outputs": [
    {
     "data": {
      "text/html": [
       "\n",
       "<div id=\"altair-viz-3559b072b3124ff486e0603a7471343f\"></div>\n",
       "<script type=\"text/javascript\">\n",
       "  (function(spec, embedOpt){\n",
       "    const outputDiv = document.getElementById(\"altair-viz-3559b072b3124ff486e0603a7471343f\");\n",
       "    const paths = {\n",
       "      \"vega\": \"https://cdn.jsdelivr.net/npm//vega@5?noext\",\n",
       "      \"vega-lib\": \"https://cdn.jsdelivr.net/npm//vega-lib?noext\",\n",
       "      \"vega-lite\": \"https://cdn.jsdelivr.net/npm//vega-lite@4.0.2?noext\",\n",
       "      \"vega-embed\": \"https://cdn.jsdelivr.net/npm//vega-embed@6?noext\",\n",
       "    };\n",
       "\n",
       "    function loadScript(lib) {\n",
       "      return new Promise(function(resolve, reject) {\n",
       "        var s = document.createElement('script');\n",
       "        s.src = paths[lib];\n",
       "        s.async = true;\n",
       "        s.onload = () => resolve(paths[lib]);\n",
       "        s.onerror = () => reject(`Error loading script: ${paths[lib]}`);\n",
       "        document.getElementsByTagName(\"head\")[0].appendChild(s);\n",
       "      });\n",
       "    }\n",
       "\n",
       "    function showError(err) {\n",
       "      outputDiv.innerHTML = `<div class=\"error\" style=\"color:red;\">${err}</div>`;\n",
       "      throw err;\n",
       "    }\n",
       "\n",
       "    function displayChart(vegaEmbed) {\n",
       "      vegaEmbed(outputDiv, spec, embedOpt)\n",
       "        .catch(err => showError(`Javascript Error: ${err.message}<br>This usually means there's a typo in your chart specification. See the javascript console for the full traceback.`));\n",
       "    }\n",
       "\n",
       "    if(typeof define === \"function\" && define.amd) {\n",
       "      requirejs.config({paths});\n",
       "      require([\"vega-embed\"], displayChart, err => showError(`Error loading script: ${err.message}`));\n",
       "    } else if (typeof vegaEmbed === \"function\") {\n",
       "      displayChart(vegaEmbed);\n",
       "    } else {\n",
       "      loadScript(\"vega\")\n",
       "        .then(() => loadScript(\"vega-lite\"))\n",
       "        .then(() => loadScript(\"vega-embed\"))\n",
       "        .catch(showError)\n",
       "        .then(() => displayChart(vegaEmbed));\n",
       "    }\n",
       "  })({\"config\": {\"view\": {\"continuousWidth\": 400, \"continuousHeight\": 300}, \"title\": {\"anchor\": \"middle\", \"fontSize\": 16, \"offset\": 5, \"orient\": \"top\"}}, \"data\": {\"name\": \"data-c37a53f23787cf567dd4b76faaf79c56\"}, \"mark\": \"line\", \"encoding\": {\"color\": {\"type\": \"nominal\", \"field\": \"metric\"}, \"x\": {\"type\": \"quantitative\", \"field\": \"generation\"}, \"y\": {\"type\": \"quantitative\", \"field\": \"value\"}}, \"title\": \"Fitness function\", \"$schema\": \"https://vega.github.io/schema/vega-lite/v4.0.2.json\", \"datasets\": {\"data-c37a53f23787cf567dd4b76faaf79c56\": [{\"generation\": 0, \"metric\": \"mean\", \"value\": 0.7265586853027344}, {\"generation\": 1, \"metric\": \"mean\", \"value\": 0.8510723114013672}, {\"generation\": 2, \"metric\": \"mean\", \"value\": 0.9170684814453125}, {\"generation\": 3, \"metric\": \"mean\", \"value\": 0.9537563323974609}, {\"generation\": 4, \"metric\": \"mean\", \"value\": 0.9740829467773438}, {\"generation\": 5, \"metric\": \"mean\", \"value\": 0.9893131256103516}, {\"generation\": 6, \"metric\": \"mean\", \"value\": 0.9940185546875}, {\"generation\": 7, \"metric\": \"mean\", \"value\": 0.9985599517822266}, {\"generation\": 8, \"metric\": \"mean\", \"value\": 0.9996452331542969}, {\"generation\": 9, \"metric\": \"mean\", \"value\": 1.0}, {\"generation\": 0, \"metric\": \"max\", \"value\": 0.7861328125}, {\"generation\": 1, \"metric\": \"max\", \"value\": 0.8955078125}, {\"generation\": 2, \"metric\": \"max\", \"value\": 0.94921875}, {\"generation\": 3, \"metric\": \"max\", \"value\": 0.9736328125}, {\"generation\": 4, \"metric\": \"max\", \"value\": 0.98828125}, {\"generation\": 5, \"metric\": \"max\", \"value\": 0.998046875}, {\"generation\": 6, \"metric\": \"max\", \"value\": 0.9990234375}, {\"generation\": 7, \"metric\": \"max\", \"value\": 1.0}, {\"generation\": 8, \"metric\": \"max\", \"value\": 1.0}, {\"generation\": 9, \"metric\": \"max\", \"value\": 1.0}, {\"generation\": 0, \"metric\": \"min\", \"value\": 0.529296875}, {\"generation\": 1, \"metric\": \"min\", \"value\": 0.7646484375}, {\"generation\": 2, \"metric\": \"min\", \"value\": 0.880859375}, {\"generation\": 3, \"metric\": \"min\", \"value\": 0.935546875}, {\"generation\": 4, \"metric\": \"min\", \"value\": 0.96484375}, {\"generation\": 5, \"metric\": \"min\", \"value\": 0.9814453125}, {\"generation\": 6, \"metric\": \"min\", \"value\": 0.9912109375}, {\"generation\": 7, \"metric\": \"min\", \"value\": 0.99609375}, {\"generation\": 8, \"metric\": \"min\", \"value\": 0.9990234375}, {\"generation\": 9, \"metric\": \"min\", \"value\": 1.0}]}}, {\"mode\": \"vega-lite\"});\n",
       "</script>"
      ],
      "text/plain": [
       "alt.Chart(...)"
      ]
     },
     "execution_count": 14,
     "metadata": {},
     "output_type": "execute_result"
    }
   ],
   "source": [
    "results.plot_fitness()"
   ]
  }
 ],
 "metadata": {
  "kernelspec": {
   "display_name": "Python 3.6.7 64-bit",
   "language": "python",
   "name": "python36764bit1164f64651f442398f7288c44aeadef0"
  },
  "language_info": {
   "codemirror_mode": {
    "name": "ipython",
    "version": 3
   },
   "file_extension": ".py",
   "mimetype": "text/x-python",
   "name": "python",
   "nbconvert_exporter": "python",
   "pygments_lexer": "ipython3",
   "version": "3.6.7rc1"
  }
 },
 "nbformat": 4,
 "nbformat_minor": 2
}