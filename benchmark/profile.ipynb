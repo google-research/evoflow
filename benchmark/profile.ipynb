{
 "cells": [
  {
   "cell_type": "code",
   "execution_count": 15,
   "metadata": {},
   "outputs": [],
   "source": [
    "from evoflow.engine import EvoFlow\n",
    "from evoflow.ops import Input, RandomMutations1D, UniformCrossover1D\n",
    "from evoflow.ops import RandomMutations2D, UniformCrossover2D\n",
    "from evoflow.selection import SelectFittest\n",
    "from evoflow.fitness import Sum\n",
    "from evoflow.population import randint_population\n",
    "from time import time\n",
    "import tensorflow as tf\n",
    "import cProfile\n",
    "import pstats"
   ]
  },
  {
   "cell_type": "code",
   "execution_count": 8,
   "metadata": {},
   "outputs": [],
   "source": [
    "population_shape = (1000, 10000) \n",
    "generations = 5\n",
    "population = randint_population(population_shape, 1)"
   ]
  },
  {
   "cell_type": "markdown",
   "metadata": {},
   "source": [
    "## profiling"
   ]
  },
  {
   "cell_type": "code",
   "execution_count": 3,
   "metadata": {},
   "outputs": [],
   "source": [
    "inputs = Input(population_shape)\n",
    "x = RandomMutations1D(max_gene_value=1)(inputs)\n",
    "outputs = UniformCrossover1D()(x)\n",
    "gf = EvoFlow(inputs, outputs, debug=0)\n",
    "fitness_function = Sum(max_sum_value=10000000)\n",
    "evolution_strategy = SelectFittest()\n",
    "gf.compile(evolution_strategy, fitness_function)"
   ]
  },
  {
   "cell_type": "code",
   "execution_count": 14,
   "metadata": {},
   "outputs": [
    {
     "output_type": "display_data",
     "data": {
      "text/plain": "HBox(children=(IntProgress(value=0, max=5), HTML(value='')))",
      "application/vnd.jupyter.widget-view+json": {
       "version_major": 2,
       "version_minor": 0,
       "model_id": "0aec334c8fc545108beb3d6877bdbe56"
      }
     },
     "metadata": {}
    },
    {
     "output_type": "stream",
     "name": "stdout",
     "text": "\n"
    }
   ],
   "source": [
    "def to_profile():\n",
    "    gf.evolve(population, generations=generations)\n",
    "# profiling\n",
    "cProfile.run('to_profile()', 'evoflow.prof')"
   ]
  },
  {
   "cell_type": "code",
   "execution_count": 28,
   "metadata": {},
   "outputs": [
    {
     "output_type": "stream",
     "name": "stdout",
     "text": "Fri May 22 15:51:39 2020    evoflow.prof\n\n62242function calls(56389 primitive calls)in 2.610 seconds\n\n   Ordered by: cumulative time\n   List reduced from 559 to 20 due to restriction <20>\n   List reduced from 20 to 5 due to restriction <'ops'>\n\n   ncalls  tottime  percall  cumtime  percallfilename:lineno(function)\n        5   0.047   0.009   1.282   0.256d:\\code\\evoflow\\evoflow\\ops\\random_mutation.py:74(call)\n        5   0.027   0.005   1.082   0.216d:\\code\\evoflow\\evoflow\\ops\\uniform_crossover.py:56(call)\n        5   0.053   0.011   1.055   0.211d:\\code\\evoflow\\evoflow\\ops\\uniform_crossover.py:62(compute)\n       20   0.000   0.000   0.276   0.014C:\\Users\\elie\\AppData\\Local\\Programs\\Python\\Python36\\lib\\site-packages\\tensorflow\\python\\framework\\ops.py:937(numpy)\n       30   0.000   0.000   0.181   0.006C:\\Users\\elie\\AppData\\Local\\Programs\\Python\\Python36\\lib\\site-packages\\tensorflow\\python\\ops\\math_ops.py:981(binary_op_wrapper)\n\n\n"
    },
    {
     "output_type": "execute_result",
     "data": {
      "text/plain": "<pstats.Stats at 0x18945079898>"
     },
     "metadata": {},
     "execution_count": 28
    }
   ],
   "source": [
    "p = pstats.Stats('evoflow.prof')\n",
    "p.sort_stats('cumtime').print_stats(20, 'ops')"
   ]
  },
  {
   "cell_type": "markdown",
   "metadata": {},
   "source": [
    "## performance"
   ]
  },
  {
   "cell_type": "code",
   "execution_count": 11,
   "metadata": {},
   "outputs": [
    {
     "output_type": "display_data",
     "data": {
      "text/plain": "HBox(children=(IntProgress(value=0, max=5), HTML(value='')))",
      "application/vnd.jupyter.widget-view+json": {
       "version_major": 2,
       "version_minor": 0,
       "model_id": "f7ae0bc105344eef920b70e3b7b5b84f"
      }
     },
     "metadata": {}
    },
    {
     "output_type": "stream",
     "name": "stdout",
     "text": "\nevolve time2.571s\n"
    }
   ],
   "source": [
    "# v0.4.1 performance 2.571 sec\n",
    "start = time()\n",
    "gf.evolve(population, generations=generations, verbose=1)\n",
    "evolve_time = time() - start\n",
    "print(\"evolve time \", round(evolve_time, 3), \"s\")"
   ]
  }
 ],
 "metadata": {
  "language_info": {
   "codemirror_mode": {
    "name": "ipython",
    "version": 3
   },
   "file_extension": ".py",
   "mimetype": "text/x-python",
   "name": "python",
   "nbconvert_exporter": "python",
   "pygments_lexer": "ipython3",
   "version": "3.6.7-candidate"
  },
  "orig_nbformat": 2,
  "kernelspec": {
   "name": "python36764bit1164f64651f442398f7288c44aeadef0",
   "display_name": "Python 3.6.7 64-bit"
  }
 },
 "nbformat": 4,
 "nbformat_minor": 2
}