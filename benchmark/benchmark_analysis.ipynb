{
 "cells": [
  {
   "cell_type": "markdown",
   "metadata": {},
   "source": [
    "# Setup"
   ]
  },
  {
   "cell_type": "code",
   "execution_count": 56,
   "metadata": {},
   "outputs": [],
   "source": [
    "from tabulate import tabulate\n",
    "import pandas as pd\n",
    "from pathlib import Path\n",
    "import json\n",
    "import os\n",
    "import altair as alt\n",
    "from collections import defaultdict\n",
    "from IPython.core.display import display, HTML\n",
    "# alt.renderers.enable('html')"
   ]
  },
  {
   "cell_type": "code",
   "execution_count": 57,
   "metadata": {},
   "outputs": [
    {
     "data": {
      "text/html": [
       "<div>\n",
       "<style scoped>\n",
       "    .dataframe tbody tr th:only-of-type {\n",
       "        vertical-align: middle;\n",
       "    }\n",
       "\n",
       "    .dataframe tbody tr th {\n",
       "        vertical-align: top;\n",
       "    }\n",
       "\n",
       "    .dataframe thead th {\n",
       "        text-align: right;\n",
       "    }\n",
       "</style>\n",
       "<table border=\"1\" class=\"dataframe\">\n",
       "  <thead>\n",
       "    <tr style=\"text-align: right;\">\n",
       "      <th></th>\n",
       "      <th>avg_time</th>\n",
       "      <th>backend</th>\n",
       "      <th>evoflow_version</th>\n",
       "      <th>generations</th>\n",
       "      <th>group</th>\n",
       "      <th>input_size</th>\n",
       "      <th>max_time</th>\n",
       "      <th>min_time</th>\n",
       "      <th>name</th>\n",
       "      <th>num_runs</th>\n",
       "      <th>shape</th>\n",
       "      <th>shape_str</th>\n",
       "      <th>std_time</th>\n",
       "      <th>system</th>\n",
       "      <th>test_name</th>\n",
       "      <th>test_type</th>\n",
       "      <th>ts</th>\n",
       "    </tr>\n",
       "  </thead>\n",
       "  <tbody>\n",
       "    <tr>\n",
       "      <th>0</th>\n",
       "      <td>0.002327</td>\n",
       "      <td>cupy</td>\n",
       "      <td>0.4.1</td>\n",
       "      <td>10</td>\n",
       "      <td>Shuffle</td>\n",
       "      <td>10000</td>\n",
       "      <td>0.005984</td>\n",
       "      <td>0.000000</td>\n",
       "      <td>1D</td>\n",
       "      <td>3</td>\n",
       "      <td>[100, 100]</td>\n",
       "      <td>100x100</td>\n",
       "      <td>0.002618</td>\n",
       "      <td>{'os': {'name': 'Windows', 'version': '10.0.18...</td>\n",
       "      <td>Shuffle1D</td>\n",
       "      <td>OP</td>\n",
       "      <td>1590167235</td>\n",
       "    </tr>\n",
       "    <tr>\n",
       "      <th>1</th>\n",
       "      <td>0.001662</td>\n",
       "      <td>cupy</td>\n",
       "      <td>0.4.1</td>\n",
       "      <td>10</td>\n",
       "      <td>RandomMutation</td>\n",
       "      <td>10000</td>\n",
       "      <td>0.002992</td>\n",
       "      <td>0.000997</td>\n",
       "      <td>1D</td>\n",
       "      <td>3</td>\n",
       "      <td>[100, 100]</td>\n",
       "      <td>100x100</td>\n",
       "      <td>0.000940</td>\n",
       "      <td>{'os': {'name': 'Windows', 'version': '10.0.18...</td>\n",
       "      <td>RandomMutation1D</td>\n",
       "      <td>OP</td>\n",
       "      <td>1590167235</td>\n",
       "    </tr>\n",
       "    <tr>\n",
       "      <th>2</th>\n",
       "      <td>0.002327</td>\n",
       "      <td>cupy</td>\n",
       "      <td>0.4.1</td>\n",
       "      <td>10</td>\n",
       "      <td>UniformCrossover</td>\n",
       "      <td>10000</td>\n",
       "      <td>0.004987</td>\n",
       "      <td>0.000997</td>\n",
       "      <td>1D</td>\n",
       "      <td>3</td>\n",
       "      <td>[100, 100]</td>\n",
       "      <td>100x100</td>\n",
       "      <td>0.001881</td>\n",
       "      <td>{'os': {'name': 'Windows', 'version': '10.0.18...</td>\n",
       "      <td>UniformCrossover1D</td>\n",
       "      <td>OP</td>\n",
       "      <td>1590167235</td>\n",
       "    </tr>\n",
       "    <tr>\n",
       "      <th>3</th>\n",
       "      <td>0.000332</td>\n",
       "      <td>cupy</td>\n",
       "      <td>0.4.1</td>\n",
       "      <td>10</td>\n",
       "      <td>SingleCrossover</td>\n",
       "      <td>10000</td>\n",
       "      <td>0.000997</td>\n",
       "      <td>0.000000</td>\n",
       "      <td>1D</td>\n",
       "      <td>3</td>\n",
       "      <td>[100, 100]</td>\n",
       "      <td>100x100</td>\n",
       "      <td>0.000470</td>\n",
       "      <td>{'os': {'name': 'Windows', 'version': '10.0.18...</td>\n",
       "      <td>SingleCrossover1D</td>\n",
       "      <td>OP</td>\n",
       "      <td>1590167235</td>\n",
       "    </tr>\n",
       "    <tr>\n",
       "      <th>4</th>\n",
       "      <td>0.001330</td>\n",
       "      <td>cupy</td>\n",
       "      <td>0.4.1</td>\n",
       "      <td>10</td>\n",
       "      <td>DualCrossover</td>\n",
       "      <td>10000</td>\n",
       "      <td>0.001995</td>\n",
       "      <td>0.000997</td>\n",
       "      <td>1D</td>\n",
       "      <td>3</td>\n",
       "      <td>[100, 100]</td>\n",
       "      <td>100x100</td>\n",
       "      <td>0.000470</td>\n",
       "      <td>{'os': {'name': 'Windows', 'version': '10.0.18...</td>\n",
       "      <td>DualCrossover1D</td>\n",
       "      <td>OP</td>\n",
       "      <td>1590167235</td>\n",
       "    </tr>\n",
       "  </tbody>\n",
       "</table>\n",
       "</div>"
      ],
      "text/plain": [
       "   avg_time backend evoflow_version  generations             group  \\\n",
       "0  0.002327    cupy           0.4.1           10           Shuffle   \n",
       "1  0.001662    cupy           0.4.1           10    RandomMutation   \n",
       "2  0.002327    cupy           0.4.1           10  UniformCrossover   \n",
       "3  0.000332    cupy           0.4.1           10   SingleCrossover   \n",
       "4  0.001330    cupy           0.4.1           10     DualCrossover   \n",
       "\n",
       "   input_size  max_time  min_time name  num_runs       shape shape_str  \\\n",
       "0       10000  0.005984  0.000000   1D         3  [100, 100]   100x100   \n",
       "1       10000  0.002992  0.000997   1D         3  [100, 100]   100x100   \n",
       "2       10000  0.004987  0.000997   1D         3  [100, 100]   100x100   \n",
       "3       10000  0.000997  0.000000   1D         3  [100, 100]   100x100   \n",
       "4       10000  0.001995  0.000997   1D         3  [100, 100]   100x100   \n",
       "\n",
       "   std_time                                             system  \\\n",
       "0  0.002618  {'os': {'name': 'Windows', 'version': '10.0.18...   \n",
       "1  0.000940  {'os': {'name': 'Windows', 'version': '10.0.18...   \n",
       "2  0.001881  {'os': {'name': 'Windows', 'version': '10.0.18...   \n",
       "3  0.000470  {'os': {'name': 'Windows', 'version': '10.0.18...   \n",
       "4  0.000470  {'os': {'name': 'Windows', 'version': '10.0.18...   \n",
       "\n",
       "            test_name test_type          ts  \n",
       "0           Shuffle1D        OP  1590167235  \n",
       "1    RandomMutation1D        OP  1590167235  \n",
       "2  UniformCrossover1D        OP  1590167235  \n",
       "3   SingleCrossover1D        OP  1590167235  \n",
       "4     DualCrossover1D        OP  1590167235  "
      ]
     },
     "execution_count": 57,
     "metadata": {},
     "output_type": "execute_result"
    }
   ],
   "source": [
    "VERSION = '0.4.1'\n",
    "def load_benchmark_results(VERSION):\n",
    "    tables = defaultdict(lambda: defaultdict(dict))\n",
    "    res_dir = 'results/%s' % VERSION\n",
    "    results = []\n",
    "    for fname in Path(res_dir).glob('*.json'):\n",
    "        for l in open(fname):\n",
    "            d = json.loads(l)\n",
    "            res = {}\n",
    "            # flattenning\n",
    "            for k, v in d.items():\n",
    "                if k == 'timings':\n",
    "                    for tn, tv in v.items():\n",
    "                        if tn == 'raw':\n",
    "                            continue\n",
    "                        name = '%s_time' % (tn)\n",
    "                        res[name] = tv\n",
    "                else:\n",
    "                        res[k] = v\n",
    "            res['shape_str'] = \"x\".join([str(x) for x in d['shape']])\n",
    "            res['test_name'] = \"%s%s\" % (d['group'], d['name'])\n",
    "\n",
    "            tables[res['test_name']][res['shape_str']][res['backend']] = res['avg_time']\n",
    "\n",
    "            results.append(res)\n",
    "    return pd.DataFrame(results), tables\n",
    "df, tables = load_benchmark_results(VERSION)\n",
    "df.head()"
   ]
  },
  {
   "cell_type": "code",
   "execution_count": null,
   "metadata": {},
   "outputs": [],
   "source": []
  },
  {
   "cell_type": "code",
   "execution_count": 58,
   "metadata": {},
   "outputs": [],
   "source": [
    "def htmlout(data):\n",
    "    display(HTML(data))\n",
    "\n",
    "def display_table(group_name):\n",
    "    BACKENDS = ['numpy', 'tensorflow-cpu', 'tensorflow-gpu', 'cupy']\n",
    "    headers = ['shape', 'numpy', 'tf-cpu', 'tf-gpu', 'cupy' ]\n",
    "    # htmlout('<h3>%s</h3>' % group_name)\n",
    "    for dim in ['1D', '2D', '3D']:\n",
    "        prob_name = group_name + dim\n",
    "        if prob_name in tables:\n",
    "            raw = tables[prob_name]\n",
    "            rows = []\n",
    "            for shape, data in tables[prob_name].items():\n",
    "                row = [shape]\n",
    "                baseline = data['numpy']\n",
    "                for b in  BACKENDS:\n",
    "                    ts  = round(data[b], 3)\n",
    "                    perf = round(baseline / (data[b] + 0.000001), 2)\n",
    "                    val = \"%s (%.2fx)\" % (ts, perf)\n",
    "                    row.append(val)\n",
    "                rows.append(row)\n",
    "            htmlout('<br/><b>%s</b>' % dim)\n",
    "            htmlout(tabulate(rows, headers=headers, tablefmt='html'))\n"
   ]
  },
  {
   "cell_type": "code",
   "execution_count": 59,
   "metadata": {},
   "outputs": [],
   "source": [
    "def display_chart(group_name):\n",
    "    data = df[df['group']==group_name].sort_values('input_size')\n",
    "    chart = alt.Chart(data, title='').mark_bar().encode(\n",
    "            x=alt.X('backend', axis=alt.Axis(title='')), \n",
    "            y=alt.Y('avg_time', sort='-x', axis=alt.Axis(title='')),\n",
    "            color=alt.Color('backend', legend=None), \n",
    "            column=alt.Column('shape_str', title='', sort=alt.EncodingSortField(field='input_size', order='ascending'))\n",
    "            ).resolve_scale(y='independent')\n",
    "    chart = chart.facet(column='name', spacing=50, title=group_name).configure_title(fontSize=20, offset=5, orient='top', anchor='middle')\n",
    "    return chart"
   ]
  },
  {
   "cell_type": "markdown",
   "metadata": {},
   "source": [
    "# End to End problems"
   ]
  },
  {
   "cell_type": "code",
   "execution_count": 60,
   "metadata": {},
   "outputs": [
    {
     "data": {
      "text/html": [
       "\n",
       "<div id=\"altair-viz-312ea9a968ed41c68e03f15e08bc1fed\"></div>\n",
       "<script type=\"text/javascript\">\n",
       "  (function(spec, embedOpt){\n",
       "    const outputDiv = document.getElementById(\"altair-viz-312ea9a968ed41c68e03f15e08bc1fed\");\n",
       "    const paths = {\n",
       "      \"vega\": \"https://cdn.jsdelivr.net/npm//vega@5?noext\",\n",
       "      \"vega-lib\": \"https://cdn.jsdelivr.net/npm//vega-lib?noext\",\n",
       "      \"vega-lite\": \"https://cdn.jsdelivr.net/npm//vega-lite@4.0.2?noext\",\n",
       "      \"vega-embed\": \"https://cdn.jsdelivr.net/npm//vega-embed@6?noext\",\n",
       "    };\n",
       "\n",
       "    function loadScript(lib) {\n",
       "      return new Promise(function(resolve, reject) {\n",
       "        var s = document.createElement('script');\n",
       "        s.src = paths[lib];\n",
       "        s.async = true;\n",
       "        s.onload = () => resolve(paths[lib]);\n",
       "        s.onerror = () => reject(`Error loading script: ${paths[lib]}`);\n",
       "        document.getElementsByTagName(\"head\")[0].appendChild(s);\n",
       "      });\n",
       "    }\n",
       "\n",
       "    function showError(err) {\n",
       "      outputDiv.innerHTML = `<div class=\"error\" style=\"color:red;\">${err}</div>`;\n",
       "      throw err;\n",
       "    }\n",
       "\n",
       "    function displayChart(vegaEmbed) {\n",
       "      vegaEmbed(outputDiv, spec, embedOpt)\n",
       "        .catch(err => showError(`Javascript Error: ${err.message}<br>This usually means there's a typo in your chart specification. See the javascript console for the full traceback.`));\n",
       "    }\n",
       "\n",
       "    if(typeof define === \"function\" && define.amd) {\n",
       "      requirejs.config({paths});\n",
       "      require([\"vega-embed\"], displayChart, err => showError(`Error loading script: ${err.message}`));\n",
       "    } else if (typeof vegaEmbed === \"function\") {\n",
       "      displayChart(vegaEmbed);\n",
       "    } else {\n",
       "      loadScript(\"vega\")\n",
       "        .then(() => loadScript(\"vega-lite\"))\n",
       "        .then(() => loadScript(\"vega-embed\"))\n",
       "        .catch(showError)\n",
       "        .then(() => displayChart(vegaEmbed));\n",
       "    }\n",
       "  })({\"config\": {\"view\": {\"continuousWidth\": 400, \"continuousHeight\": 300}, \"title\": {\"anchor\": \"middle\", \"fontSize\": 20, \"offset\": 5, \"orient\": \"top\"}}, \"data\": {\"name\": \"data-77fadc98112faf2ede18bf145f946514\"}, \"facet\": {\"column\": {\"type\": \"nominal\", \"field\": \"name\"}}, \"spec\": {\"mark\": \"bar\", \"encoding\": {\"color\": {\"type\": \"nominal\", \"field\": \"backend\", \"legend\": null}, \"column\": {\"type\": \"nominal\", \"field\": \"shape_str\", \"sort\": {\"field\": \"input_size\", \"order\": \"ascending\"}, \"title\": \"\"}, \"x\": {\"type\": \"nominal\", \"axis\": {\"title\": \"\"}, \"field\": \"backend\"}, \"y\": {\"type\": \"quantitative\", \"axis\": {\"title\": \"\"}, \"field\": \"avg_time\", \"sort\": \"-x\"}}, \"resolve\": {\"scale\": {\"y\": \"independent\"}}, \"title\": \"\"}, \"spacing\": 50, \"title\": \"OneMax\", \"$schema\": \"https://vega.github.io/schema/vega-lite/v4.0.2.json\", \"datasets\": {\"data-77fadc98112faf2ede18bf145f946514\": [{\"avg_time\": 0.026595513025919598, \"backend\": \"cupy\", \"evoflow_version\": \"0.4.1\", \"generations\": 10, \"group\": \"OneMax\", \"input_size\": 10000, \"max_time\": 0.031914472579956055, \"min_time\": 0.023935794830322266, \"name\": \"1D\", \"num_runs\": 3, \"shape\": [100, 100], \"shape_str\": \"100x100\", \"std_time\": 0.003761072374554028, \"system\": {\"os\": {\"name\": \"Windows\", \"version\": \"10.0.18362\"}, \"memory\": {\"unit\": \"MB\", \"used\": 15815, \"total\": 65451}, \"cpu\": {\"name\": \"Intel64 Family 6 Model 158 Stepping 10, GenuineIntel\", \"cores\": 12, \"freqency\": 3696.0}, \"python\": {\"numpy\": \"1.18.3\", \"tensorflow\": {\"visible_gpu\": [\"/physical_device:GPU:0\"], \"version\": \"2.2.0\"}, \"cupy\": \"7.2.0\"}, \"gpu\": [{\"memory\": {\"unit\": \"MB\", \"total\": 11264, \"used\": 1475}, \"temperature\": {\"unit\": \"C\"}, \"driver\": \"445.87\", \"index\": \"0\", \"name\": \"GeForce RTX 2080 Ti\", \"value\": \"60\", \"usage\": \"1\"}]}, \"test_name\": \"OneMax1D\", \"test_type\": \"Problem\", \"ts\": 1590167235}, {\"avg_time\": 0.027593374252319336, \"backend\": \"tensorflow-gpu\", \"evoflow_version\": \"0.4.1\", \"generations\": 10, \"group\": \"OneMax\", \"input_size\": 10000, \"max_time\": 0.027925491333007812, \"min_time\": 0.026929378509521484, \"name\": \"1D\", \"num_runs\": 3, \"shape\": [100, 100], \"shape_str\": \"100x100\", \"std_time\": 0.00046951590250037163, \"system\": {\"os\": {\"name\": \"Windows\", \"version\": \"10.0.18362\"}, \"memory\": {\"unit\": \"MB\", \"used\": 15765, \"total\": 65451}, \"cpu\": {\"name\": \"Intel64 Family 6 Model 158 Stepping 10, GenuineIntel\", \"cores\": 12, \"freqency\": 3696.0}, \"python\": {\"numpy\": \"1.18.3\", \"tensorflow\": {\"visible_gpu\": [\"/physical_device:GPU:0\"], \"version\": \"2.2.0\"}, \"cupy\": \"7.2.0\"}, \"gpu\": [{\"memory\": {\"unit\": \"MB\", \"total\": 11264, \"used\": 1471}, \"temperature\": {\"unit\": \"C\"}, \"driver\": \"445.87\", \"index\": \"0\", \"name\": \"GeForce RTX 2080 Ti\", \"value\": \"58\", \"usage\": \"0\"}]}, \"test_name\": \"OneMax1D\", \"test_type\": \"Problem\", \"ts\": 1590167273}, {\"avg_time\": 0.03224714597066244, \"backend\": \"tensorflow-gpu\", \"evoflow_version\": \"0.4.1\", \"generations\": 10, \"group\": \"OneMax\", \"input_size\": 10000, \"max_time\": 0.032912254333496094, \"min_time\": 0.031914472579956055, \"name\": \"2D\", \"num_runs\": 3, \"shape\": [100, 10, 10], \"shape_str\": \"100x10x10\", \"std_time\": 0.00047030264365569767, \"system\": {\"os\": {\"name\": \"Windows\", \"version\": \"10.0.18362\"}, \"memory\": {\"unit\": \"MB\", \"used\": 15765, \"total\": 65451}, \"cpu\": {\"name\": \"Intel64 Family 6 Model 158 Stepping 10, GenuineIntel\", \"cores\": 12, \"freqency\": 3696.0}, \"python\": {\"numpy\": \"1.18.3\", \"tensorflow\": {\"visible_gpu\": [\"/physical_device:GPU:0\"], \"version\": \"2.2.0\"}, \"cupy\": \"7.2.0\"}, \"gpu\": [{\"memory\": {\"unit\": \"MB\", \"total\": 11264, \"used\": 1471}, \"temperature\": {\"unit\": \"C\"}, \"driver\": \"445.87\", \"index\": \"0\", \"name\": \"GeForce RTX 2080 Ti\", \"value\": \"58\", \"usage\": \"0\"}]}, \"test_name\": \"OneMax2D\", \"test_type\": \"Problem\", \"ts\": 1590167273}, {\"avg_time\": 0.03058481216430664, \"backend\": \"cupy\", \"evoflow_version\": \"0.4.1\", \"generations\": 10, \"group\": \"OneMax\", \"input_size\": 10000, \"max_time\": 0.03091740608215332, \"min_time\": 0.029919862747192383, \"name\": \"2D\", \"num_runs\": 3, \"shape\": [100, 10, 10], \"shape_str\": \"100x10x10\", \"std_time\": 0.0004701902520620762, \"system\": {\"os\": {\"name\": \"Windows\", \"version\": \"10.0.18362\"}, \"memory\": {\"unit\": \"MB\", \"used\": 15815, \"total\": 65451}, \"cpu\": {\"name\": \"Intel64 Family 6 Model 158 Stepping 10, GenuineIntel\", \"cores\": 12, \"freqency\": 3696.0}, \"python\": {\"numpy\": \"1.18.3\", \"tensorflow\": {\"visible_gpu\": [\"/physical_device:GPU:0\"], \"version\": \"2.2.0\"}, \"cupy\": \"7.2.0\"}, \"gpu\": [{\"memory\": {\"unit\": \"MB\", \"total\": 11264, \"used\": 1475}, \"temperature\": {\"unit\": \"C\"}, \"driver\": \"445.87\", \"index\": \"0\", \"name\": \"GeForce RTX 2080 Ti\", \"value\": \"60\", \"usage\": \"1\"}]}, \"test_name\": \"OneMax2D\", \"test_type\": \"Problem\", \"ts\": 1590167235}, {\"avg_time\": 0.016954660415649414, \"backend\": \"tensorflow-cpu\", \"evoflow_version\": \"0.4.1\", \"generations\": 10, \"group\": \"OneMax\", \"input_size\": 10000, \"max_time\": 0.016954660415649414, \"min_time\": 0.016954660415649414, \"name\": \"1D\", \"num_runs\": 3, \"shape\": [100, 100], \"shape_str\": \"100x100\", \"std_time\": 0.0, \"system\": {\"os\": {\"name\": \"Windows\", \"version\": \"10.0.18362\"}, \"memory\": {\"unit\": \"MB\", \"used\": 15807, \"total\": 65451}, \"cpu\": {\"name\": \"Intel64 Family 6 Model 158 Stepping 10, GenuineIntel\", \"cores\": 12, \"freqency\": 3696.0}, \"python\": {\"numpy\": \"1.18.3\", \"tensorflow\": {\"visible_gpu\": [], \"version\": \"2.2.0\"}, \"cupy\": \"7.2.0\"}, \"gpu\": []}, \"test_name\": \"OneMax1D\", \"test_type\": \"Problem\", \"ts\": 1590167261}, {\"avg_time\": 0.008311112721761068, \"backend\": \"numpy\", \"evoflow_version\": \"0.4.1\", \"generations\": 10, \"group\": \"OneMax\", \"input_size\": 10000, \"max_time\": 0.008975744247436523, \"min_time\": 0.007978677749633789, \"name\": \"1D\", \"num_runs\": 3, \"shape\": [100, 100], \"shape_str\": \"100x100\", \"std_time\": 0.0004699654688748368, \"system\": {\"os\": {\"name\": \"Windows\", \"version\": \"10.0.18362\"}, \"memory\": {\"unit\": \"MB\", \"used\": 15771, \"total\": 65451}, \"cpu\": {\"name\": \"Intel64 Family 6 Model 158 Stepping 10, GenuineIntel\", \"cores\": 12, \"freqency\": 3696.0}, \"python\": {\"numpy\": \"1.18.3\", \"tensorflow\": {\"visible_gpu\": [\"/physical_device:GPU:0\"], \"version\": \"2.2.0\"}, \"cupy\": \"7.2.0\"}, \"gpu\": []}, \"test_name\": \"OneMax1D\", \"test_type\": \"Problem\", \"ts\": 1590167246}, {\"avg_time\": 0.018949429194132488, \"backend\": \"tensorflow-cpu\", \"evoflow_version\": \"0.4.1\", \"generations\": 10, \"group\": \"OneMax\", \"input_size\": 10000, \"max_time\": 0.01894974708557129, \"min_time\": 0.018949270248413086, \"name\": \"2D\", \"num_runs\": 3, \"shape\": [100, 10, 10], \"shape_str\": \"100x10x10\", \"std_time\": 2.247831920581015e-07, \"system\": {\"os\": {\"name\": \"Windows\", \"version\": \"10.0.18362\"}, \"memory\": {\"unit\": \"MB\", \"used\": 15807, \"total\": 65451}, \"cpu\": {\"name\": \"Intel64 Family 6 Model 158 Stepping 10, GenuineIntel\", \"cores\": 12, \"freqency\": 3696.0}, \"python\": {\"numpy\": \"1.18.3\", \"tensorflow\": {\"visible_gpu\": [], \"version\": \"2.2.0\"}, \"cupy\": \"7.2.0\"}, \"gpu\": []}, \"test_name\": \"OneMax2D\", \"test_type\": \"Problem\", \"ts\": 1590167261}, {\"avg_time\": 0.007978677749633789, \"backend\": \"numpy\", \"evoflow_version\": \"0.4.1\", \"generations\": 10, \"group\": \"OneMax\", \"input_size\": 10000, \"max_time\": 0.007978677749633789, \"min_time\": 0.007978677749633789, \"name\": \"2D\", \"num_runs\": 3, \"shape\": [100, 10, 10], \"shape_str\": \"100x10x10\", \"std_time\": 0.0, \"system\": {\"os\": {\"name\": \"Windows\", \"version\": \"10.0.18362\"}, \"memory\": {\"unit\": \"MB\", \"used\": 15771, \"total\": 65451}, \"cpu\": {\"name\": \"Intel64 Family 6 Model 158 Stepping 10, GenuineIntel\", \"cores\": 12, \"freqency\": 3696.0}, \"python\": {\"numpy\": \"1.18.3\", \"tensorflow\": {\"visible_gpu\": [\"/physical_device:GPU:0\"], \"version\": \"2.2.0\"}, \"cupy\": \"7.2.0\"}, \"gpu\": []}, \"test_name\": \"OneMax2D\", \"test_type\": \"Problem\", \"ts\": 1590167246}, {\"avg_time\": 0.05585074424743652, \"backend\": \"tensorflow-cpu\", \"evoflow_version\": \"0.4.1\", \"generations\": 10, \"group\": \"OneMax\", \"input_size\": 100000, \"max_time\": 0.06183505058288574, \"min_time\": 0.04886937141418457, \"name\": \"1D\", \"num_runs\": 3, \"shape\": [100, 1000], \"shape_str\": \"100x1000\", \"std_time\": 0.005339963500324906, \"system\": {\"os\": {\"name\": \"Windows\", \"version\": \"10.0.18362\"}, \"memory\": {\"unit\": \"MB\", \"used\": 15807, \"total\": 65451}, \"cpu\": {\"name\": \"Intel64 Family 6 Model 158 Stepping 10, GenuineIntel\", \"cores\": 12, \"freqency\": 3696.0}, \"python\": {\"numpy\": \"1.18.3\", \"tensorflow\": {\"visible_gpu\": [], \"version\": \"2.2.0\"}, \"cupy\": \"7.2.0\"}, \"gpu\": []}, \"test_name\": \"OneMax1D\", \"test_type\": \"Problem\", \"ts\": 1590167261}, {\"avg_time\": 0.049534241358439125, \"backend\": \"tensorflow-gpu\", \"evoflow_version\": \"0.4.1\", \"generations\": 10, \"group\": \"OneMax\", \"input_size\": 100000, \"max_time\": 0.04986691474914551, \"min_time\": 0.04886937141418457, \"name\": \"2D\", \"num_runs\": 3, \"shape\": [100, 100, 10], \"shape_str\": \"100x100x10\", \"std_time\": 0.00047013408649250444, \"system\": {\"os\": {\"name\": \"Windows\", \"version\": \"10.0.18362\"}, \"memory\": {\"unit\": \"MB\", \"used\": 15765, \"total\": 65451}, \"cpu\": {\"name\": \"Intel64 Family 6 Model 158 Stepping 10, GenuineIntel\", \"cores\": 12, \"freqency\": 3696.0}, \"python\": {\"numpy\": \"1.18.3\", \"tensorflow\": {\"visible_gpu\": [\"/physical_device:GPU:0\"], \"version\": \"2.2.0\"}, \"cupy\": \"7.2.0\"}, \"gpu\": [{\"memory\": {\"unit\": \"MB\", \"total\": 11264, \"used\": 1471}, \"temperature\": {\"unit\": \"C\"}, \"driver\": \"445.87\", \"index\": \"0\", \"name\": \"GeForce RTX 2080 Ti\", \"value\": \"58\", \"usage\": \"0\"}]}, \"test_name\": \"OneMax2D\", \"test_type\": \"Problem\", \"ts\": 1590167273}, {\"avg_time\": 0.054852803548177086, \"backend\": \"tensorflow-gpu\", \"evoflow_version\": \"0.4.1\", \"generations\": 10, \"group\": \"OneMax\", \"input_size\": 100000, \"max_time\": 0.05584907531738281, \"min_time\": 0.05385613441467285, \"name\": \"1D\", \"num_runs\": 3, \"shape\": [100, 1000], \"shape_str\": \"100x1000\", \"std_time\": 0.0008136147650444026, \"system\": {\"os\": {\"name\": \"Windows\", \"version\": \"10.0.18362\"}, \"memory\": {\"unit\": \"MB\", \"used\": 15765, \"total\": 65451}, \"cpu\": {\"name\": \"Intel64 Family 6 Model 158 Stepping 10, GenuineIntel\", \"cores\": 12, \"freqency\": 3696.0}, \"python\": {\"numpy\": \"1.18.3\", \"tensorflow\": {\"visible_gpu\": [\"/physical_device:GPU:0\"], \"version\": \"2.2.0\"}, \"cupy\": \"7.2.0\"}, \"gpu\": [{\"memory\": {\"unit\": \"MB\", \"total\": 11264, \"used\": 1471}, \"temperature\": {\"unit\": \"C\"}, \"driver\": \"445.87\", \"index\": \"0\", \"name\": \"GeForce RTX 2080 Ti\", \"value\": \"58\", \"usage\": \"0\"}]}, \"test_name\": \"OneMax1D\", \"test_type\": \"Problem\", \"ts\": 1590167273}, {\"avg_time\": 0.03324445088704427, \"backend\": \"numpy\", \"evoflow_version\": \"0.4.1\", \"generations\": 10, \"group\": \"OneMax\", \"input_size\": 100000, \"max_time\": 0.03390955924987793, \"min_time\": 0.03291177749633789, \"name\": \"1D\", \"num_runs\": 3, \"shape\": [100, 1000], \"shape_str\": \"100x1000\", \"std_time\": 0.00047030264365569767, \"system\": {\"os\": {\"name\": \"Windows\", \"version\": \"10.0.18362\"}, \"memory\": {\"unit\": \"MB\", \"used\": 15771, \"total\": 65451}, \"cpu\": {\"name\": \"Intel64 Family 6 Model 158 Stepping 10, GenuineIntel\", \"cores\": 12, \"freqency\": 3696.0}, \"python\": {\"numpy\": \"1.18.3\", \"tensorflow\": {\"visible_gpu\": [\"/physical_device:GPU:0\"], \"version\": \"2.2.0\"}, \"cupy\": \"7.2.0\"}, \"gpu\": []}, \"test_name\": \"OneMax1D\", \"test_type\": \"Problem\", \"ts\": 1590167246}, {\"avg_time\": 0.03191479047139486, \"backend\": \"cupy\", \"evoflow_version\": \"0.4.1\", \"generations\": 10, \"group\": \"OneMax\", \"input_size\": 100000, \"max_time\": 0.032912254333496094, \"min_time\": 0.03091740608215332, \"name\": \"2D\", \"num_runs\": 3, \"shape\": [100, 100, 10], \"shape_str\": \"100x100x10\", \"std_time\": 0.0008143933902843604, \"system\": {\"os\": {\"name\": \"Windows\", \"version\": \"10.0.18362\"}, \"memory\": {\"unit\": \"MB\", \"used\": 15815, \"total\": 65451}, \"cpu\": {\"name\": \"Intel64 Family 6 Model 158 Stepping 10, GenuineIntel\", \"cores\": 12, \"freqency\": 3696.0}, \"python\": {\"numpy\": \"1.18.3\", \"tensorflow\": {\"visible_gpu\": [\"/physical_device:GPU:0\"], \"version\": \"2.2.0\"}, \"cupy\": \"7.2.0\"}, \"gpu\": [{\"memory\": {\"unit\": \"MB\", \"total\": 11264, \"used\": 1475}, \"temperature\": {\"unit\": \"C\"}, \"driver\": \"445.87\", \"index\": \"0\", \"name\": \"GeForce RTX 2080 Ti\", \"value\": \"60\", \"usage\": \"1\"}]}, \"test_name\": \"OneMax2D\", \"test_type\": \"Problem\", \"ts\": 1590167235}, {\"avg_time\": 0.024600903193155926, \"backend\": \"cupy\", \"evoflow_version\": \"0.4.1\", \"generations\": 10, \"group\": \"OneMax\", \"input_size\": 100000, \"max_time\": 0.024933338165283203, \"min_time\": 0.023936033248901367, \"name\": \"1D\", \"num_runs\": 3, \"shape\": [100, 1000], \"shape_str\": \"100x1000\", \"std_time\": 0.00047013404618951926, \"system\": {\"os\": {\"name\": \"Windows\", \"version\": \"10.0.18362\"}, \"memory\": {\"unit\": \"MB\", \"used\": 15815, \"total\": 65451}, \"cpu\": {\"name\": \"Intel64 Family 6 Model 158 Stepping 10, GenuineIntel\", \"cores\": 12, \"freqency\": 3696.0}, \"python\": {\"numpy\": \"1.18.3\", \"tensorflow\": {\"visible_gpu\": [\"/physical_device:GPU:0\"], \"version\": \"2.2.0\"}, \"cupy\": \"7.2.0\"}, \"gpu\": [{\"memory\": {\"unit\": \"MB\", \"total\": 11264, \"used\": 1475}, \"temperature\": {\"unit\": \"C\"}, \"driver\": \"445.87\", \"index\": \"0\", \"name\": \"GeForce RTX 2080 Ti\", \"value\": \"60\", \"usage\": \"1\"}]}, \"test_name\": \"OneMax1D\", \"test_type\": \"Problem\", \"ts\": 1590167235}, {\"avg_time\": 0.022938648859659832, \"backend\": \"numpy\", \"evoflow_version\": \"0.4.1\", \"generations\": 10, \"group\": \"OneMax\", \"input_size\": 100000, \"max_time\": 0.023936033248901367, \"min_time\": 0.021941423416137695, \"name\": \"2D\", \"num_runs\": 3, \"shape\": [100, 100, 10], \"shape_str\": \"100x100x10\", \"std_time\": 0.0008142960621244942, \"system\": {\"os\": {\"name\": \"Windows\", \"version\": \"10.0.18362\"}, \"memory\": {\"unit\": \"MB\", \"used\": 15771, \"total\": 65451}, \"cpu\": {\"name\": \"Intel64 Family 6 Model 158 Stepping 10, GenuineIntel\", \"cores\": 12, \"freqency\": 3696.0}, \"python\": {\"numpy\": \"1.18.3\", \"tensorflow\": {\"visible_gpu\": [\"/physical_device:GPU:0\"], \"version\": \"2.2.0\"}, \"cupy\": \"7.2.0\"}, \"gpu\": []}, \"test_name\": \"OneMax2D\", \"test_type\": \"Problem\", \"ts\": 1590167246}, {\"avg_time\": 0.03457411130269369, \"backend\": \"tensorflow-cpu\", \"evoflow_version\": \"0.4.1\", \"generations\": 10, \"group\": \"OneMax\", \"input_size\": 100000, \"max_time\": 0.034906625747680664, \"min_time\": 0.03390932083129883, \"name\": \"2D\", \"num_runs\": 3, \"shape\": [100, 100, 10], \"shape_str\": \"100x100x10\", \"std_time\": 0.0004700778604684559, \"system\": {\"os\": {\"name\": \"Windows\", \"version\": \"10.0.18362\"}, \"memory\": {\"unit\": \"MB\", \"used\": 15807, \"total\": 65451}, \"cpu\": {\"name\": \"Intel64 Family 6 Model 158 Stepping 10, GenuineIntel\", \"cores\": 12, \"freqency\": 3696.0}, \"python\": {\"numpy\": \"1.18.3\", \"tensorflow\": {\"visible_gpu\": [], \"version\": \"2.2.0\"}, \"cupy\": \"7.2.0\"}, \"gpu\": []}, \"test_name\": \"OneMax2D\", \"test_type\": \"Problem\", \"ts\": 1590167261}, {\"avg_time\": 0.3833142916361491, \"backend\": \"tensorflow-gpu\", \"evoflow_version\": \"0.4.1\", \"generations\": 10, \"group\": \"OneMax\", \"input_size\": 1000000, \"max_time\": 0.3839728832244873, \"min_time\": 0.38297557830810547, \"name\": \"1D\", \"num_runs\": 3, \"shape\": [1000, 1000], \"shape_str\": \"1000x1000\", \"std_time\": 0.00046575805601668937, \"system\": {\"os\": {\"name\": \"Windows\", \"version\": \"10.0.18362\"}, \"memory\": {\"unit\": \"MB\", \"used\": 15765, \"total\": 65451}, \"cpu\": {\"name\": \"Intel64 Family 6 Model 158 Stepping 10, GenuineIntel\", \"cores\": 12, \"freqency\": 3696.0}, \"python\": {\"numpy\": \"1.18.3\", \"tensorflow\": {\"visible_gpu\": [\"/physical_device:GPU:0\"], \"version\": \"2.2.0\"}, \"cupy\": \"7.2.0\"}, \"gpu\": [{\"memory\": {\"unit\": \"MB\", \"total\": 11264, \"used\": 1471}, \"temperature\": {\"unit\": \"C\"}, \"driver\": \"445.87\", \"index\": \"0\", \"name\": \"GeForce RTX 2080 Ti\", \"value\": \"58\", \"usage\": \"0\"}]}, \"test_name\": \"OneMax1D\", \"test_type\": \"Problem\", \"ts\": 1590167273}, {\"avg_time\": 0.37433211008707684, \"backend\": \"numpy\", \"evoflow_version\": \"0.4.1\", \"generations\": 10, \"group\": \"OneMax\", \"input_size\": 1000000, \"max_time\": 0.38197827339172363, \"min_time\": 0.3680155277252197, \"name\": \"2D\", \"num_runs\": 3, \"shape\": [100, 100, 100], \"shape_str\": \"100x100x100\", \"std_time\": 0.005777277660481079, \"system\": {\"os\": {\"name\": \"Windows\", \"version\": \"10.0.18362\"}, \"memory\": {\"unit\": \"MB\", \"used\": 15771, \"total\": 65451}, \"cpu\": {\"name\": \"Intel64 Family 6 Model 158 Stepping 10, GenuineIntel\", \"cores\": 12, \"freqency\": 3696.0}, \"python\": {\"numpy\": \"1.18.3\", \"tensorflow\": {\"visible_gpu\": [\"/physical_device:GPU:0\"], \"version\": \"2.2.0\"}, \"cupy\": \"7.2.0\"}, \"gpu\": []}, \"test_name\": \"OneMax2D\", \"test_type\": \"Problem\", \"ts\": 1590167246}, {\"avg_time\": 0.38131316502888996, \"backend\": \"tensorflow-cpu\", \"evoflow_version\": \"0.4.1\", \"generations\": 10, \"group\": \"OneMax\", \"input_size\": 1000000, \"max_time\": 0.4418182373046875, \"min_time\": 0.3450767993927002, \"name\": \"1D\", \"num_runs\": 3, \"shape\": [1000, 1000], \"shape_str\": \"1000x1000\", \"std_time\": 0.04306161510974114, \"system\": {\"os\": {\"name\": \"Windows\", \"version\": \"10.0.18362\"}, \"memory\": {\"unit\": \"MB\", \"used\": 15807, \"total\": 65451}, \"cpu\": {\"name\": \"Intel64 Family 6 Model 158 Stepping 10, GenuineIntel\", \"cores\": 12, \"freqency\": 3696.0}, \"python\": {\"numpy\": \"1.18.3\", \"tensorflow\": {\"visible_gpu\": [], \"version\": \"2.2.0\"}, \"cupy\": \"7.2.0\"}, \"gpu\": []}, \"test_name\": \"OneMax1D\", \"test_type\": \"Problem\", \"ts\": 1590167261}, {\"avg_time\": 0.3342743714650472, \"backend\": \"numpy\", \"evoflow_version\": \"0.4.1\", \"generations\": 10, \"group\": \"OneMax\", \"input_size\": 1000000, \"max_time\": 0.33859992027282715, \"min_time\": 0.3311142921447754, \"name\": \"1D\", \"num_runs\": 3, \"shape\": [1000, 1000], \"shape_str\": \"1000x1000\", \"std_time\": 0.0031651641834828806, \"system\": {\"os\": {\"name\": \"Windows\", \"version\": \"10.0.18362\"}, \"memory\": {\"unit\": \"MB\", \"used\": 15771, \"total\": 65451}, \"cpu\": {\"name\": \"Intel64 Family 6 Model 158 Stepping 10, GenuineIntel\", \"cores\": 12, \"freqency\": 3696.0}, \"python\": {\"numpy\": \"1.18.3\", \"tensorflow\": {\"visible_gpu\": [\"/physical_device:GPU:0\"], \"version\": \"2.2.0\"}, \"cupy\": \"7.2.0\"}, \"gpu\": []}, \"test_name\": \"OneMax1D\", \"test_type\": \"Problem\", \"ts\": 1590167246}, {\"avg_time\": 0.03523898124694824, \"backend\": \"cupy\", \"evoflow_version\": \"0.4.1\", \"generations\": 10, \"group\": \"OneMax\", \"input_size\": 1000000, \"max_time\": 0.0359036922454834, \"min_time\": 0.034906625747680664, \"name\": \"2D\", \"num_runs\": 3, \"shape\": [100, 100, 100], \"shape_str\": \"100x100x100\", \"std_time\": 0.00047002165459349024, \"system\": {\"os\": {\"name\": \"Windows\", \"version\": \"10.0.18362\"}, \"memory\": {\"unit\": \"MB\", \"used\": 15815, \"total\": 65451}, \"cpu\": {\"name\": \"Intel64 Family 6 Model 158 Stepping 10, GenuineIntel\", \"cores\": 12, \"freqency\": 3696.0}, \"python\": {\"numpy\": \"1.18.3\", \"tensorflow\": {\"visible_gpu\": [\"/physical_device:GPU:0\"], \"version\": \"2.2.0\"}, \"cupy\": \"7.2.0\"}, \"gpu\": [{\"memory\": {\"unit\": \"MB\", \"total\": 11264, \"used\": 1475}, \"temperature\": {\"unit\": \"C\"}, \"driver\": \"445.87\", \"index\": \"0\", \"name\": \"GeForce RTX 2080 Ti\", \"value\": \"60\", \"usage\": \"1\"}]}, \"test_name\": \"OneMax2D\", \"test_type\": \"Problem\", \"ts\": 1590167235}, {\"avg_time\": 0.026595513025919598, \"backend\": \"cupy\", \"evoflow_version\": \"0.4.1\", \"generations\": 10, \"group\": \"OneMax\", \"input_size\": 1000000, \"max_time\": 0.026928186416625977, \"min_time\": 0.025930404663085938, \"name\": \"1D\", \"num_runs\": 3, \"shape\": [1000, 1000], \"shape_str\": \"1000x1000\", \"std_time\": 0.00047030264365569767, \"system\": {\"os\": {\"name\": \"Windows\", \"version\": \"10.0.18362\"}, \"memory\": {\"unit\": \"MB\", \"used\": 15815, \"total\": 65451}, \"cpu\": {\"name\": \"Intel64 Family 6 Model 158 Stepping 10, GenuineIntel\", \"cores\": 12, \"freqency\": 3696.0}, \"python\": {\"numpy\": \"1.18.3\", \"tensorflow\": {\"visible_gpu\": [\"/physical_device:GPU:0\"], \"version\": \"2.2.0\"}, \"cupy\": \"7.2.0\"}, \"gpu\": [{\"memory\": {\"unit\": \"MB\", \"total\": 11264, \"used\": 1475}, \"temperature\": {\"unit\": \"C\"}, \"driver\": \"445.87\", \"index\": \"0\", \"name\": \"GeForce RTX 2080 Ti\", \"value\": \"60\", \"usage\": \"1\"}]}, \"test_name\": \"OneMax1D\", \"test_type\": \"Problem\", \"ts\": 1590167235}, {\"avg_time\": 0.3779889742533366, \"backend\": \"tensorflow-cpu\", \"evoflow_version\": \"0.4.1\", \"generations\": 10, \"group\": \"OneMax\", \"input_size\": 1000000, \"max_time\": 0.3809812068939209, \"min_time\": 0.3749969005584717, \"name\": \"2D\", \"num_runs\": 3, \"shape\": [100, 100, 100], \"shape_str\": \"100x100x100\", \"std_time\": 0.00244308283364444, \"system\": {\"os\": {\"name\": \"Windows\", \"version\": \"10.0.18362\"}, \"memory\": {\"unit\": \"MB\", \"used\": 15807, \"total\": 65451}, \"cpu\": {\"name\": \"Intel64 Family 6 Model 158 Stepping 10, GenuineIntel\", \"cores\": 12, \"freqency\": 3696.0}, \"python\": {\"numpy\": \"1.18.3\", \"tensorflow\": {\"visible_gpu\": [], \"version\": \"2.2.0\"}, \"cupy\": \"7.2.0\"}, \"gpu\": []}, \"test_name\": \"OneMax2D\", \"test_type\": \"Problem\", \"ts\": 1590167261}, {\"avg_time\": 0.414898157119751, \"backend\": \"tensorflow-gpu\", \"evoflow_version\": \"0.4.1\", \"generations\": 10, \"group\": \"OneMax\", \"input_size\": 1000000, \"max_time\": 0.41887950897216797, \"min_time\": 0.4109010696411133, \"name\": \"2D\", \"num_runs\": 3, \"shape\": [100, 100, 100], \"shape_str\": \"100x100x100\", \"std_time\": 0.00325720322232428, \"system\": {\"os\": {\"name\": \"Windows\", \"version\": \"10.0.18362\"}, \"memory\": {\"unit\": \"MB\", \"used\": 15765, \"total\": 65451}, \"cpu\": {\"name\": \"Intel64 Family 6 Model 158 Stepping 10, GenuineIntel\", \"cores\": 12, \"freqency\": 3696.0}, \"python\": {\"numpy\": \"1.18.3\", \"tensorflow\": {\"visible_gpu\": [\"/physical_device:GPU:0\"], \"version\": \"2.2.0\"}, \"cupy\": \"7.2.0\"}, \"gpu\": [{\"memory\": {\"unit\": \"MB\", \"total\": 11264, \"used\": 1471}, \"temperature\": {\"unit\": \"C\"}, \"driver\": \"445.87\", \"index\": \"0\", \"name\": \"GeForce RTX 2080 Ti\", \"value\": \"58\", \"usage\": \"0\"}]}, \"test_name\": \"OneMax2D\", \"test_type\": \"Problem\", \"ts\": 1590167273}]}}, {\"mode\": \"vega-lite\"});\n",
       "</script>"
      ],
      "text/plain": [
       "alt.FacetChart(...)"
      ]
     },
     "execution_count": 60,
     "metadata": {},
     "output_type": "execute_result"
    }
   ],
   "source": [
    "display_chart('OneMax')"
   ]
  },
  {
   "cell_type": "code",
   "execution_count": 61,
   "metadata": {},
   "outputs": [
    {
     "data": {
      "text/html": [
       "<br/><b>1D</b>"
      ],
      "text/plain": [
       "<IPython.core.display.HTML object>"
      ]
     },
     "metadata": {},
     "output_type": "display_data"
    },
    {
     "data": {
      "text/html": [
       "<table>\n",
       "<thead>\n",
       "<tr><th>shape    </th><th>numpy        </th><th>tf-cpu       </th><th>tf-gpu       </th><th>cupy          </th></tr>\n",
       "</thead>\n",
       "<tbody>\n",
       "<tr><td>100x100  </td><td>0.008 (1.00x)</td><td>0.017 (0.49x)</td><td>0.028 (0.30x)</td><td>0.027 (0.31x) </td></tr>\n",
       "<tr><td>100x1000 </td><td>0.033 (1.00x)</td><td>0.056 (0.60x)</td><td>0.055 (0.61x)</td><td>0.025 (1.35x) </td></tr>\n",
       "<tr><td>1000x1000</td><td>0.334 (1.00x)</td><td>0.381 (0.88x)</td><td>0.383 (0.87x)</td><td>0.027 (12.57x)</td></tr>\n",
       "</tbody>\n",
       "</table>"
      ],
      "text/plain": [
       "<IPython.core.display.HTML object>"
      ]
     },
     "metadata": {},
     "output_type": "display_data"
    },
    {
     "data": {
      "text/html": [
       "<br/><b>2D</b>"
      ],
      "text/plain": [
       "<IPython.core.display.HTML object>"
      ]
     },
     "metadata": {},
     "output_type": "display_data"
    },
    {
     "data": {
      "text/html": [
       "<table>\n",
       "<thead>\n",
       "<tr><th>shape      </th><th>numpy        </th><th>tf-cpu       </th><th>tf-gpu       </th><th>cupy          </th></tr>\n",
       "</thead>\n",
       "<tbody>\n",
       "<tr><td>100x10x10  </td><td>0.008 (1.00x)</td><td>0.019 (0.42x)</td><td>0.032 (0.25x)</td><td>0.031 (0.26x) </td></tr>\n",
       "<tr><td>100x100x10 </td><td>0.023 (1.00x)</td><td>0.035 (0.66x)</td><td>0.05 (0.46x) </td><td>0.032 (0.72x) </td></tr>\n",
       "<tr><td>100x100x100</td><td>0.374 (1.00x)</td><td>0.378 (0.99x)</td><td>0.415 (0.90x)</td><td>0.035 (10.62x)</td></tr>\n",
       "</tbody>\n",
       "</table>"
      ],
      "text/plain": [
       "<IPython.core.display.HTML object>"
      ]
     },
     "metadata": {},
     "output_type": "display_data"
    }
   ],
   "source": [
    "display_table('OneMax')"
   ]
  },
  {
   "cell_type": "code",
   "execution_count": 62,
   "metadata": {},
   "outputs": [
    {
     "data": {
      "text/html": [
       "\n",
       "<div id=\"altair-viz-f51b225cf3e04b559e1acb7465d6c0a0\"></div>\n",
       "<script type=\"text/javascript\">\n",
       "  (function(spec, embedOpt){\n",
       "    const outputDiv = document.getElementById(\"altair-viz-f51b225cf3e04b559e1acb7465d6c0a0\");\n",
       "    const paths = {\n",
       "      \"vega\": \"https://cdn.jsdelivr.net/npm//vega@5?noext\",\n",
       "      \"vega-lib\": \"https://cdn.jsdelivr.net/npm//vega-lib?noext\",\n",
       "      \"vega-lite\": \"https://cdn.jsdelivr.net/npm//vega-lite@4.0.2?noext\",\n",
       "      \"vega-embed\": \"https://cdn.jsdelivr.net/npm//vega-embed@6?noext\",\n",
       "    };\n",
       "\n",
       "    function loadScript(lib) {\n",
       "      return new Promise(function(resolve, reject) {\n",
       "        var s = document.createElement('script');\n",
       "        s.src = paths[lib];\n",
       "        s.async = true;\n",
       "        s.onload = () => resolve(paths[lib]);\n",
       "        s.onerror = () => reject(`Error loading script: ${paths[lib]}`);\n",
       "        document.getElementsByTagName(\"head\")[0].appendChild(s);\n",
       "      });\n",
       "    }\n",
       "\n",
       "    function showError(err) {\n",
       "      outputDiv.innerHTML = `<div class=\"error\" style=\"color:red;\">${err}</div>`;\n",
       "      throw err;\n",
       "    }\n",
       "\n",
       "    function displayChart(vegaEmbed) {\n",
       "      vegaEmbed(outputDiv, spec, embedOpt)\n",
       "        .catch(err => showError(`Javascript Error: ${err.message}<br>This usually means there's a typo in your chart specification. See the javascript console for the full traceback.`));\n",
       "    }\n",
       "\n",
       "    if(typeof define === \"function\" && define.amd) {\n",
       "      requirejs.config({paths});\n",
       "      require([\"vega-embed\"], displayChart, err => showError(`Error loading script: ${err.message}`));\n",
       "    } else if (typeof vegaEmbed === \"function\") {\n",
       "      displayChart(vegaEmbed);\n",
       "    } else {\n",
       "      loadScript(\"vega\")\n",
       "        .then(() => loadScript(\"vega-lite\"))\n",
       "        .then(() => loadScript(\"vega-embed\"))\n",
       "        .catch(showError)\n",
       "        .then(() => displayChart(vegaEmbed));\n",
       "    }\n",
       "  })({\"config\": {\"view\": {\"continuousWidth\": 400, \"continuousHeight\": 300}, \"title\": {\"anchor\": \"middle\", \"fontSize\": 20, \"offset\": 5, \"orient\": \"top\"}}, \"data\": {\"name\": \"data-f72b814358f759a45d263a43b7d4a6e8\"}, \"facet\": {\"column\": {\"type\": \"nominal\", \"field\": \"name\"}}, \"spec\": {\"mark\": \"bar\", \"encoding\": {\"color\": {\"type\": \"nominal\", \"field\": \"backend\", \"legend\": null}, \"column\": {\"type\": \"nominal\", \"field\": \"shape_str\", \"sort\": {\"field\": \"input_size\", \"order\": \"ascending\"}, \"title\": \"\"}, \"x\": {\"type\": \"nominal\", \"axis\": {\"title\": \"\"}, \"field\": \"backend\"}, \"y\": {\"type\": \"quantitative\", \"axis\": {\"title\": \"\"}, \"field\": \"avg_time\", \"sort\": \"-x\"}}, \"resolve\": {\"scale\": {\"y\": \"independent\"}}, \"title\": \"\"}, \"spacing\": 50, \"title\": \"TSP\", \"$schema\": \"https://vega.github.io/schema/vega-lite/v4.0.2.json\", \"datasets\": {\"data-f72b814358f759a45d263a43b7d4a6e8\": [{\"avg_time\": 0.0811162789662679, \"backend\": \"cupy\", \"evoflow_version\": \"0.4.1\", \"generations\": 10, \"group\": \"TSP\", \"input_size\": 500, \"max_time\": 0.0827784538269043, \"min_time\": 0.07878923416137695, \"name\": \"1D\", \"num_runs\": 3, \"shape\": [50, 10], \"shape_str\": \"50x10\", \"std_time\": 0.0016950924098776674, \"system\": {\"os\": {\"name\": \"Windows\", \"version\": \"10.0.18362\"}, \"memory\": {\"unit\": \"MB\", \"used\": 15815, \"total\": 65451}, \"cpu\": {\"name\": \"Intel64 Family 6 Model 158 Stepping 10, GenuineIntel\", \"cores\": 12, \"freqency\": 3696.0}, \"python\": {\"numpy\": \"1.18.3\", \"tensorflow\": {\"visible_gpu\": [\"/physical_device:GPU:0\"], \"version\": \"2.2.0\"}, \"cupy\": \"7.2.0\"}, \"gpu\": [{\"memory\": {\"unit\": \"MB\", \"total\": 11264, \"used\": 1475}, \"temperature\": {\"unit\": \"C\"}, \"driver\": \"445.87\", \"index\": \"0\", \"name\": \"GeForce RTX 2080 Ti\", \"value\": \"60\", \"usage\": \"1\"}]}, \"test_name\": \"TSP1D\", \"test_type\": \"Problem\", \"ts\": 1590167235}, {\"avg_time\": 0.00997320810953776, \"backend\": \"numpy\", \"evoflow_version\": \"0.4.1\", \"generations\": 10, \"group\": \"TSP\", \"input_size\": 500, \"max_time\": 0.009973526000976562, \"min_time\": 0.009972810745239258, \"name\": \"1D\", \"num_runs\": 3, \"shape\": [50, 10], \"shape_str\": \"50x10\", \"std_time\": 2.9736021254650284e-07, \"system\": {\"os\": {\"name\": \"Windows\", \"version\": \"10.0.18362\"}, \"memory\": {\"unit\": \"MB\", \"used\": 15771, \"total\": 65451}, \"cpu\": {\"name\": \"Intel64 Family 6 Model 158 Stepping 10, GenuineIntel\", \"cores\": 12, \"freqency\": 3696.0}, \"python\": {\"numpy\": \"1.18.3\", \"tensorflow\": {\"visible_gpu\": [\"/physical_device:GPU:0\"], \"version\": \"2.2.0\"}, \"cupy\": \"7.2.0\"}, \"gpu\": []}, \"test_name\": \"TSP1D\", \"test_type\": \"Problem\", \"ts\": 1590167246}, {\"avg_time\": 0.022938648859659832, \"backend\": \"tensorflow-cpu\", \"evoflow_version\": \"0.4.1\", \"generations\": 10, \"group\": \"TSP\", \"input_size\": 500, \"max_time\": 0.02393627166748047, \"min_time\": 0.021941423416137695, \"name\": \"1D\", \"num_runs\": 3, \"shape\": [50, 10], \"shape_str\": \"50x10\", \"std_time\": 0.0008143934368166775, \"system\": {\"os\": {\"name\": \"Windows\", \"version\": \"10.0.18362\"}, \"memory\": {\"unit\": \"MB\", \"used\": 15807, \"total\": 65451}, \"cpu\": {\"name\": \"Intel64 Family 6 Model 158 Stepping 10, GenuineIntel\", \"cores\": 12, \"freqency\": 3696.0}, \"python\": {\"numpy\": \"1.18.3\", \"tensorflow\": {\"visible_gpu\": [], \"version\": \"2.2.0\"}, \"cupy\": \"7.2.0\"}, \"gpu\": []}, \"test_name\": \"TSP1D\", \"test_type\": \"Problem\", \"ts\": 1590167261}, {\"avg_time\": 0.03889600435892741, \"backend\": \"tensorflow-gpu\", \"evoflow_version\": \"0.4.1\", \"generations\": 10, \"group\": \"TSP\", \"input_size\": 500, \"max_time\": 0.039893388748168945, \"min_time\": 0.03789854049682617, \"name\": \"1D\", \"num_runs\": 3, \"shape\": [50, 10], \"shape_str\": \"50x10\", \"std_time\": 0.0008143933902843604, \"system\": {\"os\": {\"name\": \"Windows\", \"version\": \"10.0.18362\"}, \"memory\": {\"unit\": \"MB\", \"used\": 15765, \"total\": 65451}, \"cpu\": {\"name\": \"Intel64 Family 6 Model 158 Stepping 10, GenuineIntel\", \"cores\": 12, \"freqency\": 3696.0}, \"python\": {\"numpy\": \"1.18.3\", \"tensorflow\": {\"visible_gpu\": [\"/physical_device:GPU:0\"], \"version\": \"2.2.0\"}, \"cupy\": \"7.2.0\"}, \"gpu\": [{\"memory\": {\"unit\": \"MB\", \"total\": 11264, \"used\": 1471}, \"temperature\": {\"unit\": \"C\"}, \"driver\": \"445.87\", \"index\": \"0\", \"name\": \"GeForce RTX 2080 Ti\", \"value\": \"58\", \"usage\": \"0\"}]}, \"test_name\": \"TSP1D\", \"test_type\": \"Problem\", \"ts\": 1590167273}, {\"avg_time\": 0.11203376452128093, \"backend\": \"cupy\", \"evoflow_version\": \"0.4.1\", \"generations\": 10, \"group\": \"TSP\", \"input_size\": 12500, \"max_time\": 0.11269879341125488, \"min_time\": 0.11070394515991211, \"name\": \"1D\", \"num_runs\": 3, \"shape\": [250, 50], \"shape_str\": \"250x50\", \"std_time\": 0.0009403242932146254, \"system\": {\"os\": {\"name\": \"Windows\", \"version\": \"10.0.18362\"}, \"memory\": {\"unit\": \"MB\", \"used\": 15815, \"total\": 65451}, \"cpu\": {\"name\": \"Intel64 Family 6 Model 158 Stepping 10, GenuineIntel\", \"cores\": 12, \"freqency\": 3696.0}, \"python\": {\"numpy\": \"1.18.3\", \"tensorflow\": {\"visible_gpu\": [\"/physical_device:GPU:0\"], \"version\": \"2.2.0\"}, \"cupy\": \"7.2.0\"}, \"gpu\": [{\"memory\": {\"unit\": \"MB\", \"total\": 11264, \"used\": 1475}, \"temperature\": {\"unit\": \"C\"}, \"driver\": \"445.87\", \"index\": \"0\", \"name\": \"GeForce RTX 2080 Ti\", \"value\": \"60\", \"usage\": \"1\"}]}, \"test_name\": \"TSP1D\", \"test_type\": \"Problem\", \"ts\": 1590167235}, {\"avg_time\": 0.02792525291442871, \"backend\": \"numpy\", \"evoflow_version\": \"0.4.1\", \"generations\": 10, \"group\": \"TSP\", \"input_size\": 12500, \"max_time\": 0.02792525291442871, \"min_time\": 0.02792525291442871, \"name\": \"1D\", \"num_runs\": 3, \"shape\": [250, 50], \"shape_str\": \"250x50\", \"std_time\": 0.0, \"system\": {\"os\": {\"name\": \"Windows\", \"version\": \"10.0.18362\"}, \"memory\": {\"unit\": \"MB\", \"used\": 15771, \"total\": 65451}, \"cpu\": {\"name\": \"Intel64 Family 6 Model 158 Stepping 10, GenuineIntel\", \"cores\": 12, \"freqency\": 3696.0}, \"python\": {\"numpy\": \"1.18.3\", \"tensorflow\": {\"visible_gpu\": [\"/physical_device:GPU:0\"], \"version\": \"2.2.0\"}, \"cupy\": \"7.2.0\"}, \"gpu\": []}, \"test_name\": \"TSP1D\", \"test_type\": \"Problem\", \"ts\": 1590167246}, {\"avg_time\": 0.029254992802937824, \"backend\": \"tensorflow-cpu\", \"evoflow_version\": \"0.4.1\", \"generations\": 10, \"group\": \"TSP\", \"input_size\": 12500, \"max_time\": 0.03091740608215332, \"min_time\": 0.027925491333007812, \"name\": \"1D\", \"num_runs\": 3, \"shape\": [250, 50], \"shape_str\": \"250x50\", \"std_time\": 0.001243921533192483, \"system\": {\"os\": {\"name\": \"Windows\", \"version\": \"10.0.18362\"}, \"memory\": {\"unit\": \"MB\", \"used\": 15807, \"total\": 65451}, \"cpu\": {\"name\": \"Intel64 Family 6 Model 158 Stepping 10, GenuineIntel\", \"cores\": 12, \"freqency\": 3696.0}, \"python\": {\"numpy\": \"1.18.3\", \"tensorflow\": {\"visible_gpu\": [], \"version\": \"2.2.0\"}, \"cupy\": \"7.2.0\"}, \"gpu\": []}, \"test_name\": \"TSP1D\", \"test_type\": \"Problem\", \"ts\": 1590167261}, {\"avg_time\": 0.043217738469441734, \"backend\": \"tensorflow-gpu\", \"evoflow_version\": \"0.4.1\", \"generations\": 10, \"group\": \"TSP\", \"input_size\": 12500, \"max_time\": 0.04388260841369629, \"min_time\": 0.04288530349731445, \"name\": \"1D\", \"num_runs\": 3, \"shape\": [250, 50], \"shape_str\": \"250x50\", \"std_time\": 0.0004701340461895193, \"system\": {\"os\": {\"name\": \"Windows\", \"version\": \"10.0.18362\"}, \"memory\": {\"unit\": \"MB\", \"used\": 15765, \"total\": 65451}, \"cpu\": {\"name\": \"Intel64 Family 6 Model 158 Stepping 10, GenuineIntel\", \"cores\": 12, \"freqency\": 3696.0}, \"python\": {\"numpy\": \"1.18.3\", \"tensorflow\": {\"visible_gpu\": [\"/physical_device:GPU:0\"], \"version\": \"2.2.0\"}, \"cupy\": \"7.2.0\"}, \"gpu\": [{\"memory\": {\"unit\": \"MB\", \"total\": 11264, \"used\": 1471}, \"temperature\": {\"unit\": \"C\"}, \"driver\": \"445.87\", \"index\": \"0\", \"name\": \"GeForce RTX 2080 Ti\", \"value\": \"58\", \"usage\": \"0\"}]}, \"test_name\": \"TSP1D\", \"test_type\": \"Problem\", \"ts\": 1590167273}, {\"avg_time\": 0.1595731576283773, \"backend\": \"cupy\", \"evoflow_version\": \"0.4.1\", \"generations\": 10, \"group\": \"TSP\", \"input_size\": 50000, \"max_time\": 0.16156768798828125, \"min_time\": 0.15658140182495117, \"name\": \"1D\", \"num_runs\": 3, \"shape\": [500, 100], \"shape_str\": \"500x100\", \"std_time\": 0.0021543144871876974, \"system\": {\"os\": {\"name\": \"Windows\", \"version\": \"10.0.18362\"}, \"memory\": {\"unit\": \"MB\", \"used\": 15815, \"total\": 65451}, \"cpu\": {\"name\": \"Intel64 Family 6 Model 158 Stepping 10, GenuineIntel\", \"cores\": 12, \"freqency\": 3696.0}, \"python\": {\"numpy\": \"1.18.3\", \"tensorflow\": {\"visible_gpu\": [\"/physical_device:GPU:0\"], \"version\": \"2.2.0\"}, \"cupy\": \"7.2.0\"}, \"gpu\": [{\"memory\": {\"unit\": \"MB\", \"total\": 11264, \"used\": 1475}, \"temperature\": {\"unit\": \"C\"}, \"driver\": \"445.87\", \"index\": \"0\", \"name\": \"GeForce RTX 2080 Ti\", \"value\": \"60\", \"usage\": \"1\"}]}, \"test_name\": \"TSP1D\", \"test_type\": \"Problem\", \"ts\": 1590167235}, {\"avg_time\": 0.05319134394327799, \"backend\": \"numpy\", \"evoflow_version\": \"0.4.1\", \"generations\": 10, \"group\": \"TSP\", \"input_size\": 50000, \"max_time\": 0.05485367774963379, \"min_time\": 0.05186176300048828, \"name\": \"1D\", \"num_runs\": 3, \"shape\": [500, 100], \"shape_str\": \"500x100\", \"std_time\": 0.0012439002686971269, \"system\": {\"os\": {\"name\": \"Windows\", \"version\": \"10.0.18362\"}, \"memory\": {\"unit\": \"MB\", \"used\": 15771, \"total\": 65451}, \"cpu\": {\"name\": \"Intel64 Family 6 Model 158 Stepping 10, GenuineIntel\", \"cores\": 12, \"freqency\": 3696.0}, \"python\": {\"numpy\": \"1.18.3\", \"tensorflow\": {\"visible_gpu\": [\"/physical_device:GPU:0\"], \"version\": \"2.2.0\"}, \"cupy\": \"7.2.0\"}, \"gpu\": []}, \"test_name\": \"TSP1D\", \"test_type\": \"Problem\", \"ts\": 1590167246}, {\"avg_time\": 0.03557149569193522, \"backend\": \"tensorflow-cpu\", \"evoflow_version\": \"0.4.1\", \"generations\": 10, \"group\": \"TSP\", \"input_size\": 50000, \"max_time\": 0.03690171241760254, \"min_time\": 0.03490614891052246, \"name\": \"1D\", \"num_runs\": 3, \"shape\": [500, 100], \"shape_str\": \"500x100\", \"std_time\": 0.0009406052873113953, \"system\": {\"os\": {\"name\": \"Windows\", \"version\": \"10.0.18362\"}, \"memory\": {\"unit\": \"MB\", \"used\": 15807, \"total\": 65451}, \"cpu\": {\"name\": \"Intel64 Family 6 Model 158 Stepping 10, GenuineIntel\", \"cores\": 12, \"freqency\": 3696.0}, \"python\": {\"numpy\": \"1.18.3\", \"tensorflow\": {\"visible_gpu\": [], \"version\": \"2.2.0\"}, \"cupy\": \"7.2.0\"}, \"gpu\": []}, \"test_name\": \"TSP1D\", \"test_type\": \"Problem\", \"ts\": 1590167261}, {\"avg_time\": 0.05352346102396647, \"backend\": \"tensorflow-gpu\", \"evoflow_version\": \"0.4.1\", \"generations\": 10, \"group\": \"TSP\", \"input_size\": 50000, \"max_time\": 0.05385613441467285, \"min_time\": 0.052858591079711914, \"name\": \"1D\", \"num_runs\": 3, \"shape\": [500, 100], \"shape_str\": \"500x100\", \"std_time\": 0.00047013408649250444, \"system\": {\"os\": {\"name\": \"Windows\", \"version\": \"10.0.18362\"}, \"memory\": {\"unit\": \"MB\", \"used\": 15765, \"total\": 65451}, \"cpu\": {\"name\": \"Intel64 Family 6 Model 158 Stepping 10, GenuineIntel\", \"cores\": 12, \"freqency\": 3696.0}, \"python\": {\"numpy\": \"1.18.3\", \"tensorflow\": {\"visible_gpu\": [\"/physical_device:GPU:0\"], \"version\": \"2.2.0\"}, \"cupy\": \"7.2.0\"}, \"gpu\": [{\"memory\": {\"unit\": \"MB\", \"total\": 11264, \"used\": 1471}, \"temperature\": {\"unit\": \"C\"}, \"driver\": \"445.87\", \"index\": \"0\", \"name\": \"GeForce RTX 2080 Ti\", \"value\": \"58\", \"usage\": \"0\"}]}, \"test_name\": \"TSP1D\", \"test_type\": \"Problem\", \"ts\": 1590167273}, {\"avg_time\": 0.1412958304087321, \"backend\": \"cupy\", \"evoflow_version\": \"0.4.1\", \"generations\": 10, \"group\": \"TSP\", \"input_size\": 200000, \"max_time\": 0.14562225341796875, \"min_time\": 0.13863873481750488, \"name\": \"1D\", \"num_runs\": 3, \"shape\": [1000, 200], \"shape_str\": \"1000x200\", \"std_time\": 0.003085706135516337, \"system\": {\"os\": {\"name\": \"Windows\", \"version\": \"10.0.18362\"}, \"memory\": {\"unit\": \"MB\", \"used\": 15815, \"total\": 65451}, \"cpu\": {\"name\": \"Intel64 Family 6 Model 158 Stepping 10, GenuineIntel\", \"cores\": 12, \"freqency\": 3696.0}, \"python\": {\"numpy\": \"1.18.3\", \"tensorflow\": {\"visible_gpu\": [\"/physical_device:GPU:0\"], \"version\": \"2.2.0\"}, \"cupy\": \"7.2.0\"}, \"gpu\": [{\"memory\": {\"unit\": \"MB\", \"total\": 11264, \"used\": 1475}, \"temperature\": {\"unit\": \"C\"}, \"driver\": \"445.87\", \"index\": \"0\", \"name\": \"GeForce RTX 2080 Ti\", \"value\": \"60\", \"usage\": \"1\"}]}, \"test_name\": \"TSP1D\", \"test_type\": \"Problem\", \"ts\": 1590167235}, {\"avg_time\": 0.15026450157165527, \"backend\": \"numpy\", \"evoflow_version\": \"0.4.1\", \"generations\": 10, \"group\": \"TSP\", \"input_size\": 200000, \"max_time\": 0.1545858383178711, \"min_time\": 0.14760494232177734, \"name\": \"1D\", \"num_runs\": 3, \"shape\": [1000, 200], \"shape_str\": \"1000x200\", \"std_time\": 0.003082678009195977, \"system\": {\"os\": {\"name\": \"Windows\", \"version\": \"10.0.18362\"}, \"memory\": {\"unit\": \"MB\", \"used\": 15771, \"total\": 65451}, \"cpu\": {\"name\": \"Intel64 Family 6 Model 158 Stepping 10, GenuineIntel\", \"cores\": 12, \"freqency\": 3696.0}, \"python\": {\"numpy\": \"1.18.3\", \"tensorflow\": {\"visible_gpu\": [\"/physical_device:GPU:0\"], \"version\": \"2.2.0\"}, \"cupy\": \"7.2.0\"}, \"gpu\": []}, \"test_name\": \"TSP1D\", \"test_type\": \"Problem\", \"ts\": 1590167246}, {\"avg_time\": 0.07579723993937175, \"backend\": \"tensorflow-cpu\", \"evoflow_version\": \"0.4.1\", \"generations\": 10, \"group\": \"TSP\", \"input_size\": 200000, \"max_time\": 0.07878899574279785, \"min_time\": 0.07280540466308594, \"name\": \"1D\", \"num_runs\": 3, \"shape\": [1000, 200], \"shape_str\": \"1000x200\", \"std_time\": 0.0024427908297735943, \"system\": {\"os\": {\"name\": \"Windows\", \"version\": \"10.0.18362\"}, \"memory\": {\"unit\": \"MB\", \"used\": 15807, \"total\": 65451}, \"cpu\": {\"name\": \"Intel64 Family 6 Model 158 Stepping 10, GenuineIntel\", \"cores\": 12, \"freqency\": 3696.0}, \"python\": {\"numpy\": \"1.18.3\", \"tensorflow\": {\"visible_gpu\": [], \"version\": \"2.2.0\"}, \"cupy\": \"7.2.0\"}, \"gpu\": []}, \"test_name\": \"TSP1D\", \"test_type\": \"Problem\", \"ts\": 1590167261}, {\"avg_time\": 0.1030577023824056, \"backend\": \"tensorflow-gpu\", \"evoflow_version\": \"0.4.1\", \"generations\": 10, \"group\": \"TSP\", \"input_size\": 200000, \"max_time\": 0.10471987724304199, \"min_time\": 0.10172796249389648, \"name\": \"1D\", \"num_runs\": 3, \"shape\": [1000, 200], \"shape_str\": \"1000x200\", \"std_time\": 0.0012438577690820215, \"system\": {\"os\": {\"name\": \"Windows\", \"version\": \"10.0.18362\"}, \"memory\": {\"unit\": \"MB\", \"used\": 15765, \"total\": 65451}, \"cpu\": {\"name\": \"Intel64 Family 6 Model 158 Stepping 10, GenuineIntel\", \"cores\": 12, \"freqency\": 3696.0}, \"python\": {\"numpy\": \"1.18.3\", \"tensorflow\": {\"visible_gpu\": [\"/physical_device:GPU:0\"], \"version\": \"2.2.0\"}, \"cupy\": \"7.2.0\"}, \"gpu\": [{\"memory\": {\"unit\": \"MB\", \"total\": 11264, \"used\": 1471}, \"temperature\": {\"unit\": \"C\"}, \"driver\": \"445.87\", \"index\": \"0\", \"name\": \"GeForce RTX 2080 Ti\", \"value\": \"58\", \"usage\": \"0\"}]}, \"test_name\": \"TSP1D\", \"test_type\": \"Problem\", \"ts\": 1590167273}]}}, {\"mode\": \"vega-lite\"});\n",
       "</script>"
      ],
      "text/plain": [
       "alt.FacetChart(...)"
      ]
     },
     "execution_count": 62,
     "metadata": {},
     "output_type": "execute_result"
    }
   ],
   "source": [
    "display_chart('TSP')"
   ]
  },
  {
   "cell_type": "code",
   "execution_count": 63,
   "metadata": {},
   "outputs": [
    {
     "data": {
      "text/html": [
       "<br/><b>1D</b>"
      ],
      "text/plain": [
       "<IPython.core.display.HTML object>"
      ]
     },
     "metadata": {},
     "output_type": "display_data"
    },
    {
     "data": {
      "text/html": [
       "<table>\n",
       "<thead>\n",
       "<tr><th>shape   </th><th>numpy        </th><th>tf-cpu       </th><th>tf-gpu       </th><th>cupy         </th></tr>\n",
       "</thead>\n",
       "<tbody>\n",
       "<tr><td>50x10   </td><td>0.01 (1.00x) </td><td>0.023 (0.43x)</td><td>0.039 (0.26x)</td><td>0.081 (0.12x)</td></tr>\n",
       "<tr><td>250x50  </td><td>0.028 (1.00x)</td><td>0.029 (0.95x)</td><td>0.043 (0.65x)</td><td>0.112 (0.25x)</td></tr>\n",
       "<tr><td>500x100 </td><td>0.053 (1.00x)</td><td>0.036 (1.50x)</td><td>0.054 (0.99x)</td><td>0.16 (0.33x) </td></tr>\n",
       "<tr><td>1000x200</td><td>0.15 (1.00x) </td><td>0.076 (1.98x)</td><td>0.103 (1.46x)</td><td>0.141 (1.06x)</td></tr>\n",
       "</tbody>\n",
       "</table>"
      ],
      "text/plain": [
       "<IPython.core.display.HTML object>"
      ]
     },
     "metadata": {},
     "output_type": "display_data"
    }
   ],
   "source": [
    "display_table('TSP')"
   ]
  },
  {
   "cell_type": "markdown",
   "metadata": {},
   "source": [
    "# Evolution OPs"
   ]
  },
  {
   "cell_type": "code",
   "execution_count": 64,
   "metadata": {},
   "outputs": [
    {
     "data": {
      "text/html": [
       "\n",
       "<div id=\"altair-viz-2c6c476c9b9a46458f38b86a9e4b841b\"></div>\n",
       "<script type=\"text/javascript\">\n",
       "  (function(spec, embedOpt){\n",
       "    const outputDiv = document.getElementById(\"altair-viz-2c6c476c9b9a46458f38b86a9e4b841b\");\n",
       "    const paths = {\n",
       "      \"vega\": \"https://cdn.jsdelivr.net/npm//vega@5?noext\",\n",
       "      \"vega-lib\": \"https://cdn.jsdelivr.net/npm//vega-lib?noext\",\n",
       "      \"vega-lite\": \"https://cdn.jsdelivr.net/npm//vega-lite@4.0.2?noext\",\n",
       "      \"vega-embed\": \"https://cdn.jsdelivr.net/npm//vega-embed@6?noext\",\n",
       "    };\n",
       "\n",
       "    function loadScript(lib) {\n",
       "      return new Promise(function(resolve, reject) {\n",
       "        var s = document.createElement('script');\n",
       "        s.src = paths[lib];\n",
       "        s.async = true;\n",
       "        s.onload = () => resolve(paths[lib]);\n",
       "        s.onerror = () => reject(`Error loading script: ${paths[lib]}`);\n",
       "        document.getElementsByTagName(\"head\")[0].appendChild(s);\n",
       "      });\n",
       "    }\n",
       "\n",
       "    function showError(err) {\n",
       "      outputDiv.innerHTML = `<div class=\"error\" style=\"color:red;\">${err}</div>`;\n",
       "      throw err;\n",
       "    }\n",
       "\n",
       "    function displayChart(vegaEmbed) {\n",
       "      vegaEmbed(outputDiv, spec, embedOpt)\n",
       "        .catch(err => showError(`Javascript Error: ${err.message}<br>This usually means there's a typo in your chart specification. See the javascript console for the full traceback.`));\n",
       "    }\n",
       "\n",
       "    if(typeof define === \"function\" && define.amd) {\n",
       "      requirejs.config({paths});\n",
       "      require([\"vega-embed\"], displayChart, err => showError(`Error loading script: ${err.message}`));\n",
       "    } else if (typeof vegaEmbed === \"function\") {\n",
       "      displayChart(vegaEmbed);\n",
       "    } else {\n",
       "      loadScript(\"vega\")\n",
       "        .then(() => loadScript(\"vega-lite\"))\n",
       "        .then(() => loadScript(\"vega-embed\"))\n",
       "        .catch(showError)\n",
       "        .then(() => displayChart(vegaEmbed));\n",
       "    }\n",
       "  })({\"config\": {\"view\": {\"continuousWidth\": 400, \"continuousHeight\": 300}, \"title\": {\"anchor\": \"middle\", \"fontSize\": 20, \"offset\": 5, \"orient\": \"top\"}}, \"data\": {\"name\": \"data-87141469ee6067c7ec2311aa26c59a95\"}, \"facet\": {\"column\": {\"type\": \"nominal\", \"field\": \"name\"}}, \"spec\": {\"mark\": \"bar\", \"encoding\": {\"color\": {\"type\": \"nominal\", \"field\": \"backend\", \"legend\": null}, \"column\": {\"type\": \"nominal\", \"field\": \"shape_str\", \"sort\": {\"field\": \"input_size\", \"order\": \"ascending\"}, \"title\": \"\"}, \"x\": {\"type\": \"nominal\", \"axis\": {\"title\": \"\"}, \"field\": \"backend\"}, \"y\": {\"type\": \"quantitative\", \"axis\": {\"title\": \"\"}, \"field\": \"avg_time\", \"sort\": \"-x\"}}, \"resolve\": {\"scale\": {\"y\": \"independent\"}}, \"title\": \"\"}, \"spacing\": 50, \"title\": \"RandomMutation\", \"$schema\": \"https://vega.github.io/schema/vega-lite/v4.0.2.json\", \"datasets\": {\"data-87141469ee6067c7ec2311aa26c59a95\": [{\"avg_time\": 0.0016620953877766926, \"backend\": \"cupy\", \"evoflow_version\": \"0.4.1\", \"generations\": 10, \"group\": \"RandomMutation\", \"input_size\": 10000, \"max_time\": 0.002991914749145508, \"min_time\": 0.0009970664978027344, \"name\": \"1D\", \"num_runs\": 3, \"shape\": [100, 100], \"shape_str\": \"100x100\", \"std_time\": 0.0009403242932146254, \"system\": {\"os\": {\"name\": \"Windows\", \"version\": \"10.0.18362\"}, \"memory\": {\"unit\": \"MB\", \"used\": 15815, \"total\": 65451}, \"cpu\": {\"name\": \"Intel64 Family 6 Model 158 Stepping 10, GenuineIntel\", \"cores\": 12, \"freqency\": 3696.0}, \"python\": {\"numpy\": \"1.18.3\", \"tensorflow\": {\"visible_gpu\": [\"/physical_device:GPU:0\"], \"version\": \"2.2.0\"}, \"cupy\": \"7.2.0\"}, \"gpu\": [{\"memory\": {\"unit\": \"MB\", \"total\": 11264, \"used\": 1475}, \"temperature\": {\"unit\": \"C\"}, \"driver\": \"445.87\", \"index\": \"0\", \"name\": \"GeForce RTX 2080 Ti\", \"value\": \"60\", \"usage\": \"1\"}]}, \"test_name\": \"RandomMutation1D\", \"test_type\": \"OP\", \"ts\": 1590167235}, {\"avg_time\": 0.002991914749145508, \"backend\": \"tensorflow-gpu\", \"evoflow_version\": \"0.4.1\", \"generations\": 10, \"group\": \"RandomMutation\", \"input_size\": 10000, \"max_time\": 0.007978439331054688, \"min_time\": 0.0, \"name\": \"1D\", \"num_runs\": 3, \"shape\": [100, 100], \"shape_str\": \"100x100\", \"std_time\": 0.003549434211114802, \"system\": {\"os\": {\"name\": \"Windows\", \"version\": \"10.0.18362\"}, \"memory\": {\"unit\": \"MB\", \"used\": 15765, \"total\": 65451}, \"cpu\": {\"name\": \"Intel64 Family 6 Model 158 Stepping 10, GenuineIntel\", \"cores\": 12, \"freqency\": 3696.0}, \"python\": {\"numpy\": \"1.18.3\", \"tensorflow\": {\"visible_gpu\": [\"/physical_device:GPU:0\"], \"version\": \"2.2.0\"}, \"cupy\": \"7.2.0\"}, \"gpu\": [{\"memory\": {\"unit\": \"MB\", \"total\": 11264, \"used\": 1471}, \"temperature\": {\"unit\": \"C\"}, \"driver\": \"445.87\", \"index\": \"0\", \"name\": \"GeForce RTX 2080 Ti\", \"value\": \"58\", \"usage\": \"0\"}]}, \"test_name\": \"RandomMutation1D\", \"test_type\": \"OP\", \"ts\": 1590167273}, {\"avg_time\": 0.000997304916381836, \"backend\": \"cupy\", \"evoflow_version\": \"0.4.1\", \"generations\": 10, \"group\": \"RandomMutation\", \"input_size\": 10000, \"max_time\": 0.001994609832763672, \"min_time\": 0.0, \"name\": \"2D\", \"num_runs\": 3, \"shape\": [100, 10, 10], \"shape_str\": \"100x10x10\", \"std_time\": 0.0008142960543681807, \"system\": {\"os\": {\"name\": \"Windows\", \"version\": \"10.0.18362\"}, \"memory\": {\"unit\": \"MB\", \"used\": 15815, \"total\": 65451}, \"cpu\": {\"name\": \"Intel64 Family 6 Model 158 Stepping 10, GenuineIntel\", \"cores\": 12, \"freqency\": 3696.0}, \"python\": {\"numpy\": \"1.18.3\", \"tensorflow\": {\"visible_gpu\": [\"/physical_device:GPU:0\"], \"version\": \"2.2.0\"}, \"cupy\": \"7.2.0\"}, \"gpu\": [{\"memory\": {\"unit\": \"MB\", \"total\": 11264, \"used\": 1475}, \"temperature\": {\"unit\": \"C\"}, \"driver\": \"445.87\", \"index\": \"0\", \"name\": \"GeForce RTX 2080 Ti\", \"value\": \"60\", \"usage\": \"1\"}]}, \"test_name\": \"RandomMutation2D\", \"test_type\": \"OP\", \"ts\": 1590167235}, {\"avg_time\": 0.0006648699442545573, \"backend\": \"tensorflow-cpu\", \"evoflow_version\": \"0.4.1\", \"generations\": 10, \"group\": \"RandomMutation\", \"input_size\": 10000, \"max_time\": 0.000997304916381836, \"min_time\": 0.0, \"name\": \"2D\", \"num_runs\": 3, \"shape\": [100, 10, 10], \"shape_str\": \"100x10x10\", \"std_time\": 0.0004701340461895193, \"system\": {\"os\": {\"name\": \"Windows\", \"version\": \"10.0.18362\"}, \"memory\": {\"unit\": \"MB\", \"used\": 15807, \"total\": 65451}, \"cpu\": {\"name\": \"Intel64 Family 6 Model 158 Stepping 10, GenuineIntel\", \"cores\": 12, \"freqency\": 3696.0}, \"python\": {\"numpy\": \"1.18.3\", \"tensorflow\": {\"visible_gpu\": [], \"version\": \"2.2.0\"}, \"cupy\": \"7.2.0\"}, \"gpu\": []}, \"test_name\": \"RandomMutation2D\", \"test_type\": \"OP\", \"ts\": 1590167261}, {\"avg_time\": 0.0009971459706624348, \"backend\": \"tensorflow-cpu\", \"evoflow_version\": \"0.4.1\", \"generations\": 10, \"group\": \"RandomMutation\", \"input_size\": 10000, \"max_time\": 0.000997304916381836, \"min_time\": 0.0009970664978027344, \"name\": \"1D\", \"num_runs\": 3, \"shape\": [100, 100], \"shape_str\": \"100x100\", \"std_time\": 1.1239159602905075e-07, \"system\": {\"os\": {\"name\": \"Windows\", \"version\": \"10.0.18362\"}, \"memory\": {\"unit\": \"MB\", \"used\": 15807, \"total\": 65451}, \"cpu\": {\"name\": \"Intel64 Family 6 Model 158 Stepping 10, GenuineIntel\", \"cores\": 12, \"freqency\": 3696.0}, \"python\": {\"numpy\": \"1.18.3\", \"tensorflow\": {\"visible_gpu\": [], \"version\": \"2.2.0\"}, \"cupy\": \"7.2.0\"}, \"gpu\": []}, \"test_name\": \"RandomMutation1D\", \"test_type\": \"OP\", \"ts\": 1590167261}, {\"avg_time\": 0.0003323554992675781, \"backend\": \"numpy\", \"evoflow_version\": \"0.4.1\", \"generations\": 10, \"group\": \"RandomMutation\", \"input_size\": 10000, \"max_time\": 0.0009970664978027344, \"min_time\": 0.0, \"name\": \"1D\", \"num_runs\": 3, \"shape\": [100, 100], \"shape_str\": \"100x100\", \"std_time\": 0.00047002165459349024, \"system\": {\"os\": {\"name\": \"Windows\", \"version\": \"10.0.18362\"}, \"memory\": {\"unit\": \"MB\", \"used\": 15771, \"total\": 65451}, \"cpu\": {\"name\": \"Intel64 Family 6 Model 158 Stepping 10, GenuineIntel\", \"cores\": 12, \"freqency\": 3696.0}, \"python\": {\"numpy\": \"1.18.3\", \"tensorflow\": {\"visible_gpu\": [\"/physical_device:GPU:0\"], \"version\": \"2.2.0\"}, \"cupy\": \"7.2.0\"}, \"gpu\": []}, \"test_name\": \"RandomMutation1D\", \"test_type\": \"OP\", \"ts\": 1590167246}, {\"avg_time\": 0.0009973843892415364, \"backend\": \"tensorflow-gpu\", \"evoflow_version\": \"0.4.1\", \"generations\": 10, \"group\": \"RandomMutation\", \"input_size\": 10000, \"max_time\": 0.0009975433349609375, \"min_time\": 0.000997304916381836, \"name\": \"2D\", \"num_runs\": 3, \"shape\": [100, 10, 10], \"shape_str\": \"100x10x10\", \"std_time\": 1.1239159602905075e-07, \"system\": {\"os\": {\"name\": \"Windows\", \"version\": \"10.0.18362\"}, \"memory\": {\"unit\": \"MB\", \"used\": 15765, \"total\": 65451}, \"cpu\": {\"name\": \"Intel64 Family 6 Model 158 Stepping 10, GenuineIntel\", \"cores\": 12, \"freqency\": 3696.0}, \"python\": {\"numpy\": \"1.18.3\", \"tensorflow\": {\"visible_gpu\": [\"/physical_device:GPU:0\"], \"version\": \"2.2.0\"}, \"cupy\": \"7.2.0\"}, \"gpu\": [{\"memory\": {\"unit\": \"MB\", \"total\": 11264, \"used\": 1471}, \"temperature\": {\"unit\": \"C\"}, \"driver\": \"445.87\", \"index\": \"0\", \"name\": \"GeForce RTX 2080 Ti\", \"value\": \"58\", \"usage\": \"0\"}]}, \"test_name\": \"RandomMutation2D\", \"test_type\": \"OP\", \"ts\": 1590167273}, {\"avg_time\": 0.00033243497212727863, \"backend\": \"numpy\", \"evoflow_version\": \"0.4.1\", \"generations\": 10, \"group\": \"RandomMutation\", \"input_size\": 10000, \"max_time\": 0.000997304916381836, \"min_time\": 0.0, \"name\": \"2D\", \"num_runs\": 3, \"shape\": [100, 10, 10], \"shape_str\": \"100x10x10\", \"std_time\": 0.0004701340461895193, \"system\": {\"os\": {\"name\": \"Windows\", \"version\": \"10.0.18362\"}, \"memory\": {\"unit\": \"MB\", \"used\": 15771, \"total\": 65451}, \"cpu\": {\"name\": \"Intel64 Family 6 Model 158 Stepping 10, GenuineIntel\", \"cores\": 12, \"freqency\": 3696.0}, \"python\": {\"numpy\": \"1.18.3\", \"tensorflow\": {\"visible_gpu\": [\"/physical_device:GPU:0\"], \"version\": \"2.2.0\"}, \"cupy\": \"7.2.0\"}, \"gpu\": []}, \"test_name\": \"RandomMutation2D\", \"test_type\": \"OP\", \"ts\": 1590167246}, {\"avg_time\": 0.0023270448048909507, \"backend\": \"tensorflow-gpu\", \"evoflow_version\": \"0.4.1\", \"generations\": 10, \"group\": \"RandomMutation\", \"input_size\": 100000, \"max_time\": 0.002991914749145508, \"min_time\": 0.001994609832763672, \"name\": \"1D\", \"num_runs\": 3, \"shape\": [100, 1000], \"shape_str\": \"100x1000\", \"std_time\": 0.00047013404618951926, \"system\": {\"os\": {\"name\": \"Windows\", \"version\": \"10.0.18362\"}, \"memory\": {\"unit\": \"MB\", \"used\": 15765, \"total\": 65451}, \"cpu\": {\"name\": \"Intel64 Family 6 Model 158 Stepping 10, GenuineIntel\", \"cores\": 12, \"freqency\": 3696.0}, \"python\": {\"numpy\": \"1.18.3\", \"tensorflow\": {\"visible_gpu\": [\"/physical_device:GPU:0\"], \"version\": \"2.2.0\"}, \"cupy\": \"7.2.0\"}, \"gpu\": [{\"memory\": {\"unit\": \"MB\", \"total\": 11264, \"used\": 1471}, \"temperature\": {\"unit\": \"C\"}, \"driver\": \"445.87\", \"index\": \"0\", \"name\": \"GeForce RTX 2080 Ti\", \"value\": \"58\", \"usage\": \"0\"}]}, \"test_name\": \"RandomMutation1D\", \"test_type\": \"OP\", \"ts\": 1590167273}, {\"avg_time\": 0.0016621748606363933, \"backend\": \"tensorflow-cpu\", \"evoflow_version\": \"0.4.1\", \"generations\": 10, \"group\": \"RandomMutation\", \"input_size\": 100000, \"max_time\": 0.001994609832763672, \"min_time\": 0.000997304916381836, \"name\": \"3D\", \"num_runs\": 3, \"shape\": [100, 10, 10, 10], \"shape_str\": \"100x10x10x10\", \"std_time\": 0.0004701340461895193, \"system\": {\"os\": {\"name\": \"Windows\", \"version\": \"10.0.18362\"}, \"memory\": {\"unit\": \"MB\", \"used\": 15807, \"total\": 65451}, \"cpu\": {\"name\": \"Intel64 Family 6 Model 158 Stepping 10, GenuineIntel\", \"cores\": 12, \"freqency\": 3696.0}, \"python\": {\"numpy\": \"1.18.3\", \"tensorflow\": {\"visible_gpu\": [], \"version\": \"2.2.0\"}, \"cupy\": \"7.2.0\"}, \"gpu\": []}, \"test_name\": \"RandomMutation3D\", \"test_type\": \"OP\", \"ts\": 1590167261}, {\"avg_time\": 0.0016621748606363933, \"backend\": \"tensorflow-cpu\", \"evoflow_version\": \"0.4.1\", \"generations\": 10, \"group\": \"RandomMutation\", \"input_size\": 100000, \"max_time\": 0.0019948482513427734, \"min_time\": 0.000997304916381836, \"name\": \"2D\", \"num_runs\": 3, \"shape\": [100, 100, 10], \"shape_str\": \"100x100x10\", \"std_time\": 0.00047013408649250444, \"system\": {\"os\": {\"name\": \"Windows\", \"version\": \"10.0.18362\"}, \"memory\": {\"unit\": \"MB\", \"used\": 15807, \"total\": 65451}, \"cpu\": {\"name\": \"Intel64 Family 6 Model 158 Stepping 10, GenuineIntel\", \"cores\": 12, \"freqency\": 3696.0}, \"python\": {\"numpy\": \"1.18.3\", \"tensorflow\": {\"visible_gpu\": [], \"version\": \"2.2.0\"}, \"cupy\": \"7.2.0\"}, \"gpu\": []}, \"test_name\": \"RandomMutation2D\", \"test_type\": \"OP\", \"ts\": 1590167261}, {\"avg_time\": 0.0019946893056233725, \"backend\": \"tensorflow-cpu\", \"evoflow_version\": \"0.4.1\", \"generations\": 10, \"group\": \"RandomMutation\", \"input_size\": 100000, \"max_time\": 0.0019948482513427734, \"min_time\": 0.001994609832763672, \"name\": \"1D\", \"num_runs\": 3, \"shape\": [100, 1000], \"shape_str\": \"100x1000\", \"std_time\": 1.1239159602905075e-07, \"system\": {\"os\": {\"name\": \"Windows\", \"version\": \"10.0.18362\"}, \"memory\": {\"unit\": \"MB\", \"used\": 15807, \"total\": 65451}, \"cpu\": {\"name\": \"Intel64 Family 6 Model 158 Stepping 10, GenuineIntel\", \"cores\": 12, \"freqency\": 3696.0}, \"python\": {\"numpy\": \"1.18.3\", \"tensorflow\": {\"visible_gpu\": [], \"version\": \"2.2.0\"}, \"cupy\": \"7.2.0\"}, \"gpu\": []}, \"test_name\": \"RandomMutation1D\", \"test_type\": \"OP\", \"ts\": 1590167261}, {\"avg_time\": 0.0006649494171142578, \"backend\": \"numpy\", \"evoflow_version\": \"0.4.1\", \"generations\": 10, \"group\": \"RandomMutation\", \"input_size\": 100000, \"max_time\": 0.000997781753540039, \"min_time\": 0.0, \"name\": \"2D\", \"num_runs\": 3, \"shape\": [100, 100, 10], \"shape_str\": \"100x100x10\", \"std_time\": 0.0004701903326584075, \"system\": {\"os\": {\"name\": \"Windows\", \"version\": \"10.0.18362\"}, \"memory\": {\"unit\": \"MB\", \"used\": 15771, \"total\": 65451}, \"cpu\": {\"name\": \"Intel64 Family 6 Model 158 Stepping 10, GenuineIntel\", \"cores\": 12, \"freqency\": 3696.0}, \"python\": {\"numpy\": \"1.18.3\", \"tensorflow\": {\"visible_gpu\": [\"/physical_device:GPU:0\"], \"version\": \"2.2.0\"}, \"cupy\": \"7.2.0\"}, \"gpu\": []}, \"test_name\": \"RandomMutation2D\", \"test_type\": \"OP\", \"ts\": 1590167246}, {\"avg_time\": 0.0006649494171142578, \"backend\": \"numpy\", \"evoflow_version\": \"0.4.1\", \"generations\": 10, \"group\": \"RandomMutation\", \"input_size\": 100000, \"max_time\": 0.0009975433349609375, \"min_time\": 0.0, \"name\": \"3D\", \"num_runs\": 3, \"shape\": [100, 10, 10, 10], \"shape_str\": \"100x10x10x10\", \"std_time\": 0.0004701902520620762, \"system\": {\"os\": {\"name\": \"Windows\", \"version\": \"10.0.18362\"}, \"memory\": {\"unit\": \"MB\", \"used\": 15771, \"total\": 65451}, \"cpu\": {\"name\": \"Intel64 Family 6 Model 158 Stepping 10, GenuineIntel\", \"cores\": 12, \"freqency\": 3696.0}, \"python\": {\"numpy\": \"1.18.3\", \"tensorflow\": {\"visible_gpu\": [\"/physical_device:GPU:0\"], \"version\": \"2.2.0\"}, \"cupy\": \"7.2.0\"}, \"gpu\": []}, \"test_name\": \"RandomMutation3D\", \"test_type\": \"OP\", \"ts\": 1590167246}, {\"avg_time\": 0.0016620953877766926, \"backend\": \"tensorflow-gpu\", \"evoflow_version\": \"0.4.1\", \"generations\": 10, \"group\": \"RandomMutation\", \"input_size\": 100000, \"max_time\": 0.0019948482513427734, \"min_time\": 0.0009970664978027344, \"name\": \"2D\", \"num_runs\": 3, \"shape\": [100, 100, 10], \"shape_str\": \"100x100x10\", \"std_time\": 0.00047024647807890086, \"system\": {\"os\": {\"name\": \"Windows\", \"version\": \"10.0.18362\"}, \"memory\": {\"unit\": \"MB\", \"used\": 15765, \"total\": 65451}, \"cpu\": {\"name\": \"Intel64 Family 6 Model 158 Stepping 10, GenuineIntel\", \"cores\": 12, \"freqency\": 3696.0}, \"python\": {\"numpy\": \"1.18.3\", \"tensorflow\": {\"visible_gpu\": [\"/physical_device:GPU:0\"], \"version\": \"2.2.0\"}, \"cupy\": \"7.2.0\"}, \"gpu\": [{\"memory\": {\"unit\": \"MB\", \"total\": 11264, \"used\": 1471}, \"temperature\": {\"unit\": \"C\"}, \"driver\": \"445.87\", \"index\": \"0\", \"name\": \"GeForce RTX 2080 Ti\", \"value\": \"58\", \"usage\": \"0\"}]}, \"test_name\": \"RandomMutation2D\", \"test_type\": \"OP\", \"ts\": 1590167273}, {\"avg_time\": 0.0013297398885091145, \"backend\": \"numpy\", \"evoflow_version\": \"0.4.1\", \"generations\": 10, \"group\": \"RandomMutation\", \"input_size\": 100000, \"max_time\": 0.001994609832763672, \"min_time\": 0.0009970664978027344, \"name\": \"1D\", \"num_runs\": 3, \"shape\": [100, 1000], \"shape_str\": \"100x1000\", \"std_time\": 0.00047013408649250444, \"system\": {\"os\": {\"name\": \"Windows\", \"version\": \"10.0.18362\"}, \"memory\": {\"unit\": \"MB\", \"used\": 15771, \"total\": 65451}, \"cpu\": {\"name\": \"Intel64 Family 6 Model 158 Stepping 10, GenuineIntel\", \"cores\": 12, \"freqency\": 3696.0}, \"python\": {\"numpy\": \"1.18.3\", \"tensorflow\": {\"visible_gpu\": [\"/physical_device:GPU:0\"], \"version\": \"2.2.0\"}, \"cupy\": \"7.2.0\"}, \"gpu\": []}, \"test_name\": \"RandomMutation1D\", \"test_type\": \"OP\", \"ts\": 1590167246}, {\"avg_time\": 0.0009973843892415364, \"backend\": \"cupy\", \"evoflow_version\": \"0.4.1\", \"generations\": 10, \"group\": \"RandomMutation\", \"input_size\": 100000, \"max_time\": 0.0009980201721191406, \"min_time\": 0.0009970664978027344, \"name\": \"1D\", \"num_runs\": 3, \"shape\": [100, 1000], \"shape_str\": \"100x1000\", \"std_time\": 4.49566384116203e-07, \"system\": {\"os\": {\"name\": \"Windows\", \"version\": \"10.0.18362\"}, \"memory\": {\"unit\": \"MB\", \"used\": 15815, \"total\": 65451}, \"cpu\": {\"name\": \"Intel64 Family 6 Model 158 Stepping 10, GenuineIntel\", \"cores\": 12, \"freqency\": 3696.0}, \"python\": {\"numpy\": \"1.18.3\", \"tensorflow\": {\"visible_gpu\": [\"/physical_device:GPU:0\"], \"version\": \"2.2.0\"}, \"cupy\": \"7.2.0\"}, \"gpu\": [{\"memory\": {\"unit\": \"MB\", \"total\": 11264, \"used\": 1475}, \"temperature\": {\"unit\": \"C\"}, \"driver\": \"445.87\", \"index\": \"0\", \"name\": \"GeForce RTX 2080 Ti\", \"value\": \"60\", \"usage\": \"1\"}]}, \"test_name\": \"RandomMutation1D\", \"test_type\": \"OP\", \"ts\": 1590167235}, {\"avg_time\": 0.0016623338063557942, \"backend\": \"tensorflow-gpu\", \"evoflow_version\": \"0.4.1\", \"generations\": 10, \"group\": \"RandomMutation\", \"input_size\": 100000, \"max_time\": 0.0019948482513427734, \"min_time\": 0.0009975433349609375, \"name\": \"3D\", \"num_runs\": 3, \"shape\": [100, 10, 10, 10], \"shape_str\": \"100x10x10x10\", \"std_time\": 0.00047007786046845593, \"system\": {\"os\": {\"name\": \"Windows\", \"version\": \"10.0.18362\"}, \"memory\": {\"unit\": \"MB\", \"used\": 15765, \"total\": 65451}, \"cpu\": {\"name\": \"Intel64 Family 6 Model 158 Stepping 10, GenuineIntel\", \"cores\": 12, \"freqency\": 3696.0}, \"python\": {\"numpy\": \"1.18.3\", \"tensorflow\": {\"visible_gpu\": [\"/physical_device:GPU:0\"], \"version\": \"2.2.0\"}, \"cupy\": \"7.2.0\"}, \"gpu\": [{\"memory\": {\"unit\": \"MB\", \"total\": 11264, \"used\": 1471}, \"temperature\": {\"unit\": \"C\"}, \"driver\": \"445.87\", \"index\": \"0\", \"name\": \"GeForce RTX 2080 Ti\", \"value\": \"58\", \"usage\": \"0\"}]}, \"test_name\": \"RandomMutation3D\", \"test_type\": \"OP\", \"ts\": 1590167273}, {\"avg_time\": 0.0016621748606363933, \"backend\": \"cupy\", \"evoflow_version\": \"0.4.1\", \"generations\": 10, \"group\": \"RandomMutation\", \"input_size\": 100000, \"max_time\": 0.0019948482513427734, \"min_time\": 0.0009970664978027344, \"name\": \"3D\", \"num_runs\": 3, \"shape\": [100, 10, 10, 10], \"shape_str\": \"100x10x10x10\", \"std_time\": 0.00047030264365569767, \"system\": {\"os\": {\"name\": \"Windows\", \"version\": \"10.0.18362\"}, \"memory\": {\"unit\": \"MB\", \"used\": 15815, \"total\": 65451}, \"cpu\": {\"name\": \"Intel64 Family 6 Model 158 Stepping 10, GenuineIntel\", \"cores\": 12, \"freqency\": 3696.0}, \"python\": {\"numpy\": \"1.18.3\", \"tensorflow\": {\"visible_gpu\": [\"/physical_device:GPU:0\"], \"version\": \"2.2.0\"}, \"cupy\": \"7.2.0\"}, \"gpu\": [{\"memory\": {\"unit\": \"MB\", \"total\": 11264, \"used\": 1475}, \"temperature\": {\"unit\": \"C\"}, \"driver\": \"445.87\", \"index\": \"0\", \"name\": \"GeForce RTX 2080 Ti\", \"value\": \"60\", \"usage\": \"1\"}]}, \"test_name\": \"RandomMutation3D\", \"test_type\": \"OP\", \"ts\": 1590167235}, {\"avg_time\": 0.0009973843892415364, \"backend\": \"cupy\", \"evoflow_version\": \"0.4.1\", \"generations\": 10, \"group\": \"RandomMutation\", \"input_size\": 100000, \"max_time\": 0.0009975433349609375, \"min_time\": 0.0009970664978027344, \"name\": \"2D\", \"num_runs\": 3, \"shape\": [100, 100, 10], \"shape_str\": \"100x100x10\", \"std_time\": 2.247831920581015e-07, \"system\": {\"os\": {\"name\": \"Windows\", \"version\": \"10.0.18362\"}, \"memory\": {\"unit\": \"MB\", \"used\": 15815, \"total\": 65451}, \"cpu\": {\"name\": \"Intel64 Family 6 Model 158 Stepping 10, GenuineIntel\", \"cores\": 12, \"freqency\": 3696.0}, \"python\": {\"numpy\": \"1.18.3\", \"tensorflow\": {\"visible_gpu\": [\"/physical_device:GPU:0\"], \"version\": \"2.2.0\"}, \"cupy\": \"7.2.0\"}, \"gpu\": [{\"memory\": {\"unit\": \"MB\", \"total\": 11264, \"used\": 1475}, \"temperature\": {\"unit\": \"C\"}, \"driver\": \"445.87\", \"index\": \"0\", \"name\": \"GeForce RTX 2080 Ti\", \"value\": \"60\", \"usage\": \"1\"}]}, \"test_name\": \"RandomMutation2D\", \"test_type\": \"OP\", \"ts\": 1590167235}, {\"avg_time\": 0.017287174860636394, \"backend\": \"tensorflow-gpu\", \"evoflow_version\": \"0.4.1\", \"generations\": 10, \"group\": \"RandomMutation\", \"input_size\": 1000000, \"max_time\": 0.01795220375061035, \"min_time\": 0.016954660415649414, \"name\": \"1D\", \"num_runs\": 3, \"shape\": [1000, 1000], \"shape_str\": \"1000x1000\", \"std_time\": 0.00047024643778554833, \"system\": {\"os\": {\"name\": \"Windows\", \"version\": \"10.0.18362\"}, \"memory\": {\"unit\": \"MB\", \"used\": 15765, \"total\": 65451}, \"cpu\": {\"name\": \"Intel64 Family 6 Model 158 Stepping 10, GenuineIntel\", \"cores\": 12, \"freqency\": 3696.0}, \"python\": {\"numpy\": \"1.18.3\", \"tensorflow\": {\"visible_gpu\": [\"/physical_device:GPU:0\"], \"version\": \"2.2.0\"}, \"cupy\": \"7.2.0\"}, \"gpu\": [{\"memory\": {\"unit\": \"MB\", \"total\": 11264, \"used\": 1471}, \"temperature\": {\"unit\": \"C\"}, \"driver\": \"445.87\", \"index\": \"0\", \"name\": \"GeForce RTX 2080 Ti\", \"value\": \"58\", \"usage\": \"0\"}]}, \"test_name\": \"RandomMutation1D\", \"test_type\": \"OP\", \"ts\": 1590167273}, {\"avg_time\": 0.0006649494171142578, \"backend\": \"cupy\", \"evoflow_version\": \"0.4.1\", \"generations\": 10, \"group\": \"RandomMutation\", \"input_size\": 1000000, \"max_time\": 0.0009975433349609375, \"min_time\": 0.0, \"name\": \"1D\", \"num_runs\": 3, \"shape\": [1000, 1000], \"shape_str\": \"1000x1000\", \"std_time\": 0.0004701902520620762, \"system\": {\"os\": {\"name\": \"Windows\", \"version\": \"10.0.18362\"}, \"memory\": {\"unit\": \"MB\", \"used\": 15815, \"total\": 65451}, \"cpu\": {\"name\": \"Intel64 Family 6 Model 158 Stepping 10, GenuineIntel\", \"cores\": 12, \"freqency\": 3696.0}, \"python\": {\"numpy\": \"1.18.3\", \"tensorflow\": {\"visible_gpu\": [\"/physical_device:GPU:0\"], \"version\": \"2.2.0\"}, \"cupy\": \"7.2.0\"}, \"gpu\": [{\"memory\": {\"unit\": \"MB\", \"total\": 11264, \"used\": 1475}, \"temperature\": {\"unit\": \"C\"}, \"driver\": \"445.87\", \"index\": \"0\", \"name\": \"GeForce RTX 2080 Ti\", \"value\": \"60\", \"usage\": \"1\"}]}, \"test_name\": \"RandomMutation1D\", \"test_type\": \"OP\", \"ts\": 1590167235}, {\"avg_time\": 0.01795188585917155, \"backend\": \"tensorflow-gpu\", \"evoflow_version\": \"0.4.1\", \"generations\": 10, \"group\": \"RandomMutation\", \"input_size\": 1000000, \"max_time\": 0.01894855499267578, \"min_time\": 0.016955137252807617, \"name\": \"2D\", \"num_runs\": 3, \"shape\": [100, 100, 100], \"shape_str\": \"100x100x100\", \"std_time\": 0.0008138093864217535, \"system\": {\"os\": {\"name\": \"Windows\", \"version\": \"10.0.18362\"}, \"memory\": {\"unit\": \"MB\", \"used\": 15765, \"total\": 65451}, \"cpu\": {\"name\": \"Intel64 Family 6 Model 158 Stepping 10, GenuineIntel\", \"cores\": 12, \"freqency\": 3696.0}, \"python\": {\"numpy\": \"1.18.3\", \"tensorflow\": {\"visible_gpu\": [\"/physical_device:GPU:0\"], \"version\": \"2.2.0\"}, \"cupy\": \"7.2.0\"}, \"gpu\": [{\"memory\": {\"unit\": \"MB\", \"total\": 11264, \"used\": 1471}, \"temperature\": {\"unit\": \"C\"}, \"driver\": \"445.87\", \"index\": \"0\", \"name\": \"GeForce RTX 2080 Ti\", \"value\": \"58\", \"usage\": \"0\"}]}, \"test_name\": \"RandomMutation2D\", \"test_type\": \"OP\", \"ts\": 1590167273}, {\"avg_time\": 0.01529240608215332, \"backend\": \"tensorflow-cpu\", \"evoflow_version\": \"0.4.1\", \"generations\": 10, \"group\": \"RandomMutation\", \"input_size\": 1000000, \"max_time\": 0.015957355499267578, \"min_time\": 0.013962745666503906, \"name\": \"3D\", \"num_runs\": 3, \"shape\": [100, 100, 10, 10], \"shape_str\": \"100x100x10x10\", \"std_time\": 0.0009402119016191985, \"system\": {\"os\": {\"name\": \"Windows\", \"version\": \"10.0.18362\"}, \"memory\": {\"unit\": \"MB\", \"used\": 15807, \"total\": 65451}, \"cpu\": {\"name\": \"Intel64 Family 6 Model 158 Stepping 10, GenuineIntel\", \"cores\": 12, \"freqency\": 3696.0}, \"python\": {\"numpy\": \"1.18.3\", \"tensorflow\": {\"visible_gpu\": [], \"version\": \"2.2.0\"}, \"cupy\": \"7.2.0\"}, \"gpu\": []}, \"test_name\": \"RandomMutation3D\", \"test_type\": \"OP\", \"ts\": 1590167261}, {\"avg_time\": 0.012965202331542969, \"backend\": \"numpy\", \"evoflow_version\": \"0.4.1\", \"generations\": 10, \"group\": \"RandomMutation\", \"input_size\": 1000000, \"max_time\": 0.01296544075012207, \"min_time\": 0.012964963912963867, \"name\": \"2D\", \"num_runs\": 3, \"shape\": [100, 100, 100], \"shape_str\": \"100x100x100\", \"std_time\": 1.9466795466607238e-07, \"system\": {\"os\": {\"name\": \"Windows\", \"version\": \"10.0.18362\"}, \"memory\": {\"unit\": \"MB\", \"used\": 15771, \"total\": 65451}, \"cpu\": {\"name\": \"Intel64 Family 6 Model 158 Stepping 10, GenuineIntel\", \"cores\": 12, \"freqency\": 3696.0}, \"python\": {\"numpy\": \"1.18.3\", \"tensorflow\": {\"visible_gpu\": [\"/physical_device:GPU:0\"], \"version\": \"2.2.0\"}, \"cupy\": \"7.2.0\"}, \"gpu\": []}, \"test_name\": \"RandomMutation2D\", \"test_type\": \"OP\", \"ts\": 1590167246}, {\"avg_time\": 0.011635541915893555, \"backend\": \"numpy\", \"evoflow_version\": \"0.4.1\", \"generations\": 10, \"group\": \"RandomMutation\", \"input_size\": 1000000, \"max_time\": 0.011968135833740234, \"min_time\": 0.010970592498779297, \"name\": \"1D\", \"num_runs\": 3, \"shape\": [1000, 1000], \"shape_str\": \"1000x1000\", \"std_time\": 0.0004701902520620762, \"system\": {\"os\": {\"name\": \"Windows\", \"version\": \"10.0.18362\"}, \"memory\": {\"unit\": \"MB\", \"used\": 15771, \"total\": 65451}, \"cpu\": {\"name\": \"Intel64 Family 6 Model 158 Stepping 10, GenuineIntel\", \"cores\": 12, \"freqency\": 3696.0}, \"python\": {\"numpy\": \"1.18.3\", \"tensorflow\": {\"visible_gpu\": [\"/physical_device:GPU:0\"], \"version\": \"2.2.0\"}, \"cupy\": \"7.2.0\"}, \"gpu\": []}, \"test_name\": \"RandomMutation1D\", \"test_type\": \"OP\", \"ts\": 1590167246}, {\"avg_time\": 0.01761945088704427, \"backend\": \"tensorflow-cpu\", \"evoflow_version\": \"0.4.1\", \"generations\": 10, \"group\": \"RandomMutation\", \"input_size\": 1000000, \"max_time\": 0.01795196533203125, \"min_time\": 0.016954660415649414, \"name\": \"1D\", \"num_runs\": 3, \"shape\": [1000, 1000], \"shape_str\": \"1000x1000\", \"std_time\": 0.0004700778604684559, \"system\": {\"os\": {\"name\": \"Windows\", \"version\": \"10.0.18362\"}, \"memory\": {\"unit\": \"MB\", \"used\": 15807, \"total\": 65451}, \"cpu\": {\"name\": \"Intel64 Family 6 Model 158 Stepping 10, GenuineIntel\", \"cores\": 12, \"freqency\": 3696.0}, \"python\": {\"numpy\": \"1.18.3\", \"tensorflow\": {\"visible_gpu\": [], \"version\": \"2.2.0\"}, \"cupy\": \"7.2.0\"}, \"gpu\": []}, \"test_name\": \"RandomMutation1D\", \"test_type\": \"OP\", \"ts\": 1590167261}, {\"avg_time\": 0.0016621748606363933, \"backend\": \"cupy\", \"evoflow_version\": \"0.4.1\", \"generations\": 10, \"group\": \"RandomMutation\", \"input_size\": 1000000, \"max_time\": 0.0019943714141845703, \"min_time\": 0.000997781753540039, \"name\": \"3D\", \"num_runs\": 3, \"shape\": [100, 100, 10, 10], \"shape_str\": \"100x100x10x10\", \"std_time\": 0.00046979687140143216, \"system\": {\"os\": {\"name\": \"Windows\", \"version\": \"10.0.18362\"}, \"memory\": {\"unit\": \"MB\", \"used\": 15815, \"total\": 65451}, \"cpu\": {\"name\": \"Intel64 Family 6 Model 158 Stepping 10, GenuineIntel\", \"cores\": 12, \"freqency\": 3696.0}, \"python\": {\"numpy\": \"1.18.3\", \"tensorflow\": {\"visible_gpu\": [\"/physical_device:GPU:0\"], \"version\": \"2.2.0\"}, \"cupy\": \"7.2.0\"}, \"gpu\": [{\"memory\": {\"unit\": \"MB\", \"total\": 11264, \"used\": 1475}, \"temperature\": {\"unit\": \"C\"}, \"driver\": \"445.87\", \"index\": \"0\", \"name\": \"GeForce RTX 2080 Ti\", \"value\": \"60\", \"usage\": \"1\"}]}, \"test_name\": \"RandomMutation3D\", \"test_type\": \"OP\", \"ts\": 1590167235}, {\"avg_time\": 0.01596530278523763, \"backend\": \"tensorflow-gpu\", \"evoflow_version\": \"0.4.1\", \"generations\": 10, \"group\": \"RandomMutation\", \"input_size\": 1000000, \"max_time\": 0.016954421997070312, \"min_time\": 0.014983892440795898, \"name\": \"3D\", \"num_runs\": 3, \"shape\": [100, 100, 10, 10], \"shape_str\": \"100x100x10x10\", \"std_time\": 0.0008044837901889213, \"system\": {\"os\": {\"name\": \"Windows\", \"version\": \"10.0.18362\"}, \"memory\": {\"unit\": \"MB\", \"used\": 15765, \"total\": 65451}, \"cpu\": {\"name\": \"Intel64 Family 6 Model 158 Stepping 10, GenuineIntel\", \"cores\": 12, \"freqency\": 3696.0}, \"python\": {\"numpy\": \"1.18.3\", \"tensorflow\": {\"visible_gpu\": [\"/physical_device:GPU:0\"], \"version\": \"2.2.0\"}, \"cupy\": \"7.2.0\"}, \"gpu\": [{\"memory\": {\"unit\": \"MB\", \"total\": 11264, \"used\": 1471}, \"temperature\": {\"unit\": \"C\"}, \"driver\": \"445.87\", \"index\": \"0\", \"name\": \"GeForce RTX 2080 Ti\", \"value\": \"58\", \"usage\": \"0\"}]}, \"test_name\": \"RandomMutation3D\", \"test_type\": \"OP\", \"ts\": 1590167273}, {\"avg_time\": 0.01030580202738444, \"backend\": \"numpy\", \"evoflow_version\": \"0.4.1\", \"generations\": 10, \"group\": \"RandomMutation\", \"input_size\": 1000000, \"max_time\": 0.010970830917358398, \"min_time\": 0.00997304916381836, \"name\": \"3D\", \"num_runs\": 3, \"shape\": [100, 100, 10, 10], \"shape_str\": \"100x100x10x10\", \"std_time\": 0.0004702464780789008, \"system\": {\"os\": {\"name\": \"Windows\", \"version\": \"10.0.18362\"}, \"memory\": {\"unit\": \"MB\", \"used\": 15771, \"total\": 65451}, \"cpu\": {\"name\": \"Intel64 Family 6 Model 158 Stepping 10, GenuineIntel\", \"cores\": 12, \"freqency\": 3696.0}, \"python\": {\"numpy\": \"1.18.3\", \"tensorflow\": {\"visible_gpu\": [\"/physical_device:GPU:0\"], \"version\": \"2.2.0\"}, \"cupy\": \"7.2.0\"}, \"gpu\": []}, \"test_name\": \"RandomMutation3D\", \"test_type\": \"OP\", \"ts\": 1590167246}, {\"avg_time\": 0.019281943639119465, \"backend\": \"tensorflow-cpu\", \"evoflow_version\": \"0.4.1\", \"generations\": 10, \"group\": \"RandomMutation\", \"input_size\": 1000000, \"max_time\": 0.01997518539428711, \"min_time\": 0.0189206600189209, \"name\": \"2D\", \"num_runs\": 3, \"shape\": [100, 100, 100], \"shape_str\": \"100x100x100\", \"std_time\": 0.0004903421216198082, \"system\": {\"os\": {\"name\": \"Windows\", \"version\": \"10.0.18362\"}, \"memory\": {\"unit\": \"MB\", \"used\": 15807, \"total\": 65451}, \"cpu\": {\"name\": \"Intel64 Family 6 Model 158 Stepping 10, GenuineIntel\", \"cores\": 12, \"freqency\": 3696.0}, \"python\": {\"numpy\": \"1.18.3\", \"tensorflow\": {\"visible_gpu\": [], \"version\": \"2.2.0\"}, \"cupy\": \"7.2.0\"}, \"gpu\": []}, \"test_name\": \"RandomMutation2D\", \"test_type\": \"OP\", \"ts\": 1590167261}, {\"avg_time\": 0.001329660415649414, \"backend\": \"cupy\", \"evoflow_version\": \"0.4.1\", \"generations\": 10, \"group\": \"RandomMutation\", \"input_size\": 1000000, \"max_time\": 0.001994609832763672, \"min_time\": 0.0009970664978027344, \"name\": \"2D\", \"num_runs\": 3, \"shape\": [100, 100, 100], \"shape_str\": \"100x100x100\", \"std_time\": 0.0004701902520620762, \"system\": {\"os\": {\"name\": \"Windows\", \"version\": \"10.0.18362\"}, \"memory\": {\"unit\": \"MB\", \"used\": 15815, \"total\": 65451}, \"cpu\": {\"name\": \"Intel64 Family 6 Model 158 Stepping 10, GenuineIntel\", \"cores\": 12, \"freqency\": 3696.0}, \"python\": {\"numpy\": \"1.18.3\", \"tensorflow\": {\"visible_gpu\": [\"/physical_device:GPU:0\"], \"version\": \"2.2.0\"}, \"cupy\": \"7.2.0\"}, \"gpu\": [{\"memory\": {\"unit\": \"MB\", \"total\": 11264, \"used\": 1475}, \"temperature\": {\"unit\": \"C\"}, \"driver\": \"445.87\", \"index\": \"0\", \"name\": \"GeForce RTX 2080 Ti\", \"value\": \"60\", \"usage\": \"1\"}]}, \"test_name\": \"RandomMutation2D\", \"test_type\": \"OP\", \"ts\": 1590167235}, {\"avg_time\": 0.15824349721272787, \"backend\": \"numpy\", \"evoflow_version\": \"0.4.1\", \"generations\": 10, \"group\": \"RandomMutation\", \"input_size\": 10000000, \"max_time\": 0.16156792640686035, \"min_time\": 0.1545863151550293, \"name\": \"3D\", \"num_runs\": 3, \"shape\": [100, 100, 100, 10], \"shape_str\": \"100x100x100x10\", \"std_time\": 0.0028599262541869927, \"system\": {\"os\": {\"name\": \"Windows\", \"version\": \"10.0.18362\"}, \"memory\": {\"unit\": \"MB\", \"used\": 15771, \"total\": 65451}, \"cpu\": {\"name\": \"Intel64 Family 6 Model 158 Stepping 10, GenuineIntel\", \"cores\": 12, \"freqency\": 3696.0}, \"python\": {\"numpy\": \"1.18.3\", \"tensorflow\": {\"visible_gpu\": [\"/physical_device:GPU:0\"], \"version\": \"2.2.0\"}, \"cupy\": \"7.2.0\"}, \"gpu\": []}, \"test_name\": \"RandomMutation3D\", \"test_type\": \"OP\", \"ts\": 1590167246}, {\"avg_time\": 0.002991914749145508, \"backend\": \"cupy\", \"evoflow_version\": \"0.4.1\", \"generations\": 10, \"group\": \"RandomMutation\", \"input_size\": 10000000, \"max_time\": 0.002991914749145508, \"min_time\": 0.002991914749145508, \"name\": \"3D\", \"num_runs\": 3, \"shape\": [100, 100, 100, 10], \"shape_str\": \"100x100x100x10\", \"std_time\": 0.0, \"system\": {\"os\": {\"name\": \"Windows\", \"version\": \"10.0.18362\"}, \"memory\": {\"unit\": \"MB\", \"used\": 15815, \"total\": 65451}, \"cpu\": {\"name\": \"Intel64 Family 6 Model 158 Stepping 10, GenuineIntel\", \"cores\": 12, \"freqency\": 3696.0}, \"python\": {\"numpy\": \"1.18.3\", \"tensorflow\": {\"visible_gpu\": [\"/physical_device:GPU:0\"], \"version\": \"2.2.0\"}, \"cupy\": \"7.2.0\"}, \"gpu\": [{\"memory\": {\"unit\": \"MB\", \"total\": 11264, \"used\": 1475}, \"temperature\": {\"unit\": \"C\"}, \"driver\": \"445.87\", \"index\": \"0\", \"name\": \"GeForce RTX 2080 Ti\", \"value\": \"60\", \"usage\": \"1\"}]}, \"test_name\": \"RandomMutation3D\", \"test_type\": \"OP\", \"ts\": 1590167235}, {\"avg_time\": 0.2167536417643229, \"backend\": \"tensorflow-cpu\", \"evoflow_version\": \"0.4.1\", \"generations\": 10, \"group\": \"RandomMutation\", \"input_size\": 10000000, \"max_time\": 0.22739219665527344, \"min_time\": 0.20844221115112305, \"name\": \"3D\", \"num_runs\": 3, \"shape\": [100, 100, 100, 10], \"shape_str\": \"100x100x100x10\", \"std_time\": 0.00790936652351501, \"system\": {\"os\": {\"name\": \"Windows\", \"version\": \"10.0.18362\"}, \"memory\": {\"unit\": \"MB\", \"used\": 15807, \"total\": 65451}, \"cpu\": {\"name\": \"Intel64 Family 6 Model 158 Stepping 10, GenuineIntel\", \"cores\": 12, \"freqency\": 3696.0}, \"python\": {\"numpy\": \"1.18.3\", \"tensorflow\": {\"visible_gpu\": [], \"version\": \"2.2.0\"}, \"cupy\": \"7.2.0\"}, \"gpu\": []}, \"test_name\": \"RandomMutation3D\", \"test_type\": \"OP\", \"ts\": 1590167261}, {\"avg_time\": 0.2107694943745931, \"backend\": \"tensorflow-gpu\", \"evoflow_version\": \"0.4.1\", \"generations\": 10, \"group\": \"RandomMutation\", \"input_size\": 10000000, \"max_time\": 0.22140765190124512, \"min_time\": 0.19547724723815918, \"name\": \"3D\", \"num_runs\": 3, \"shape\": [100, 100, 100, 10], \"shape_str\": \"100x100x100x10\", \"std_time\": 0.011085783210032483, \"system\": {\"os\": {\"name\": \"Windows\", \"version\": \"10.0.18362\"}, \"memory\": {\"unit\": \"MB\", \"used\": 15765, \"total\": 65451}, \"cpu\": {\"name\": \"Intel64 Family 6 Model 158 Stepping 10, GenuineIntel\", \"cores\": 12, \"freqency\": 3696.0}, \"python\": {\"numpy\": \"1.18.3\", \"tensorflow\": {\"visible_gpu\": [\"/physical_device:GPU:0\"], \"version\": \"2.2.0\"}, \"cupy\": \"7.2.0\"}, \"gpu\": [{\"memory\": {\"unit\": \"MB\", \"total\": 11264, \"used\": 1471}, \"temperature\": {\"unit\": \"C\"}, \"driver\": \"445.87\", \"index\": \"0\", \"name\": \"GeForce RTX 2080 Ti\", \"value\": \"58\", \"usage\": \"0\"}]}, \"test_name\": \"RandomMutation3D\", \"test_type\": \"OP\", \"ts\": 1590167273}]}}, {\"mode\": \"vega-lite\"});\n",
       "</script>"
      ],
      "text/plain": [
       "alt.FacetChart(...)"
      ]
     },
     "execution_count": 64,
     "metadata": {},
     "output_type": "execute_result"
    }
   ],
   "source": [
    "display_chart('RandomMutation')"
   ]
  },
  {
   "cell_type": "code",
   "execution_count": 65,
   "metadata": {},
   "outputs": [
    {
     "data": {
      "text/html": [
       "<br/><b>1D</b>"
      ],
      "text/plain": [
       "<IPython.core.display.HTML object>"
      ]
     },
     "metadata": {},
     "output_type": "display_data"
    },
    {
     "data": {
      "text/html": [
       "<table>\n",
       "<thead>\n",
       "<tr><th>shape    </th><th>numpy        </th><th>tf-cpu       </th><th>tf-gpu       </th><th>cupy          </th></tr>\n",
       "</thead>\n",
       "<tbody>\n",
       "<tr><td>100x100  </td><td>0.0 (1.00x)  </td><td>0.001 (0.33x)</td><td>0.003 (0.11x)</td><td>0.002 (0.20x) </td></tr>\n",
       "<tr><td>100x1000 </td><td>0.001 (1.00x)</td><td>0.002 (0.67x)</td><td>0.002 (0.57x)</td><td>0.001 (1.33x) </td></tr>\n",
       "<tr><td>1000x1000</td><td>0.012 (1.00x)</td><td>0.018 (0.66x)</td><td>0.017 (0.67x)</td><td>0.001 (17.47x)</td></tr>\n",
       "</tbody>\n",
       "</table>"
      ],
      "text/plain": [
       "<IPython.core.display.HTML object>"
      ]
     },
     "metadata": {},
     "output_type": "display_data"
    },
    {
     "data": {
      "text/html": [
       "<br/><b>2D</b>"
      ],
      "text/plain": [
       "<IPython.core.display.HTML object>"
      ]
     },
     "metadata": {},
     "output_type": "display_data"
    },
    {
     "data": {
      "text/html": [
       "<table>\n",
       "<thead>\n",
       "<tr><th>shape      </th><th>numpy        </th><th>tf-cpu       </th><th>tf-gpu       </th><th>cupy         </th></tr>\n",
       "</thead>\n",
       "<tbody>\n",
       "<tr><td>100x10x10  </td><td>0.0 (1.00x)  </td><td>0.001 (0.50x)</td><td>0.001 (0.33x)</td><td>0.001 (0.33x)</td></tr>\n",
       "<tr><td>100x100x10 </td><td>0.001 (1.00x)</td><td>0.002 (0.40x)</td><td>0.002 (0.40x)</td><td>0.001 (0.67x)</td></tr>\n",
       "<tr><td>100x100x100</td><td>0.013 (1.00x)</td><td>0.019 (0.67x)</td><td>0.018 (0.72x)</td><td>0.001 (9.74x)</td></tr>\n",
       "</tbody>\n",
       "</table>"
      ],
      "text/plain": [
       "<IPython.core.display.HTML object>"
      ]
     },
     "metadata": {},
     "output_type": "display_data"
    },
    {
     "data": {
      "text/html": [
       "<br/><b>3D</b>"
      ],
      "text/plain": [
       "<IPython.core.display.HTML object>"
      ]
     },
     "metadata": {},
     "output_type": "display_data"
    },
    {
     "data": {
      "text/html": [
       "<table>\n",
       "<thead>\n",
       "<tr><th>shape         </th><th>numpy        </th><th>tf-cpu       </th><th>tf-gpu       </th><th>cupy          </th></tr>\n",
       "</thead>\n",
       "<tbody>\n",
       "<tr><td>100x10x10x10  </td><td>0.001 (1.00x)</td><td>0.002 (0.40x)</td><td>0.002 (0.40x)</td><td>0.002 (0.40x) </td></tr>\n",
       "<tr><td>100x100x10x10 </td><td>0.01 (1.00x) </td><td>0.015 (0.67x)</td><td>0.016 (0.65x)</td><td>0.002 (6.20x) </td></tr>\n",
       "<tr><td>100x100x100x10</td><td>0.158 (1.00x)</td><td>0.217 (0.73x)</td><td>0.211 (0.75x)</td><td>0.003 (52.87x)</td></tr>\n",
       "</tbody>\n",
       "</table>"
      ],
      "text/plain": [
       "<IPython.core.display.HTML object>"
      ]
     },
     "metadata": {},
     "output_type": "display_data"
    }
   ],
   "source": [
    "display_table('RandomMutation')"
   ]
  },
  {
   "cell_type": "code",
   "execution_count": 66,
   "metadata": {},
   "outputs": [
    {
     "data": {
      "text/html": [
       "\n",
       "<div id=\"altair-viz-83410c3449da42029a0a91716440e31a\"></div>\n",
       "<script type=\"text/javascript\">\n",
       "  (function(spec, embedOpt){\n",
       "    const outputDiv = document.getElementById(\"altair-viz-83410c3449da42029a0a91716440e31a\");\n",
       "    const paths = {\n",
       "      \"vega\": \"https://cdn.jsdelivr.net/npm//vega@5?noext\",\n",
       "      \"vega-lib\": \"https://cdn.jsdelivr.net/npm//vega-lib?noext\",\n",
       "      \"vega-lite\": \"https://cdn.jsdelivr.net/npm//vega-lite@4.0.2?noext\",\n",
       "      \"vega-embed\": \"https://cdn.jsdelivr.net/npm//vega-embed@6?noext\",\n",
       "    };\n",
       "\n",
       "    function loadScript(lib) {\n",
       "      return new Promise(function(resolve, reject) {\n",
       "        var s = document.createElement('script');\n",
       "        s.src = paths[lib];\n",
       "        s.async = true;\n",
       "        s.onload = () => resolve(paths[lib]);\n",
       "        s.onerror = () => reject(`Error loading script: ${paths[lib]}`);\n",
       "        document.getElementsByTagName(\"head\")[0].appendChild(s);\n",
       "      });\n",
       "    }\n",
       "\n",
       "    function showError(err) {\n",
       "      outputDiv.innerHTML = `<div class=\"error\" style=\"color:red;\">${err}</div>`;\n",
       "      throw err;\n",
       "    }\n",
       "\n",
       "    function displayChart(vegaEmbed) {\n",
       "      vegaEmbed(outputDiv, spec, embedOpt)\n",
       "        .catch(err => showError(`Javascript Error: ${err.message}<br>This usually means there's a typo in your chart specification. See the javascript console for the full traceback.`));\n",
       "    }\n",
       "\n",
       "    if(typeof define === \"function\" && define.amd) {\n",
       "      requirejs.config({paths});\n",
       "      require([\"vega-embed\"], displayChart, err => showError(`Error loading script: ${err.message}`));\n",
       "    } else if (typeof vegaEmbed === \"function\") {\n",
       "      displayChart(vegaEmbed);\n",
       "    } else {\n",
       "      loadScript(\"vega\")\n",
       "        .then(() => loadScript(\"vega-lite\"))\n",
       "        .then(() => loadScript(\"vega-embed\"))\n",
       "        .catch(showError)\n",
       "        .then(() => displayChart(vegaEmbed));\n",
       "    }\n",
       "  })({\"config\": {\"view\": {\"continuousWidth\": 400, \"continuousHeight\": 300}, \"title\": {\"anchor\": \"middle\", \"fontSize\": 20, \"offset\": 5, \"orient\": \"top\"}}, \"data\": {\"name\": \"data-c4ac4c5c1ccf85b96503995989751fb1\"}, \"facet\": {\"column\": {\"type\": \"nominal\", \"field\": \"name\"}}, \"spec\": {\"mark\": \"bar\", \"encoding\": {\"color\": {\"type\": \"nominal\", \"field\": \"backend\", \"legend\": null}, \"column\": {\"type\": \"nominal\", \"field\": \"shape_str\", \"sort\": {\"field\": \"input_size\", \"order\": \"ascending\"}, \"title\": \"\"}, \"x\": {\"type\": \"nominal\", \"axis\": {\"title\": \"\"}, \"field\": \"backend\"}, \"y\": {\"type\": \"quantitative\", \"axis\": {\"title\": \"\"}, \"field\": \"avg_time\", \"sort\": \"-x\"}}, \"resolve\": {\"scale\": {\"y\": \"independent\"}}, \"title\": \"\"}, \"spacing\": 50, \"title\": \"UniformCrossover\", \"$schema\": \"https://vega.github.io/schema/vega-lite/v4.0.2.json\", \"datasets\": {\"data-c4ac4c5c1ccf85b96503995989751fb1\": [{\"avg_time\": 0.002327442169189453, \"backend\": \"cupy\", \"evoflow_version\": \"0.4.1\", \"generations\": 10, \"group\": \"UniformCrossover\", \"input_size\": 10000, \"max_time\": 0.004987001419067383, \"min_time\": 0.0009970664978027344, \"name\": \"1D\", \"num_runs\": 3, \"shape\": [100, 100], \"shape_str\": \"100x100\", \"std_time\": 0.0018805924435276258, \"system\": {\"os\": {\"name\": \"Windows\", \"version\": \"10.0.18362\"}, \"memory\": {\"unit\": \"MB\", \"used\": 15815, \"total\": 65451}, \"cpu\": {\"name\": \"Intel64 Family 6 Model 158 Stepping 10, GenuineIntel\", \"cores\": 12, \"freqency\": 3696.0}, \"python\": {\"numpy\": \"1.18.3\", \"tensorflow\": {\"visible_gpu\": [\"/physical_device:GPU:0\"], \"version\": \"2.2.0\"}, \"cupy\": \"7.2.0\"}, \"gpu\": [{\"memory\": {\"unit\": \"MB\", \"total\": 11264, \"used\": 1475}, \"temperature\": {\"unit\": \"C\"}, \"driver\": \"445.87\", \"index\": \"0\", \"name\": \"GeForce RTX 2080 Ti\", \"value\": \"60\", \"usage\": \"1\"}]}, \"test_name\": \"UniformCrossover1D\", \"test_type\": \"OP\", \"ts\": 1590167235}, {\"avg_time\": 0.0009973843892415364, \"backend\": \"tensorflow-gpu\", \"evoflow_version\": \"0.4.1\", \"generations\": 10, \"group\": \"UniformCrossover\", \"input_size\": 10000, \"max_time\": 0.0009984970092773438, \"min_time\": 0.0009963512420654297, \"name\": \"1D\", \"num_runs\": 3, \"shape\": [100, 100], \"shape_str\": \"100x100\", \"std_time\": 8.778064264605253e-07, \"system\": {\"os\": {\"name\": \"Windows\", \"version\": \"10.0.18362\"}, \"memory\": {\"unit\": \"MB\", \"used\": 15765, \"total\": 65451}, \"cpu\": {\"name\": \"Intel64 Family 6 Model 158 Stepping 10, GenuineIntel\", \"cores\": 12, \"freqency\": 3696.0}, \"python\": {\"numpy\": \"1.18.3\", \"tensorflow\": {\"visible_gpu\": [\"/physical_device:GPU:0\"], \"version\": \"2.2.0\"}, \"cupy\": \"7.2.0\"}, \"gpu\": [{\"memory\": {\"unit\": \"MB\", \"total\": 11264, \"used\": 1471}, \"temperature\": {\"unit\": \"C\"}, \"driver\": \"445.87\", \"index\": \"0\", \"name\": \"GeForce RTX 2080 Ti\", \"value\": \"58\", \"usage\": \"0\"}]}, \"test_name\": \"UniformCrossover1D\", \"test_type\": \"OP\", \"ts\": 1590167273}, {\"avg_time\": 0.001329978307088216, \"backend\": \"cupy\", \"evoflow_version\": \"0.4.1\", \"generations\": 10, \"group\": \"UniformCrossover\", \"input_size\": 10000, \"max_time\": 0.0019948482513427734, \"min_time\": 0.0009970664978027344, \"name\": \"2D\", \"num_runs\": 3, \"shape\": [100, 10, 10], \"shape_str\": \"100x10x10\", \"std_time\": 0.0004701342074014391, \"system\": {\"os\": {\"name\": \"Windows\", \"version\": \"10.0.18362\"}, \"memory\": {\"unit\": \"MB\", \"used\": 15815, \"total\": 65451}, \"cpu\": {\"name\": \"Intel64 Family 6 Model 158 Stepping 10, GenuineIntel\", \"cores\": 12, \"freqency\": 3696.0}, \"python\": {\"numpy\": \"1.18.3\", \"tensorflow\": {\"visible_gpu\": [\"/physical_device:GPU:0\"], \"version\": \"2.2.0\"}, \"cupy\": \"7.2.0\"}, \"gpu\": [{\"memory\": {\"unit\": \"MB\", \"total\": 11264, \"used\": 1475}, \"temperature\": {\"unit\": \"C\"}, \"driver\": \"445.87\", \"index\": \"0\", \"name\": \"GeForce RTX 2080 Ti\", \"value\": \"60\", \"usage\": \"1\"}]}, \"test_name\": \"UniformCrossover2D\", \"test_type\": \"OP\", \"ts\": 1590167235}, {\"avg_time\": 0.000997304916381836, \"backend\": \"tensorflow-cpu\", \"evoflow_version\": \"0.4.1\", \"generations\": 10, \"group\": \"UniformCrossover\", \"input_size\": 10000, \"max_time\": 0.0009975433349609375, \"min_time\": 0.0009970664978027344, \"name\": \"2D\", \"num_runs\": 3, \"shape\": [100, 10, 10], \"shape_str\": \"100x10x10\", \"std_time\": 1.9466795466607238e-07, \"system\": {\"os\": {\"name\": \"Windows\", \"version\": \"10.0.18362\"}, \"memory\": {\"unit\": \"MB\", \"used\": 15807, \"total\": 65451}, \"cpu\": {\"name\": \"Intel64 Family 6 Model 158 Stepping 10, GenuineIntel\", \"cores\": 12, \"freqency\": 3696.0}, \"python\": {\"numpy\": \"1.18.3\", \"tensorflow\": {\"visible_gpu\": [], \"version\": \"2.2.0\"}, \"cupy\": \"7.2.0\"}, \"gpu\": []}, \"test_name\": \"UniformCrossover2D\", \"test_type\": \"OP\", \"ts\": 1590167261}, {\"avg_time\": 0.0006648699442545573, \"backend\": \"tensorflow-cpu\", \"evoflow_version\": \"0.4.1\", \"generations\": 10, \"group\": \"UniformCrossover\", \"input_size\": 10000, \"max_time\": 0.0009975433349609375, \"min_time\": 0.0, \"name\": \"1D\", \"num_runs\": 3, \"shape\": [100, 100], \"shape_str\": \"100x100\", \"std_time\": 0.00047013408649250444, \"system\": {\"os\": {\"name\": \"Windows\", \"version\": \"10.0.18362\"}, \"memory\": {\"unit\": \"MB\", \"used\": 15807, \"total\": 65451}, \"cpu\": {\"name\": \"Intel64 Family 6 Model 158 Stepping 10, GenuineIntel\", \"cores\": 12, \"freqency\": 3696.0}, \"python\": {\"numpy\": \"1.18.3\", \"tensorflow\": {\"visible_gpu\": [], \"version\": \"2.2.0\"}, \"cupy\": \"7.2.0\"}, \"gpu\": []}, \"test_name\": \"UniformCrossover1D\", \"test_type\": \"OP\", \"ts\": 1590167261}, {\"avg_time\": 0.0006650288899739584, \"backend\": \"numpy\", \"evoflow_version\": \"0.4.1\", \"generations\": 10, \"group\": \"UniformCrossover\", \"input_size\": 10000, \"max_time\": 0.000997781753540039, \"min_time\": 0.0, \"name\": \"1D\", \"num_runs\": 3, \"shape\": [100, 100], \"shape_str\": \"100x100\", \"std_time\": 0.0004702464780789008, \"system\": {\"os\": {\"name\": \"Windows\", \"version\": \"10.0.18362\"}, \"memory\": {\"unit\": \"MB\", \"used\": 15771, \"total\": 65451}, \"cpu\": {\"name\": \"Intel64 Family 6 Model 158 Stepping 10, GenuineIntel\", \"cores\": 12, \"freqency\": 3696.0}, \"python\": {\"numpy\": \"1.18.3\", \"tensorflow\": {\"visible_gpu\": [\"/physical_device:GPU:0\"], \"version\": \"2.2.0\"}, \"cupy\": \"7.2.0\"}, \"gpu\": []}, \"test_name\": \"UniformCrossover1D\", \"test_type\": \"OP\", \"ts\": 1590167246}, {\"avg_time\": 0.000997304916381836, \"backend\": \"tensorflow-gpu\", \"evoflow_version\": \"0.4.1\", \"generations\": 10, \"group\": \"UniformCrossover\", \"input_size\": 10000, \"max_time\": 0.000997781753540039, \"min_time\": 0.0009968280792236328, \"name\": \"2D\", \"num_runs\": 3, \"shape\": [100, 10, 10], \"shape_str\": \"100x10x10\", \"std_time\": 3.8933590933214475e-07, \"system\": {\"os\": {\"name\": \"Windows\", \"version\": \"10.0.18362\"}, \"memory\": {\"unit\": \"MB\", \"used\": 15765, \"total\": 65451}, \"cpu\": {\"name\": \"Intel64 Family 6 Model 158 Stepping 10, GenuineIntel\", \"cores\": 12, \"freqency\": 3696.0}, \"python\": {\"numpy\": \"1.18.3\", \"tensorflow\": {\"visible_gpu\": [\"/physical_device:GPU:0\"], \"version\": \"2.2.0\"}, \"cupy\": \"7.2.0\"}, \"gpu\": [{\"memory\": {\"unit\": \"MB\", \"total\": 11264, \"used\": 1471}, \"temperature\": {\"unit\": \"C\"}, \"driver\": \"445.87\", \"index\": \"0\", \"name\": \"GeForce RTX 2080 Ti\", \"value\": \"58\", \"usage\": \"0\"}]}, \"test_name\": \"UniformCrossover2D\", \"test_type\": \"OP\", \"ts\": 1590167273}, {\"avg_time\": 0.0003325939178466797, \"backend\": \"numpy\", \"evoflow_version\": \"0.4.1\", \"generations\": 10, \"group\": \"UniformCrossover\", \"input_size\": 10000, \"max_time\": 0.000997781753540039, \"min_time\": 0.0, \"name\": \"2D\", \"num_runs\": 3, \"shape\": [100, 10, 10], \"shape_str\": \"100x10x10\", \"std_time\": 0.0004703588293815774, \"system\": {\"os\": {\"name\": \"Windows\", \"version\": \"10.0.18362\"}, \"memory\": {\"unit\": \"MB\", \"used\": 15771, \"total\": 65451}, \"cpu\": {\"name\": \"Intel64 Family 6 Model 158 Stepping 10, GenuineIntel\", \"cores\": 12, \"freqency\": 3696.0}, \"python\": {\"numpy\": \"1.18.3\", \"tensorflow\": {\"visible_gpu\": [\"/physical_device:GPU:0\"], \"version\": \"2.2.0\"}, \"cupy\": \"7.2.0\"}, \"gpu\": []}, \"test_name\": \"UniformCrossover2D\", \"test_type\": \"OP\", \"ts\": 1590167246}, {\"avg_time\": 0.002327124277750651, \"backend\": \"tensorflow-gpu\", \"evoflow_version\": \"0.4.1\", \"generations\": 10, \"group\": \"UniformCrossover\", \"input_size\": 100000, \"max_time\": 0.002992391586303711, \"min_time\": 0.0019941329956054688, \"name\": \"1D\", \"num_runs\": 3, \"shape\": [100, 1000], \"shape_str\": \"100x1000\", \"std_time\": 0.00047041511580713945, \"system\": {\"os\": {\"name\": \"Windows\", \"version\": \"10.0.18362\"}, \"memory\": {\"unit\": \"MB\", \"used\": 15765, \"total\": 65451}, \"cpu\": {\"name\": \"Intel64 Family 6 Model 158 Stepping 10, GenuineIntel\", \"cores\": 12, \"freqency\": 3696.0}, \"python\": {\"numpy\": \"1.18.3\", \"tensorflow\": {\"visible_gpu\": [\"/physical_device:GPU:0\"], \"version\": \"2.2.0\"}, \"cupy\": \"7.2.0\"}, \"gpu\": [{\"memory\": {\"unit\": \"MB\", \"total\": 11264, \"used\": 1471}, \"temperature\": {\"unit\": \"C\"}, \"driver\": \"445.87\", \"index\": \"0\", \"name\": \"GeForce RTX 2080 Ti\", \"value\": \"58\", \"usage\": \"0\"}]}, \"test_name\": \"UniformCrossover1D\", \"test_type\": \"OP\", \"ts\": 1590167273}, {\"avg_time\": 0.0013298193613688152, \"backend\": \"tensorflow-cpu\", \"evoflow_version\": \"0.4.1\", \"generations\": 10, \"group\": \"UniformCrossover\", \"input_size\": 100000, \"max_time\": 0.001994609832763672, \"min_time\": 0.000997304916381836, \"name\": \"3D\", \"num_runs\": 3, \"shape\": [100, 10, 10, 10], \"shape_str\": \"100x10x10x10\", \"std_time\": 0.0004700778604684559, \"system\": {\"os\": {\"name\": \"Windows\", \"version\": \"10.0.18362\"}, \"memory\": {\"unit\": \"MB\", \"used\": 15807, \"total\": 65451}, \"cpu\": {\"name\": \"Intel64 Family 6 Model 158 Stepping 10, GenuineIntel\", \"cores\": 12, \"freqency\": 3696.0}, \"python\": {\"numpy\": \"1.18.3\", \"tensorflow\": {\"visible_gpu\": [], \"version\": \"2.2.0\"}, \"cupy\": \"7.2.0\"}, \"gpu\": []}, \"test_name\": \"UniformCrossover3D\", \"test_type\": \"OP\", \"ts\": 1590167261}, {\"avg_time\": 0.0013297398885091145, \"backend\": \"tensorflow-cpu\", \"evoflow_version\": \"0.4.1\", \"generations\": 10, \"group\": \"UniformCrossover\", \"input_size\": 100000, \"max_time\": 0.001994609832763672, \"min_time\": 0.000997304916381836, \"name\": \"2D\", \"num_runs\": 3, \"shape\": [100, 100, 10], \"shape_str\": \"100x100x10\", \"std_time\": 0.0004701340461895193, \"system\": {\"os\": {\"name\": \"Windows\", \"version\": \"10.0.18362\"}, \"memory\": {\"unit\": \"MB\", \"used\": 15807, \"total\": 65451}, \"cpu\": {\"name\": \"Intel64 Family 6 Model 158 Stepping 10, GenuineIntel\", \"cores\": 12, \"freqency\": 3696.0}, \"python\": {\"numpy\": \"1.18.3\", \"tensorflow\": {\"visible_gpu\": [], \"version\": \"2.2.0\"}, \"cupy\": \"7.2.0\"}, \"gpu\": []}, \"test_name\": \"UniformCrossover2D\", \"test_type\": \"OP\", \"ts\": 1590167261}, {\"avg_time\": 0.001994609832763672, \"backend\": \"tensorflow-cpu\", \"evoflow_version\": \"0.4.1\", \"generations\": 10, \"group\": \"UniformCrossover\", \"input_size\": 100000, \"max_time\": 0.0019948482513427734, \"min_time\": 0.0019943714141845703, \"name\": \"1D\", \"num_runs\": 3, \"shape\": [100, 1000], \"shape_str\": \"100x1000\", \"std_time\": 1.9466795466607238e-07, \"system\": {\"os\": {\"name\": \"Windows\", \"version\": \"10.0.18362\"}, \"memory\": {\"unit\": \"MB\", \"used\": 15807, \"total\": 65451}, \"cpu\": {\"name\": \"Intel64 Family 6 Model 158 Stepping 10, GenuineIntel\", \"cores\": 12, \"freqency\": 3696.0}, \"python\": {\"numpy\": \"1.18.3\", \"tensorflow\": {\"visible_gpu\": [], \"version\": \"2.2.0\"}, \"cupy\": \"7.2.0\"}, \"gpu\": []}, \"test_name\": \"UniformCrossover1D\", \"test_type\": \"OP\", \"ts\": 1590167261}, {\"avg_time\": 0.0013297398885091145, \"backend\": \"numpy\", \"evoflow_version\": \"0.4.1\", \"generations\": 10, \"group\": \"UniformCrossover\", \"input_size\": 100000, \"max_time\": 0.001994609832763672, \"min_time\": 0.000997304916381836, \"name\": \"2D\", \"num_runs\": 3, \"shape\": [100, 100, 10], \"shape_str\": \"100x100x10\", \"std_time\": 0.0004701340461895193, \"system\": {\"os\": {\"name\": \"Windows\", \"version\": \"10.0.18362\"}, \"memory\": {\"unit\": \"MB\", \"used\": 15771, \"total\": 65451}, \"cpu\": {\"name\": \"Intel64 Family 6 Model 158 Stepping 10, GenuineIntel\", \"cores\": 12, \"freqency\": 3696.0}, \"python\": {\"numpy\": \"1.18.3\", \"tensorflow\": {\"visible_gpu\": [\"/physical_device:GPU:0\"], \"version\": \"2.2.0\"}, \"cupy\": \"7.2.0\"}, \"gpu\": []}, \"test_name\": \"UniformCrossover2D\", \"test_type\": \"OP\", \"ts\": 1590167246}, {\"avg_time\": 0.0013297398885091145, \"backend\": \"numpy\", \"evoflow_version\": \"0.4.1\", \"generations\": 10, \"group\": \"UniformCrossover\", \"input_size\": 100000, \"max_time\": 0.001994609832763672, \"min_time\": 0.000997304916381836, \"name\": \"3D\", \"num_runs\": 3, \"shape\": [100, 10, 10, 10], \"shape_str\": \"100x10x10x10\", \"std_time\": 0.0004701340461895193, \"system\": {\"os\": {\"name\": \"Windows\", \"version\": \"10.0.18362\"}, \"memory\": {\"unit\": \"MB\", \"used\": 15771, \"total\": 65451}, \"cpu\": {\"name\": \"Intel64 Family 6 Model 158 Stepping 10, GenuineIntel\", \"cores\": 12, \"freqency\": 3696.0}, \"python\": {\"numpy\": \"1.18.3\", \"tensorflow\": {\"visible_gpu\": [\"/physical_device:GPU:0\"], \"version\": \"2.2.0\"}, \"cupy\": \"7.2.0\"}, \"gpu\": []}, \"test_name\": \"UniformCrossover3D\", \"test_type\": \"OP\", \"ts\": 1590167246}, {\"avg_time\": 0.001994609832763672, \"backend\": \"tensorflow-gpu\", \"evoflow_version\": \"0.4.1\", \"generations\": 10, \"group\": \"UniformCrossover\", \"input_size\": 100000, \"max_time\": 0.0019948482513427734, \"min_time\": 0.0019943714141845703, \"name\": \"2D\", \"num_runs\": 3, \"shape\": [100, 100, 10], \"shape_str\": \"100x100x10\", \"std_time\": 1.9466795466607238e-07, \"system\": {\"os\": {\"name\": \"Windows\", \"version\": \"10.0.18362\"}, \"memory\": {\"unit\": \"MB\", \"used\": 15765, \"total\": 65451}, \"cpu\": {\"name\": \"Intel64 Family 6 Model 158 Stepping 10, GenuineIntel\", \"cores\": 12, \"freqency\": 3696.0}, \"python\": {\"numpy\": \"1.18.3\", \"tensorflow\": {\"visible_gpu\": [\"/physical_device:GPU:0\"], \"version\": \"2.2.0\"}, \"cupy\": \"7.2.0\"}, \"gpu\": [{\"memory\": {\"unit\": \"MB\", \"total\": 11264, \"used\": 1471}, \"temperature\": {\"unit\": \"C\"}, \"driver\": \"445.87\", \"index\": \"0\", \"name\": \"GeForce RTX 2080 Ti\", \"value\": \"58\", \"usage\": \"0\"}]}, \"test_name\": \"UniformCrossover2D\", \"test_type\": \"OP\", \"ts\": 1590167273}, {\"avg_time\": 0.0016621748606363933, \"backend\": \"numpy\", \"evoflow_version\": \"0.4.1\", \"generations\": 10, \"group\": \"UniformCrossover\", \"input_size\": 100000, \"max_time\": 0.0019948482513427734, \"min_time\": 0.000997304916381836, \"name\": \"1D\", \"num_runs\": 3, \"shape\": [100, 1000], \"shape_str\": \"100x1000\", \"std_time\": 0.00047013408649250444, \"system\": {\"os\": {\"name\": \"Windows\", \"version\": \"10.0.18362\"}, \"memory\": {\"unit\": \"MB\", \"used\": 15771, \"total\": 65451}, \"cpu\": {\"name\": \"Intel64 Family 6 Model 158 Stepping 10, GenuineIntel\", \"cores\": 12, \"freqency\": 3696.0}, \"python\": {\"numpy\": \"1.18.3\", \"tensorflow\": {\"visible_gpu\": [\"/physical_device:GPU:0\"], \"version\": \"2.2.0\"}, \"cupy\": \"7.2.0\"}, \"gpu\": []}, \"test_name\": \"UniformCrossover1D\", \"test_type\": \"OP\", \"ts\": 1590167246}, {\"avg_time\": 0.000997304916381836, \"backend\": \"cupy\", \"evoflow_version\": \"0.4.1\", \"generations\": 10, \"group\": \"UniformCrossover\", \"input_size\": 100000, \"max_time\": 0.0009975433349609375, \"min_time\": 0.0009970664978027344, \"name\": \"1D\", \"num_runs\": 3, \"shape\": [100, 1000], \"shape_str\": \"100x1000\", \"std_time\": 1.9466795466607238e-07, \"system\": {\"os\": {\"name\": \"Windows\", \"version\": \"10.0.18362\"}, \"memory\": {\"unit\": \"MB\", \"used\": 15815, \"total\": 65451}, \"cpu\": {\"name\": \"Intel64 Family 6 Model 158 Stepping 10, GenuineIntel\", \"cores\": 12, \"freqency\": 3696.0}, \"python\": {\"numpy\": \"1.18.3\", \"tensorflow\": {\"visible_gpu\": [\"/physical_device:GPU:0\"], \"version\": \"2.2.0\"}, \"cupy\": \"7.2.0\"}, \"gpu\": [{\"memory\": {\"unit\": \"MB\", \"total\": 11264, \"used\": 1475}, \"temperature\": {\"unit\": \"C\"}, \"driver\": \"445.87\", \"index\": \"0\", \"name\": \"GeForce RTX 2080 Ti\", \"value\": \"60\", \"usage\": \"1\"}]}, \"test_name\": \"UniformCrossover1D\", \"test_type\": \"OP\", \"ts\": 1590167235}, {\"avg_time\": 0.0016621748606363933, \"backend\": \"tensorflow-gpu\", \"evoflow_version\": \"0.4.1\", \"generations\": 10, \"group\": \"UniformCrossover\", \"input_size\": 100000, \"max_time\": 0.0019948482513427734, \"min_time\": 0.000997304916381836, \"name\": \"3D\", \"num_runs\": 3, \"shape\": [100, 10, 10, 10], \"shape_str\": \"100x10x10x10\", \"std_time\": 0.00047013408649250444, \"system\": {\"os\": {\"name\": \"Windows\", \"version\": \"10.0.18362\"}, \"memory\": {\"unit\": \"MB\", \"used\": 15765, \"total\": 65451}, \"cpu\": {\"name\": \"Intel64 Family 6 Model 158 Stepping 10, GenuineIntel\", \"cores\": 12, \"freqency\": 3696.0}, \"python\": {\"numpy\": \"1.18.3\", \"tensorflow\": {\"visible_gpu\": [\"/physical_device:GPU:0\"], \"version\": \"2.2.0\"}, \"cupy\": \"7.2.0\"}, \"gpu\": [{\"memory\": {\"unit\": \"MB\", \"total\": 11264, \"used\": 1471}, \"temperature\": {\"unit\": \"C\"}, \"driver\": \"445.87\", \"index\": \"0\", \"name\": \"GeForce RTX 2080 Ti\", \"value\": \"58\", \"usage\": \"0\"}]}, \"test_name\": \"UniformCrossover3D\", \"test_type\": \"OP\", \"ts\": 1590167273}, {\"avg_time\": 0.0016621748606363933, \"backend\": \"cupy\", \"evoflow_version\": \"0.4.1\", \"generations\": 10, \"group\": \"UniformCrossover\", \"input_size\": 100000, \"max_time\": 0.0019948482513427734, \"min_time\": 0.0009970664978027344, \"name\": \"3D\", \"num_runs\": 3, \"shape\": [100, 10, 10, 10], \"shape_str\": \"100x10x10x10\", \"std_time\": 0.00047030264365569767, \"system\": {\"os\": {\"name\": \"Windows\", \"version\": \"10.0.18362\"}, \"memory\": {\"unit\": \"MB\", \"used\": 15815, \"total\": 65451}, \"cpu\": {\"name\": \"Intel64 Family 6 Model 158 Stepping 10, GenuineIntel\", \"cores\": 12, \"freqency\": 3696.0}, \"python\": {\"numpy\": \"1.18.3\", \"tensorflow\": {\"visible_gpu\": [\"/physical_device:GPU:0\"], \"version\": \"2.2.0\"}, \"cupy\": \"7.2.0\"}, \"gpu\": [{\"memory\": {\"unit\": \"MB\", \"total\": 11264, \"used\": 1475}, \"temperature\": {\"unit\": \"C\"}, \"driver\": \"445.87\", \"index\": \"0\", \"name\": \"GeForce RTX 2080 Ti\", \"value\": \"60\", \"usage\": \"1\"}]}, \"test_name\": \"UniformCrossover3D\", \"test_type\": \"OP\", \"ts\": 1590167235}, {\"avg_time\": 0.0013297398885091145, \"backend\": \"cupy\", \"evoflow_version\": \"0.4.1\", \"generations\": 10, \"group\": \"UniformCrossover\", \"input_size\": 100000, \"max_time\": 0.0019948482513427734, \"min_time\": 0.0009970664978027344, \"name\": \"2D\", \"num_runs\": 3, \"shape\": [100, 100, 10], \"shape_str\": \"100x100x10\", \"std_time\": 0.00047030264365569767, \"system\": {\"os\": {\"name\": \"Windows\", \"version\": \"10.0.18362\"}, \"memory\": {\"unit\": \"MB\", \"used\": 15815, \"total\": 65451}, \"cpu\": {\"name\": \"Intel64 Family 6 Model 158 Stepping 10, GenuineIntel\", \"cores\": 12, \"freqency\": 3696.0}, \"python\": {\"numpy\": \"1.18.3\", \"tensorflow\": {\"visible_gpu\": [\"/physical_device:GPU:0\"], \"version\": \"2.2.0\"}, \"cupy\": \"7.2.0\"}, \"gpu\": [{\"memory\": {\"unit\": \"MB\", \"total\": 11264, \"used\": 1475}, \"temperature\": {\"unit\": \"C\"}, \"driver\": \"445.87\", \"index\": \"0\", \"name\": \"GeForce RTX 2080 Ti\", \"value\": \"60\", \"usage\": \"1\"}]}, \"test_name\": \"UniformCrossover2D\", \"test_type\": \"OP\", \"ts\": 1590167235}, {\"avg_time\": 0.018949349721272785, \"backend\": \"tensorflow-gpu\", \"evoflow_version\": \"0.4.1\", \"generations\": 10, \"group\": \"UniformCrossover\", \"input_size\": 1000000, \"max_time\": 0.01894974708557129, \"min_time\": 0.018948793411254883, \"name\": \"1D\", \"num_runs\": 3, \"shape\": [1000, 1000], \"shape_str\": \"1000x1000\", \"std_time\": 4.052336624139774e-07, \"system\": {\"os\": {\"name\": \"Windows\", \"version\": \"10.0.18362\"}, \"memory\": {\"unit\": \"MB\", \"used\": 15765, \"total\": 65451}, \"cpu\": {\"name\": \"Intel64 Family 6 Model 158 Stepping 10, GenuineIntel\", \"cores\": 12, \"freqency\": 3696.0}, \"python\": {\"numpy\": \"1.18.3\", \"tensorflow\": {\"visible_gpu\": [\"/physical_device:GPU:0\"], \"version\": \"2.2.0\"}, \"cupy\": \"7.2.0\"}, \"gpu\": [{\"memory\": {\"unit\": \"MB\", \"total\": 11264, \"used\": 1471}, \"temperature\": {\"unit\": \"C\"}, \"driver\": \"445.87\", \"index\": \"0\", \"name\": \"GeForce RTX 2080 Ti\", \"value\": \"58\", \"usage\": \"0\"}]}, \"test_name\": \"UniformCrossover1D\", \"test_type\": \"OP\", \"ts\": 1590167273}, {\"avg_time\": 0.0009973843892415364, \"backend\": \"cupy\", \"evoflow_version\": \"0.4.1\", \"generations\": 10, \"group\": \"UniformCrossover\", \"input_size\": 1000000, \"max_time\": 0.0009975433349609375, \"min_time\": 0.000997304916381836, \"name\": \"1D\", \"num_runs\": 3, \"shape\": [1000, 1000], \"shape_str\": \"1000x1000\", \"std_time\": 1.1239159602905075e-07, \"system\": {\"os\": {\"name\": \"Windows\", \"version\": \"10.0.18362\"}, \"memory\": {\"unit\": \"MB\", \"used\": 15815, \"total\": 65451}, \"cpu\": {\"name\": \"Intel64 Family 6 Model 158 Stepping 10, GenuineIntel\", \"cores\": 12, \"freqency\": 3696.0}, \"python\": {\"numpy\": \"1.18.3\", \"tensorflow\": {\"visible_gpu\": [\"/physical_device:GPU:0\"], \"version\": \"2.2.0\"}, \"cupy\": \"7.2.0\"}, \"gpu\": [{\"memory\": {\"unit\": \"MB\", \"total\": 11264, \"used\": 1475}, \"temperature\": {\"unit\": \"C\"}, \"driver\": \"445.87\", \"index\": \"0\", \"name\": \"GeForce RTX 2080 Ti\", \"value\": \"60\", \"usage\": \"1\"}]}, \"test_name\": \"UniformCrossover1D\", \"test_type\": \"OP\", \"ts\": 1590167235}, {\"avg_time\": 0.021276394526163738, \"backend\": \"tensorflow-gpu\", \"evoflow_version\": \"0.4.1\", \"generations\": 10, \"group\": \"UniformCrossover\", \"input_size\": 1000000, \"max_time\": 0.021941184997558594, \"min_time\": 0.020943880081176758, \"name\": \"2D\", \"num_runs\": 3, \"shape\": [100, 100, 100], \"shape_str\": \"100x100x100\", \"std_time\": 0.00047007786046845593, \"system\": {\"os\": {\"name\": \"Windows\", \"version\": \"10.0.18362\"}, \"memory\": {\"unit\": \"MB\", \"used\": 15765, \"total\": 65451}, \"cpu\": {\"name\": \"Intel64 Family 6 Model 158 Stepping 10, GenuineIntel\", \"cores\": 12, \"freqency\": 3696.0}, \"python\": {\"numpy\": \"1.18.3\", \"tensorflow\": {\"visible_gpu\": [\"/physical_device:GPU:0\"], \"version\": \"2.2.0\"}, \"cupy\": \"7.2.0\"}, \"gpu\": [{\"memory\": {\"unit\": \"MB\", \"total\": 11264, \"used\": 1471}, \"temperature\": {\"unit\": \"C\"}, \"driver\": \"445.87\", \"index\": \"0\", \"name\": \"GeForce RTX 2080 Ti\", \"value\": \"58\", \"usage\": \"0\"}]}, \"test_name\": \"UniformCrossover2D\", \"test_type\": \"OP\", \"ts\": 1590167273}, {\"avg_time\": 0.017287015914916992, \"backend\": \"tensorflow-cpu\", \"evoflow_version\": \"0.4.1\", \"generations\": 10, \"group\": \"UniformCrossover\", \"input_size\": 1000000, \"max_time\": 0.01795196533203125, \"min_time\": 0.01695394515991211, \"name\": \"3D\", \"num_runs\": 3, \"shape\": [100, 100, 10, 10], \"shape_str\": \"100x100x10x10\", \"std_time\": 0.00047019049385102864, \"system\": {\"os\": {\"name\": \"Windows\", \"version\": \"10.0.18362\"}, \"memory\": {\"unit\": \"MB\", \"used\": 15807, \"total\": 65451}, \"cpu\": {\"name\": \"Intel64 Family 6 Model 158 Stepping 10, GenuineIntel\", \"cores\": 12, \"freqency\": 3696.0}, \"python\": {\"numpy\": \"1.18.3\", \"tensorflow\": {\"visible_gpu\": [], \"version\": \"2.2.0\"}, \"cupy\": \"7.2.0\"}, \"gpu\": []}, \"test_name\": \"UniformCrossover3D\", \"test_type\": \"OP\", \"ts\": 1590167261}, {\"avg_time\": 0.018616914749145508, \"backend\": \"numpy\", \"evoflow_version\": \"0.4.1\", \"generations\": 10, \"group\": \"UniformCrossover\", \"input_size\": 1000000, \"max_time\": 0.018949270248413086, \"min_time\": 0.017952442169189453, \"name\": \"2D\", \"num_runs\": 3, \"shape\": [100, 100, 100], \"shape_str\": \"100x100x100\", \"std_time\": 0.0004698530772812187, \"system\": {\"os\": {\"name\": \"Windows\", \"version\": \"10.0.18362\"}, \"memory\": {\"unit\": \"MB\", \"used\": 15771, \"total\": 65451}, \"cpu\": {\"name\": \"Intel64 Family 6 Model 158 Stepping 10, GenuineIntel\", \"cores\": 12, \"freqency\": 3696.0}, \"python\": {\"numpy\": \"1.18.3\", \"tensorflow\": {\"visible_gpu\": [\"/physical_device:GPU:0\"], \"version\": \"2.2.0\"}, \"cupy\": \"7.2.0\"}, \"gpu\": []}, \"test_name\": \"UniformCrossover2D\", \"test_type\": \"OP\", \"ts\": 1590167246}, {\"avg_time\": 0.017287174860636394, \"backend\": \"numpy\", \"evoflow_version\": \"0.4.1\", \"generations\": 10, \"group\": \"UniformCrossover\", \"input_size\": 1000000, \"max_time\": 0.01795172691345215, \"min_time\": 0.016954898834228516, \"name\": \"1D\", \"num_runs\": 3, \"shape\": [1000, 1000], \"shape_str\": \"1000x1000\", \"std_time\": 0.0004699092629974612, \"system\": {\"os\": {\"name\": \"Windows\", \"version\": \"10.0.18362\"}, \"memory\": {\"unit\": \"MB\", \"used\": 15771, \"total\": 65451}, \"cpu\": {\"name\": \"Intel64 Family 6 Model 158 Stepping 10, GenuineIntel\", \"cores\": 12, \"freqency\": 3696.0}, \"python\": {\"numpy\": \"1.18.3\", \"tensorflow\": {\"visible_gpu\": [\"/physical_device:GPU:0\"], \"version\": \"2.2.0\"}, \"cupy\": \"7.2.0\"}, \"gpu\": []}, \"test_name\": \"UniformCrossover1D\", \"test_type\": \"OP\", \"ts\": 1590167246}, {\"avg_time\": 0.01861683527628581, \"backend\": \"tensorflow-cpu\", \"evoflow_version\": \"0.4.1\", \"generations\": 10, \"group\": \"UniformCrossover\", \"input_size\": 1000000, \"max_time\": 0.018949508666992188, \"min_time\": 0.01795172691345215, \"name\": \"1D\", \"num_runs\": 3, \"shape\": [1000, 1000], \"shape_str\": \"1000x1000\", \"std_time\": 0.00047030264365569767, \"system\": {\"os\": {\"name\": \"Windows\", \"version\": \"10.0.18362\"}, \"memory\": {\"unit\": \"MB\", \"used\": 15807, \"total\": 65451}, \"cpu\": {\"name\": \"Intel64 Family 6 Model 158 Stepping 10, GenuineIntel\", \"cores\": 12, \"freqency\": 3696.0}, \"python\": {\"numpy\": \"1.18.3\", \"tensorflow\": {\"visible_gpu\": [], \"version\": \"2.2.0\"}, \"cupy\": \"7.2.0\"}, \"gpu\": []}, \"test_name\": \"UniformCrossover1D\", \"test_type\": \"OP\", \"ts\": 1590167261}, {\"avg_time\": 0.0016622543334960938, \"backend\": \"cupy\", \"evoflow_version\": \"0.4.1\", \"generations\": 10, \"group\": \"UniformCrossover\", \"input_size\": 1000000, \"max_time\": 0.0019948482513427734, \"min_time\": 0.0009970664978027344, \"name\": \"3D\", \"num_runs\": 3, \"shape\": [100, 100, 10, 10], \"shape_str\": \"100x100x10x10\", \"std_time\": 0.0004703588293815774, \"system\": {\"os\": {\"name\": \"Windows\", \"version\": \"10.0.18362\"}, \"memory\": {\"unit\": \"MB\", \"used\": 15815, \"total\": 65451}, \"cpu\": {\"name\": \"Intel64 Family 6 Model 158 Stepping 10, GenuineIntel\", \"cores\": 12, \"freqency\": 3696.0}, \"python\": {\"numpy\": \"1.18.3\", \"tensorflow\": {\"visible_gpu\": [\"/physical_device:GPU:0\"], \"version\": \"2.2.0\"}, \"cupy\": \"7.2.0\"}, \"gpu\": [{\"memory\": {\"unit\": \"MB\", \"total\": 11264, \"used\": 1475}, \"temperature\": {\"unit\": \"C\"}, \"driver\": \"445.87\", \"index\": \"0\", \"name\": \"GeForce RTX 2080 Ti\", \"value\": \"60\", \"usage\": \"1\"}]}, \"test_name\": \"UniformCrossover3D\", \"test_type\": \"OP\", \"ts\": 1590167235}, {\"avg_time\": 0.018276373545328777, \"backend\": \"tensorflow-gpu\", \"evoflow_version\": \"0.4.1\", \"generations\": 10, \"group\": \"UniformCrossover\", \"input_size\": 1000000, \"max_time\": 0.018948793411254883, \"min_time\": 0.017927885055541992, \"name\": \"3D\", \"num_runs\": 3, \"shape\": [100, 100, 10, 10], \"shape_str\": \"100x100x10x10\", \"std_time\": 0.0004755783286531155, \"system\": {\"os\": {\"name\": \"Windows\", \"version\": \"10.0.18362\"}, \"memory\": {\"unit\": \"MB\", \"used\": 15765, \"total\": 65451}, \"cpu\": {\"name\": \"Intel64 Family 6 Model 158 Stepping 10, GenuineIntel\", \"cores\": 12, \"freqency\": 3696.0}, \"python\": {\"numpy\": \"1.18.3\", \"tensorflow\": {\"visible_gpu\": [\"/physical_device:GPU:0\"], \"version\": \"2.2.0\"}, \"cupy\": \"7.2.0\"}, \"gpu\": [{\"memory\": {\"unit\": \"MB\", \"total\": 11264, \"used\": 1471}, \"temperature\": {\"unit\": \"C\"}, \"driver\": \"445.87\", \"index\": \"0\", \"name\": \"GeForce RTX 2080 Ti\", \"value\": \"58\", \"usage\": \"0\"}]}, \"test_name\": \"UniformCrossover3D\", \"test_type\": \"OP\", \"ts\": 1590167273}, {\"avg_time\": 0.015957355499267578, \"backend\": \"numpy\", \"evoflow_version\": \"0.4.1\", \"generations\": 10, \"group\": \"UniformCrossover\", \"input_size\": 1000000, \"max_time\": 0.01595759391784668, \"min_time\": 0.015957117080688477, \"name\": \"3D\", \"num_runs\": 3, \"shape\": [100, 100, 10, 10], \"shape_str\": \"100x100x10x10\", \"std_time\": 1.9466795466607238e-07, \"system\": {\"os\": {\"name\": \"Windows\", \"version\": \"10.0.18362\"}, \"memory\": {\"unit\": \"MB\", \"used\": 15771, \"total\": 65451}, \"cpu\": {\"name\": \"Intel64 Family 6 Model 158 Stepping 10, GenuineIntel\", \"cores\": 12, \"freqency\": 3696.0}, \"python\": {\"numpy\": \"1.18.3\", \"tensorflow\": {\"visible_gpu\": [\"/physical_device:GPU:0\"], \"version\": \"2.2.0\"}, \"cupy\": \"7.2.0\"}, \"gpu\": []}, \"test_name\": \"UniformCrossover3D\", \"test_type\": \"OP\", \"ts\": 1590167246}, {\"avg_time\": 0.021276553471883137, \"backend\": \"tensorflow-cpu\", \"evoflow_version\": \"0.4.1\", \"generations\": 10, \"group\": \"UniformCrossover\", \"input_size\": 1000000, \"max_time\": 0.021941661834716797, \"min_time\": 0.020943880081176758, \"name\": \"2D\", \"num_runs\": 3, \"shape\": [100, 100, 100], \"shape_str\": \"100x100x100\", \"std_time\": 0.00047030264365569767, \"system\": {\"os\": {\"name\": \"Windows\", \"version\": \"10.0.18362\"}, \"memory\": {\"unit\": \"MB\", \"used\": 15807, \"total\": 65451}, \"cpu\": {\"name\": \"Intel64 Family 6 Model 158 Stepping 10, GenuineIntel\", \"cores\": 12, \"freqency\": 3696.0}, \"python\": {\"numpy\": \"1.18.3\", \"tensorflow\": {\"visible_gpu\": [], \"version\": \"2.2.0\"}, \"cupy\": \"7.2.0\"}, \"gpu\": []}, \"test_name\": \"UniformCrossover2D\", \"test_type\": \"OP\", \"ts\": 1590167261}, {\"avg_time\": 0.0013297398885091145, \"backend\": \"cupy\", \"evoflow_version\": \"0.4.1\", \"generations\": 10, \"group\": \"UniformCrossover\", \"input_size\": 1000000, \"max_time\": 0.0019948482513427734, \"min_time\": 0.0009970664978027344, \"name\": \"2D\", \"num_runs\": 3, \"shape\": [100, 100, 100], \"shape_str\": \"100x100x100\", \"std_time\": 0.00047030264365569767, \"system\": {\"os\": {\"name\": \"Windows\", \"version\": \"10.0.18362\"}, \"memory\": {\"unit\": \"MB\", \"used\": 15815, \"total\": 65451}, \"cpu\": {\"name\": \"Intel64 Family 6 Model 158 Stepping 10, GenuineIntel\", \"cores\": 12, \"freqency\": 3696.0}, \"python\": {\"numpy\": \"1.18.3\", \"tensorflow\": {\"visible_gpu\": [\"/physical_device:GPU:0\"], \"version\": \"2.2.0\"}, \"cupy\": \"7.2.0\"}, \"gpu\": [{\"memory\": {\"unit\": \"MB\", \"total\": 11264, \"used\": 1475}, \"temperature\": {\"unit\": \"C\"}, \"driver\": \"445.87\", \"index\": \"0\", \"name\": \"GeForce RTX 2080 Ti\", \"value\": \"60\", \"usage\": \"1\"}]}, \"test_name\": \"UniformCrossover2D\", \"test_type\": \"OP\", \"ts\": 1590167235}, {\"avg_time\": 0.20910724004109701, \"backend\": \"numpy\", \"evoflow_version\": \"0.4.1\", \"generations\": 10, \"group\": \"UniformCrossover\", \"input_size\": 10000000, \"max_time\": 0.2184157371520996, \"min_time\": 0.20046377182006836, \"name\": \"3D\", \"num_runs\": 3, \"shape\": [100, 100, 100, 10], \"shape_str\": \"100x100x100x10\", \"std_time\": 0.0073439300282155, \"system\": {\"os\": {\"name\": \"Windows\", \"version\": \"10.0.18362\"}, \"memory\": {\"unit\": \"MB\", \"used\": 15771, \"total\": 65451}, \"cpu\": {\"name\": \"Intel64 Family 6 Model 158 Stepping 10, GenuineIntel\", \"cores\": 12, \"freqency\": 3696.0}, \"python\": {\"numpy\": \"1.18.3\", \"tensorflow\": {\"visible_gpu\": [\"/physical_device:GPU:0\"], \"version\": \"2.2.0\"}, \"cupy\": \"7.2.0\"}, \"gpu\": []}, \"test_name\": \"UniformCrossover3D\", \"test_type\": \"OP\", \"ts\": 1590167246}, {\"avg_time\": 0.004321893056233724, \"backend\": \"cupy\", \"evoflow_version\": \"0.4.1\", \"generations\": 10, \"group\": \"UniformCrossover\", \"input_size\": 10000000, \"max_time\": 0.004987001419067383, \"min_time\": 0.003989219665527344, \"name\": \"3D\", \"num_runs\": 3, \"shape\": [100, 100, 100, 10], \"shape_str\": \"100x100x100x10\", \"std_time\": 0.00047030264365569767, \"system\": {\"os\": {\"name\": \"Windows\", \"version\": \"10.0.18362\"}, \"memory\": {\"unit\": \"MB\", \"used\": 15815, \"total\": 65451}, \"cpu\": {\"name\": \"Intel64 Family 6 Model 158 Stepping 10, GenuineIntel\", \"cores\": 12, \"freqency\": 3696.0}, \"python\": {\"numpy\": \"1.18.3\", \"tensorflow\": {\"visible_gpu\": [\"/physical_device:GPU:0\"], \"version\": \"2.2.0\"}, \"cupy\": \"7.2.0\"}, \"gpu\": [{\"memory\": {\"unit\": \"MB\", \"total\": 11264, \"used\": 1475}, \"temperature\": {\"unit\": \"C\"}, \"driver\": \"445.87\", \"index\": \"0\", \"name\": \"GeForce RTX 2080 Ti\", \"value\": \"60\", \"usage\": \"1\"}]}, \"test_name\": \"UniformCrossover3D\", \"test_type\": \"OP\", \"ts\": 1590167235}, {\"avg_time\": 0.23653546969095865, \"backend\": \"tensorflow-cpu\", \"evoflow_version\": \"0.4.1\", \"generations\": 10, \"group\": \"UniformCrossover\", \"input_size\": 10000000, \"max_time\": 0.2518327236175537, \"min_time\": 0.22140741348266602, \"name\": \"3D\", \"num_runs\": 3, \"shape\": [100, 100, 100, 10], \"shape_str\": \"100x100x100x10\", \"std_time\": 0.012421657031221292, \"system\": {\"os\": {\"name\": \"Windows\", \"version\": \"10.0.18362\"}, \"memory\": {\"unit\": \"MB\", \"used\": 15807, \"total\": 65451}, \"cpu\": {\"name\": \"Intel64 Family 6 Model 158 Stepping 10, GenuineIntel\", \"cores\": 12, \"freqency\": 3696.0}, \"python\": {\"numpy\": \"1.18.3\", \"tensorflow\": {\"visible_gpu\": [], \"version\": \"2.2.0\"}, \"cupy\": \"7.2.0\"}, \"gpu\": []}, \"test_name\": \"UniformCrossover3D\", \"test_type\": \"OP\", \"ts\": 1590167261}, {\"avg_time\": 0.23304335276285806, \"backend\": \"tensorflow-gpu\", \"evoflow_version\": \"0.4.1\", \"generations\": 10, \"group\": \"UniformCrossover\", \"input_size\": 10000000, \"max_time\": 0.25033044815063477, \"min_time\": 0.21941256523132324, \"name\": \"3D\", \"num_runs\": 3, \"shape\": [100, 100, 100, 10], \"shape_str\": \"100x100x100x10\", \"std_time\": 0.012884236141056915, \"system\": {\"os\": {\"name\": \"Windows\", \"version\": \"10.0.18362\"}, \"memory\": {\"unit\": \"MB\", \"used\": 15765, \"total\": 65451}, \"cpu\": {\"name\": \"Intel64 Family 6 Model 158 Stepping 10, GenuineIntel\", \"cores\": 12, \"freqency\": 3696.0}, \"python\": {\"numpy\": \"1.18.3\", \"tensorflow\": {\"visible_gpu\": [\"/physical_device:GPU:0\"], \"version\": \"2.2.0\"}, \"cupy\": \"7.2.0\"}, \"gpu\": [{\"memory\": {\"unit\": \"MB\", \"total\": 11264, \"used\": 1471}, \"temperature\": {\"unit\": \"C\"}, \"driver\": \"445.87\", \"index\": \"0\", \"name\": \"GeForce RTX 2080 Ti\", \"value\": \"58\", \"usage\": \"0\"}]}, \"test_name\": \"UniformCrossover3D\", \"test_type\": \"OP\", \"ts\": 1590167273}]}}, {\"mode\": \"vega-lite\"});\n",
       "</script>"
      ],
      "text/plain": [
       "alt.FacetChart(...)"
      ]
     },
     "execution_count": 66,
     "metadata": {},
     "output_type": "execute_result"
    }
   ],
   "source": [
    "display_chart('UniformCrossover')"
   ]
  },
  {
   "cell_type": "code",
   "execution_count": 67,
   "metadata": {},
   "outputs": [
    {
     "data": {
      "text/html": [
       "<br/><b>1D</b>"
      ],
      "text/plain": [
       "<IPython.core.display.HTML object>"
      ]
     },
     "metadata": {},
     "output_type": "display_data"
    },
    {
     "data": {
      "text/html": [
       "<table>\n",
       "<thead>\n",
       "<tr><th>shape    </th><th>numpy        </th><th>tf-cpu       </th><th>tf-gpu       </th><th>cupy          </th></tr>\n",
       "</thead>\n",
       "<tbody>\n",
       "<tr><td>100x100  </td><td>0.001 (1.00x)</td><td>0.001 (1.00x)</td><td>0.001 (0.67x)</td><td>0.002 (0.29x) </td></tr>\n",
       "<tr><td>100x1000 </td><td>0.002 (1.00x)</td><td>0.002 (0.83x)</td><td>0.002 (0.71x)</td><td>0.001 (1.66x) </td></tr>\n",
       "<tr><td>1000x1000</td><td>0.017 (1.00x)</td><td>0.019 (0.93x)</td><td>0.019 (0.91x)</td><td>0.001 (17.32x)</td></tr>\n",
       "</tbody>\n",
       "</table>"
      ],
      "text/plain": [
       "<IPython.core.display.HTML object>"
      ]
     },
     "metadata": {},
     "output_type": "display_data"
    },
    {
     "data": {
      "text/html": [
       "<br/><b>2D</b>"
      ],
      "text/plain": [
       "<IPython.core.display.HTML object>"
      ]
     },
     "metadata": {},
     "output_type": "display_data"
    },
    {
     "data": {
      "text/html": [
       "<table>\n",
       "<thead>\n",
       "<tr><th>shape      </th><th>numpy        </th><th>tf-cpu       </th><th>tf-gpu       </th><th>cupy          </th></tr>\n",
       "</thead>\n",
       "<tbody>\n",
       "<tr><td>100x10x10  </td><td>0.0 (1.00x)  </td><td>0.001 (0.33x)</td><td>0.001 (0.33x)</td><td>0.001 (0.25x) </td></tr>\n",
       "<tr><td>100x100x10 </td><td>0.001 (1.00x)</td><td>0.001 (1.00x)</td><td>0.002 (0.67x)</td><td>0.001 (1.00x) </td></tr>\n",
       "<tr><td>100x100x100</td><td>0.019 (1.00x)</td><td>0.021 (0.87x)</td><td>0.021 (0.87x)</td><td>0.001 (13.99x)</td></tr>\n",
       "</tbody>\n",
       "</table>"
      ],
      "text/plain": [
       "<IPython.core.display.HTML object>"
      ]
     },
     "metadata": {},
     "output_type": "display_data"
    },
    {
     "data": {
      "text/html": [
       "<br/><b>3D</b>"
      ],
      "text/plain": [
       "<IPython.core.display.HTML object>"
      ]
     },
     "metadata": {},
     "output_type": "display_data"
    },
    {
     "data": {
      "text/html": [
       "<table>\n",
       "<thead>\n",
       "<tr><th>shape         </th><th>numpy        </th><th>tf-cpu       </th><th>tf-gpu       </th><th>cupy          </th></tr>\n",
       "</thead>\n",
       "<tbody>\n",
       "<tr><td>100x10x10x10  </td><td>0.001 (1.00x)</td><td>0.001 (1.00x)</td><td>0.002 (0.80x)</td><td>0.002 (0.80x) </td></tr>\n",
       "<tr><td>100x100x10x10 </td><td>0.016 (1.00x)</td><td>0.017 (0.92x)</td><td>0.018 (0.87x)</td><td>0.002 (9.59x) </td></tr>\n",
       "<tr><td>100x100x100x10</td><td>0.209 (1.00x)</td><td>0.237 (0.88x)</td><td>0.233 (0.90x)</td><td>0.004 (48.37x)</td></tr>\n",
       "</tbody>\n",
       "</table>"
      ],
      "text/plain": [
       "<IPython.core.display.HTML object>"
      ]
     },
     "metadata": {},
     "output_type": "display_data"
    }
   ],
   "source": [
    "display_table('UniformCrossover')"
   ]
  },
  {
   "cell_type": "code",
   "execution_count": 68,
   "metadata": {},
   "outputs": [
    {
     "data": {
      "text/html": [
       "\n",
       "<div id=\"altair-viz-3f403f3cb5b145f2a8a28f25a8b5ede3\"></div>\n",
       "<script type=\"text/javascript\">\n",
       "  (function(spec, embedOpt){\n",
       "    const outputDiv = document.getElementById(\"altair-viz-3f403f3cb5b145f2a8a28f25a8b5ede3\");\n",
       "    const paths = {\n",
       "      \"vega\": \"https://cdn.jsdelivr.net/npm//vega@5?noext\",\n",
       "      \"vega-lib\": \"https://cdn.jsdelivr.net/npm//vega-lib?noext\",\n",
       "      \"vega-lite\": \"https://cdn.jsdelivr.net/npm//vega-lite@4.0.2?noext\",\n",
       "      \"vega-embed\": \"https://cdn.jsdelivr.net/npm//vega-embed@6?noext\",\n",
       "    };\n",
       "\n",
       "    function loadScript(lib) {\n",
       "      return new Promise(function(resolve, reject) {\n",
       "        var s = document.createElement('script');\n",
       "        s.src = paths[lib];\n",
       "        s.async = true;\n",
       "        s.onload = () => resolve(paths[lib]);\n",
       "        s.onerror = () => reject(`Error loading script: ${paths[lib]}`);\n",
       "        document.getElementsByTagName(\"head\")[0].appendChild(s);\n",
       "      });\n",
       "    }\n",
       "\n",
       "    function showError(err) {\n",
       "      outputDiv.innerHTML = `<div class=\"error\" style=\"color:red;\">${err}</div>`;\n",
       "      throw err;\n",
       "    }\n",
       "\n",
       "    function displayChart(vegaEmbed) {\n",
       "      vegaEmbed(outputDiv, spec, embedOpt)\n",
       "        .catch(err => showError(`Javascript Error: ${err.message}<br>This usually means there's a typo in your chart specification. See the javascript console for the full traceback.`));\n",
       "    }\n",
       "\n",
       "    if(typeof define === \"function\" && define.amd) {\n",
       "      requirejs.config({paths});\n",
       "      require([\"vega-embed\"], displayChart, err => showError(`Error loading script: ${err.message}`));\n",
       "    } else if (typeof vegaEmbed === \"function\") {\n",
       "      displayChart(vegaEmbed);\n",
       "    } else {\n",
       "      loadScript(\"vega\")\n",
       "        .then(() => loadScript(\"vega-lite\"))\n",
       "        .then(() => loadScript(\"vega-embed\"))\n",
       "        .catch(showError)\n",
       "        .then(() => displayChart(vegaEmbed));\n",
       "    }\n",
       "  })({\"config\": {\"view\": {\"continuousWidth\": 400, \"continuousHeight\": 300}, \"title\": {\"anchor\": \"middle\", \"fontSize\": 20, \"offset\": 5, \"orient\": \"top\"}}, \"data\": {\"name\": \"data-176550e956a58e30d0c8063ea43ab5e8\"}, \"facet\": {\"column\": {\"type\": \"nominal\", \"field\": \"name\"}}, \"spec\": {\"mark\": \"bar\", \"encoding\": {\"color\": {\"type\": \"nominal\", \"field\": \"backend\", \"legend\": null}, \"column\": {\"type\": \"nominal\", \"field\": \"shape_str\", \"sort\": {\"field\": \"input_size\", \"order\": \"ascending\"}, \"title\": \"\"}, \"x\": {\"type\": \"nominal\", \"axis\": {\"title\": \"\"}, \"field\": \"backend\"}, \"y\": {\"type\": \"quantitative\", \"axis\": {\"title\": \"\"}, \"field\": \"avg_time\", \"sort\": \"-x\"}}, \"resolve\": {\"scale\": {\"y\": \"independent\"}}, \"title\": \"\"}, \"spacing\": 50, \"title\": \"SingleCrossover\", \"$schema\": \"https://vega.github.io/schema/vega-lite/v4.0.2.json\", \"datasets\": {\"data-176550e956a58e30d0c8063ea43ab5e8\": [{\"avg_time\": 0.00033219655354817707, \"backend\": \"cupy\", \"evoflow_version\": \"0.4.1\", \"generations\": 10, \"group\": \"SingleCrossover\", \"input_size\": 10000, \"max_time\": 0.0009965896606445312, \"min_time\": 0.0, \"name\": \"1D\", \"num_runs\": 3, \"shape\": [100, 100], \"shape_str\": \"100x100\", \"std_time\": 0.00046979687140143216, \"system\": {\"os\": {\"name\": \"Windows\", \"version\": \"10.0.18362\"}, \"memory\": {\"unit\": \"MB\", \"used\": 15815, \"total\": 65451}, \"cpu\": {\"name\": \"Intel64 Family 6 Model 158 Stepping 10, GenuineIntel\", \"cores\": 12, \"freqency\": 3696.0}, \"python\": {\"numpy\": \"1.18.3\", \"tensorflow\": {\"visible_gpu\": [\"/physical_device:GPU:0\"], \"version\": \"2.2.0\"}, \"cupy\": \"7.2.0\"}, \"gpu\": [{\"memory\": {\"unit\": \"MB\", \"total\": 11264, \"used\": 1475}, \"temperature\": {\"unit\": \"C\"}, \"driver\": \"445.87\", \"index\": \"0\", \"name\": \"GeForce RTX 2080 Ti\", \"value\": \"60\", \"usage\": \"1\"}]}, \"test_name\": \"SingleCrossover1D\", \"test_type\": \"OP\", \"ts\": 1590167235}, {\"avg_time\": 0.00033243497212727863, \"backend\": \"tensorflow-gpu\", \"evoflow_version\": \"0.4.1\", \"generations\": 10, \"group\": \"SingleCrossover\", \"input_size\": 10000, \"max_time\": 0.000997304916381836, \"min_time\": 0.0, \"name\": \"1D\", \"num_runs\": 3, \"shape\": [100, 100], \"shape_str\": \"100x100\", \"std_time\": 0.0004701340461895193, \"system\": {\"os\": {\"name\": \"Windows\", \"version\": \"10.0.18362\"}, \"memory\": {\"unit\": \"MB\", \"used\": 15765, \"total\": 65451}, \"cpu\": {\"name\": \"Intel64 Family 6 Model 158 Stepping 10, GenuineIntel\", \"cores\": 12, \"freqency\": 3696.0}, \"python\": {\"numpy\": \"1.18.3\", \"tensorflow\": {\"visible_gpu\": [\"/physical_device:GPU:0\"], \"version\": \"2.2.0\"}, \"cupy\": \"7.2.0\"}, \"gpu\": [{\"memory\": {\"unit\": \"MB\", \"total\": 11264, \"used\": 1471}, \"temperature\": {\"unit\": \"C\"}, \"driver\": \"445.87\", \"index\": \"0\", \"name\": \"GeForce RTX 2080 Ti\", \"value\": \"58\", \"usage\": \"0\"}]}, \"test_name\": \"SingleCrossover1D\", \"test_type\": \"OP\", \"ts\": 1590167273}, {\"avg_time\": 0.00033211708068847656, \"backend\": \"cupy\", \"evoflow_version\": \"0.4.1\", \"generations\": 10, \"group\": \"SingleCrossover\", \"input_size\": 10000, \"max_time\": 0.0009963512420654297, \"min_time\": 0.0, \"name\": \"2D\", \"num_runs\": 3, \"shape\": [100, 10, 10], \"shape_str\": \"100x10x10\", \"std_time\": 0.0004696844798054031, \"system\": {\"os\": {\"name\": \"Windows\", \"version\": \"10.0.18362\"}, \"memory\": {\"unit\": \"MB\", \"used\": 15815, \"total\": 65451}, \"cpu\": {\"name\": \"Intel64 Family 6 Model 158 Stepping 10, GenuineIntel\", \"cores\": 12, \"freqency\": 3696.0}, \"python\": {\"numpy\": \"1.18.3\", \"tensorflow\": {\"visible_gpu\": [\"/physical_device:GPU:0\"], \"version\": \"2.2.0\"}, \"cupy\": \"7.2.0\"}, \"gpu\": [{\"memory\": {\"unit\": \"MB\", \"total\": 11264, \"used\": 1475}, \"temperature\": {\"unit\": \"C\"}, \"driver\": \"445.87\", \"index\": \"0\", \"name\": \"GeForce RTX 2080 Ti\", \"value\": \"60\", \"usage\": \"1\"}]}, \"test_name\": \"SingleCrossover2D\", \"test_type\": \"OP\", \"ts\": 1590167235}, {\"avg_time\": 0.0, \"backend\": \"tensorflow-cpu\", \"evoflow_version\": \"0.4.1\", \"generations\": 10, \"group\": \"SingleCrossover\", \"input_size\": 10000, \"max_time\": 0.0, \"min_time\": 0.0, \"name\": \"2D\", \"num_runs\": 3, \"shape\": [100, 10, 10], \"shape_str\": \"100x10x10\", \"std_time\": 0.0, \"system\": {\"os\": {\"name\": \"Windows\", \"version\": \"10.0.18362\"}, \"memory\": {\"unit\": \"MB\", \"used\": 15807, \"total\": 65451}, \"cpu\": {\"name\": \"Intel64 Family 6 Model 158 Stepping 10, GenuineIntel\", \"cores\": 12, \"freqency\": 3696.0}, \"python\": {\"numpy\": \"1.18.3\", \"tensorflow\": {\"visible_gpu\": [], \"version\": \"2.2.0\"}, \"cupy\": \"7.2.0\"}, \"gpu\": []}, \"test_name\": \"SingleCrossover2D\", \"test_type\": \"OP\", \"ts\": 1590167261}, {\"avg_time\": 0.0, \"backend\": \"tensorflow-cpu\", \"evoflow_version\": \"0.4.1\", \"generations\": 10, \"group\": \"SingleCrossover\", \"input_size\": 10000, \"max_time\": 0.0, \"min_time\": 0.0, \"name\": \"1D\", \"num_runs\": 3, \"shape\": [100, 100], \"shape_str\": \"100x100\", \"std_time\": 0.0, \"system\": {\"os\": {\"name\": \"Windows\", \"version\": \"10.0.18362\"}, \"memory\": {\"unit\": \"MB\", \"used\": 15807, \"total\": 65451}, \"cpu\": {\"name\": \"Intel64 Family 6 Model 158 Stepping 10, GenuineIntel\", \"cores\": 12, \"freqency\": 3696.0}, \"python\": {\"numpy\": \"1.18.3\", \"tensorflow\": {\"visible_gpu\": [], \"version\": \"2.2.0\"}, \"cupy\": \"7.2.0\"}, \"gpu\": []}, \"test_name\": \"SingleCrossover1D\", \"test_type\": \"OP\", \"ts\": 1590167261}, {\"avg_time\": 0.0003322760264078776, \"backend\": \"numpy\", \"evoflow_version\": \"0.4.1\", \"generations\": 10, \"group\": \"SingleCrossover\", \"input_size\": 10000, \"max_time\": 0.0009968280792236328, \"min_time\": 0.0, \"name\": \"1D\", \"num_runs\": 3, \"shape\": [100, 100], \"shape_str\": \"100x100\", \"std_time\": 0.0004699092629974611, \"system\": {\"os\": {\"name\": \"Windows\", \"version\": \"10.0.18362\"}, \"memory\": {\"unit\": \"MB\", \"used\": 15771, \"total\": 65451}, \"cpu\": {\"name\": \"Intel64 Family 6 Model 158 Stepping 10, GenuineIntel\", \"cores\": 12, \"freqency\": 3696.0}, \"python\": {\"numpy\": \"1.18.3\", \"tensorflow\": {\"visible_gpu\": [\"/physical_device:GPU:0\"], \"version\": \"2.2.0\"}, \"cupy\": \"7.2.0\"}, \"gpu\": []}, \"test_name\": \"SingleCrossover1D\", \"test_type\": \"OP\", \"ts\": 1590167246}, {\"avg_time\": 0.0, \"backend\": \"tensorflow-gpu\", \"evoflow_version\": \"0.4.1\", \"generations\": 10, \"group\": \"SingleCrossover\", \"input_size\": 10000, \"max_time\": 0.0, \"min_time\": 0.0, \"name\": \"2D\", \"num_runs\": 3, \"shape\": [100, 10, 10], \"shape_str\": \"100x10x10\", \"std_time\": 0.0, \"system\": {\"os\": {\"name\": \"Windows\", \"version\": \"10.0.18362\"}, \"memory\": {\"unit\": \"MB\", \"used\": 15765, \"total\": 65451}, \"cpu\": {\"name\": \"Intel64 Family 6 Model 158 Stepping 10, GenuineIntel\", \"cores\": 12, \"freqency\": 3696.0}, \"python\": {\"numpy\": \"1.18.3\", \"tensorflow\": {\"visible_gpu\": [\"/physical_device:GPU:0\"], \"version\": \"2.2.0\"}, \"cupy\": \"7.2.0\"}, \"gpu\": [{\"memory\": {\"unit\": \"MB\", \"total\": 11264, \"used\": 1471}, \"temperature\": {\"unit\": \"C\"}, \"driver\": \"445.87\", \"index\": \"0\", \"name\": \"GeForce RTX 2080 Ti\", \"value\": \"58\", \"usage\": \"0\"}]}, \"test_name\": \"SingleCrossover2D\", \"test_type\": \"OP\", \"ts\": 1590167273}, {\"avg_time\": 0.0003323554992675781, \"backend\": \"numpy\", \"evoflow_version\": \"0.4.1\", \"generations\": 10, \"group\": \"SingleCrossover\", \"input_size\": 10000, \"max_time\": 0.0009970664978027344, \"min_time\": 0.0, \"name\": \"2D\", \"num_runs\": 3, \"shape\": [100, 10, 10], \"shape_str\": \"100x10x10\", \"std_time\": 0.00047002165459349024, \"system\": {\"os\": {\"name\": \"Windows\", \"version\": \"10.0.18362\"}, \"memory\": {\"unit\": \"MB\", \"used\": 15771, \"total\": 65451}, \"cpu\": {\"name\": \"Intel64 Family 6 Model 158 Stepping 10, GenuineIntel\", \"cores\": 12, \"freqency\": 3696.0}, \"python\": {\"numpy\": \"1.18.3\", \"tensorflow\": {\"visible_gpu\": [\"/physical_device:GPU:0\"], \"version\": \"2.2.0\"}, \"cupy\": \"7.2.0\"}, \"gpu\": []}, \"test_name\": \"SingleCrossover2D\", \"test_type\": \"OP\", \"ts\": 1590167246}, {\"avg_time\": 0.0, \"backend\": \"tensorflow-gpu\", \"evoflow_version\": \"0.4.1\", \"generations\": 10, \"group\": \"SingleCrossover\", \"input_size\": 100000, \"max_time\": 0.0, \"min_time\": 0.0, \"name\": \"1D\", \"num_runs\": 3, \"shape\": [100, 1000], \"shape_str\": \"100x1000\", \"std_time\": 0.0, \"system\": {\"os\": {\"name\": \"Windows\", \"version\": \"10.0.18362\"}, \"memory\": {\"unit\": \"MB\", \"used\": 15765, \"total\": 65451}, \"cpu\": {\"name\": \"Intel64 Family 6 Model 158 Stepping 10, GenuineIntel\", \"cores\": 12, \"freqency\": 3696.0}, \"python\": {\"numpy\": \"1.18.3\", \"tensorflow\": {\"visible_gpu\": [\"/physical_device:GPU:0\"], \"version\": \"2.2.0\"}, \"cupy\": \"7.2.0\"}, \"gpu\": [{\"memory\": {\"unit\": \"MB\", \"total\": 11264, \"used\": 1471}, \"temperature\": {\"unit\": \"C\"}, \"driver\": \"445.87\", \"index\": \"0\", \"name\": \"GeForce RTX 2080 Ti\", \"value\": \"58\", \"usage\": \"0\"}]}, \"test_name\": \"SingleCrossover1D\", \"test_type\": \"OP\", \"ts\": 1590167273}, {\"avg_time\": 0.00033243497212727863, \"backend\": \"tensorflow-cpu\", \"evoflow_version\": \"0.4.1\", \"generations\": 10, \"group\": \"SingleCrossover\", \"input_size\": 100000, \"max_time\": 0.000997304916381836, \"min_time\": 0.0, \"name\": \"3D\", \"num_runs\": 3, \"shape\": [100, 10, 10, 10], \"shape_str\": \"100x10x10x10\", \"std_time\": 0.0004701340461895193, \"system\": {\"os\": {\"name\": \"Windows\", \"version\": \"10.0.18362\"}, \"memory\": {\"unit\": \"MB\", \"used\": 15807, \"total\": 65451}, \"cpu\": {\"name\": \"Intel64 Family 6 Model 158 Stepping 10, GenuineIntel\", \"cores\": 12, \"freqency\": 3696.0}, \"python\": {\"numpy\": \"1.18.3\", \"tensorflow\": {\"visible_gpu\": [], \"version\": \"2.2.0\"}, \"cupy\": \"7.2.0\"}, \"gpu\": []}, \"test_name\": \"SingleCrossover3D\", \"test_type\": \"OP\", \"ts\": 1590167261}, {\"avg_time\": 0.0, \"backend\": \"tensorflow-cpu\", \"evoflow_version\": \"0.4.1\", \"generations\": 10, \"group\": \"SingleCrossover\", \"input_size\": 100000, \"max_time\": 0.0, \"min_time\": 0.0, \"name\": \"2D\", \"num_runs\": 3, \"shape\": [100, 100, 10], \"shape_str\": \"100x100x10\", \"std_time\": 0.0, \"system\": {\"os\": {\"name\": \"Windows\", \"version\": \"10.0.18362\"}, \"memory\": {\"unit\": \"MB\", \"used\": 15807, \"total\": 65451}, \"cpu\": {\"name\": \"Intel64 Family 6 Model 158 Stepping 10, GenuineIntel\", \"cores\": 12, \"freqency\": 3696.0}, \"python\": {\"numpy\": \"1.18.3\", \"tensorflow\": {\"visible_gpu\": [], \"version\": \"2.2.0\"}, \"cupy\": \"7.2.0\"}, \"gpu\": []}, \"test_name\": \"SingleCrossover2D\", \"test_type\": \"OP\", \"ts\": 1590167261}, {\"avg_time\": 0.0003325144449869792, \"backend\": \"tensorflow-cpu\", \"evoflow_version\": \"0.4.1\", \"generations\": 10, \"group\": \"SingleCrossover\", \"input_size\": 100000, \"max_time\": 0.0009975433349609375, \"min_time\": 0.0, \"name\": \"1D\", \"num_runs\": 3, \"shape\": [100, 1000], \"shape_str\": \"100x1000\", \"std_time\": 0.00047024643778554833, \"system\": {\"os\": {\"name\": \"Windows\", \"version\": \"10.0.18362\"}, \"memory\": {\"unit\": \"MB\", \"used\": 15807, \"total\": 65451}, \"cpu\": {\"name\": \"Intel64 Family 6 Model 158 Stepping 10, GenuineIntel\", \"cores\": 12, \"freqency\": 3696.0}, \"python\": {\"numpy\": \"1.18.3\", \"tensorflow\": {\"visible_gpu\": [], \"version\": \"2.2.0\"}, \"cupy\": \"7.2.0\"}, \"gpu\": []}, \"test_name\": \"SingleCrossover1D\", \"test_type\": \"OP\", \"ts\": 1590167261}, {\"avg_time\": 0.0003323554992675781, \"backend\": \"numpy\", \"evoflow_version\": \"0.4.1\", \"generations\": 10, \"group\": \"SingleCrossover\", \"input_size\": 100000, \"max_time\": 0.0009970664978027344, \"min_time\": 0.0, \"name\": \"2D\", \"num_runs\": 3, \"shape\": [100, 100, 10], \"shape_str\": \"100x100x10\", \"std_time\": 0.00047002165459349024, \"system\": {\"os\": {\"name\": \"Windows\", \"version\": \"10.0.18362\"}, \"memory\": {\"unit\": \"MB\", \"used\": 15771, \"total\": 65451}, \"cpu\": {\"name\": \"Intel64 Family 6 Model 158 Stepping 10, GenuineIntel\", \"cores\": 12, \"freqency\": 3696.0}, \"python\": {\"numpy\": \"1.18.3\", \"tensorflow\": {\"visible_gpu\": [\"/physical_device:GPU:0\"], \"version\": \"2.2.0\"}, \"cupy\": \"7.2.0\"}, \"gpu\": []}, \"test_name\": \"SingleCrossover2D\", \"test_type\": \"OP\", \"ts\": 1590167246}, {\"avg_time\": 0.0, \"backend\": \"numpy\", \"evoflow_version\": \"0.4.1\", \"generations\": 10, \"group\": \"SingleCrossover\", \"input_size\": 100000, \"max_time\": 0.0, \"min_time\": 0.0, \"name\": \"3D\", \"num_runs\": 3, \"shape\": [100, 10, 10, 10], \"shape_str\": \"100x10x10x10\", \"std_time\": 0.0, \"system\": {\"os\": {\"name\": \"Windows\", \"version\": \"10.0.18362\"}, \"memory\": {\"unit\": \"MB\", \"used\": 15771, \"total\": 65451}, \"cpu\": {\"name\": \"Intel64 Family 6 Model 158 Stepping 10, GenuineIntel\", \"cores\": 12, \"freqency\": 3696.0}, \"python\": {\"numpy\": \"1.18.3\", \"tensorflow\": {\"visible_gpu\": [\"/physical_device:GPU:0\"], \"version\": \"2.2.0\"}, \"cupy\": \"7.2.0\"}, \"gpu\": []}, \"test_name\": \"SingleCrossover3D\", \"test_type\": \"OP\", \"ts\": 1590167246}, {\"avg_time\": 0.0003325144449869792, \"backend\": \"tensorflow-gpu\", \"evoflow_version\": \"0.4.1\", \"generations\": 10, \"group\": \"SingleCrossover\", \"input_size\": 100000, \"max_time\": 0.0009975433349609375, \"min_time\": 0.0, \"name\": \"2D\", \"num_runs\": 3, \"shape\": [100, 100, 10], \"shape_str\": \"100x100x10\", \"std_time\": 0.00047024643778554833, \"system\": {\"os\": {\"name\": \"Windows\", \"version\": \"10.0.18362\"}, \"memory\": {\"unit\": \"MB\", \"used\": 15765, \"total\": 65451}, \"cpu\": {\"name\": \"Intel64 Family 6 Model 158 Stepping 10, GenuineIntel\", \"cores\": 12, \"freqency\": 3696.0}, \"python\": {\"numpy\": \"1.18.3\", \"tensorflow\": {\"visible_gpu\": [\"/physical_device:GPU:0\"], \"version\": \"2.2.0\"}, \"cupy\": \"7.2.0\"}, \"gpu\": [{\"memory\": {\"unit\": \"MB\", \"total\": 11264, \"used\": 1471}, \"temperature\": {\"unit\": \"C\"}, \"driver\": \"445.87\", \"index\": \"0\", \"name\": \"GeForce RTX 2080 Ti\", \"value\": \"58\", \"usage\": \"0\"}]}, \"test_name\": \"SingleCrossover2D\", \"test_type\": \"OP\", \"ts\": 1590167273}, {\"avg_time\": 0.0, \"backend\": \"numpy\", \"evoflow_version\": \"0.4.1\", \"generations\": 10, \"group\": \"SingleCrossover\", \"input_size\": 100000, \"max_time\": 0.0, \"min_time\": 0.0, \"name\": \"1D\", \"num_runs\": 3, \"shape\": [100, 1000], \"shape_str\": \"100x1000\", \"std_time\": 0.0, \"system\": {\"os\": {\"name\": \"Windows\", \"version\": \"10.0.18362\"}, \"memory\": {\"unit\": \"MB\", \"used\": 15771, \"total\": 65451}, \"cpu\": {\"name\": \"Intel64 Family 6 Model 158 Stepping 10, GenuineIntel\", \"cores\": 12, \"freqency\": 3696.0}, \"python\": {\"numpy\": \"1.18.3\", \"tensorflow\": {\"visible_gpu\": [\"/physical_device:GPU:0\"], \"version\": \"2.2.0\"}, \"cupy\": \"7.2.0\"}, \"gpu\": []}, \"test_name\": \"SingleCrossover1D\", \"test_type\": \"OP\", \"ts\": 1590167246}, {\"avg_time\": 0.00033243497212727863, \"backend\": \"cupy\", \"evoflow_version\": \"0.4.1\", \"generations\": 10, \"group\": \"SingleCrossover\", \"input_size\": 100000, \"max_time\": 0.000997304916381836, \"min_time\": 0.0, \"name\": \"1D\", \"num_runs\": 3, \"shape\": [100, 1000], \"shape_str\": \"100x1000\", \"std_time\": 0.0004701340461895193, \"system\": {\"os\": {\"name\": \"Windows\", \"version\": \"10.0.18362\"}, \"memory\": {\"unit\": \"MB\", \"used\": 15815, \"total\": 65451}, \"cpu\": {\"name\": \"Intel64 Family 6 Model 158 Stepping 10, GenuineIntel\", \"cores\": 12, \"freqency\": 3696.0}, \"python\": {\"numpy\": \"1.18.3\", \"tensorflow\": {\"visible_gpu\": [\"/physical_device:GPU:0\"], \"version\": \"2.2.0\"}, \"cupy\": \"7.2.0\"}, \"gpu\": [{\"memory\": {\"unit\": \"MB\", \"total\": 11264, \"used\": 1475}, \"temperature\": {\"unit\": \"C\"}, \"driver\": \"445.87\", \"index\": \"0\", \"name\": \"GeForce RTX 2080 Ti\", \"value\": \"60\", \"usage\": \"1\"}]}, \"test_name\": \"SingleCrossover1D\", \"test_type\": \"OP\", \"ts\": 1590167235}, {\"avg_time\": 0.0003325144449869792, \"backend\": \"tensorflow-gpu\", \"evoflow_version\": \"0.4.1\", \"generations\": 10, \"group\": \"SingleCrossover\", \"input_size\": 100000, \"max_time\": 0.0009975433349609375, \"min_time\": 0.0, \"name\": \"3D\", \"num_runs\": 3, \"shape\": [100, 10, 10, 10], \"shape_str\": \"100x10x10x10\", \"std_time\": 0.00047024643778554833, \"system\": {\"os\": {\"name\": \"Windows\", \"version\": \"10.0.18362\"}, \"memory\": {\"unit\": \"MB\", \"used\": 15765, \"total\": 65451}, \"cpu\": {\"name\": \"Intel64 Family 6 Model 158 Stepping 10, GenuineIntel\", \"cores\": 12, \"freqency\": 3696.0}, \"python\": {\"numpy\": \"1.18.3\", \"tensorflow\": {\"visible_gpu\": [\"/physical_device:GPU:0\"], \"version\": \"2.2.0\"}, \"cupy\": \"7.2.0\"}, \"gpu\": [{\"memory\": {\"unit\": \"MB\", \"total\": 11264, \"used\": 1471}, \"temperature\": {\"unit\": \"C\"}, \"driver\": \"445.87\", \"index\": \"0\", \"name\": \"GeForce RTX 2080 Ti\", \"value\": \"58\", \"usage\": \"0\"}]}, \"test_name\": \"SingleCrossover3D\", \"test_type\": \"OP\", \"ts\": 1590167273}, {\"avg_time\": 0.0, \"backend\": \"cupy\", \"evoflow_version\": \"0.4.1\", \"generations\": 10, \"group\": \"SingleCrossover\", \"input_size\": 100000, \"max_time\": 0.0, \"min_time\": 0.0, \"name\": \"3D\", \"num_runs\": 3, \"shape\": [100, 10, 10, 10], \"shape_str\": \"100x10x10x10\", \"std_time\": 0.0, \"system\": {\"os\": {\"name\": \"Windows\", \"version\": \"10.0.18362\"}, \"memory\": {\"unit\": \"MB\", \"used\": 15815, \"total\": 65451}, \"cpu\": {\"name\": \"Intel64 Family 6 Model 158 Stepping 10, GenuineIntel\", \"cores\": 12, \"freqency\": 3696.0}, \"python\": {\"numpy\": \"1.18.3\", \"tensorflow\": {\"visible_gpu\": [\"/physical_device:GPU:0\"], \"version\": \"2.2.0\"}, \"cupy\": \"7.2.0\"}, \"gpu\": [{\"memory\": {\"unit\": \"MB\", \"total\": 11264, \"used\": 1475}, \"temperature\": {\"unit\": \"C\"}, \"driver\": \"445.87\", \"index\": \"0\", \"name\": \"GeForce RTX 2080 Ti\", \"value\": \"60\", \"usage\": \"1\"}]}, \"test_name\": \"SingleCrossover3D\", \"test_type\": \"OP\", \"ts\": 1590167235}, {\"avg_time\": 0.0, \"backend\": \"cupy\", \"evoflow_version\": \"0.4.1\", \"generations\": 10, \"group\": \"SingleCrossover\", \"input_size\": 100000, \"max_time\": 0.0, \"min_time\": 0.0, \"name\": \"2D\", \"num_runs\": 3, \"shape\": [100, 100, 10], \"shape_str\": \"100x100x10\", \"std_time\": 0.0, \"system\": {\"os\": {\"name\": \"Windows\", \"version\": \"10.0.18362\"}, \"memory\": {\"unit\": \"MB\", \"used\": 15815, \"total\": 65451}, \"cpu\": {\"name\": \"Intel64 Family 6 Model 158 Stepping 10, GenuineIntel\", \"cores\": 12, \"freqency\": 3696.0}, \"python\": {\"numpy\": \"1.18.3\", \"tensorflow\": {\"visible_gpu\": [\"/physical_device:GPU:0\"], \"version\": \"2.2.0\"}, \"cupy\": \"7.2.0\"}, \"gpu\": [{\"memory\": {\"unit\": \"MB\", \"total\": 11264, \"used\": 1475}, \"temperature\": {\"unit\": \"C\"}, \"driver\": \"445.87\", \"index\": \"0\", \"name\": \"GeForce RTX 2080 Ti\", \"value\": \"60\", \"usage\": \"1\"}]}, \"test_name\": \"SingleCrossover2D\", \"test_type\": \"OP\", \"ts\": 1590167235}, {\"avg_time\": 0.004986763000488281, \"backend\": \"tensorflow-gpu\", \"evoflow_version\": \"0.4.1\", \"generations\": 10, \"group\": \"SingleCrossover\", \"input_size\": 1000000, \"max_time\": 0.004987001419067383, \"min_time\": 0.00498652458190918, \"name\": \"1D\", \"num_runs\": 3, \"shape\": [1000, 1000], \"shape_str\": \"1000x1000\", \"std_time\": 1.9466795466607238e-07, \"system\": {\"os\": {\"name\": \"Windows\", \"version\": \"10.0.18362\"}, \"memory\": {\"unit\": \"MB\", \"used\": 15765, \"total\": 65451}, \"cpu\": {\"name\": \"Intel64 Family 6 Model 158 Stepping 10, GenuineIntel\", \"cores\": 12, \"freqency\": 3696.0}, \"python\": {\"numpy\": \"1.18.3\", \"tensorflow\": {\"visible_gpu\": [\"/physical_device:GPU:0\"], \"version\": \"2.2.0\"}, \"cupy\": \"7.2.0\"}, \"gpu\": [{\"memory\": {\"unit\": \"MB\", \"total\": 11264, \"used\": 1471}, \"temperature\": {\"unit\": \"C\"}, \"driver\": \"445.87\", \"index\": \"0\", \"name\": \"GeForce RTX 2080 Ti\", \"value\": \"58\", \"usage\": \"0\"}]}, \"test_name\": \"SingleCrossover1D\", \"test_type\": \"OP\", \"ts\": 1590167273}, {\"avg_time\": 0.0003323554992675781, \"backend\": \"cupy\", \"evoflow_version\": \"0.4.1\", \"generations\": 10, \"group\": \"SingleCrossover\", \"input_size\": 1000000, \"max_time\": 0.0009970664978027344, \"min_time\": 0.0, \"name\": \"1D\", \"num_runs\": 3, \"shape\": [1000, 1000], \"shape_str\": \"1000x1000\", \"std_time\": 0.00047002165459349024, \"system\": {\"os\": {\"name\": \"Windows\", \"version\": \"10.0.18362\"}, \"memory\": {\"unit\": \"MB\", \"used\": 15815, \"total\": 65451}, \"cpu\": {\"name\": \"Intel64 Family 6 Model 158 Stepping 10, GenuineIntel\", \"cores\": 12, \"freqency\": 3696.0}, \"python\": {\"numpy\": \"1.18.3\", \"tensorflow\": {\"visible_gpu\": [\"/physical_device:GPU:0\"], \"version\": \"2.2.0\"}, \"cupy\": \"7.2.0\"}, \"gpu\": [{\"memory\": {\"unit\": \"MB\", \"total\": 11264, \"used\": 1475}, \"temperature\": {\"unit\": \"C\"}, \"driver\": \"445.87\", \"index\": \"0\", \"name\": \"GeForce RTX 2080 Ti\", \"value\": \"60\", \"usage\": \"1\"}]}, \"test_name\": \"SingleCrossover1D\", \"test_type\": \"OP\", \"ts\": 1590167235}, {\"avg_time\": 0.004986683527628581, \"backend\": \"tensorflow-gpu\", \"evoflow_version\": \"0.4.1\", \"generations\": 10, \"group\": \"SingleCrossover\", \"input_size\": 1000000, \"max_time\": 0.004986763000488281, \"min_time\": 0.00498652458190918, \"name\": \"2D\", \"num_runs\": 3, \"shape\": [100, 100, 100], \"shape_str\": \"100x100x100\", \"std_time\": 1.1239159602905075e-07, \"system\": {\"os\": {\"name\": \"Windows\", \"version\": \"10.0.18362\"}, \"memory\": {\"unit\": \"MB\", \"used\": 15765, \"total\": 65451}, \"cpu\": {\"name\": \"Intel64 Family 6 Model 158 Stepping 10, GenuineIntel\", \"cores\": 12, \"freqency\": 3696.0}, \"python\": {\"numpy\": \"1.18.3\", \"tensorflow\": {\"visible_gpu\": [\"/physical_device:GPU:0\"], \"version\": \"2.2.0\"}, \"cupy\": \"7.2.0\"}, \"gpu\": [{\"memory\": {\"unit\": \"MB\", \"total\": 11264, \"used\": 1471}, \"temperature\": {\"unit\": \"C\"}, \"driver\": \"445.87\", \"index\": \"0\", \"name\": \"GeForce RTX 2080 Ti\", \"value\": \"58\", \"usage\": \"0\"}]}, \"test_name\": \"SingleCrossover2D\", \"test_type\": \"OP\", \"ts\": 1590167273}, {\"avg_time\": 0.00531919797261556, \"backend\": \"tensorflow-cpu\", \"evoflow_version\": \"0.4.1\", \"generations\": 10, \"group\": \"SingleCrossover\", \"input_size\": 1000000, \"max_time\": 0.0059833526611328125, \"min_time\": 0.00498652458190918, \"name\": \"3D\", \"num_runs\": 3, \"shape\": [100, 100, 10, 10], \"shape_str\": \"100x100x10x10\", \"std_time\": 0.0004696285361722635, \"system\": {\"os\": {\"name\": \"Windows\", \"version\": \"10.0.18362\"}, \"memory\": {\"unit\": \"MB\", \"used\": 15807, \"total\": 65451}, \"cpu\": {\"name\": \"Intel64 Family 6 Model 158 Stepping 10, GenuineIntel\", \"cores\": 12, \"freqency\": 3696.0}, \"python\": {\"numpy\": \"1.18.3\", \"tensorflow\": {\"visible_gpu\": [], \"version\": \"2.2.0\"}, \"cupy\": \"7.2.0\"}, \"gpu\": []}, \"test_name\": \"SingleCrossover3D\", \"test_type\": \"OP\", \"ts\": 1590167261}, {\"avg_time\": 0.0016621748606363933, \"backend\": \"numpy\", \"evoflow_version\": \"0.4.1\", \"generations\": 10, \"group\": \"SingleCrossover\", \"input_size\": 1000000, \"max_time\": 0.0019953250885009766, \"min_time\": 0.0009970664978027344, \"name\": \"2D\", \"num_runs\": 3, \"shape\": [100, 100, 100], \"shape_str\": \"100x100x100\", \"std_time\": 0.0004703028853868681, \"system\": {\"os\": {\"name\": \"Windows\", \"version\": \"10.0.18362\"}, \"memory\": {\"unit\": \"MB\", \"used\": 15771, \"total\": 65451}, \"cpu\": {\"name\": \"Intel64 Family 6 Model 158 Stepping 10, GenuineIntel\", \"cores\": 12, \"freqency\": 3696.0}, \"python\": {\"numpy\": \"1.18.3\", \"tensorflow\": {\"visible_gpu\": [\"/physical_device:GPU:0\"], \"version\": \"2.2.0\"}, \"cupy\": \"7.2.0\"}, \"gpu\": []}, \"test_name\": \"SingleCrossover2D\", \"test_type\": \"OP\", \"ts\": 1590167246}, {\"avg_time\": 0.002991914749145508, \"backend\": \"numpy\", \"evoflow_version\": \"0.4.1\", \"generations\": 10, \"group\": \"SingleCrossover\", \"input_size\": 1000000, \"max_time\": 0.002992391586303711, \"min_time\": 0.0029914379119873047, \"name\": \"1D\", \"num_runs\": 3, \"shape\": [1000, 1000], \"shape_str\": \"1000x1000\", \"std_time\": 3.8933590933214475e-07, \"system\": {\"os\": {\"name\": \"Windows\", \"version\": \"10.0.18362\"}, \"memory\": {\"unit\": \"MB\", \"used\": 15771, \"total\": 65451}, \"cpu\": {\"name\": \"Intel64 Family 6 Model 158 Stepping 10, GenuineIntel\", \"cores\": 12, \"freqency\": 3696.0}, \"python\": {\"numpy\": \"1.18.3\", \"tensorflow\": {\"visible_gpu\": [\"/physical_device:GPU:0\"], \"version\": \"2.2.0\"}, \"cupy\": \"7.2.0\"}, \"gpu\": []}, \"test_name\": \"SingleCrossover1D\", \"test_type\": \"OP\", \"ts\": 1590167246}, {\"avg_time\": 0.004986763000488281, \"backend\": \"tensorflow-cpu\", \"evoflow_version\": \"0.4.1\", \"generations\": 10, \"group\": \"SingleCrossover\", \"input_size\": 1000000, \"max_time\": 0.004986763000488281, \"min_time\": 0.004986763000488281, \"name\": \"1D\", \"num_runs\": 3, \"shape\": [1000, 1000], \"shape_str\": \"1000x1000\", \"std_time\": 0.0, \"system\": {\"os\": {\"name\": \"Windows\", \"version\": \"10.0.18362\"}, \"memory\": {\"unit\": \"MB\", \"used\": 15807, \"total\": 65451}, \"cpu\": {\"name\": \"Intel64 Family 6 Model 158 Stepping 10, GenuineIntel\", \"cores\": 12, \"freqency\": 3696.0}, \"python\": {\"numpy\": \"1.18.3\", \"tensorflow\": {\"visible_gpu\": [], \"version\": \"2.2.0\"}, \"cupy\": \"7.2.0\"}, \"gpu\": []}, \"test_name\": \"SingleCrossover1D\", \"test_type\": \"OP\", \"ts\": 1590167261}, {\"avg_time\": 0.00033243497212727863, \"backend\": \"cupy\", \"evoflow_version\": \"0.4.1\", \"generations\": 10, \"group\": \"SingleCrossover\", \"input_size\": 1000000, \"max_time\": 0.000997304916381836, \"min_time\": 0.0, \"name\": \"3D\", \"num_runs\": 3, \"shape\": [100, 100, 10, 10], \"shape_str\": \"100x100x10x10\", \"std_time\": 0.0004701340461895193, \"system\": {\"os\": {\"name\": \"Windows\", \"version\": \"10.0.18362\"}, \"memory\": {\"unit\": \"MB\", \"used\": 15815, \"total\": 65451}, \"cpu\": {\"name\": \"Intel64 Family 6 Model 158 Stepping 10, GenuineIntel\", \"cores\": 12, \"freqency\": 3696.0}, \"python\": {\"numpy\": \"1.18.3\", \"tensorflow\": {\"visible_gpu\": [\"/physical_device:GPU:0\"], \"version\": \"2.2.0\"}, \"cupy\": \"7.2.0\"}, \"gpu\": [{\"memory\": {\"unit\": \"MB\", \"total\": 11264, \"used\": 1475}, \"temperature\": {\"unit\": \"C\"}, \"driver\": \"445.87\", \"index\": \"0\", \"name\": \"GeForce RTX 2080 Ti\", \"value\": \"60\", \"usage\": \"1\"}]}, \"test_name\": \"SingleCrossover3D\", \"test_type\": \"OP\", \"ts\": 1590167235}, {\"avg_time\": 0.004654248555501302, \"backend\": \"tensorflow-gpu\", \"evoflow_version\": \"0.4.1\", \"generations\": 10, \"group\": \"SingleCrossover\", \"input_size\": 1000000, \"max_time\": 0.00498652458190918, \"min_time\": 0.003989696502685547, \"name\": \"3D\", \"num_runs\": 3, \"shape\": [100, 100, 10, 10], \"shape_str\": \"100x100x10x10\", \"std_time\": 0.00046990926299746123, \"system\": {\"os\": {\"name\": \"Windows\", \"version\": \"10.0.18362\"}, \"memory\": {\"unit\": \"MB\", \"used\": 15765, \"total\": 65451}, \"cpu\": {\"name\": \"Intel64 Family 6 Model 158 Stepping 10, GenuineIntel\", \"cores\": 12, \"freqency\": 3696.0}, \"python\": {\"numpy\": \"1.18.3\", \"tensorflow\": {\"visible_gpu\": [\"/physical_device:GPU:0\"], \"version\": \"2.2.0\"}, \"cupy\": \"7.2.0\"}, \"gpu\": [{\"memory\": {\"unit\": \"MB\", \"total\": 11264, \"used\": 1471}, \"temperature\": {\"unit\": \"C\"}, \"driver\": \"445.87\", \"index\": \"0\", \"name\": \"GeForce RTX 2080 Ti\", \"value\": \"58\", \"usage\": \"0\"}]}, \"test_name\": \"SingleCrossover3D\", \"test_type\": \"OP\", \"ts\": 1590167273}, {\"avg_time\": 0.001994609832763672, \"backend\": \"numpy\", \"evoflow_version\": \"0.4.1\", \"generations\": 10, \"group\": \"SingleCrossover\", \"input_size\": 1000000, \"max_time\": 0.0019948482513427734, \"min_time\": 0.0019943714141845703, \"name\": \"3D\", \"num_runs\": 3, \"shape\": [100, 100, 10, 10], \"shape_str\": \"100x100x10x10\", \"std_time\": 1.9466795466607238e-07, \"system\": {\"os\": {\"name\": \"Windows\", \"version\": \"10.0.18362\"}, \"memory\": {\"unit\": \"MB\", \"used\": 15771, \"total\": 65451}, \"cpu\": {\"name\": \"Intel64 Family 6 Model 158 Stepping 10, GenuineIntel\", \"cores\": 12, \"freqency\": 3696.0}, \"python\": {\"numpy\": \"1.18.3\", \"tensorflow\": {\"visible_gpu\": [\"/physical_device:GPU:0\"], \"version\": \"2.2.0\"}, \"cupy\": \"7.2.0\"}, \"gpu\": []}, \"test_name\": \"SingleCrossover3D\", \"test_type\": \"OP\", \"ts\": 1590167246}, {\"avg_time\": 0.005319039026896159, \"backend\": \"tensorflow-cpu\", \"evoflow_version\": \"0.4.1\", \"generations\": 10, \"group\": \"SingleCrossover\", \"input_size\": 1000000, \"max_time\": 0.005984067916870117, \"min_time\": 0.004986286163330078, \"name\": \"2D\", \"num_runs\": 3, \"shape\": [100, 100, 100], \"shape_str\": \"100x100x100\", \"std_time\": 0.0004702464780789008, \"system\": {\"os\": {\"name\": \"Windows\", \"version\": \"10.0.18362\"}, \"memory\": {\"unit\": \"MB\", \"used\": 15807, \"total\": 65451}, \"cpu\": {\"name\": \"Intel64 Family 6 Model 158 Stepping 10, GenuineIntel\", \"cores\": 12, \"freqency\": 3696.0}, \"python\": {\"numpy\": \"1.18.3\", \"tensorflow\": {\"visible_gpu\": [], \"version\": \"2.2.0\"}, \"cupy\": \"7.2.0\"}, \"gpu\": []}, \"test_name\": \"SingleCrossover2D\", \"test_type\": \"OP\", \"ts\": 1590167261}, {\"avg_time\": 0.0006650288899739584, \"backend\": \"cupy\", \"evoflow_version\": \"0.4.1\", \"generations\": 10, \"group\": \"SingleCrossover\", \"input_size\": 1000000, \"max_time\": 0.000997781753540039, \"min_time\": 0.0, \"name\": \"2D\", \"num_runs\": 3, \"shape\": [100, 100, 100], \"shape_str\": \"100x100x100\", \"std_time\": 0.0004702464780789008, \"system\": {\"os\": {\"name\": \"Windows\", \"version\": \"10.0.18362\"}, \"memory\": {\"unit\": \"MB\", \"used\": 15815, \"total\": 65451}, \"cpu\": {\"name\": \"Intel64 Family 6 Model 158 Stepping 10, GenuineIntel\", \"cores\": 12, \"freqency\": 3696.0}, \"python\": {\"numpy\": \"1.18.3\", \"tensorflow\": {\"visible_gpu\": [\"/physical_device:GPU:0\"], \"version\": \"2.2.0\"}, \"cupy\": \"7.2.0\"}, \"gpu\": [{\"memory\": {\"unit\": \"MB\", \"total\": 11264, \"used\": 1475}, \"temperature\": {\"unit\": \"C\"}, \"driver\": \"445.87\", \"index\": \"0\", \"name\": \"GeForce RTX 2080 Ti\", \"value\": \"60\", \"usage\": \"1\"}]}, \"test_name\": \"SingleCrossover2D\", \"test_type\": \"OP\", \"ts\": 1590167235}, {\"avg_time\": 0.021941423416137695, \"backend\": \"numpy\", \"evoflow_version\": \"0.4.1\", \"generations\": 10, \"group\": \"SingleCrossover\", \"input_size\": 10000000, \"max_time\": 0.02293872833251953, \"min_time\": 0.02094411849975586, \"name\": \"3D\", \"num_runs\": 3, \"shape\": [100, 100, 100, 10], \"shape_str\": \"100x100x100x10\", \"std_time\": 0.0008142960543681807, \"system\": {\"os\": {\"name\": \"Windows\", \"version\": \"10.0.18362\"}, \"memory\": {\"unit\": \"MB\", \"used\": 15771, \"total\": 65451}, \"cpu\": {\"name\": \"Intel64 Family 6 Model 158 Stepping 10, GenuineIntel\", \"cores\": 12, \"freqency\": 3696.0}, \"python\": {\"numpy\": \"1.18.3\", \"tensorflow\": {\"visible_gpu\": [\"/physical_device:GPU:0\"], \"version\": \"2.2.0\"}, \"cupy\": \"7.2.0\"}, \"gpu\": []}, \"test_name\": \"SingleCrossover3D\", \"test_type\": \"OP\", \"ts\": 1590167246}, {\"avg_time\": 0.000997304916381836, \"backend\": \"cupy\", \"evoflow_version\": \"0.4.1\", \"generations\": 10, \"group\": \"SingleCrossover\", \"input_size\": 10000000, \"max_time\": 0.0019943714141845703, \"min_time\": 0.0, \"name\": \"3D\", \"num_runs\": 3, \"shape\": [100, 100, 100, 10], \"shape_str\": \"100x100x100x10\", \"std_time\": 0.000814198737844639, \"system\": {\"os\": {\"name\": \"Windows\", \"version\": \"10.0.18362\"}, \"memory\": {\"unit\": \"MB\", \"used\": 15815, \"total\": 65451}, \"cpu\": {\"name\": \"Intel64 Family 6 Model 158 Stepping 10, GenuineIntel\", \"cores\": 12, \"freqency\": 3696.0}, \"python\": {\"numpy\": \"1.18.3\", \"tensorflow\": {\"visible_gpu\": [\"/physical_device:GPU:0\"], \"version\": \"2.2.0\"}, \"cupy\": \"7.2.0\"}, \"gpu\": [{\"memory\": {\"unit\": \"MB\", \"total\": 11264, \"used\": 1475}, \"temperature\": {\"unit\": \"C\"}, \"driver\": \"445.87\", \"index\": \"0\", \"name\": \"GeForce RTX 2080 Ti\", \"value\": \"60\", \"usage\": \"1\"}]}, \"test_name\": \"SingleCrossover3D\", \"test_type\": \"OP\", \"ts\": 1590167235}, {\"avg_time\": 0.04920172691345215, \"backend\": \"tensorflow-cpu\", \"evoflow_version\": \"0.4.1\", \"generations\": 10, \"group\": \"SingleCrossover\", \"input_size\": 10000000, \"max_time\": 0.049866437911987305, \"min_time\": 0.04886937141418457, \"name\": \"3D\", \"num_runs\": 3, \"shape\": [100, 100, 100, 10], \"shape_str\": \"100x100x100x10\", \"std_time\": 0.00047002165459349024, \"system\": {\"os\": {\"name\": \"Windows\", \"version\": \"10.0.18362\"}, \"memory\": {\"unit\": \"MB\", \"used\": 15807, \"total\": 65451}, \"cpu\": {\"name\": \"Intel64 Family 6 Model 158 Stepping 10, GenuineIntel\", \"cores\": 12, \"freqency\": 3696.0}, \"python\": {\"numpy\": \"1.18.3\", \"tensorflow\": {\"visible_gpu\": [], \"version\": \"2.2.0\"}, \"cupy\": \"7.2.0\"}, \"gpu\": []}, \"test_name\": \"SingleCrossover3D\", \"test_type\": \"OP\", \"ts\": 1590167261}, {\"avg_time\": 0.049201647440592446, \"backend\": \"tensorflow-gpu\", \"evoflow_version\": \"0.4.1\", \"generations\": 10, \"group\": \"SingleCrossover\", \"input_size\": 10000000, \"max_time\": 0.049866676330566406, \"min_time\": 0.04886889457702637, \"name\": \"3D\", \"num_runs\": 3, \"shape\": [100, 100, 100, 10], \"shape_str\": \"100x100x100x10\", \"std_time\": 0.00047024647807890086, \"system\": {\"os\": {\"name\": \"Windows\", \"version\": \"10.0.18362\"}, \"memory\": {\"unit\": \"MB\", \"used\": 15765, \"total\": 65451}, \"cpu\": {\"name\": \"Intel64 Family 6 Model 158 Stepping 10, GenuineIntel\", \"cores\": 12, \"freqency\": 3696.0}, \"python\": {\"numpy\": \"1.18.3\", \"tensorflow\": {\"visible_gpu\": [\"/physical_device:GPU:0\"], \"version\": \"2.2.0\"}, \"cupy\": \"7.2.0\"}, \"gpu\": [{\"memory\": {\"unit\": \"MB\", \"total\": 11264, \"used\": 1471}, \"temperature\": {\"unit\": \"C\"}, \"driver\": \"445.87\", \"index\": \"0\", \"name\": \"GeForce RTX 2080 Ti\", \"value\": \"58\", \"usage\": \"0\"}]}, \"test_name\": \"SingleCrossover3D\", \"test_type\": \"OP\", \"ts\": 1590167273}]}}, {\"mode\": \"vega-lite\"});\n",
       "</script>"
      ],
      "text/plain": [
       "alt.FacetChart(...)"
      ]
     },
     "execution_count": 68,
     "metadata": {},
     "output_type": "execute_result"
    }
   ],
   "source": [
    "display_chart('SingleCrossover')"
   ]
  },
  {
   "cell_type": "code",
   "execution_count": 69,
   "metadata": {},
   "outputs": [
    {
     "data": {
      "text/html": [
       "<br/><b>1D</b>"
      ],
      "text/plain": [
       "<IPython.core.display.HTML object>"
      ]
     },
     "metadata": {},
     "output_type": "display_data"
    },
    {
     "data": {
      "text/html": [
       "<table>\n",
       "<thead>\n",
       "<tr><th>shape    </th><th>numpy        </th><th>tf-cpu       </th><th>tf-gpu       </th><th>cupy       </th></tr>\n",
       "</thead>\n",
       "<tbody>\n",
       "<tr><td>100x100  </td><td>0.0 (1.00x)  </td><td>0.0 (332.28x)</td><td>0.0 (1.00x)  </td><td>0.0 (1.00x)</td></tr>\n",
       "<tr><td>100x1000 </td><td>0.0 (0.00x)  </td><td>0.0 (0.00x)  </td><td>0.0 (0.00x)  </td><td>0.0 (0.00x)</td></tr>\n",
       "<tr><td>1000x1000</td><td>0.003 (1.00x)</td><td>0.005 (0.60x)</td><td>0.005 (0.60x)</td><td>0.0 (8.98x)</td></tr>\n",
       "</tbody>\n",
       "</table>"
      ],
      "text/plain": [
       "<IPython.core.display.HTML object>"
      ]
     },
     "metadata": {},
     "output_type": "display_data"
    },
    {
     "data": {
      "text/html": [
       "<br/><b>2D</b>"
      ],
      "text/plain": [
       "<IPython.core.display.HTML object>"
      ]
     },
     "metadata": {},
     "output_type": "display_data"
    },
    {
     "data": {
      "text/html": [
       "<table>\n",
       "<thead>\n",
       "<tr><th>shape      </th><th>numpy        </th><th>tf-cpu       </th><th>tf-gpu       </th><th>cupy         </th></tr>\n",
       "</thead>\n",
       "<tbody>\n",
       "<tr><td>100x10x10  </td><td>0.0 (1.00x)  </td><td>0.0 (332.36x)</td><td>0.0 (332.36x)</td><td>0.0 (1.00x)  </td></tr>\n",
       "<tr><td>100x100x10 </td><td>0.0 (1.00x)  </td><td>0.0 (332.36x)</td><td>0.0 (1.00x)  </td><td>0.0 (332.36x)</td></tr>\n",
       "<tr><td>100x100x100</td><td>0.002 (1.00x)</td><td>0.005 (0.31x)</td><td>0.005 (0.33x)</td><td>0.001 (2.50x)</td></tr>\n",
       "</tbody>\n",
       "</table>"
      ],
      "text/plain": [
       "<IPython.core.display.HTML object>"
      ]
     },
     "metadata": {},
     "output_type": "display_data"
    },
    {
     "data": {
      "text/html": [
       "<br/><b>3D</b>"
      ],
      "text/plain": [
       "<IPython.core.display.HTML object>"
      ]
     },
     "metadata": {},
     "output_type": "display_data"
    },
    {
     "data": {
      "text/html": [
       "<table>\n",
       "<thead>\n",
       "<tr><th>shape         </th><th>numpy        </th><th>tf-cpu       </th><th>tf-gpu       </th><th>cupy          </th></tr>\n",
       "</thead>\n",
       "<tbody>\n",
       "<tr><td>100x10x10x10  </td><td>0.0 (0.00x)  </td><td>0.0 (0.00x)  </td><td>0.0 (0.00x)  </td><td>0.0 (0.00x)   </td></tr>\n",
       "<tr><td>100x100x10x10 </td><td>0.002 (1.00x)</td><td>0.005 (0.37x)</td><td>0.005 (0.43x)</td><td>0.0 (5.98x)   </td></tr>\n",
       "<tr><td>100x100x100x10</td><td>0.022 (1.00x)</td><td>0.049 (0.45x)</td><td>0.049 (0.45x)</td><td>0.001 (21.98x)</td></tr>\n",
       "</tbody>\n",
       "</table>"
      ],
      "text/plain": [
       "<IPython.core.display.HTML object>"
      ]
     },
     "metadata": {},
     "output_type": "display_data"
    }
   ],
   "source": [
    "display_table('SingleCrossover')"
   ]
  },
  {
   "cell_type": "code",
   "execution_count": 70,
   "metadata": {},
   "outputs": [
    {
     "data": {
      "text/html": [
       "\n",
       "<div id=\"altair-viz-80a6603952ec4fa69ac7266261e6e7fb\"></div>\n",
       "<script type=\"text/javascript\">\n",
       "  (function(spec, embedOpt){\n",
       "    const outputDiv = document.getElementById(\"altair-viz-80a6603952ec4fa69ac7266261e6e7fb\");\n",
       "    const paths = {\n",
       "      \"vega\": \"https://cdn.jsdelivr.net/npm//vega@5?noext\",\n",
       "      \"vega-lib\": \"https://cdn.jsdelivr.net/npm//vega-lib?noext\",\n",
       "      \"vega-lite\": \"https://cdn.jsdelivr.net/npm//vega-lite@4.0.2?noext\",\n",
       "      \"vega-embed\": \"https://cdn.jsdelivr.net/npm//vega-embed@6?noext\",\n",
       "    };\n",
       "\n",
       "    function loadScript(lib) {\n",
       "      return new Promise(function(resolve, reject) {\n",
       "        var s = document.createElement('script');\n",
       "        s.src = paths[lib];\n",
       "        s.async = true;\n",
       "        s.onload = () => resolve(paths[lib]);\n",
       "        s.onerror = () => reject(`Error loading script: ${paths[lib]}`);\n",
       "        document.getElementsByTagName(\"head\")[0].appendChild(s);\n",
       "      });\n",
       "    }\n",
       "\n",
       "    function showError(err) {\n",
       "      outputDiv.innerHTML = `<div class=\"error\" style=\"color:red;\">${err}</div>`;\n",
       "      throw err;\n",
       "    }\n",
       "\n",
       "    function displayChart(vegaEmbed) {\n",
       "      vegaEmbed(outputDiv, spec, embedOpt)\n",
       "        .catch(err => showError(`Javascript Error: ${err.message}<br>This usually means there's a typo in your chart specification. See the javascript console for the full traceback.`));\n",
       "    }\n",
       "\n",
       "    if(typeof define === \"function\" && define.amd) {\n",
       "      requirejs.config({paths});\n",
       "      require([\"vega-embed\"], displayChart, err => showError(`Error loading script: ${err.message}`));\n",
       "    } else if (typeof vegaEmbed === \"function\") {\n",
       "      displayChart(vegaEmbed);\n",
       "    } else {\n",
       "      loadScript(\"vega\")\n",
       "        .then(() => loadScript(\"vega-lite\"))\n",
       "        .then(() => loadScript(\"vega-embed\"))\n",
       "        .catch(showError)\n",
       "        .then(() => displayChart(vegaEmbed));\n",
       "    }\n",
       "  })({\"config\": {\"view\": {\"continuousWidth\": 400, \"continuousHeight\": 300}, \"title\": {\"anchor\": \"middle\", \"fontSize\": 20, \"offset\": 5, \"orient\": \"top\"}}, \"data\": {\"name\": \"data-37908dd2797a407eb8e90a76040faa9b\"}, \"facet\": {\"column\": {\"type\": \"nominal\", \"field\": \"name\"}}, \"spec\": {\"mark\": \"bar\", \"encoding\": {\"color\": {\"type\": \"nominal\", \"field\": \"backend\", \"legend\": null}, \"column\": {\"type\": \"nominal\", \"field\": \"shape_str\", \"sort\": {\"field\": \"input_size\", \"order\": \"ascending\"}, \"title\": \"\"}, \"x\": {\"type\": \"nominal\", \"axis\": {\"title\": \"\"}, \"field\": \"backend\"}, \"y\": {\"type\": \"quantitative\", \"axis\": {\"title\": \"\"}, \"field\": \"avg_time\", \"sort\": \"-x\"}}, \"resolve\": {\"scale\": {\"y\": \"independent\"}}, \"title\": \"\"}, \"spacing\": 50, \"title\": \"DualCrossover\", \"$schema\": \"https://vega.github.io/schema/vega-lite/v4.0.2.json\", \"datasets\": {\"data-37908dd2797a407eb8e90a76040faa9b\": [{\"avg_time\": 0.0013297398885091145, \"backend\": \"cupy\", \"evoflow_version\": \"0.4.1\", \"generations\": 10, \"group\": \"DualCrossover\", \"input_size\": 10000, \"max_time\": 0.001994609832763672, \"min_time\": 0.0009970664978027344, \"name\": \"1D\", \"num_runs\": 3, \"shape\": [100, 100], \"shape_str\": \"100x100\", \"std_time\": 0.00047013408649250444, \"system\": {\"os\": {\"name\": \"Windows\", \"version\": \"10.0.18362\"}, \"memory\": {\"unit\": \"MB\", \"used\": 15815, \"total\": 65451}, \"cpu\": {\"name\": \"Intel64 Family 6 Model 158 Stepping 10, GenuineIntel\", \"cores\": 12, \"freqency\": 3696.0}, \"python\": {\"numpy\": \"1.18.3\", \"tensorflow\": {\"visible_gpu\": [\"/physical_device:GPU:0\"], \"version\": \"2.2.0\"}, \"cupy\": \"7.2.0\"}, \"gpu\": [{\"memory\": {\"unit\": \"MB\", \"total\": 11264, \"used\": 1475}, \"temperature\": {\"unit\": \"C\"}, \"driver\": \"445.87\", \"index\": \"0\", \"name\": \"GeForce RTX 2080 Ti\", \"value\": \"60\", \"usage\": \"1\"}]}, \"test_name\": \"DualCrossover1D\", \"test_type\": \"OP\", \"ts\": 1590167235}, {\"avg_time\": 0.0006648699442545573, \"backend\": \"tensorflow-gpu\", \"evoflow_version\": \"0.4.1\", \"generations\": 10, \"group\": \"DualCrossover\", \"input_size\": 10000, \"max_time\": 0.000997781753540039, \"min_time\": 0.0, \"name\": \"1D\", \"num_runs\": 3, \"shape\": [100, 100], \"shape_str\": \"100x100\", \"std_time\": 0.0004701342074014391, \"system\": {\"os\": {\"name\": \"Windows\", \"version\": \"10.0.18362\"}, \"memory\": {\"unit\": \"MB\", \"used\": 15765, \"total\": 65451}, \"cpu\": {\"name\": \"Intel64 Family 6 Model 158 Stepping 10, GenuineIntel\", \"cores\": 12, \"freqency\": 3696.0}, \"python\": {\"numpy\": \"1.18.3\", \"tensorflow\": {\"visible_gpu\": [\"/physical_device:GPU:0\"], \"version\": \"2.2.0\"}, \"cupy\": \"7.2.0\"}, \"gpu\": [{\"memory\": {\"unit\": \"MB\", \"total\": 11264, \"used\": 1471}, \"temperature\": {\"unit\": \"C\"}, \"driver\": \"445.87\", \"index\": \"0\", \"name\": \"GeForce RTX 2080 Ti\", \"value\": \"58\", \"usage\": \"0\"}]}, \"test_name\": \"DualCrossover1D\", \"test_type\": \"OP\", \"ts\": 1590167273}, {\"avg_time\": 0.0016623338063557942, \"backend\": \"cupy\", \"evoflow_version\": \"0.4.1\", \"generations\": 10, \"group\": \"DualCrossover\", \"input_size\": 10000, \"max_time\": 0.0019948482513427734, \"min_time\": 0.000997304916381836, \"name\": \"2D\", \"num_runs\": 3, \"shape\": [100, 10, 10], \"shape_str\": \"100x10x10\", \"std_time\": 0.0004702464377855484, \"system\": {\"os\": {\"name\": \"Windows\", \"version\": \"10.0.18362\"}, \"memory\": {\"unit\": \"MB\", \"used\": 15815, \"total\": 65451}, \"cpu\": {\"name\": \"Intel64 Family 6 Model 158 Stepping 10, GenuineIntel\", \"cores\": 12, \"freqency\": 3696.0}, \"python\": {\"numpy\": \"1.18.3\", \"tensorflow\": {\"visible_gpu\": [\"/physical_device:GPU:0\"], \"version\": \"2.2.0\"}, \"cupy\": \"7.2.0\"}, \"gpu\": [{\"memory\": {\"unit\": \"MB\", \"total\": 11264, \"used\": 1475}, \"temperature\": {\"unit\": \"C\"}, \"driver\": \"445.87\", \"index\": \"0\", \"name\": \"GeForce RTX 2080 Ti\", \"value\": \"60\", \"usage\": \"1\"}]}, \"test_name\": \"DualCrossover2D\", \"test_type\": \"OP\", \"ts\": 1590167235}, {\"avg_time\": 0.0006649494171142578, \"backend\": \"tensorflow-cpu\", \"evoflow_version\": \"0.4.1\", \"generations\": 10, \"group\": \"DualCrossover\", \"input_size\": 10000, \"max_time\": 0.0009975433349609375, \"min_time\": 0.0, \"name\": \"2D\", \"num_runs\": 3, \"shape\": [100, 10, 10], \"shape_str\": \"100x10x10\", \"std_time\": 0.0004701902520620762, \"system\": {\"os\": {\"name\": \"Windows\", \"version\": \"10.0.18362\"}, \"memory\": {\"unit\": \"MB\", \"used\": 15807, \"total\": 65451}, \"cpu\": {\"name\": \"Intel64 Family 6 Model 158 Stepping 10, GenuineIntel\", \"cores\": 12, \"freqency\": 3696.0}, \"python\": {\"numpy\": \"1.18.3\", \"tensorflow\": {\"visible_gpu\": [], \"version\": \"2.2.0\"}, \"cupy\": \"7.2.0\"}, \"gpu\": []}, \"test_name\": \"DualCrossover2D\", \"test_type\": \"OP\", \"ts\": 1590167261}, {\"avg_time\": 0.0006649494171142578, \"backend\": \"tensorflow-cpu\", \"evoflow_version\": \"0.4.1\", \"generations\": 10, \"group\": \"DualCrossover\", \"input_size\": 10000, \"max_time\": 0.0009975433349609375, \"min_time\": 0.0, \"name\": \"1D\", \"num_runs\": 3, \"shape\": [100, 100], \"shape_str\": \"100x100\", \"std_time\": 0.0004701902520620762, \"system\": {\"os\": {\"name\": \"Windows\", \"version\": \"10.0.18362\"}, \"memory\": {\"unit\": \"MB\", \"used\": 15807, \"total\": 65451}, \"cpu\": {\"name\": \"Intel64 Family 6 Model 158 Stepping 10, GenuineIntel\", \"cores\": 12, \"freqency\": 3696.0}, \"python\": {\"numpy\": \"1.18.3\", \"tensorflow\": {\"visible_gpu\": [], \"version\": \"2.2.0\"}, \"cupy\": \"7.2.0\"}, \"gpu\": []}, \"test_name\": \"DualCrossover1D\", \"test_type\": \"OP\", \"ts\": 1590167261}, {\"avg_time\": 0.0, \"backend\": \"numpy\", \"evoflow_version\": \"0.4.1\", \"generations\": 10, \"group\": \"DualCrossover\", \"input_size\": 10000, \"max_time\": 0.0, \"min_time\": 0.0, \"name\": \"1D\", \"num_runs\": 3, \"shape\": [100, 100], \"shape_str\": \"100x100\", \"std_time\": 0.0, \"system\": {\"os\": {\"name\": \"Windows\", \"version\": \"10.0.18362\"}, \"memory\": {\"unit\": \"MB\", \"used\": 15771, \"total\": 65451}, \"cpu\": {\"name\": \"Intel64 Family 6 Model 158 Stepping 10, GenuineIntel\", \"cores\": 12, \"freqency\": 3696.0}, \"python\": {\"numpy\": \"1.18.3\", \"tensorflow\": {\"visible_gpu\": [\"/physical_device:GPU:0\"], \"version\": \"2.2.0\"}, \"cupy\": \"7.2.0\"}, \"gpu\": []}, \"test_name\": \"DualCrossover1D\", \"test_type\": \"OP\", \"ts\": 1590167246}, {\"avg_time\": 0.0006650288899739584, \"backend\": \"tensorflow-gpu\", \"evoflow_version\": \"0.4.1\", \"generations\": 10, \"group\": \"DualCrossover\", \"input_size\": 10000, \"max_time\": 0.000997781753540039, \"min_time\": 0.0, \"name\": \"2D\", \"num_runs\": 3, \"shape\": [100, 10, 10], \"shape_str\": \"100x10x10\", \"std_time\": 0.0004702464780789008, \"system\": {\"os\": {\"name\": \"Windows\", \"version\": \"10.0.18362\"}, \"memory\": {\"unit\": \"MB\", \"used\": 15765, \"total\": 65451}, \"cpu\": {\"name\": \"Intel64 Family 6 Model 158 Stepping 10, GenuineIntel\", \"cores\": 12, \"freqency\": 3696.0}, \"python\": {\"numpy\": \"1.18.3\", \"tensorflow\": {\"visible_gpu\": [\"/physical_device:GPU:0\"], \"version\": \"2.2.0\"}, \"cupy\": \"7.2.0\"}, \"gpu\": [{\"memory\": {\"unit\": \"MB\", \"total\": 11264, \"used\": 1471}, \"temperature\": {\"unit\": \"C\"}, \"driver\": \"445.87\", \"index\": \"0\", \"name\": \"GeForce RTX 2080 Ti\", \"value\": \"58\", \"usage\": \"0\"}]}, \"test_name\": \"DualCrossover2D\", \"test_type\": \"OP\", \"ts\": 1590167273}, {\"avg_time\": 0.00033243497212727863, \"backend\": \"numpy\", \"evoflow_version\": \"0.4.1\", \"generations\": 10, \"group\": \"DualCrossover\", \"input_size\": 10000, \"max_time\": 0.000997304916381836, \"min_time\": 0.0, \"name\": \"2D\", \"num_runs\": 3, \"shape\": [100, 10, 10], \"shape_str\": \"100x10x10\", \"std_time\": 0.0004701340461895193, \"system\": {\"os\": {\"name\": \"Windows\", \"version\": \"10.0.18362\"}, \"memory\": {\"unit\": \"MB\", \"used\": 15771, \"total\": 65451}, \"cpu\": {\"name\": \"Intel64 Family 6 Model 158 Stepping 10, GenuineIntel\", \"cores\": 12, \"freqency\": 3696.0}, \"python\": {\"numpy\": \"1.18.3\", \"tensorflow\": {\"visible_gpu\": [\"/physical_device:GPU:0\"], \"version\": \"2.2.0\"}, \"cupy\": \"7.2.0\"}, \"gpu\": []}, \"test_name\": \"DualCrossover2D\", \"test_type\": \"OP\", \"ts\": 1590167246}, {\"avg_time\": 0.0006648699442545573, \"backend\": \"tensorflow-gpu\", \"evoflow_version\": \"0.4.1\", \"generations\": 10, \"group\": \"DualCrossover\", \"input_size\": 100000, \"max_time\": 0.0009975433349609375, \"min_time\": 0.0, \"name\": \"1D\", \"num_runs\": 3, \"shape\": [100, 1000], \"shape_str\": \"100x1000\", \"std_time\": 0.00047013408649250444, \"system\": {\"os\": {\"name\": \"Windows\", \"version\": \"10.0.18362\"}, \"memory\": {\"unit\": \"MB\", \"used\": 15765, \"total\": 65451}, \"cpu\": {\"name\": \"Intel64 Family 6 Model 158 Stepping 10, GenuineIntel\", \"cores\": 12, \"freqency\": 3696.0}, \"python\": {\"numpy\": \"1.18.3\", \"tensorflow\": {\"visible_gpu\": [\"/physical_device:GPU:0\"], \"version\": \"2.2.0\"}, \"cupy\": \"7.2.0\"}, \"gpu\": [{\"memory\": {\"unit\": \"MB\", \"total\": 11264, \"used\": 1471}, \"temperature\": {\"unit\": \"C\"}, \"driver\": \"445.87\", \"index\": \"0\", \"name\": \"GeForce RTX 2080 Ti\", \"value\": \"58\", \"usage\": \"0\"}]}, \"test_name\": \"DualCrossover1D\", \"test_type\": \"OP\", \"ts\": 1590167273}, {\"avg_time\": 0.0006647904713948568, \"backend\": \"tensorflow-cpu\", \"evoflow_version\": \"0.4.1\", \"generations\": 10, \"group\": \"DualCrossover\", \"input_size\": 100000, \"max_time\": 0.000997304916381836, \"min_time\": 0.0, \"name\": \"3D\", \"num_runs\": 3, \"shape\": [100, 10, 10, 10], \"shape_str\": \"100x10x10x10\", \"std_time\": 0.00047007786046845593, \"system\": {\"os\": {\"name\": \"Windows\", \"version\": \"10.0.18362\"}, \"memory\": {\"unit\": \"MB\", \"used\": 15807, \"total\": 65451}, \"cpu\": {\"name\": \"Intel64 Family 6 Model 158 Stepping 10, GenuineIntel\", \"cores\": 12, \"freqency\": 3696.0}, \"python\": {\"numpy\": \"1.18.3\", \"tensorflow\": {\"visible_gpu\": [], \"version\": \"2.2.0\"}, \"cupy\": \"7.2.0\"}, \"gpu\": []}, \"test_name\": \"DualCrossover3D\", \"test_type\": \"OP\", \"ts\": 1590167261}, {\"avg_time\": 0.0006649494171142578, \"backend\": \"tensorflow-cpu\", \"evoflow_version\": \"0.4.1\", \"generations\": 10, \"group\": \"DualCrossover\", \"input_size\": 100000, \"max_time\": 0.0009975433349609375, \"min_time\": 0.0, \"name\": \"2D\", \"num_runs\": 3, \"shape\": [100, 100, 10], \"shape_str\": \"100x100x10\", \"std_time\": 0.0004701902520620762, \"system\": {\"os\": {\"name\": \"Windows\", \"version\": \"10.0.18362\"}, \"memory\": {\"unit\": \"MB\", \"used\": 15807, \"total\": 65451}, \"cpu\": {\"name\": \"Intel64 Family 6 Model 158 Stepping 10, GenuineIntel\", \"cores\": 12, \"freqency\": 3696.0}, \"python\": {\"numpy\": \"1.18.3\", \"tensorflow\": {\"visible_gpu\": [], \"version\": \"2.2.0\"}, \"cupy\": \"7.2.0\"}, \"gpu\": []}, \"test_name\": \"DualCrossover2D\", \"test_type\": \"OP\", \"ts\": 1590167261}, {\"avg_time\": 0.00033243497212727863, \"backend\": \"tensorflow-cpu\", \"evoflow_version\": \"0.4.1\", \"generations\": 10, \"group\": \"DualCrossover\", \"input_size\": 100000, \"max_time\": 0.000997304916381836, \"min_time\": 0.0, \"name\": \"1D\", \"num_runs\": 3, \"shape\": [100, 1000], \"shape_str\": \"100x1000\", \"std_time\": 0.0004701340461895193, \"system\": {\"os\": {\"name\": \"Windows\", \"version\": \"10.0.18362\"}, \"memory\": {\"unit\": \"MB\", \"used\": 15807, \"total\": 65451}, \"cpu\": {\"name\": \"Intel64 Family 6 Model 158 Stepping 10, GenuineIntel\", \"cores\": 12, \"freqency\": 3696.0}, \"python\": {\"numpy\": \"1.18.3\", \"tensorflow\": {\"visible_gpu\": [], \"version\": \"2.2.0\"}, \"cupy\": \"7.2.0\"}, \"gpu\": []}, \"test_name\": \"DualCrossover1D\", \"test_type\": \"OP\", \"ts\": 1590167261}, {\"avg_time\": 0.0003325939178466797, \"backend\": \"numpy\", \"evoflow_version\": \"0.4.1\", \"generations\": 10, \"group\": \"DualCrossover\", \"input_size\": 100000, \"max_time\": 0.000997781753540039, \"min_time\": 0.0, \"name\": \"2D\", \"num_runs\": 3, \"shape\": [100, 100, 10], \"shape_str\": \"100x100x10\", \"std_time\": 0.0004703588293815774, \"system\": {\"os\": {\"name\": \"Windows\", \"version\": \"10.0.18362\"}, \"memory\": {\"unit\": \"MB\", \"used\": 15771, \"total\": 65451}, \"cpu\": {\"name\": \"Intel64 Family 6 Model 158 Stepping 10, GenuineIntel\", \"cores\": 12, \"freqency\": 3696.0}, \"python\": {\"numpy\": \"1.18.3\", \"tensorflow\": {\"visible_gpu\": [\"/physical_device:GPU:0\"], \"version\": \"2.2.0\"}, \"cupy\": \"7.2.0\"}, \"gpu\": []}, \"test_name\": \"DualCrossover2D\", \"test_type\": \"OP\", \"ts\": 1590167246}, {\"avg_time\": 0.00033243497212727863, \"backend\": \"numpy\", \"evoflow_version\": \"0.4.1\", \"generations\": 10, \"group\": \"DualCrossover\", \"input_size\": 100000, \"max_time\": 0.000997304916381836, \"min_time\": 0.0, \"name\": \"3D\", \"num_runs\": 3, \"shape\": [100, 10, 10, 10], \"shape_str\": \"100x10x10x10\", \"std_time\": 0.0004701340461895193, \"system\": {\"os\": {\"name\": \"Windows\", \"version\": \"10.0.18362\"}, \"memory\": {\"unit\": \"MB\", \"used\": 15771, \"total\": 65451}, \"cpu\": {\"name\": \"Intel64 Family 6 Model 158 Stepping 10, GenuineIntel\", \"cores\": 12, \"freqency\": 3696.0}, \"python\": {\"numpy\": \"1.18.3\", \"tensorflow\": {\"visible_gpu\": [\"/physical_device:GPU:0\"], \"version\": \"2.2.0\"}, \"cupy\": \"7.2.0\"}, \"gpu\": []}, \"test_name\": \"DualCrossover3D\", \"test_type\": \"OP\", \"ts\": 1590167246}, {\"avg_time\": 0.0006648699442545573, \"backend\": \"tensorflow-gpu\", \"evoflow_version\": \"0.4.1\", \"generations\": 10, \"group\": \"DualCrossover\", \"input_size\": 100000, \"max_time\": 0.000997304916381836, \"min_time\": 0.0, \"name\": \"2D\", \"num_runs\": 3, \"shape\": [100, 100, 10], \"shape_str\": \"100x100x10\", \"std_time\": 0.0004701340461895193, \"system\": {\"os\": {\"name\": \"Windows\", \"version\": \"10.0.18362\"}, \"memory\": {\"unit\": \"MB\", \"used\": 15765, \"total\": 65451}, \"cpu\": {\"name\": \"Intel64 Family 6 Model 158 Stepping 10, GenuineIntel\", \"cores\": 12, \"freqency\": 3696.0}, \"python\": {\"numpy\": \"1.18.3\", \"tensorflow\": {\"visible_gpu\": [\"/physical_device:GPU:0\"], \"version\": \"2.2.0\"}, \"cupy\": \"7.2.0\"}, \"gpu\": [{\"memory\": {\"unit\": \"MB\", \"total\": 11264, \"used\": 1471}, \"temperature\": {\"unit\": \"C\"}, \"driver\": \"445.87\", \"index\": \"0\", \"name\": \"GeForce RTX 2080 Ti\", \"value\": \"58\", \"usage\": \"0\"}]}, \"test_name\": \"DualCrossover2D\", \"test_type\": \"OP\", \"ts\": 1590167273}, {\"avg_time\": 0.0003325144449869792, \"backend\": \"numpy\", \"evoflow_version\": \"0.4.1\", \"generations\": 10, \"group\": \"DualCrossover\", \"input_size\": 100000, \"max_time\": 0.0009975433349609375, \"min_time\": 0.0, \"name\": \"1D\", \"num_runs\": 3, \"shape\": [100, 1000], \"shape_str\": \"100x1000\", \"std_time\": 0.00047024643778554833, \"system\": {\"os\": {\"name\": \"Windows\", \"version\": \"10.0.18362\"}, \"memory\": {\"unit\": \"MB\", \"used\": 15771, \"total\": 65451}, \"cpu\": {\"name\": \"Intel64 Family 6 Model 158 Stepping 10, GenuineIntel\", \"cores\": 12, \"freqency\": 3696.0}, \"python\": {\"numpy\": \"1.18.3\", \"tensorflow\": {\"visible_gpu\": [\"/physical_device:GPU:0\"], \"version\": \"2.2.0\"}, \"cupy\": \"7.2.0\"}, \"gpu\": []}, \"test_name\": \"DualCrossover1D\", \"test_type\": \"OP\", \"ts\": 1590167246}, {\"avg_time\": 0.0006648699442545573, \"backend\": \"cupy\", \"evoflow_version\": \"0.4.1\", \"generations\": 10, \"group\": \"DualCrossover\", \"input_size\": 100000, \"max_time\": 0.000997304916381836, \"min_time\": 0.0, \"name\": \"1D\", \"num_runs\": 3, \"shape\": [100, 1000], \"shape_str\": \"100x1000\", \"std_time\": 0.0004701340461895193, \"system\": {\"os\": {\"name\": \"Windows\", \"version\": \"10.0.18362\"}, \"memory\": {\"unit\": \"MB\", \"used\": 15815, \"total\": 65451}, \"cpu\": {\"name\": \"Intel64 Family 6 Model 158 Stepping 10, GenuineIntel\", \"cores\": 12, \"freqency\": 3696.0}, \"python\": {\"numpy\": \"1.18.3\", \"tensorflow\": {\"visible_gpu\": [\"/physical_device:GPU:0\"], \"version\": \"2.2.0\"}, \"cupy\": \"7.2.0\"}, \"gpu\": [{\"memory\": {\"unit\": \"MB\", \"total\": 11264, \"used\": 1475}, \"temperature\": {\"unit\": \"C\"}, \"driver\": \"445.87\", \"index\": \"0\", \"name\": \"GeForce RTX 2080 Ti\", \"value\": \"60\", \"usage\": \"1\"}]}, \"test_name\": \"DualCrossover1D\", \"test_type\": \"OP\", \"ts\": 1590167235}, {\"avg_time\": 0.0013297398885091145, \"backend\": \"tensorflow-gpu\", \"evoflow_version\": \"0.4.1\", \"generations\": 10, \"group\": \"DualCrossover\", \"input_size\": 100000, \"max_time\": 0.0019948482513427734, \"min_time\": 0.0009970664978027344, \"name\": \"3D\", \"num_runs\": 3, \"shape\": [100, 10, 10, 10], \"shape_str\": \"100x10x10x10\", \"std_time\": 0.00047030264365569767, \"system\": {\"os\": {\"name\": \"Windows\", \"version\": \"10.0.18362\"}, \"memory\": {\"unit\": \"MB\", \"used\": 15765, \"total\": 65451}, \"cpu\": {\"name\": \"Intel64 Family 6 Model 158 Stepping 10, GenuineIntel\", \"cores\": 12, \"freqency\": 3696.0}, \"python\": {\"numpy\": \"1.18.3\", \"tensorflow\": {\"visible_gpu\": [\"/physical_device:GPU:0\"], \"version\": \"2.2.0\"}, \"cupy\": \"7.2.0\"}, \"gpu\": [{\"memory\": {\"unit\": \"MB\", \"total\": 11264, \"used\": 1471}, \"temperature\": {\"unit\": \"C\"}, \"driver\": \"445.87\", \"index\": \"0\", \"name\": \"GeForce RTX 2080 Ti\", \"value\": \"58\", \"usage\": \"0\"}]}, \"test_name\": \"DualCrossover3D\", \"test_type\": \"OP\", \"ts\": 1590167273}, {\"avg_time\": 0.001994609832763672, \"backend\": \"cupy\", \"evoflow_version\": \"0.4.1\", \"generations\": 10, \"group\": \"DualCrossover\", \"input_size\": 100000, \"max_time\": 0.0019948482513427734, \"min_time\": 0.0019943714141845703, \"name\": \"3D\", \"num_runs\": 3, \"shape\": [100, 10, 10, 10], \"shape_str\": \"100x10x10x10\", \"std_time\": 1.9466795466607238e-07, \"system\": {\"os\": {\"name\": \"Windows\", \"version\": \"10.0.18362\"}, \"memory\": {\"unit\": \"MB\", \"used\": 15815, \"total\": 65451}, \"cpu\": {\"name\": \"Intel64 Family 6 Model 158 Stepping 10, GenuineIntel\", \"cores\": 12, \"freqency\": 3696.0}, \"python\": {\"numpy\": \"1.18.3\", \"tensorflow\": {\"visible_gpu\": [\"/physical_device:GPU:0\"], \"version\": \"2.2.0\"}, \"cupy\": \"7.2.0\"}, \"gpu\": [{\"memory\": {\"unit\": \"MB\", \"total\": 11264, \"used\": 1475}, \"temperature\": {\"unit\": \"C\"}, \"driver\": \"445.87\", \"index\": \"0\", \"name\": \"GeForce RTX 2080 Ti\", \"value\": \"60\", \"usage\": \"1\"}]}, \"test_name\": \"DualCrossover3D\", \"test_type\": \"OP\", \"ts\": 1590167235}, {\"avg_time\": 0.0013297398885091145, \"backend\": \"cupy\", \"evoflow_version\": \"0.4.1\", \"generations\": 10, \"group\": \"DualCrossover\", \"input_size\": 100000, \"max_time\": 0.001994609832763672, \"min_time\": 0.000997304916381836, \"name\": \"2D\", \"num_runs\": 3, \"shape\": [100, 100, 10], \"shape_str\": \"100x100x10\", \"std_time\": 0.0004701340461895193, \"system\": {\"os\": {\"name\": \"Windows\", \"version\": \"10.0.18362\"}, \"memory\": {\"unit\": \"MB\", \"used\": 15815, \"total\": 65451}, \"cpu\": {\"name\": \"Intel64 Family 6 Model 158 Stepping 10, GenuineIntel\", \"cores\": 12, \"freqency\": 3696.0}, \"python\": {\"numpy\": \"1.18.3\", \"tensorflow\": {\"visible_gpu\": [\"/physical_device:GPU:0\"], \"version\": \"2.2.0\"}, \"cupy\": \"7.2.0\"}, \"gpu\": [{\"memory\": {\"unit\": \"MB\", \"total\": 11264, \"used\": 1475}, \"temperature\": {\"unit\": \"C\"}, \"driver\": \"445.87\", \"index\": \"0\", \"name\": \"GeForce RTX 2080 Ti\", \"value\": \"60\", \"usage\": \"1\"}]}, \"test_name\": \"DualCrossover2D\", \"test_type\": \"OP\", \"ts\": 1590167235}, {\"avg_time\": 0.005651394526163737, \"backend\": \"tensorflow-gpu\", \"evoflow_version\": \"0.4.1\", \"generations\": 10, \"group\": \"DualCrossover\", \"input_size\": 1000000, \"max_time\": 0.005983591079711914, \"min_time\": 0.004987001419067383, \"name\": \"1D\", \"num_runs\": 3, \"shape\": [1000, 1000], \"shape_str\": \"1000x1000\", \"std_time\": 0.00046979687140143216, \"system\": {\"os\": {\"name\": \"Windows\", \"version\": \"10.0.18362\"}, \"memory\": {\"unit\": \"MB\", \"used\": 15765, \"total\": 65451}, \"cpu\": {\"name\": \"Intel64 Family 6 Model 158 Stepping 10, GenuineIntel\", \"cores\": 12, \"freqency\": 3696.0}, \"python\": {\"numpy\": \"1.18.3\", \"tensorflow\": {\"visible_gpu\": [\"/physical_device:GPU:0\"], \"version\": \"2.2.0\"}, \"cupy\": \"7.2.0\"}, \"gpu\": [{\"memory\": {\"unit\": \"MB\", \"total\": 11264, \"used\": 1471}, \"temperature\": {\"unit\": \"C\"}, \"driver\": \"445.87\", \"index\": \"0\", \"name\": \"GeForce RTX 2080 Ti\", \"value\": \"58\", \"usage\": \"0\"}]}, \"test_name\": \"DualCrossover1D\", \"test_type\": \"OP\", \"ts\": 1590167273}, {\"avg_time\": 0.0006649494171142578, \"backend\": \"cupy\", \"evoflow_version\": \"0.4.1\", \"generations\": 10, \"group\": \"DualCrossover\", \"input_size\": 1000000, \"max_time\": 0.000997781753540039, \"min_time\": 0.0, \"name\": \"1D\", \"num_runs\": 3, \"shape\": [1000, 1000], \"shape_str\": \"1000x1000\", \"std_time\": 0.0004701903326584075, \"system\": {\"os\": {\"name\": \"Windows\", \"version\": \"10.0.18362\"}, \"memory\": {\"unit\": \"MB\", \"used\": 15815, \"total\": 65451}, \"cpu\": {\"name\": \"Intel64 Family 6 Model 158 Stepping 10, GenuineIntel\", \"cores\": 12, \"freqency\": 3696.0}, \"python\": {\"numpy\": \"1.18.3\", \"tensorflow\": {\"visible_gpu\": [\"/physical_device:GPU:0\"], \"version\": \"2.2.0\"}, \"cupy\": \"7.2.0\"}, \"gpu\": [{\"memory\": {\"unit\": \"MB\", \"total\": 11264, \"used\": 1475}, \"temperature\": {\"unit\": \"C\"}, \"driver\": \"445.87\", \"index\": \"0\", \"name\": \"GeForce RTX 2080 Ti\", \"value\": \"60\", \"usage\": \"1\"}]}, \"test_name\": \"DualCrossover1D\", \"test_type\": \"OP\", \"ts\": 1590167235}, {\"avg_time\": 0.005983988444010417, \"backend\": \"tensorflow-gpu\", \"evoflow_version\": \"0.4.1\", \"generations\": 10, \"group\": \"DualCrossover\", \"input_size\": 1000000, \"max_time\": 0.005984306335449219, \"min_time\": 0.005983591079711914, \"name\": \"2D\", \"num_runs\": 3, \"shape\": [100, 100, 100], \"shape_str\": \"100x100x100\", \"std_time\": 2.9736021254650284e-07, \"system\": {\"os\": {\"name\": \"Windows\", \"version\": \"10.0.18362\"}, \"memory\": {\"unit\": \"MB\", \"used\": 15765, \"total\": 65451}, \"cpu\": {\"name\": \"Intel64 Family 6 Model 158 Stepping 10, GenuineIntel\", \"cores\": 12, \"freqency\": 3696.0}, \"python\": {\"numpy\": \"1.18.3\", \"tensorflow\": {\"visible_gpu\": [\"/physical_device:GPU:0\"], \"version\": \"2.2.0\"}, \"cupy\": \"7.2.0\"}, \"gpu\": [{\"memory\": {\"unit\": \"MB\", \"total\": 11264, \"used\": 1471}, \"temperature\": {\"unit\": \"C\"}, \"driver\": \"445.87\", \"index\": \"0\", \"name\": \"GeForce RTX 2080 Ti\", \"value\": \"58\", \"usage\": \"0\"}]}, \"test_name\": \"DualCrossover2D\", \"test_type\": \"OP\", \"ts\": 1590167273}, {\"avg_time\": 0.005319118499755859, \"backend\": \"tensorflow-cpu\", \"evoflow_version\": \"0.4.1\", \"generations\": 10, \"group\": \"DualCrossover\", \"input_size\": 1000000, \"max_time\": 0.005984067916870117, \"min_time\": 0.00498652458190918, \"name\": \"3D\", \"num_runs\": 3, \"shape\": [100, 100, 10, 10], \"shape_str\": \"100x100x10x10\", \"std_time\": 0.0004701902520620762, \"system\": {\"os\": {\"name\": \"Windows\", \"version\": \"10.0.18362\"}, \"memory\": {\"unit\": \"MB\", \"used\": 15807, \"total\": 65451}, \"cpu\": {\"name\": \"Intel64 Family 6 Model 158 Stepping 10, GenuineIntel\", \"cores\": 12, \"freqency\": 3696.0}, \"python\": {\"numpy\": \"1.18.3\", \"tensorflow\": {\"visible_gpu\": [], \"version\": \"2.2.0\"}, \"cupy\": \"7.2.0\"}, \"gpu\": []}, \"test_name\": \"DualCrossover3D\", \"test_type\": \"OP\", \"ts\": 1590167261}, {\"avg_time\": 0.0016621748606363933, \"backend\": \"numpy\", \"evoflow_version\": \"0.4.1\", \"generations\": 10, \"group\": \"DualCrossover\", \"input_size\": 1000000, \"max_time\": 0.001994609832763672, \"min_time\": 0.000997304916381836, \"name\": \"2D\", \"num_runs\": 3, \"shape\": [100, 100, 100], \"shape_str\": \"100x100x100\", \"std_time\": 0.0004701340461895193, \"system\": {\"os\": {\"name\": \"Windows\", \"version\": \"10.0.18362\"}, \"memory\": {\"unit\": \"MB\", \"used\": 15771, \"total\": 65451}, \"cpu\": {\"name\": \"Intel64 Family 6 Model 158 Stepping 10, GenuineIntel\", \"cores\": 12, \"freqency\": 3696.0}, \"python\": {\"numpy\": \"1.18.3\", \"tensorflow\": {\"visible_gpu\": [\"/physical_device:GPU:0\"], \"version\": \"2.2.0\"}, \"cupy\": \"7.2.0\"}, \"gpu\": []}, \"test_name\": \"DualCrossover2D\", \"test_type\": \"OP\", \"ts\": 1590167246}, {\"avg_time\": 0.0029920736948649087, \"backend\": \"numpy\", \"evoflow_version\": \"0.4.1\", \"generations\": 10, \"group\": \"DualCrossover\", \"input_size\": 1000000, \"max_time\": 0.0029921531677246094, \"min_time\": 0.002991914749145508, \"name\": \"1D\", \"num_runs\": 3, \"shape\": [1000, 1000], \"shape_str\": \"1000x1000\", \"std_time\": 1.1239159602905075e-07, \"system\": {\"os\": {\"name\": \"Windows\", \"version\": \"10.0.18362\"}, \"memory\": {\"unit\": \"MB\", \"used\": 15771, \"total\": 65451}, \"cpu\": {\"name\": \"Intel64 Family 6 Model 158 Stepping 10, GenuineIntel\", \"cores\": 12, \"freqency\": 3696.0}, \"python\": {\"numpy\": \"1.18.3\", \"tensorflow\": {\"visible_gpu\": [\"/physical_device:GPU:0\"], \"version\": \"2.2.0\"}, \"cupy\": \"7.2.0\"}, \"gpu\": []}, \"test_name\": \"DualCrossover1D\", \"test_type\": \"OP\", \"ts\": 1590167246}, {\"avg_time\": 0.005319039026896159, \"backend\": \"tensorflow-cpu\", \"evoflow_version\": \"0.4.1\", \"generations\": 10, \"group\": \"DualCrossover\", \"input_size\": 1000000, \"max_time\": 0.005983829498291016, \"min_time\": 0.00498652458190918, \"name\": \"1D\", \"num_runs\": 3, \"shape\": [1000, 1000], \"shape_str\": \"1000x1000\", \"std_time\": 0.00047007786046845593, \"system\": {\"os\": {\"name\": \"Windows\", \"version\": \"10.0.18362\"}, \"memory\": {\"unit\": \"MB\", \"used\": 15807, \"total\": 65451}, \"cpu\": {\"name\": \"Intel64 Family 6 Model 158 Stepping 10, GenuineIntel\", \"cores\": 12, \"freqency\": 3696.0}, \"python\": {\"numpy\": \"1.18.3\", \"tensorflow\": {\"visible_gpu\": [], \"version\": \"2.2.0\"}, \"cupy\": \"7.2.0\"}, \"gpu\": []}, \"test_name\": \"DualCrossover1D\", \"test_type\": \"OP\", \"ts\": 1590167261}, {\"avg_time\": 0.0023270448048909507, \"backend\": \"cupy\", \"evoflow_version\": \"0.4.1\", \"generations\": 10, \"group\": \"DualCrossover\", \"input_size\": 1000000, \"max_time\": 0.002992391586303711, \"min_time\": 0.0019941329956054688, \"name\": \"3D\", \"num_runs\": 3, \"shape\": [100, 100, 10, 10], \"shape_str\": \"100x100x10x10\", \"std_time\": 0.00047047126125170747, \"system\": {\"os\": {\"name\": \"Windows\", \"version\": \"10.0.18362\"}, \"memory\": {\"unit\": \"MB\", \"used\": 15815, \"total\": 65451}, \"cpu\": {\"name\": \"Intel64 Family 6 Model 158 Stepping 10, GenuineIntel\", \"cores\": 12, \"freqency\": 3696.0}, \"python\": {\"numpy\": \"1.18.3\", \"tensorflow\": {\"visible_gpu\": [\"/physical_device:GPU:0\"], \"version\": \"2.2.0\"}, \"cupy\": \"7.2.0\"}, \"gpu\": [{\"memory\": {\"unit\": \"MB\", \"total\": 11264, \"used\": 1475}, \"temperature\": {\"unit\": \"C\"}, \"driver\": \"445.87\", \"index\": \"0\", \"name\": \"GeForce RTX 2080 Ti\", \"value\": \"60\", \"usage\": \"1\"}]}, \"test_name\": \"DualCrossover3D\", \"test_type\": \"OP\", \"ts\": 1590167235}, {\"avg_time\": 0.005651553471883138, \"backend\": \"tensorflow-gpu\", \"evoflow_version\": \"0.4.1\", \"generations\": 10, \"group\": \"DualCrossover\", \"input_size\": 1000000, \"max_time\": 0.005984067916870117, \"min_time\": 0.004987001419067383, \"name\": \"3D\", \"num_runs\": 3, \"shape\": [100, 100, 10, 10], \"shape_str\": \"100x100x10x10\", \"std_time\": 0.0004699093033197255, \"system\": {\"os\": {\"name\": \"Windows\", \"version\": \"10.0.18362\"}, \"memory\": {\"unit\": \"MB\", \"used\": 15765, \"total\": 65451}, \"cpu\": {\"name\": \"Intel64 Family 6 Model 158 Stepping 10, GenuineIntel\", \"cores\": 12, \"freqency\": 3696.0}, \"python\": {\"numpy\": \"1.18.3\", \"tensorflow\": {\"visible_gpu\": [\"/physical_device:GPU:0\"], \"version\": \"2.2.0\"}, \"cupy\": \"7.2.0\"}, \"gpu\": [{\"memory\": {\"unit\": \"MB\", \"total\": 11264, \"used\": 1471}, \"temperature\": {\"unit\": \"C\"}, \"driver\": \"445.87\", \"index\": \"0\", \"name\": \"GeForce RTX 2080 Ti\", \"value\": \"58\", \"usage\": \"0\"}]}, \"test_name\": \"DualCrossover3D\", \"test_type\": \"OP\", \"ts\": 1590167273}, {\"avg_time\": 0.001994609832763672, \"backend\": \"numpy\", \"evoflow_version\": \"0.4.1\", \"generations\": 10, \"group\": \"DualCrossover\", \"input_size\": 1000000, \"max_time\": 0.001994609832763672, \"min_time\": 0.001994609832763672, \"name\": \"3D\", \"num_runs\": 3, \"shape\": [100, 100, 10, 10], \"shape_str\": \"100x100x10x10\", \"std_time\": 0.0, \"system\": {\"os\": {\"name\": \"Windows\", \"version\": \"10.0.18362\"}, \"memory\": {\"unit\": \"MB\", \"used\": 15771, \"total\": 65451}, \"cpu\": {\"name\": \"Intel64 Family 6 Model 158 Stepping 10, GenuineIntel\", \"cores\": 12, \"freqency\": 3696.0}, \"python\": {\"numpy\": \"1.18.3\", \"tensorflow\": {\"visible_gpu\": [\"/physical_device:GPU:0\"], \"version\": \"2.2.0\"}, \"cupy\": \"7.2.0\"}, \"gpu\": []}, \"test_name\": \"DualCrossover3D\", \"test_type\": \"OP\", \"ts\": 1590167246}, {\"avg_time\": 0.005984147389729817, \"backend\": \"tensorflow-cpu\", \"evoflow_version\": \"0.4.1\", \"generations\": 10, \"group\": \"DualCrossover\", \"input_size\": 1000000, \"max_time\": 0.006982088088989258, \"min_time\": 0.00498652458190918, \"name\": \"2D\", \"num_runs\": 3, \"shape\": [100, 100, 100], \"shape_str\": \"100x100x100\", \"std_time\": 0.0008146854212879391, \"system\": {\"os\": {\"name\": \"Windows\", \"version\": \"10.0.18362\"}, \"memory\": {\"unit\": \"MB\", \"used\": 15807, \"total\": 65451}, \"cpu\": {\"name\": \"Intel64 Family 6 Model 158 Stepping 10, GenuineIntel\", \"cores\": 12, \"freqency\": 3696.0}, \"python\": {\"numpy\": \"1.18.3\", \"tensorflow\": {\"visible_gpu\": [], \"version\": \"2.2.0\"}, \"cupy\": \"7.2.0\"}, \"gpu\": []}, \"test_name\": \"DualCrossover2D\", \"test_type\": \"OP\", \"ts\": 1590167261}, {\"avg_time\": 0.0016621748606363933, \"backend\": \"cupy\", \"evoflow_version\": \"0.4.1\", \"generations\": 10, \"group\": \"DualCrossover\", \"input_size\": 1000000, \"max_time\": 0.001994609832763672, \"min_time\": 0.000997304916381836, \"name\": \"2D\", \"num_runs\": 3, \"shape\": [100, 100, 100], \"shape_str\": \"100x100x100\", \"std_time\": 0.0004701340461895193, \"system\": {\"os\": {\"name\": \"Windows\", \"version\": \"10.0.18362\"}, \"memory\": {\"unit\": \"MB\", \"used\": 15815, \"total\": 65451}, \"cpu\": {\"name\": \"Intel64 Family 6 Model 158 Stepping 10, GenuineIntel\", \"cores\": 12, \"freqency\": 3696.0}, \"python\": {\"numpy\": \"1.18.3\", \"tensorflow\": {\"visible_gpu\": [\"/physical_device:GPU:0\"], \"version\": \"2.2.0\"}, \"cupy\": \"7.2.0\"}, \"gpu\": [{\"memory\": {\"unit\": \"MB\", \"total\": 11264, \"used\": 1475}, \"temperature\": {\"unit\": \"C\"}, \"driver\": \"445.87\", \"index\": \"0\", \"name\": \"GeForce RTX 2080 Ti\", \"value\": \"60\", \"usage\": \"1\"}]}, \"test_name\": \"DualCrossover2D\", \"test_type\": \"OP\", \"ts\": 1590167235}, {\"avg_time\": 0.021608908971150715, \"backend\": \"numpy\", \"evoflow_version\": \"0.4.1\", \"generations\": 10, \"group\": \"DualCrossover\", \"input_size\": 10000000, \"max_time\": 0.021941184997558594, \"min_time\": 0.02094435691833496, \"name\": \"3D\", \"num_runs\": 3, \"shape\": [100, 100, 100, 10], \"shape_str\": \"100x100x100x10\", \"std_time\": 0.0004699092629974612, \"system\": {\"os\": {\"name\": \"Windows\", \"version\": \"10.0.18362\"}, \"memory\": {\"unit\": \"MB\", \"used\": 15771, \"total\": 65451}, \"cpu\": {\"name\": \"Intel64 Family 6 Model 158 Stepping 10, GenuineIntel\", \"cores\": 12, \"freqency\": 3696.0}, \"python\": {\"numpy\": \"1.18.3\", \"tensorflow\": {\"visible_gpu\": [\"/physical_device:GPU:0\"], \"version\": \"2.2.0\"}, \"cupy\": \"7.2.0\"}, \"gpu\": []}, \"test_name\": \"DualCrossover3D\", \"test_type\": \"OP\", \"ts\": 1590167246}, {\"avg_time\": 0.0028289159138997397, \"backend\": \"cupy\", \"evoflow_version\": \"0.4.1\", \"generations\": 10, \"group\": \"DualCrossover\", \"input_size\": 10000000, \"max_time\": 0.002992868423461914, \"min_time\": 0.002502918243408203, \"name\": \"3D\", \"num_runs\": 3, \"shape\": [100, 100, 100, 10], \"shape_str\": \"100x100x100x10\", \"std_time\": 0.0002305164786143398, \"system\": {\"os\": {\"name\": \"Windows\", \"version\": \"10.0.18362\"}, \"memory\": {\"unit\": \"MB\", \"used\": 15815, \"total\": 65451}, \"cpu\": {\"name\": \"Intel64 Family 6 Model 158 Stepping 10, GenuineIntel\", \"cores\": 12, \"freqency\": 3696.0}, \"python\": {\"numpy\": \"1.18.3\", \"tensorflow\": {\"visible_gpu\": [\"/physical_device:GPU:0\"], \"version\": \"2.2.0\"}, \"cupy\": \"7.2.0\"}, \"gpu\": [{\"memory\": {\"unit\": \"MB\", \"total\": 11264, \"used\": 1475}, \"temperature\": {\"unit\": \"C\"}, \"driver\": \"445.87\", \"index\": \"0\", \"name\": \"GeForce RTX 2080 Ti\", \"value\": \"60\", \"usage\": \"1\"}]}, \"test_name\": \"DualCrossover3D\", \"test_type\": \"OP\", \"ts\": 1590167235}, {\"avg_time\": 0.049534241358439125, \"backend\": \"tensorflow-cpu\", \"evoflow_version\": \"0.4.1\", \"generations\": 10, \"group\": \"DualCrossover\", \"input_size\": 10000000, \"max_time\": 0.04986691474914551, \"min_time\": 0.04886960983276367, \"name\": \"3D\", \"num_runs\": 3, \"shape\": [100, 100, 100, 10], \"shape_str\": \"100x100x100x10\", \"std_time\": 0.000469965549509717, \"system\": {\"os\": {\"name\": \"Windows\", \"version\": \"10.0.18362\"}, \"memory\": {\"unit\": \"MB\", \"used\": 15807, \"total\": 65451}, \"cpu\": {\"name\": \"Intel64 Family 6 Model 158 Stepping 10, GenuineIntel\", \"cores\": 12, \"freqency\": 3696.0}, \"python\": {\"numpy\": \"1.18.3\", \"tensorflow\": {\"visible_gpu\": [], \"version\": \"2.2.0\"}, \"cupy\": \"7.2.0\"}, \"gpu\": []}, \"test_name\": \"DualCrossover3D\", \"test_type\": \"OP\", \"ts\": 1590167261}, {\"avg_time\": 0.05019919077555338, \"backend\": \"tensorflow-gpu\", \"evoflow_version\": \"0.4.1\", \"generations\": 10, \"group\": \"DualCrossover\", \"input_size\": 10000000, \"max_time\": 0.050864219665527344, \"min_time\": 0.049866437911987305, \"name\": \"3D\", \"num_runs\": 3, \"shape\": [100, 100, 100, 10], \"shape_str\": \"100x100x100x10\", \"std_time\": 0.0004702464780789008, \"system\": {\"os\": {\"name\": \"Windows\", \"version\": \"10.0.18362\"}, \"memory\": {\"unit\": \"MB\", \"used\": 15765, \"total\": 65451}, \"cpu\": {\"name\": \"Intel64 Family 6 Model 158 Stepping 10, GenuineIntel\", \"cores\": 12, \"freqency\": 3696.0}, \"python\": {\"numpy\": \"1.18.3\", \"tensorflow\": {\"visible_gpu\": [\"/physical_device:GPU:0\"], \"version\": \"2.2.0\"}, \"cupy\": \"7.2.0\"}, \"gpu\": [{\"memory\": {\"unit\": \"MB\", \"total\": 11264, \"used\": 1471}, \"temperature\": {\"unit\": \"C\"}, \"driver\": \"445.87\", \"index\": \"0\", \"name\": \"GeForce RTX 2080 Ti\", \"value\": \"58\", \"usage\": \"0\"}]}, \"test_name\": \"DualCrossover3D\", \"test_type\": \"OP\", \"ts\": 1590167273}]}}, {\"mode\": \"vega-lite\"});\n",
       "</script>"
      ],
      "text/plain": [
       "alt.FacetChart(...)"
      ]
     },
     "execution_count": 70,
     "metadata": {},
     "output_type": "execute_result"
    }
   ],
   "source": [
    "display_chart('DualCrossover')"
   ]
  },
  {
   "cell_type": "code",
   "execution_count": 71,
   "metadata": {},
   "outputs": [
    {
     "data": {
      "text/html": [
       "<br/><b>1D</b>"
      ],
      "text/plain": [
       "<IPython.core.display.HTML object>"
      ]
     },
     "metadata": {},
     "output_type": "display_data"
    },
    {
     "data": {
      "text/html": [
       "<table>\n",
       "<thead>\n",
       "<tr><th>shape    </th><th>numpy        </th><th>tf-cpu       </th><th>tf-gpu       </th><th>cupy         </th></tr>\n",
       "</thead>\n",
       "<tbody>\n",
       "<tr><td>100x100  </td><td>0.0 (0.00x)  </td><td>0.001 (0.00x)</td><td>0.001 (0.00x)</td><td>0.001 (0.00x)</td></tr>\n",
       "<tr><td>100x1000 </td><td>0.0 (1.00x)  </td><td>0.0 (1.00x)  </td><td>0.001 (0.50x)</td><td>0.001 (0.50x)</td></tr>\n",
       "<tr><td>1000x1000</td><td>0.003 (1.00x)</td><td>0.005 (0.56x)</td><td>0.006 (0.53x)</td><td>0.001 (4.49x)</td></tr>\n",
       "</tbody>\n",
       "</table>"
      ],
      "text/plain": [
       "<IPython.core.display.HTML object>"
      ]
     },
     "metadata": {},
     "output_type": "display_data"
    },
    {
     "data": {
      "text/html": [
       "<br/><b>2D</b>"
      ],
      "text/plain": [
       "<IPython.core.display.HTML object>"
      ]
     },
     "metadata": {},
     "output_type": "display_data"
    },
    {
     "data": {
      "text/html": [
       "<table>\n",
       "<thead>\n",
       "<tr><th>shape      </th><th>numpy        </th><th>tf-cpu       </th><th>tf-gpu       </th><th>cupy         </th></tr>\n",
       "</thead>\n",
       "<tbody>\n",
       "<tr><td>100x10x10  </td><td>0.0 (1.00x)  </td><td>0.001 (0.50x)</td><td>0.001 (0.50x)</td><td>0.002 (0.20x)</td></tr>\n",
       "<tr><td>100x100x10 </td><td>0.0 (1.00x)  </td><td>0.001 (0.50x)</td><td>0.001 (0.50x)</td><td>0.001 (0.25x)</td></tr>\n",
       "<tr><td>100x100x100</td><td>0.002 (1.00x)</td><td>0.006 (0.28x)</td><td>0.006 (0.28x)</td><td>0.002 (1.00x)</td></tr>\n",
       "</tbody>\n",
       "</table>"
      ],
      "text/plain": [
       "<IPython.core.display.HTML object>"
      ]
     },
     "metadata": {},
     "output_type": "display_data"
    },
    {
     "data": {
      "text/html": [
       "<br/><b>3D</b>"
      ],
      "text/plain": [
       "<IPython.core.display.HTML object>"
      ]
     },
     "metadata": {},
     "output_type": "display_data"
    },
    {
     "data": {
      "text/html": [
       "<table>\n",
       "<thead>\n",
       "<tr><th>shape         </th><th>numpy        </th><th>tf-cpu       </th><th>tf-gpu       </th><th>cupy         </th></tr>\n",
       "</thead>\n",
       "<tbody>\n",
       "<tr><td>100x10x10x10  </td><td>0.0 (1.00x)  </td><td>0.001 (0.50x)</td><td>0.001 (0.25x)</td><td>0.002 (0.17x)</td></tr>\n",
       "<tr><td>100x100x10x10 </td><td>0.002 (1.00x)</td><td>0.005 (0.37x)</td><td>0.006 (0.35x)</td><td>0.002 (0.86x)</td></tr>\n",
       "<tr><td>100x100x100x10</td><td>0.022 (1.00x)</td><td>0.05 (0.44x) </td><td>0.05 (0.43x) </td><td>0.003 (7.64x)</td></tr>\n",
       "</tbody>\n",
       "</table>"
      ],
      "text/plain": [
       "<IPython.core.display.HTML object>"
      ]
     },
     "metadata": {},
     "output_type": "display_data"
    }
   ],
   "source": [
    "display_table('DualCrossover')"
   ]
  },
  {
   "cell_type": "code",
   "execution_count": 72,
   "metadata": {},
   "outputs": [
    {
     "data": {
      "text/html": [
       "\n",
       "<div id=\"altair-viz-4f046ab35d874f069ba19b6258952785\"></div>\n",
       "<script type=\"text/javascript\">\n",
       "  (function(spec, embedOpt){\n",
       "    const outputDiv = document.getElementById(\"altair-viz-4f046ab35d874f069ba19b6258952785\");\n",
       "    const paths = {\n",
       "      \"vega\": \"https://cdn.jsdelivr.net/npm//vega@5?noext\",\n",
       "      \"vega-lib\": \"https://cdn.jsdelivr.net/npm//vega-lib?noext\",\n",
       "      \"vega-lite\": \"https://cdn.jsdelivr.net/npm//vega-lite@4.0.2?noext\",\n",
       "      \"vega-embed\": \"https://cdn.jsdelivr.net/npm//vega-embed@6?noext\",\n",
       "    };\n",
       "\n",
       "    function loadScript(lib) {\n",
       "      return new Promise(function(resolve, reject) {\n",
       "        var s = document.createElement('script');\n",
       "        s.src = paths[lib];\n",
       "        s.async = true;\n",
       "        s.onload = () => resolve(paths[lib]);\n",
       "        s.onerror = () => reject(`Error loading script: ${paths[lib]}`);\n",
       "        document.getElementsByTagName(\"head\")[0].appendChild(s);\n",
       "      });\n",
       "    }\n",
       "\n",
       "    function showError(err) {\n",
       "      outputDiv.innerHTML = `<div class=\"error\" style=\"color:red;\">${err}</div>`;\n",
       "      throw err;\n",
       "    }\n",
       "\n",
       "    function displayChart(vegaEmbed) {\n",
       "      vegaEmbed(outputDiv, spec, embedOpt)\n",
       "        .catch(err => showError(`Javascript Error: ${err.message}<br>This usually means there's a typo in your chart specification. See the javascript console for the full traceback.`));\n",
       "    }\n",
       "\n",
       "    if(typeof define === \"function\" && define.amd) {\n",
       "      requirejs.config({paths});\n",
       "      require([\"vega-embed\"], displayChart, err => showError(`Error loading script: ${err.message}`));\n",
       "    } else if (typeof vegaEmbed === \"function\") {\n",
       "      displayChart(vegaEmbed);\n",
       "    } else {\n",
       "      loadScript(\"vega\")\n",
       "        .then(() => loadScript(\"vega-lite\"))\n",
       "        .then(() => loadScript(\"vega-embed\"))\n",
       "        .catch(showError)\n",
       "        .then(() => displayChart(vegaEmbed));\n",
       "    }\n",
       "  })({\"config\": {\"view\": {\"continuousWidth\": 400, \"continuousHeight\": 300}, \"title\": {\"anchor\": \"middle\", \"fontSize\": 20, \"offset\": 5, \"orient\": \"top\"}}, \"data\": {\"name\": \"data-b6ebde591621423015475e415ad1952d\"}, \"facet\": {\"column\": {\"type\": \"nominal\", \"field\": \"name\"}}, \"spec\": {\"mark\": \"bar\", \"encoding\": {\"color\": {\"type\": \"nominal\", \"field\": \"backend\", \"legend\": null}, \"column\": {\"type\": \"nominal\", \"field\": \"shape_str\", \"sort\": {\"field\": \"input_size\", \"order\": \"ascending\"}, \"title\": \"\"}, \"x\": {\"type\": \"nominal\", \"axis\": {\"title\": \"\"}, \"field\": \"backend\"}, \"y\": {\"type\": \"quantitative\", \"axis\": {\"title\": \"\"}, \"field\": \"avg_time\", \"sort\": \"-x\"}}, \"resolve\": {\"scale\": {\"y\": \"independent\"}}, \"title\": \"\"}, \"spacing\": 50, \"title\": \"Reverse\", \"$schema\": \"https://vega.github.io/schema/vega-lite/v4.0.2.json\", \"datasets\": {\"data-b6ebde591621423015475e415ad1952d\": [{\"avg_time\": 0.002659479777018229, \"backend\": \"cupy\", \"evoflow_version\": \"0.4.1\", \"generations\": 10, \"group\": \"Reverse\", \"input_size\": 10000, \"max_time\": 0.005984306335449219, \"min_time\": 0.0009965896606445312, \"name\": \"1D\", \"num_runs\": 3, \"shape\": [100, 100], \"shape_str\": \"100x100\", \"std_time\": 0.0023510074379734488, \"system\": {\"os\": {\"name\": \"Windows\", \"version\": \"10.0.18362\"}, \"memory\": {\"unit\": \"MB\", \"used\": 15815, \"total\": 65451}, \"cpu\": {\"name\": \"Intel64 Family 6 Model 158 Stepping 10, GenuineIntel\", \"cores\": 12, \"freqency\": 3696.0}, \"python\": {\"numpy\": \"1.18.3\", \"tensorflow\": {\"visible_gpu\": [\"/physical_device:GPU:0\"], \"version\": \"2.2.0\"}, \"cupy\": \"7.2.0\"}, \"gpu\": [{\"memory\": {\"unit\": \"MB\", \"total\": 11264, \"used\": 1475}, \"temperature\": {\"unit\": \"C\"}, \"driver\": \"445.87\", \"index\": \"0\", \"name\": \"GeForce RTX 2080 Ti\", \"value\": \"60\", \"usage\": \"1\"}]}, \"test_name\": \"Reverse1D\", \"test_type\": \"OP\", \"ts\": 1590167235}, {\"avg_time\": 0.00033243497212727863, \"backend\": \"tensorflow-gpu\", \"evoflow_version\": \"0.4.1\", \"generations\": 10, \"group\": \"Reverse\", \"input_size\": 10000, \"max_time\": 0.000997304916381836, \"min_time\": 0.0, \"name\": \"1D\", \"num_runs\": 3, \"shape\": [100, 100], \"shape_str\": \"100x100\", \"std_time\": 0.0004701340461895193, \"system\": {\"os\": {\"name\": \"Windows\", \"version\": \"10.0.18362\"}, \"memory\": {\"unit\": \"MB\", \"used\": 15765, \"total\": 65451}, \"cpu\": {\"name\": \"Intel64 Family 6 Model 158 Stepping 10, GenuineIntel\", \"cores\": 12, \"freqency\": 3696.0}, \"python\": {\"numpy\": \"1.18.3\", \"tensorflow\": {\"visible_gpu\": [\"/physical_device:GPU:0\"], \"version\": \"2.2.0\"}, \"cupy\": \"7.2.0\"}, \"gpu\": [{\"memory\": {\"unit\": \"MB\", \"total\": 11264, \"used\": 1471}, \"temperature\": {\"unit\": \"C\"}, \"driver\": \"445.87\", \"index\": \"0\", \"name\": \"GeForce RTX 2080 Ti\", \"value\": \"58\", \"usage\": \"0\"}]}, \"test_name\": \"Reverse1D\", \"test_type\": \"OP\", \"ts\": 1590167273}, {\"avg_time\": 0.002327124277750651, \"backend\": \"cupy\", \"evoflow_version\": \"0.4.1\", \"generations\": 10, \"group\": \"Reverse\", \"input_size\": 10000, \"max_time\": 0.0029921531677246094, \"min_time\": 0.0009975433349609375, \"name\": \"2D\", \"num_runs\": 3, \"shape\": [100, 10, 10], \"shape_str\": \"100x10x10\", \"std_time\": 0.0009401557209369118, \"system\": {\"os\": {\"name\": \"Windows\", \"version\": \"10.0.18362\"}, \"memory\": {\"unit\": \"MB\", \"used\": 15815, \"total\": 65451}, \"cpu\": {\"name\": \"Intel64 Family 6 Model 158 Stepping 10, GenuineIntel\", \"cores\": 12, \"freqency\": 3696.0}, \"python\": {\"numpy\": \"1.18.3\", \"tensorflow\": {\"visible_gpu\": [\"/physical_device:GPU:0\"], \"version\": \"2.2.0\"}, \"cupy\": \"7.2.0\"}, \"gpu\": [{\"memory\": {\"unit\": \"MB\", \"total\": 11264, \"used\": 1475}, \"temperature\": {\"unit\": \"C\"}, \"driver\": \"445.87\", \"index\": \"0\", \"name\": \"GeForce RTX 2080 Ti\", \"value\": \"60\", \"usage\": \"1\"}]}, \"test_name\": \"Reverse2D\", \"test_type\": \"OP\", \"ts\": 1590167235}, {\"avg_time\": 0.0006648699442545573, \"backend\": \"tensorflow-cpu\", \"evoflow_version\": \"0.4.1\", \"generations\": 10, \"group\": \"Reverse\", \"input_size\": 10000, \"max_time\": 0.000997304916381836, \"min_time\": 0.0, \"name\": \"2D\", \"num_runs\": 3, \"shape\": [100, 10, 10], \"shape_str\": \"100x10x10\", \"std_time\": 0.0004701340461895193, \"system\": {\"os\": {\"name\": \"Windows\", \"version\": \"10.0.18362\"}, \"memory\": {\"unit\": \"MB\", \"used\": 15807, \"total\": 65451}, \"cpu\": {\"name\": \"Intel64 Family 6 Model 158 Stepping 10, GenuineIntel\", \"cores\": 12, \"freqency\": 3696.0}, \"python\": {\"numpy\": \"1.18.3\", \"tensorflow\": {\"visible_gpu\": [], \"version\": \"2.2.0\"}, \"cupy\": \"7.2.0\"}, \"gpu\": []}, \"test_name\": \"Reverse2D\", \"test_type\": \"OP\", \"ts\": 1590167261}, {\"avg_time\": 0.00033243497212727863, \"backend\": \"tensorflow-cpu\", \"evoflow_version\": \"0.4.1\", \"generations\": 10, \"group\": \"Reverse\", \"input_size\": 10000, \"max_time\": 0.000997304916381836, \"min_time\": 0.0, \"name\": \"1D\", \"num_runs\": 3, \"shape\": [100, 100], \"shape_str\": \"100x100\", \"std_time\": 0.0004701340461895193, \"system\": {\"os\": {\"name\": \"Windows\", \"version\": \"10.0.18362\"}, \"memory\": {\"unit\": \"MB\", \"used\": 15807, \"total\": 65451}, \"cpu\": {\"name\": \"Intel64 Family 6 Model 158 Stepping 10, GenuineIntel\", \"cores\": 12, \"freqency\": 3696.0}, \"python\": {\"numpy\": \"1.18.3\", \"tensorflow\": {\"visible_gpu\": [], \"version\": \"2.2.0\"}, \"cupy\": \"7.2.0\"}, \"gpu\": []}, \"test_name\": \"Reverse1D\", \"test_type\": \"OP\", \"ts\": 1590167261}, {\"avg_time\": 0.00033243497212727863, \"backend\": \"numpy\", \"evoflow_version\": \"0.4.1\", \"generations\": 10, \"group\": \"Reverse\", \"input_size\": 10000, \"max_time\": 0.000997304916381836, \"min_time\": 0.0, \"name\": \"1D\", \"num_runs\": 3, \"shape\": [100, 100], \"shape_str\": \"100x100\", \"std_time\": 0.0004701340461895193, \"system\": {\"os\": {\"name\": \"Windows\", \"version\": \"10.0.18362\"}, \"memory\": {\"unit\": \"MB\", \"used\": 15771, \"total\": 65451}, \"cpu\": {\"name\": \"Intel64 Family 6 Model 158 Stepping 10, GenuineIntel\", \"cores\": 12, \"freqency\": 3696.0}, \"python\": {\"numpy\": \"1.18.3\", \"tensorflow\": {\"visible_gpu\": [\"/physical_device:GPU:0\"], \"version\": \"2.2.0\"}, \"cupy\": \"7.2.0\"}, \"gpu\": []}, \"test_name\": \"Reverse1D\", \"test_type\": \"OP\", \"ts\": 1590167246}, {\"avg_time\": 0.0010797182718912761, \"backend\": \"tensorflow-gpu\", \"evoflow_version\": \"0.4.1\", \"generations\": 10, \"group\": \"Reverse\", \"input_size\": 10000, \"max_time\": 0.0012443065643310547, \"min_time\": 0.000997304916381836, \"name\": \"2D\", \"num_runs\": 3, \"shape\": [100, 10, 10], \"shape_str\": \"100x10x10\", \"std_time\": 0.00011638153839000494, \"system\": {\"os\": {\"name\": \"Windows\", \"version\": \"10.0.18362\"}, \"memory\": {\"unit\": \"MB\", \"used\": 15765, \"total\": 65451}, \"cpu\": {\"name\": \"Intel64 Family 6 Model 158 Stepping 10, GenuineIntel\", \"cores\": 12, \"freqency\": 3696.0}, \"python\": {\"numpy\": \"1.18.3\", \"tensorflow\": {\"visible_gpu\": [\"/physical_device:GPU:0\"], \"version\": \"2.2.0\"}, \"cupy\": \"7.2.0\"}, \"gpu\": [{\"memory\": {\"unit\": \"MB\", \"total\": 11264, \"used\": 1471}, \"temperature\": {\"unit\": \"C\"}, \"driver\": \"445.87\", \"index\": \"0\", \"name\": \"GeForce RTX 2080 Ti\", \"value\": \"58\", \"usage\": \"0\"}]}, \"test_name\": \"Reverse2D\", \"test_type\": \"OP\", \"ts\": 1590167273}, {\"avg_time\": 0.0, \"backend\": \"numpy\", \"evoflow_version\": \"0.4.1\", \"generations\": 10, \"group\": \"Reverse\", \"input_size\": 10000, \"max_time\": 0.0, \"min_time\": 0.0, \"name\": \"2D\", \"num_runs\": 3, \"shape\": [100, 10, 10], \"shape_str\": \"100x10x10\", \"std_time\": 0.0, \"system\": {\"os\": {\"name\": \"Windows\", \"version\": \"10.0.18362\"}, \"memory\": {\"unit\": \"MB\", \"used\": 15771, \"total\": 65451}, \"cpu\": {\"name\": \"Intel64 Family 6 Model 158 Stepping 10, GenuineIntel\", \"cores\": 12, \"freqency\": 3696.0}, \"python\": {\"numpy\": \"1.18.3\", \"tensorflow\": {\"visible_gpu\": [\"/physical_device:GPU:0\"], \"version\": \"2.2.0\"}, \"cupy\": \"7.2.0\"}, \"gpu\": []}, \"test_name\": \"Reverse2D\", \"test_type\": \"OP\", \"ts\": 1590167246}, {\"avg_time\": 0.0006648699442545573, \"backend\": \"tensorflow-gpu\", \"evoflow_version\": \"0.4.1\", \"generations\": 10, \"group\": \"Reverse\", \"input_size\": 100000, \"max_time\": 0.000997304916381836, \"min_time\": 0.0, \"name\": \"1D\", \"num_runs\": 3, \"shape\": [100, 1000], \"shape_str\": \"100x1000\", \"std_time\": 0.0004701340461895193, \"system\": {\"os\": {\"name\": \"Windows\", \"version\": \"10.0.18362\"}, \"memory\": {\"unit\": \"MB\", \"used\": 15765, \"total\": 65451}, \"cpu\": {\"name\": \"Intel64 Family 6 Model 158 Stepping 10, GenuineIntel\", \"cores\": 12, \"freqency\": 3696.0}, \"python\": {\"numpy\": \"1.18.3\", \"tensorflow\": {\"visible_gpu\": [\"/physical_device:GPU:0\"], \"version\": \"2.2.0\"}, \"cupy\": \"7.2.0\"}, \"gpu\": [{\"memory\": {\"unit\": \"MB\", \"total\": 11264, \"used\": 1471}, \"temperature\": {\"unit\": \"C\"}, \"driver\": \"445.87\", \"index\": \"0\", \"name\": \"GeForce RTX 2080 Ti\", \"value\": \"58\", \"usage\": \"0\"}]}, \"test_name\": \"Reverse1D\", \"test_type\": \"OP\", \"ts\": 1590167273}, {\"avg_time\": 0.0009973843892415364, \"backend\": \"tensorflow-cpu\", \"evoflow_version\": \"0.4.1\", \"generations\": 10, \"group\": \"Reverse\", \"input_size\": 100000, \"max_time\": 0.0009975433349609375, \"min_time\": 0.000997304916381836, \"name\": \"3D\", \"num_runs\": 3, \"shape\": [100, 10, 10, 10], \"shape_str\": \"100x10x10x10\", \"std_time\": 1.1239159602905075e-07, \"system\": {\"os\": {\"name\": \"Windows\", \"version\": \"10.0.18362\"}, \"memory\": {\"unit\": \"MB\", \"used\": 15807, \"total\": 65451}, \"cpu\": {\"name\": \"Intel64 Family 6 Model 158 Stepping 10, GenuineIntel\", \"cores\": 12, \"freqency\": 3696.0}, \"python\": {\"numpy\": \"1.18.3\", \"tensorflow\": {\"visible_gpu\": [], \"version\": \"2.2.0\"}, \"cupy\": \"7.2.0\"}, \"gpu\": []}, \"test_name\": \"Reverse3D\", \"test_type\": \"OP\", \"ts\": 1590167261}, {\"avg_time\": 0.0006647904713948568, \"backend\": \"tensorflow-cpu\", \"evoflow_version\": \"0.4.1\", \"generations\": 10, \"group\": \"Reverse\", \"input_size\": 100000, \"max_time\": 0.000997304916381836, \"min_time\": 0.0, \"name\": \"2D\", \"num_runs\": 3, \"shape\": [100, 100, 10], \"shape_str\": \"100x100x10\", \"std_time\": 0.0004700778604684559, \"system\": {\"os\": {\"name\": \"Windows\", \"version\": \"10.0.18362\"}, \"memory\": {\"unit\": \"MB\", \"used\": 15807, \"total\": 65451}, \"cpu\": {\"name\": \"Intel64 Family 6 Model 158 Stepping 10, GenuineIntel\", \"cores\": 12, \"freqency\": 3696.0}, \"python\": {\"numpy\": \"1.18.3\", \"tensorflow\": {\"visible_gpu\": [], \"version\": \"2.2.0\"}, \"cupy\": \"7.2.0\"}, \"gpu\": []}, \"test_name\": \"Reverse2D\", \"test_type\": \"OP\", \"ts\": 1590167261}, {\"avg_time\": 0.0003325144449869792, \"backend\": \"tensorflow-cpu\", \"evoflow_version\": \"0.4.1\", \"generations\": 10, \"group\": \"Reverse\", \"input_size\": 100000, \"max_time\": 0.0009975433349609375, \"min_time\": 0.0, \"name\": \"1D\", \"num_runs\": 3, \"shape\": [100, 1000], \"shape_str\": \"100x1000\", \"std_time\": 0.00047024643778554833, \"system\": {\"os\": {\"name\": \"Windows\", \"version\": \"10.0.18362\"}, \"memory\": {\"unit\": \"MB\", \"used\": 15807, \"total\": 65451}, \"cpu\": {\"name\": \"Intel64 Family 6 Model 158 Stepping 10, GenuineIntel\", \"cores\": 12, \"freqency\": 3696.0}, \"python\": {\"numpy\": \"1.18.3\", \"tensorflow\": {\"visible_gpu\": [], \"version\": \"2.2.0\"}, \"cupy\": \"7.2.0\"}, \"gpu\": []}, \"test_name\": \"Reverse1D\", \"test_type\": \"OP\", \"ts\": 1590167261}, {\"avg_time\": 0.0, \"backend\": \"numpy\", \"evoflow_version\": \"0.4.1\", \"generations\": 10, \"group\": \"Reverse\", \"input_size\": 100000, \"max_time\": 0.0, \"min_time\": 0.0, \"name\": \"2D\", \"num_runs\": 3, \"shape\": [100, 100, 10], \"shape_str\": \"100x100x10\", \"std_time\": 0.0, \"system\": {\"os\": {\"name\": \"Windows\", \"version\": \"10.0.18362\"}, \"memory\": {\"unit\": \"MB\", \"used\": 15771, \"total\": 65451}, \"cpu\": {\"name\": \"Intel64 Family 6 Model 158 Stepping 10, GenuineIntel\", \"cores\": 12, \"freqency\": 3696.0}, \"python\": {\"numpy\": \"1.18.3\", \"tensorflow\": {\"visible_gpu\": [\"/physical_device:GPU:0\"], \"version\": \"2.2.0\"}, \"cupy\": \"7.2.0\"}, \"gpu\": []}, \"test_name\": \"Reverse2D\", \"test_type\": \"OP\", \"ts\": 1590167246}, {\"avg_time\": 0.00033243497212727863, \"backend\": \"numpy\", \"evoflow_version\": \"0.4.1\", \"generations\": 10, \"group\": \"Reverse\", \"input_size\": 100000, \"max_time\": 0.000997304916381836, \"min_time\": 0.0, \"name\": \"3D\", \"num_runs\": 3, \"shape\": [100, 10, 10, 10], \"shape_str\": \"100x10x10x10\", \"std_time\": 0.0004701340461895193, \"system\": {\"os\": {\"name\": \"Windows\", \"version\": \"10.0.18362\"}, \"memory\": {\"unit\": \"MB\", \"used\": 15771, \"total\": 65451}, \"cpu\": {\"name\": \"Intel64 Family 6 Model 158 Stepping 10, GenuineIntel\", \"cores\": 12, \"freqency\": 3696.0}, \"python\": {\"numpy\": \"1.18.3\", \"tensorflow\": {\"visible_gpu\": [\"/physical_device:GPU:0\"], \"version\": \"2.2.0\"}, \"cupy\": \"7.2.0\"}, \"gpu\": []}, \"test_name\": \"Reverse3D\", \"test_type\": \"OP\", \"ts\": 1590167246}, {\"avg_time\": 0.0006648699442545573, \"backend\": \"tensorflow-gpu\", \"evoflow_version\": \"0.4.1\", \"generations\": 10, \"group\": \"Reverse\", \"input_size\": 100000, \"max_time\": 0.0009975433349609375, \"min_time\": 0.0, \"name\": \"2D\", \"num_runs\": 3, \"shape\": [100, 100, 10], \"shape_str\": \"100x100x10\", \"std_time\": 0.00047013408649250444, \"system\": {\"os\": {\"name\": \"Windows\", \"version\": \"10.0.18362\"}, \"memory\": {\"unit\": \"MB\", \"used\": 15765, \"total\": 65451}, \"cpu\": {\"name\": \"Intel64 Family 6 Model 158 Stepping 10, GenuineIntel\", \"cores\": 12, \"freqency\": 3696.0}, \"python\": {\"numpy\": \"1.18.3\", \"tensorflow\": {\"visible_gpu\": [\"/physical_device:GPU:0\"], \"version\": \"2.2.0\"}, \"cupy\": \"7.2.0\"}, \"gpu\": [{\"memory\": {\"unit\": \"MB\", \"total\": 11264, \"used\": 1471}, \"temperature\": {\"unit\": \"C\"}, \"driver\": \"445.87\", \"index\": \"0\", \"name\": \"GeForce RTX 2080 Ti\", \"value\": \"58\", \"usage\": \"0\"}]}, \"test_name\": \"Reverse2D\", \"test_type\": \"OP\", \"ts\": 1590167273}, {\"avg_time\": 0.0003323554992675781, \"backend\": \"numpy\", \"evoflow_version\": \"0.4.1\", \"generations\": 10, \"group\": \"Reverse\", \"input_size\": 100000, \"max_time\": 0.0009970664978027344, \"min_time\": 0.0, \"name\": \"1D\", \"num_runs\": 3, \"shape\": [100, 1000], \"shape_str\": \"100x1000\", \"std_time\": 0.00047002165459349024, \"system\": {\"os\": {\"name\": \"Windows\", \"version\": \"10.0.18362\"}, \"memory\": {\"unit\": \"MB\", \"used\": 15771, \"total\": 65451}, \"cpu\": {\"name\": \"Intel64 Family 6 Model 158 Stepping 10, GenuineIntel\", \"cores\": 12, \"freqency\": 3696.0}, \"python\": {\"numpy\": \"1.18.3\", \"tensorflow\": {\"visible_gpu\": [\"/physical_device:GPU:0\"], \"version\": \"2.2.0\"}, \"cupy\": \"7.2.0\"}, \"gpu\": []}, \"test_name\": \"Reverse1D\", \"test_type\": \"OP\", \"ts\": 1590167246}, {\"avg_time\": 0.0013297398885091145, \"backend\": \"cupy\", \"evoflow_version\": \"0.4.1\", \"generations\": 10, \"group\": \"Reverse\", \"input_size\": 100000, \"max_time\": 0.001994609832763672, \"min_time\": 0.000997304916381836, \"name\": \"1D\", \"num_runs\": 3, \"shape\": [100, 1000], \"shape_str\": \"100x1000\", \"std_time\": 0.0004701340461895193, \"system\": {\"os\": {\"name\": \"Windows\", \"version\": \"10.0.18362\"}, \"memory\": {\"unit\": \"MB\", \"used\": 15815, \"total\": 65451}, \"cpu\": {\"name\": \"Intel64 Family 6 Model 158 Stepping 10, GenuineIntel\", \"cores\": 12, \"freqency\": 3696.0}, \"python\": {\"numpy\": \"1.18.3\", \"tensorflow\": {\"visible_gpu\": [\"/physical_device:GPU:0\"], \"version\": \"2.2.0\"}, \"cupy\": \"7.2.0\"}, \"gpu\": [{\"memory\": {\"unit\": \"MB\", \"total\": 11264, \"used\": 1475}, \"temperature\": {\"unit\": \"C\"}, \"driver\": \"445.87\", \"index\": \"0\", \"name\": \"GeForce RTX 2080 Ti\", \"value\": \"60\", \"usage\": \"1\"}]}, \"test_name\": \"Reverse1D\", \"test_type\": \"OP\", \"ts\": 1590167235}, {\"avg_time\": 0.0013298193613688152, \"backend\": \"tensorflow-gpu\", \"evoflow_version\": \"0.4.1\", \"generations\": 10, \"group\": \"Reverse\", \"input_size\": 100000, \"max_time\": 0.0019948482513427734, \"min_time\": 0.000997304916381836, \"name\": \"3D\", \"num_runs\": 3, \"shape\": [100, 10, 10, 10], \"shape_str\": \"100x10x10x10\", \"std_time\": 0.0004702464377855484, \"system\": {\"os\": {\"name\": \"Windows\", \"version\": \"10.0.18362\"}, \"memory\": {\"unit\": \"MB\", \"used\": 15765, \"total\": 65451}, \"cpu\": {\"name\": \"Intel64 Family 6 Model 158 Stepping 10, GenuineIntel\", \"cores\": 12, \"freqency\": 3696.0}, \"python\": {\"numpy\": \"1.18.3\", \"tensorflow\": {\"visible_gpu\": [\"/physical_device:GPU:0\"], \"version\": \"2.2.0\"}, \"cupy\": \"7.2.0\"}, \"gpu\": [{\"memory\": {\"unit\": \"MB\", \"total\": 11264, \"used\": 1471}, \"temperature\": {\"unit\": \"C\"}, \"driver\": \"445.87\", \"index\": \"0\", \"name\": \"GeForce RTX 2080 Ti\", \"value\": \"58\", \"usage\": \"0\"}]}, \"test_name\": \"Reverse3D\", \"test_type\": \"OP\", \"ts\": 1590167273}, {\"avg_time\": 0.0043218135833740234, \"backend\": \"cupy\", \"evoflow_version\": \"0.4.1\", \"generations\": 10, \"group\": \"Reverse\", \"input_size\": 100000, \"max_time\": 0.005984067916870117, \"min_time\": 0.0019948482513427734, \"name\": \"3D\", \"num_runs\": 3, \"shape\": [100, 10, 10, 10], \"shape_str\": \"100x10x10x10\", \"std_time\": 0.001695061241496941, \"system\": {\"os\": {\"name\": \"Windows\", \"version\": \"10.0.18362\"}, \"memory\": {\"unit\": \"MB\", \"used\": 15815, \"total\": 65451}, \"cpu\": {\"name\": \"Intel64 Family 6 Model 158 Stepping 10, GenuineIntel\", \"cores\": 12, \"freqency\": 3696.0}, \"python\": {\"numpy\": \"1.18.3\", \"tensorflow\": {\"visible_gpu\": [\"/physical_device:GPU:0\"], \"version\": \"2.2.0\"}, \"cupy\": \"7.2.0\"}, \"gpu\": [{\"memory\": {\"unit\": \"MB\", \"total\": 11264, \"used\": 1475}, \"temperature\": {\"unit\": \"C\"}, \"driver\": \"445.87\", \"index\": \"0\", \"name\": \"GeForce RTX 2080 Ti\", \"value\": \"60\", \"usage\": \"1\"}]}, \"test_name\": \"Reverse3D\", \"test_type\": \"OP\", \"ts\": 1590167235}, {\"avg_time\": 0.0026596387227376304, \"backend\": \"cupy\", \"evoflow_version\": \"0.4.1\", \"generations\": 10, \"group\": \"Reverse\", \"input_size\": 100000, \"max_time\": 0.0029921531677246094, \"min_time\": 0.0019948482513427734, \"name\": \"2D\", \"num_runs\": 3, \"shape\": [100, 100, 10], \"shape_str\": \"100x100x10\", \"std_time\": 0.0004700778604684559, \"system\": {\"os\": {\"name\": \"Windows\", \"version\": \"10.0.18362\"}, \"memory\": {\"unit\": \"MB\", \"used\": 15815, \"total\": 65451}, \"cpu\": {\"name\": \"Intel64 Family 6 Model 158 Stepping 10, GenuineIntel\", \"cores\": 12, \"freqency\": 3696.0}, \"python\": {\"numpy\": \"1.18.3\", \"tensorflow\": {\"visible_gpu\": [\"/physical_device:GPU:0\"], \"version\": \"2.2.0\"}, \"cupy\": \"7.2.0\"}, \"gpu\": [{\"memory\": {\"unit\": \"MB\", \"total\": 11264, \"used\": 1475}, \"temperature\": {\"unit\": \"C\"}, \"driver\": \"445.87\", \"index\": \"0\", \"name\": \"GeForce RTX 2080 Ti\", \"value\": \"60\", \"usage\": \"1\"}]}, \"test_name\": \"Reverse2D\", \"test_type\": \"OP\", \"ts\": 1590167235}, {\"avg_time\": 0.00531919797261556, \"backend\": \"tensorflow-gpu\", \"evoflow_version\": \"0.4.1\", \"generations\": 10, \"group\": \"Reverse\", \"input_size\": 1000000, \"max_time\": 0.005984067916870117, \"min_time\": 0.00498652458190918, \"name\": \"1D\", \"num_runs\": 3, \"shape\": [1000, 1000], \"shape_str\": \"1000x1000\", \"std_time\": 0.00047013408649250444, \"system\": {\"os\": {\"name\": \"Windows\", \"version\": \"10.0.18362\"}, \"memory\": {\"unit\": \"MB\", \"used\": 15765, \"total\": 65451}, \"cpu\": {\"name\": \"Intel64 Family 6 Model 158 Stepping 10, GenuineIntel\", \"cores\": 12, \"freqency\": 3696.0}, \"python\": {\"numpy\": \"1.18.3\", \"tensorflow\": {\"visible_gpu\": [\"/physical_device:GPU:0\"], \"version\": \"2.2.0\"}, \"cupy\": \"7.2.0\"}, \"gpu\": [{\"memory\": {\"unit\": \"MB\", \"total\": 11264, \"used\": 1471}, \"temperature\": {\"unit\": \"C\"}, \"driver\": \"445.87\", \"index\": \"0\", \"name\": \"GeForce RTX 2080 Ti\", \"value\": \"58\", \"usage\": \"0\"}]}, \"test_name\": \"Reverse1D\", \"test_type\": \"OP\", \"ts\": 1590167273}, {\"avg_time\": 0.0013297398885091145, \"backend\": \"cupy\", \"evoflow_version\": \"0.4.1\", \"generations\": 10, \"group\": \"Reverse\", \"input_size\": 1000000, \"max_time\": 0.001994609832763672, \"min_time\": 0.000997304916381836, \"name\": \"1D\", \"num_runs\": 3, \"shape\": [1000, 1000], \"shape_str\": \"1000x1000\", \"std_time\": 0.0004701340461895193, \"system\": {\"os\": {\"name\": \"Windows\", \"version\": \"10.0.18362\"}, \"memory\": {\"unit\": \"MB\", \"used\": 15815, \"total\": 65451}, \"cpu\": {\"name\": \"Intel64 Family 6 Model 158 Stepping 10, GenuineIntel\", \"cores\": 12, \"freqency\": 3696.0}, \"python\": {\"numpy\": \"1.18.3\", \"tensorflow\": {\"visible_gpu\": [\"/physical_device:GPU:0\"], \"version\": \"2.2.0\"}, \"cupy\": \"7.2.0\"}, \"gpu\": [{\"memory\": {\"unit\": \"MB\", \"total\": 11264, \"used\": 1475}, \"temperature\": {\"unit\": \"C\"}, \"driver\": \"445.87\", \"index\": \"0\", \"name\": \"GeForce RTX 2080 Ti\", \"value\": \"60\", \"usage\": \"1\"}]}, \"test_name\": \"Reverse1D\", \"test_type\": \"OP\", \"ts\": 1590167235}, {\"avg_time\": 0.005651553471883138, \"backend\": \"tensorflow-gpu\", \"evoflow_version\": \"0.4.1\", \"generations\": 10, \"group\": \"Reverse\", \"input_size\": 1000000, \"max_time\": 0.005984067916870117, \"min_time\": 0.00498652458190918, \"name\": \"2D\", \"num_runs\": 3, \"shape\": [100, 100, 100], \"shape_str\": \"100x100x100\", \"std_time\": 0.00047024643778554833, \"system\": {\"os\": {\"name\": \"Windows\", \"version\": \"10.0.18362\"}, \"memory\": {\"unit\": \"MB\", \"used\": 15765, \"total\": 65451}, \"cpu\": {\"name\": \"Intel64 Family 6 Model 158 Stepping 10, GenuineIntel\", \"cores\": 12, \"freqency\": 3696.0}, \"python\": {\"numpy\": \"1.18.3\", \"tensorflow\": {\"visible_gpu\": [\"/physical_device:GPU:0\"], \"version\": \"2.2.0\"}, \"cupy\": \"7.2.0\"}, \"gpu\": [{\"memory\": {\"unit\": \"MB\", \"total\": 11264, \"used\": 1471}, \"temperature\": {\"unit\": \"C\"}, \"driver\": \"445.87\", \"index\": \"0\", \"name\": \"GeForce RTX 2080 Ti\", \"value\": \"58\", \"usage\": \"0\"}]}, \"test_name\": \"Reverse2D\", \"test_type\": \"OP\", \"ts\": 1590167273}, {\"avg_time\": 0.005319039026896159, \"backend\": \"tensorflow-cpu\", \"evoflow_version\": \"0.4.1\", \"generations\": 10, \"group\": \"Reverse\", \"input_size\": 1000000, \"max_time\": 0.005983829498291016, \"min_time\": 0.00498652458190918, \"name\": \"3D\", \"num_runs\": 3, \"shape\": [100, 100, 10, 10], \"shape_str\": \"100x100x10x10\", \"std_time\": 0.0004700778604684559, \"system\": {\"os\": {\"name\": \"Windows\", \"version\": \"10.0.18362\"}, \"memory\": {\"unit\": \"MB\", \"used\": 15807, \"total\": 65451}, \"cpu\": {\"name\": \"Intel64 Family 6 Model 158 Stepping 10, GenuineIntel\", \"cores\": 12, \"freqency\": 3696.0}, \"python\": {\"numpy\": \"1.18.3\", \"tensorflow\": {\"visible_gpu\": [], \"version\": \"2.2.0\"}, \"cupy\": \"7.2.0\"}, \"gpu\": []}, \"test_name\": \"Reverse3D\", \"test_type\": \"OP\", \"ts\": 1590167261}, {\"avg_time\": 0.0006649494171142578, \"backend\": \"numpy\", \"evoflow_version\": \"0.4.1\", \"generations\": 10, \"group\": \"Reverse\", \"input_size\": 1000000, \"max_time\": 0.0009975433349609375, \"min_time\": 0.0, \"name\": \"2D\", \"num_runs\": 3, \"shape\": [100, 100, 100], \"shape_str\": \"100x100x100\", \"std_time\": 0.0004701902520620762, \"system\": {\"os\": {\"name\": \"Windows\", \"version\": \"10.0.18362\"}, \"memory\": {\"unit\": \"MB\", \"used\": 15771, \"total\": 65451}, \"cpu\": {\"name\": \"Intel64 Family 6 Model 158 Stepping 10, GenuineIntel\", \"cores\": 12, \"freqency\": 3696.0}, \"python\": {\"numpy\": \"1.18.3\", \"tensorflow\": {\"visible_gpu\": [\"/physical_device:GPU:0\"], \"version\": \"2.2.0\"}, \"cupy\": \"7.2.0\"}, \"gpu\": []}, \"test_name\": \"Reverse2D\", \"test_type\": \"OP\", \"ts\": 1590167246}, {\"avg_time\": 0.0013297398885091145, \"backend\": \"numpy\", \"evoflow_version\": \"0.4.1\", \"generations\": 10, \"group\": \"Reverse\", \"input_size\": 1000000, \"max_time\": 0.001994609832763672, \"min_time\": 0.0009970664978027344, \"name\": \"1D\", \"num_runs\": 3, \"shape\": [1000, 1000], \"shape_str\": \"1000x1000\", \"std_time\": 0.00047013408649250444, \"system\": {\"os\": {\"name\": \"Windows\", \"version\": \"10.0.18362\"}, \"memory\": {\"unit\": \"MB\", \"used\": 15771, \"total\": 65451}, \"cpu\": {\"name\": \"Intel64 Family 6 Model 158 Stepping 10, GenuineIntel\", \"cores\": 12, \"freqency\": 3696.0}, \"python\": {\"numpy\": \"1.18.3\", \"tensorflow\": {\"visible_gpu\": [\"/physical_device:GPU:0\"], \"version\": \"2.2.0\"}, \"cupy\": \"7.2.0\"}, \"gpu\": []}, \"test_name\": \"Reverse1D\", \"test_type\": \"OP\", \"ts\": 1590167246}, {\"avg_time\": 0.005651553471883138, \"backend\": \"tensorflow-cpu\", \"evoflow_version\": \"0.4.1\", \"generations\": 10, \"group\": \"Reverse\", \"input_size\": 1000000, \"max_time\": 0.005984067916870117, \"min_time\": 0.004986763000488281, \"name\": \"1D\", \"num_runs\": 3, \"shape\": [1000, 1000], \"shape_str\": \"1000x1000\", \"std_time\": 0.0004700778604684559, \"system\": {\"os\": {\"name\": \"Windows\", \"version\": \"10.0.18362\"}, \"memory\": {\"unit\": \"MB\", \"used\": 15807, \"total\": 65451}, \"cpu\": {\"name\": \"Intel64 Family 6 Model 158 Stepping 10, GenuineIntel\", \"cores\": 12, \"freqency\": 3696.0}, \"python\": {\"numpy\": \"1.18.3\", \"tensorflow\": {\"visible_gpu\": [], \"version\": \"2.2.0\"}, \"cupy\": \"7.2.0\"}, \"gpu\": []}, \"test_name\": \"Reverse1D\", \"test_type\": \"OP\", \"ts\": 1590167261}, {\"avg_time\": 0.0036568641662597656, \"backend\": \"cupy\", \"evoflow_version\": \"0.4.1\", \"generations\": 10, \"group\": \"Reverse\", \"input_size\": 1000000, \"max_time\": 0.003989458084106445, \"min_time\": 0.002991914749145508, \"name\": \"3D\", \"num_runs\": 3, \"shape\": [100, 100, 10, 10], \"shape_str\": \"100x100x10x10\", \"std_time\": 0.0004701902520620762, \"system\": {\"os\": {\"name\": \"Windows\", \"version\": \"10.0.18362\"}, \"memory\": {\"unit\": \"MB\", \"used\": 15815, \"total\": 65451}, \"cpu\": {\"name\": \"Intel64 Family 6 Model 158 Stepping 10, GenuineIntel\", \"cores\": 12, \"freqency\": 3696.0}, \"python\": {\"numpy\": \"1.18.3\", \"tensorflow\": {\"visible_gpu\": [\"/physical_device:GPU:0\"], \"version\": \"2.2.0\"}, \"cupy\": \"7.2.0\"}, \"gpu\": [{\"memory\": {\"unit\": \"MB\", \"total\": 11264, \"used\": 1475}, \"temperature\": {\"unit\": \"C\"}, \"driver\": \"445.87\", \"index\": \"0\", \"name\": \"GeForce RTX 2080 Ti\", \"value\": \"60\", \"usage\": \"1\"}]}, \"test_name\": \"Reverse3D\", \"test_type\": \"OP\", \"ts\": 1590167235}, {\"avg_time\": 0.005651553471883138, \"backend\": \"tensorflow-gpu\", \"evoflow_version\": \"0.4.1\", \"generations\": 10, \"group\": \"Reverse\", \"input_size\": 1000000, \"max_time\": 0.005984067916870117, \"min_time\": 0.004986763000488281, \"name\": \"3D\", \"num_runs\": 3, \"shape\": [100, 100, 10, 10], \"shape_str\": \"100x100x10x10\", \"std_time\": 0.0004700778604684559, \"system\": {\"os\": {\"name\": \"Windows\", \"version\": \"10.0.18362\"}, \"memory\": {\"unit\": \"MB\", \"used\": 15765, \"total\": 65451}, \"cpu\": {\"name\": \"Intel64 Family 6 Model 158 Stepping 10, GenuineIntel\", \"cores\": 12, \"freqency\": 3696.0}, \"python\": {\"numpy\": \"1.18.3\", \"tensorflow\": {\"visible_gpu\": [\"/physical_device:GPU:0\"], \"version\": \"2.2.0\"}, \"cupy\": \"7.2.0\"}, \"gpu\": [{\"memory\": {\"unit\": \"MB\", \"total\": 11264, \"used\": 1471}, \"temperature\": {\"unit\": \"C\"}, \"driver\": \"445.87\", \"index\": \"0\", \"name\": \"GeForce RTX 2080 Ti\", \"value\": \"58\", \"usage\": \"0\"}]}, \"test_name\": \"Reverse3D\", \"test_type\": \"OP\", \"ts\": 1590167273}, {\"avg_time\": 0.0006649494171142578, \"backend\": \"numpy\", \"evoflow_version\": \"0.4.1\", \"generations\": 10, \"group\": \"Reverse\", \"input_size\": 1000000, \"max_time\": 0.0009975433349609375, \"min_time\": 0.0, \"name\": \"3D\", \"num_runs\": 3, \"shape\": [100, 100, 10, 10], \"shape_str\": \"100x100x10x10\", \"std_time\": 0.0004701902520620762, \"system\": {\"os\": {\"name\": \"Windows\", \"version\": \"10.0.18362\"}, \"memory\": {\"unit\": \"MB\", \"used\": 15771, \"total\": 65451}, \"cpu\": {\"name\": \"Intel64 Family 6 Model 158 Stepping 10, GenuineIntel\", \"cores\": 12, \"freqency\": 3696.0}, \"python\": {\"numpy\": \"1.18.3\", \"tensorflow\": {\"visible_gpu\": [\"/physical_device:GPU:0\"], \"version\": \"2.2.0\"}, \"cupy\": \"7.2.0\"}, \"gpu\": []}, \"test_name\": \"Reverse3D\", \"test_type\": \"OP\", \"ts\": 1590167246}, {\"avg_time\": 0.005651394526163737, \"backend\": \"tensorflow-cpu\", \"evoflow_version\": \"0.4.1\", \"generations\": 10, \"group\": \"Reverse\", \"input_size\": 1000000, \"max_time\": 0.005984306335449219, \"min_time\": 0.00498652458190918, \"name\": \"2D\", \"num_runs\": 3, \"shape\": [100, 100, 100], \"shape_str\": \"100x100x100\", \"std_time\": 0.0004701342074014391, \"system\": {\"os\": {\"name\": \"Windows\", \"version\": \"10.0.18362\"}, \"memory\": {\"unit\": \"MB\", \"used\": 15807, \"total\": 65451}, \"cpu\": {\"name\": \"Intel64 Family 6 Model 158 Stepping 10, GenuineIntel\", \"cores\": 12, \"freqency\": 3696.0}, \"python\": {\"numpy\": \"1.18.3\", \"tensorflow\": {\"visible_gpu\": [], \"version\": \"2.2.0\"}, \"cupy\": \"7.2.0\"}, \"gpu\": []}, \"test_name\": \"Reverse2D\", \"test_type\": \"OP\", \"ts\": 1590167261}, {\"avg_time\": 0.0026595592498779297, \"backend\": \"cupy\", \"evoflow_version\": \"0.4.1\", \"generations\": 10, \"group\": \"Reverse\", \"input_size\": 1000000, \"max_time\": 0.003989458084106445, \"min_time\": 0.001994609832763672, \"name\": \"2D\", \"num_runs\": 3, \"shape\": [100, 100, 100], \"shape_str\": \"100x100x100\", \"std_time\": 0.0009403804839750676, \"system\": {\"os\": {\"name\": \"Windows\", \"version\": \"10.0.18362\"}, \"memory\": {\"unit\": \"MB\", \"used\": 15815, \"total\": 65451}, \"cpu\": {\"name\": \"Intel64 Family 6 Model 158 Stepping 10, GenuineIntel\", \"cores\": 12, \"freqency\": 3696.0}, \"python\": {\"numpy\": \"1.18.3\", \"tensorflow\": {\"visible_gpu\": [\"/physical_device:GPU:0\"], \"version\": \"2.2.0\"}, \"cupy\": \"7.2.0\"}, \"gpu\": [{\"memory\": {\"unit\": \"MB\", \"total\": 11264, \"used\": 1475}, \"temperature\": {\"unit\": \"C\"}, \"driver\": \"445.87\", \"index\": \"0\", \"name\": \"GeForce RTX 2080 Ti\", \"value\": \"60\", \"usage\": \"1\"}]}, \"test_name\": \"Reverse2D\", \"test_type\": \"OP\", \"ts\": 1590167235}, {\"avg_time\": 0.005319118499755859, \"backend\": \"numpy\", \"evoflow_version\": \"0.4.1\", \"generations\": 10, \"group\": \"Reverse\", \"input_size\": 10000000, \"max_time\": 0.00598454475402832, \"min_time\": 0.004986286163330078, \"name\": \"3D\", \"num_runs\": 3, \"shape\": [100, 100, 100, 10], \"shape_str\": \"100x100x100x10\", \"std_time\": 0.00047052742684294406, \"system\": {\"os\": {\"name\": \"Windows\", \"version\": \"10.0.18362\"}, \"memory\": {\"unit\": \"MB\", \"used\": 15771, \"total\": 65451}, \"cpu\": {\"name\": \"Intel64 Family 6 Model 158 Stepping 10, GenuineIntel\", \"cores\": 12, \"freqency\": 3696.0}, \"python\": {\"numpy\": \"1.18.3\", \"tensorflow\": {\"visible_gpu\": [\"/physical_device:GPU:0\"], \"version\": \"2.2.0\"}, \"cupy\": \"7.2.0\"}, \"gpu\": []}, \"test_name\": \"Reverse3D\", \"test_type\": \"OP\", \"ts\": 1590167246}, {\"avg_time\": 0.0033260981241861978, \"backend\": \"cupy\", \"evoflow_version\": \"0.4.1\", \"generations\": 10, \"group\": \"Reverse\", \"input_size\": 10000000, \"max_time\": 0.003496885299682617, \"min_time\": 0.002987384796142578, \"name\": \"3D\", \"num_runs\": 3, \"shape\": [100, 100, 100, 10], \"shape_str\": \"100x100x100x10\", \"std_time\": 0.00023950933914827844, \"system\": {\"os\": {\"name\": \"Windows\", \"version\": \"10.0.18362\"}, \"memory\": {\"unit\": \"MB\", \"used\": 15815, \"total\": 65451}, \"cpu\": {\"name\": \"Intel64 Family 6 Model 158 Stepping 10, GenuineIntel\", \"cores\": 12, \"freqency\": 3696.0}, \"python\": {\"numpy\": \"1.18.3\", \"tensorflow\": {\"visible_gpu\": [\"/physical_device:GPU:0\"], \"version\": \"2.2.0\"}, \"cupy\": \"7.2.0\"}, \"gpu\": [{\"memory\": {\"unit\": \"MB\", \"total\": 11264, \"used\": 1475}, \"temperature\": {\"unit\": \"C\"}, \"driver\": \"445.87\", \"index\": \"0\", \"name\": \"GeForce RTX 2080 Ti\", \"value\": \"60\", \"usage\": \"1\"}]}, \"test_name\": \"Reverse3D\", \"test_type\": \"OP\", \"ts\": 1590167235}, {\"avg_time\": 0.049201647440592446, \"backend\": \"tensorflow-cpu\", \"evoflow_version\": \"0.4.1\", \"generations\": 10, \"group\": \"Reverse\", \"input_size\": 10000000, \"max_time\": 0.0498661994934082, \"min_time\": 0.04886937141418457, \"name\": \"3D\", \"num_runs\": 3, \"shape\": [100, 100, 100, 10], \"shape_str\": \"100x100x100x10\", \"std_time\": 0.0004699092629974612, \"system\": {\"os\": {\"name\": \"Windows\", \"version\": \"10.0.18362\"}, \"memory\": {\"unit\": \"MB\", \"used\": 15807, \"total\": 65451}, \"cpu\": {\"name\": \"Intel64 Family 6 Model 158 Stepping 10, GenuineIntel\", \"cores\": 12, \"freqency\": 3696.0}, \"python\": {\"numpy\": \"1.18.3\", \"tensorflow\": {\"visible_gpu\": [], \"version\": \"2.2.0\"}, \"cupy\": \"7.2.0\"}, \"gpu\": []}, \"test_name\": \"Reverse3D\", \"test_type\": \"OP\", \"ts\": 1590167261}, {\"avg_time\": 0.04987311363220215, \"backend\": \"tensorflow-gpu\", \"evoflow_version\": \"0.4.1\", \"generations\": 10, \"group\": \"Reverse\", \"input_size\": 10000000, \"max_time\": 0.049886465072631836, \"min_time\": 0.049866437911987305, \"name\": \"3D\", \"num_runs\": 3, \"shape\": [100, 100, 100, 10], \"shape_str\": \"100x100x100x10\", \"std_time\": 9.440894066440263e-06, \"system\": {\"os\": {\"name\": \"Windows\", \"version\": \"10.0.18362\"}, \"memory\": {\"unit\": \"MB\", \"used\": 15765, \"total\": 65451}, \"cpu\": {\"name\": \"Intel64 Family 6 Model 158 Stepping 10, GenuineIntel\", \"cores\": 12, \"freqency\": 3696.0}, \"python\": {\"numpy\": \"1.18.3\", \"tensorflow\": {\"visible_gpu\": [\"/physical_device:GPU:0\"], \"version\": \"2.2.0\"}, \"cupy\": \"7.2.0\"}, \"gpu\": [{\"memory\": {\"unit\": \"MB\", \"total\": 11264, \"used\": 1471}, \"temperature\": {\"unit\": \"C\"}, \"driver\": \"445.87\", \"index\": \"0\", \"name\": \"GeForce RTX 2080 Ti\", \"value\": \"58\", \"usage\": \"0\"}]}, \"test_name\": \"Reverse3D\", \"test_type\": \"OP\", \"ts\": 1590167273}]}}, {\"mode\": \"vega-lite\"});\n",
       "</script>"
      ],
      "text/plain": [
       "alt.FacetChart(...)"
      ]
     },
     "execution_count": 72,
     "metadata": {},
     "output_type": "execute_result"
    }
   ],
   "source": [
    "display_chart('Reverse')"
   ]
  },
  {
   "cell_type": "code",
   "execution_count": 73,
   "metadata": {},
   "outputs": [
    {
     "data": {
      "text/html": [
       "<br/><b>1D</b>"
      ],
      "text/plain": [
       "<IPython.core.display.HTML object>"
      ]
     },
     "metadata": {},
     "output_type": "display_data"
    },
    {
     "data": {
      "text/html": [
       "<table>\n",
       "<thead>\n",
       "<tr><th>shape    </th><th>numpy        </th><th>tf-cpu       </th><th>tf-gpu       </th><th>cupy         </th></tr>\n",
       "</thead>\n",
       "<tbody>\n",
       "<tr><td>100x100  </td><td>0.0 (1.00x)  </td><td>0.0 (1.00x)  </td><td>0.0 (1.00x)  </td><td>0.003 (0.12x)</td></tr>\n",
       "<tr><td>100x1000 </td><td>0.0 (1.00x)  </td><td>0.0 (1.00x)  </td><td>0.001 (0.50x)</td><td>0.001 (0.25x)</td></tr>\n",
       "<tr><td>1000x1000</td><td>0.001 (1.00x)</td><td>0.006 (0.24x)</td><td>0.005 (0.25x)</td><td>0.001 (1.00x)</td></tr>\n",
       "</tbody>\n",
       "</table>"
      ],
      "text/plain": [
       "<IPython.core.display.HTML object>"
      ]
     },
     "metadata": {},
     "output_type": "display_data"
    },
    {
     "data": {
      "text/html": [
       "<br/><b>2D</b>"
      ],
      "text/plain": [
       "<IPython.core.display.HTML object>"
      ]
     },
     "metadata": {},
     "output_type": "display_data"
    },
    {
     "data": {
      "text/html": [
       "<table>\n",
       "<thead>\n",
       "<tr><th>shape      </th><th>numpy        </th><th>tf-cpu       </th><th>tf-gpu       </th><th>cupy         </th></tr>\n",
       "</thead>\n",
       "<tbody>\n",
       "<tr><td>100x10x10  </td><td>0.0 (0.00x)  </td><td>0.001 (0.00x)</td><td>0.001 (0.00x)</td><td>0.002 (0.00x)</td></tr>\n",
       "<tr><td>100x100x10 </td><td>0.0 (0.00x)  </td><td>0.001 (0.00x)</td><td>0.001 (0.00x)</td><td>0.003 (0.00x)</td></tr>\n",
       "<tr><td>100x100x100</td><td>0.001 (1.00x)</td><td>0.006 (0.12x)</td><td>0.006 (0.12x)</td><td>0.003 (0.25x)</td></tr>\n",
       "</tbody>\n",
       "</table>"
      ],
      "text/plain": [
       "<IPython.core.display.HTML object>"
      ]
     },
     "metadata": {},
     "output_type": "display_data"
    },
    {
     "data": {
      "text/html": [
       "<br/><b>3D</b>"
      ],
      "text/plain": [
       "<IPython.core.display.HTML object>"
      ]
     },
     "metadata": {},
     "output_type": "display_data"
    },
    {
     "data": {
      "text/html": [
       "<table>\n",
       "<thead>\n",
       "<tr><th>shape         </th><th>numpy        </th><th>tf-cpu       </th><th>tf-gpu       </th><th>cupy         </th></tr>\n",
       "</thead>\n",
       "<tbody>\n",
       "<tr><td>100x10x10x10  </td><td>0.0 (1.00x)  </td><td>0.001 (0.33x)</td><td>0.001 (0.25x)</td><td>0.004 (0.08x)</td></tr>\n",
       "<tr><td>100x100x10x10 </td><td>0.001 (1.00x)</td><td>0.005 (0.12x)</td><td>0.006 (0.12x)</td><td>0.004 (0.18x)</td></tr>\n",
       "<tr><td>100x100x100x10</td><td>0.005 (1.00x)</td><td>0.049 (0.11x)</td><td>0.05 (0.11x) </td><td>0.003 (1.60x)</td></tr>\n",
       "</tbody>\n",
       "</table>"
      ],
      "text/plain": [
       "<IPython.core.display.HTML object>"
      ]
     },
     "metadata": {},
     "output_type": "display_data"
    }
   ],
   "source": [
    "display_table('Reverse')"
   ]
  },
  {
   "cell_type": "code",
   "execution_count": 74,
   "metadata": {},
   "outputs": [
    {
     "data": {
      "text/html": [
       "\n",
       "<div id=\"altair-viz-6513311053bc436b96c44c9f499e0ce0\"></div>\n",
       "<script type=\"text/javascript\">\n",
       "  (function(spec, embedOpt){\n",
       "    const outputDiv = document.getElementById(\"altair-viz-6513311053bc436b96c44c9f499e0ce0\");\n",
       "    const paths = {\n",
       "      \"vega\": \"https://cdn.jsdelivr.net/npm//vega@5?noext\",\n",
       "      \"vega-lib\": \"https://cdn.jsdelivr.net/npm//vega-lib?noext\",\n",
       "      \"vega-lite\": \"https://cdn.jsdelivr.net/npm//vega-lite@4.0.2?noext\",\n",
       "      \"vega-embed\": \"https://cdn.jsdelivr.net/npm//vega-embed@6?noext\",\n",
       "    };\n",
       "\n",
       "    function loadScript(lib) {\n",
       "      return new Promise(function(resolve, reject) {\n",
       "        var s = document.createElement('script');\n",
       "        s.src = paths[lib];\n",
       "        s.async = true;\n",
       "        s.onload = () => resolve(paths[lib]);\n",
       "        s.onerror = () => reject(`Error loading script: ${paths[lib]}`);\n",
       "        document.getElementsByTagName(\"head\")[0].appendChild(s);\n",
       "      });\n",
       "    }\n",
       "\n",
       "    function showError(err) {\n",
       "      outputDiv.innerHTML = `<div class=\"error\" style=\"color:red;\">${err}</div>`;\n",
       "      throw err;\n",
       "    }\n",
       "\n",
       "    function displayChart(vegaEmbed) {\n",
       "      vegaEmbed(outputDiv, spec, embedOpt)\n",
       "        .catch(err => showError(`Javascript Error: ${err.message}<br>This usually means there's a typo in your chart specification. See the javascript console for the full traceback.`));\n",
       "    }\n",
       "\n",
       "    if(typeof define === \"function\" && define.amd) {\n",
       "      requirejs.config({paths});\n",
       "      require([\"vega-embed\"], displayChart, err => showError(`Error loading script: ${err.message}`));\n",
       "    } else if (typeof vegaEmbed === \"function\") {\n",
       "      displayChart(vegaEmbed);\n",
       "    } else {\n",
       "      loadScript(\"vega\")\n",
       "        .then(() => loadScript(\"vega-lite\"))\n",
       "        .then(() => loadScript(\"vega-embed\"))\n",
       "        .catch(showError)\n",
       "        .then(() => displayChart(vegaEmbed));\n",
       "    }\n",
       "  })({\"config\": {\"view\": {\"continuousWidth\": 400, \"continuousHeight\": 300}, \"title\": {\"anchor\": \"middle\", \"fontSize\": 20, \"offset\": 5, \"orient\": \"top\"}}, \"data\": {\"name\": \"data-22ee3a78001fc87c34752bcb7235a7fd\"}, \"facet\": {\"column\": {\"type\": \"nominal\", \"field\": \"name\"}}, \"spec\": {\"mark\": \"bar\", \"encoding\": {\"color\": {\"type\": \"nominal\", \"field\": \"backend\", \"legend\": null}, \"column\": {\"type\": \"nominal\", \"field\": \"shape_str\", \"sort\": {\"field\": \"input_size\", \"order\": \"ascending\"}, \"title\": \"\"}, \"x\": {\"type\": \"nominal\", \"axis\": {\"title\": \"\"}, \"field\": \"backend\"}, \"y\": {\"type\": \"quantitative\", \"axis\": {\"title\": \"\"}, \"field\": \"avg_time\", \"sort\": \"-x\"}}, \"resolve\": {\"scale\": {\"y\": \"independent\"}}, \"title\": \"\"}, \"spacing\": 50, \"title\": \"Shuffle\", \"$schema\": \"https://vega.github.io/schema/vega-lite/v4.0.2.json\", \"datasets\": {\"data-22ee3a78001fc87c34752bcb7235a7fd\": [{\"avg_time\": 0.0023272037506103516, \"backend\": \"cupy\", \"evoflow_version\": \"0.4.1\", \"generations\": 10, \"group\": \"Shuffle\", \"input_size\": 10000, \"max_time\": 0.005984067916870117, \"min_time\": 0.0, \"name\": \"1D\", \"num_runs\": 3, \"shape\": [100, 100], \"shape_str\": \"100x100\", \"std_time\": 0.002617666241029376, \"system\": {\"os\": {\"name\": \"Windows\", \"version\": \"10.0.18362\"}, \"memory\": {\"unit\": \"MB\", \"used\": 15815, \"total\": 65451}, \"cpu\": {\"name\": \"Intel64 Family 6 Model 158 Stepping 10, GenuineIntel\", \"cores\": 12, \"freqency\": 3696.0}, \"python\": {\"numpy\": \"1.18.3\", \"tensorflow\": {\"visible_gpu\": [\"/physical_device:GPU:0\"], \"version\": \"2.2.0\"}, \"cupy\": \"7.2.0\"}, \"gpu\": [{\"memory\": {\"unit\": \"MB\", \"total\": 11264, \"used\": 1475}, \"temperature\": {\"unit\": \"C\"}, \"driver\": \"445.87\", \"index\": \"0\", \"name\": \"GeForce RTX 2080 Ti\", \"value\": \"60\", \"usage\": \"1\"}]}, \"test_name\": \"Shuffle1D\", \"test_type\": \"OP\", \"ts\": 1590167235}, {\"avg_time\": 0.0013298988342285156, \"backend\": \"tensorflow-gpu\", \"evoflow_version\": \"0.4.1\", \"generations\": 10, \"group\": \"Shuffle\", \"input_size\": 10000, \"max_time\": 0.002992391586303711, \"min_time\": 0.0, \"name\": \"1D\", \"num_runs\": 3, \"shape\": [100, 100], \"shape_str\": \"100x100\", \"std_time\": 0.0012440701714096255, \"system\": {\"os\": {\"name\": \"Windows\", \"version\": \"10.0.18362\"}, \"memory\": {\"unit\": \"MB\", \"used\": 15765, \"total\": 65451}, \"cpu\": {\"name\": \"Intel64 Family 6 Model 158 Stepping 10, GenuineIntel\", \"cores\": 12, \"freqency\": 3696.0}, \"python\": {\"numpy\": \"1.18.3\", \"tensorflow\": {\"visible_gpu\": [\"/physical_device:GPU:0\"], \"version\": \"2.2.0\"}, \"cupy\": \"7.2.0\"}, \"gpu\": [{\"memory\": {\"unit\": \"MB\", \"total\": 11264, \"used\": 1471}, \"temperature\": {\"unit\": \"C\"}, \"driver\": \"445.87\", \"index\": \"0\", \"name\": \"GeForce RTX 2080 Ti\", \"value\": \"58\", \"usage\": \"0\"}]}, \"test_name\": \"Shuffle1D\", \"test_type\": \"OP\", \"ts\": 1590167273}, {\"avg_time\": 0.0013298193613688152, \"backend\": \"cupy\", \"evoflow_version\": \"0.4.1\", \"generations\": 10, \"group\": \"Shuffle\", \"input_size\": 10000, \"max_time\": 0.0019958019256591797, \"min_time\": 0.0009961128234863281, \"name\": \"2D\", \"num_runs\": 3, \"shape\": [100, 10, 10], \"shape_str\": \"100x10x10\", \"std_time\": 0.00047092114948247757, \"system\": {\"os\": {\"name\": \"Windows\", \"version\": \"10.0.18362\"}, \"memory\": {\"unit\": \"MB\", \"used\": 15815, \"total\": 65451}, \"cpu\": {\"name\": \"Intel64 Family 6 Model 158 Stepping 10, GenuineIntel\", \"cores\": 12, \"freqency\": 3696.0}, \"python\": {\"numpy\": \"1.18.3\", \"tensorflow\": {\"visible_gpu\": [\"/physical_device:GPU:0\"], \"version\": \"2.2.0\"}, \"cupy\": \"7.2.0\"}, \"gpu\": [{\"memory\": {\"unit\": \"MB\", \"total\": 11264, \"used\": 1475}, \"temperature\": {\"unit\": \"C\"}, \"driver\": \"445.87\", \"index\": \"0\", \"name\": \"GeForce RTX 2080 Ti\", \"value\": \"60\", \"usage\": \"1\"}]}, \"test_name\": \"Shuffle2D\", \"test_type\": \"OP\", \"ts\": 1590167235}, {\"avg_time\": 0.0009972254435221355, \"backend\": \"tensorflow-cpu\", \"evoflow_version\": \"0.4.1\", \"generations\": 10, \"group\": \"Shuffle\", \"input_size\": 10000, \"max_time\": 0.000997304916381836, \"min_time\": 0.0009970664978027344, \"name\": \"2D\", \"num_runs\": 3, \"shape\": [100, 10, 10], \"shape_str\": \"100x10x10\", \"std_time\": 1.1239159602905075e-07, \"system\": {\"os\": {\"name\": \"Windows\", \"version\": \"10.0.18362\"}, \"memory\": {\"unit\": \"MB\", \"used\": 15807, \"total\": 65451}, \"cpu\": {\"name\": \"Intel64 Family 6 Model 158 Stepping 10, GenuineIntel\", \"cores\": 12, \"freqency\": 3696.0}, \"python\": {\"numpy\": \"1.18.3\", \"tensorflow\": {\"visible_gpu\": [], \"version\": \"2.2.0\"}, \"cupy\": \"7.2.0\"}, \"gpu\": []}, \"test_name\": \"Shuffle2D\", \"test_type\": \"OP\", \"ts\": 1590167261}, {\"avg_time\": 0.000997463862101237, \"backend\": \"tensorflow-cpu\", \"evoflow_version\": \"0.4.1\", \"generations\": 10, \"group\": \"Shuffle\", \"input_size\": 10000, \"max_time\": 0.0009980201721191406, \"min_time\": 0.0009968280792236328, \"name\": \"1D\", \"num_runs\": 3, \"shape\": [100, 100], \"shape_str\": \"100x100\", \"std_time\": 4.899036091938795e-07, \"system\": {\"os\": {\"name\": \"Windows\", \"version\": \"10.0.18362\"}, \"memory\": {\"unit\": \"MB\", \"used\": 15807, \"total\": 65451}, \"cpu\": {\"name\": \"Intel64 Family 6 Model 158 Stepping 10, GenuineIntel\", \"cores\": 12, \"freqency\": 3696.0}, \"python\": {\"numpy\": \"1.18.3\", \"tensorflow\": {\"visible_gpu\": [], \"version\": \"2.2.0\"}, \"cupy\": \"7.2.0\"}, \"gpu\": []}, \"test_name\": \"Shuffle1D\", \"test_type\": \"OP\", \"ts\": 1590167261}, {\"avg_time\": 0.0003325144449869792, \"backend\": \"numpy\", \"evoflow_version\": \"0.4.1\", \"generations\": 10, \"group\": \"Shuffle\", \"input_size\": 10000, \"max_time\": 0.0009975433349609375, \"min_time\": 0.0, \"name\": \"1D\", \"num_runs\": 3, \"shape\": [100, 100], \"shape_str\": \"100x100\", \"std_time\": 0.00047024643778554833, \"system\": {\"os\": {\"name\": \"Windows\", \"version\": \"10.0.18362\"}, \"memory\": {\"unit\": \"MB\", \"used\": 15771, \"total\": 65451}, \"cpu\": {\"name\": \"Intel64 Family 6 Model 158 Stepping 10, GenuineIntel\", \"cores\": 12, \"freqency\": 3696.0}, \"python\": {\"numpy\": \"1.18.3\", \"tensorflow\": {\"visible_gpu\": [\"/physical_device:GPU:0\"], \"version\": \"2.2.0\"}, \"cupy\": \"7.2.0\"}, \"gpu\": []}, \"test_name\": \"Shuffle1D\", \"test_type\": \"OP\", \"ts\": 1590167246}, {\"avg_time\": 0.0009973843892415364, \"backend\": \"tensorflow-gpu\", \"evoflow_version\": \"0.4.1\", \"generations\": 10, \"group\": \"Shuffle\", \"input_size\": 10000, \"max_time\": 0.000997781753540039, \"min_time\": 0.0009970664978027344, \"name\": \"2D\", \"num_runs\": 3, \"shape\": [100, 10, 10], \"shape_str\": \"100x10x10\", \"std_time\": 2.9736021254650284e-07, \"system\": {\"os\": {\"name\": \"Windows\", \"version\": \"10.0.18362\"}, \"memory\": {\"unit\": \"MB\", \"used\": 15765, \"total\": 65451}, \"cpu\": {\"name\": \"Intel64 Family 6 Model 158 Stepping 10, GenuineIntel\", \"cores\": 12, \"freqency\": 3696.0}, \"python\": {\"numpy\": \"1.18.3\", \"tensorflow\": {\"visible_gpu\": [\"/physical_device:GPU:0\"], \"version\": \"2.2.0\"}, \"cupy\": \"7.2.0\"}, \"gpu\": [{\"memory\": {\"unit\": \"MB\", \"total\": 11264, \"used\": 1471}, \"temperature\": {\"unit\": \"C\"}, \"driver\": \"445.87\", \"index\": \"0\", \"name\": \"GeForce RTX 2080 Ti\", \"value\": \"58\", \"usage\": \"0\"}]}, \"test_name\": \"Shuffle2D\", \"test_type\": \"OP\", \"ts\": 1590167273}, {\"avg_time\": 0.0003323554992675781, \"backend\": \"numpy\", \"evoflow_version\": \"0.4.1\", \"generations\": 10, \"group\": \"Shuffle\", \"input_size\": 10000, \"max_time\": 0.0009970664978027344, \"min_time\": 0.0, \"name\": \"2D\", \"num_runs\": 3, \"shape\": [100, 10, 10], \"shape_str\": \"100x10x10\", \"std_time\": 0.00047002165459349024, \"system\": {\"os\": {\"name\": \"Windows\", \"version\": \"10.0.18362\"}, \"memory\": {\"unit\": \"MB\", \"used\": 15771, \"total\": 65451}, \"cpu\": {\"name\": \"Intel64 Family 6 Model 158 Stepping 10, GenuineIntel\", \"cores\": 12, \"freqency\": 3696.0}, \"python\": {\"numpy\": \"1.18.3\", \"tensorflow\": {\"visible_gpu\": [\"/physical_device:GPU:0\"], \"version\": \"2.2.0\"}, \"cupy\": \"7.2.0\"}, \"gpu\": []}, \"test_name\": \"Shuffle2D\", \"test_type\": \"OP\", \"ts\": 1590167246}, {\"avg_time\": 0.002327124277750651, \"backend\": \"tensorflow-gpu\", \"evoflow_version\": \"0.4.1\", \"generations\": 10, \"group\": \"Shuffle\", \"input_size\": 100000, \"max_time\": 0.0029916763305664062, \"min_time\": 0.0019948482513427734, \"name\": \"1D\", \"num_runs\": 3, \"shape\": [100, 1000], \"shape_str\": \"100x1000\", \"std_time\": 0.00046990926299746123, \"system\": {\"os\": {\"name\": \"Windows\", \"version\": \"10.0.18362\"}, \"memory\": {\"unit\": \"MB\", \"used\": 15765, \"total\": 65451}, \"cpu\": {\"name\": \"Intel64 Family 6 Model 158 Stepping 10, GenuineIntel\", \"cores\": 12, \"freqency\": 3696.0}, \"python\": {\"numpy\": \"1.18.3\", \"tensorflow\": {\"visible_gpu\": [\"/physical_device:GPU:0\"], \"version\": \"2.2.0\"}, \"cupy\": \"7.2.0\"}, \"gpu\": [{\"memory\": {\"unit\": \"MB\", \"total\": 11264, \"used\": 1471}, \"temperature\": {\"unit\": \"C\"}, \"driver\": \"445.87\", \"index\": \"0\", \"name\": \"GeForce RTX 2080 Ti\", \"value\": \"58\", \"usage\": \"0\"}]}, \"test_name\": \"Shuffle1D\", \"test_type\": \"OP\", \"ts\": 1590167273}, {\"avg_time\": 0.0013297398885091145, \"backend\": \"tensorflow-cpu\", \"evoflow_version\": \"0.4.1\", \"generations\": 10, \"group\": \"Shuffle\", \"input_size\": 100000, \"max_time\": 0.001994609832763672, \"min_time\": 0.000997304916381836, \"name\": \"3D\", \"num_runs\": 3, \"shape\": [100, 10, 10, 10], \"shape_str\": \"100x10x10x10\", \"std_time\": 0.0004701340461895193, \"system\": {\"os\": {\"name\": \"Windows\", \"version\": \"10.0.18362\"}, \"memory\": {\"unit\": \"MB\", \"used\": 15807, \"total\": 65451}, \"cpu\": {\"name\": \"Intel64 Family 6 Model 158 Stepping 10, GenuineIntel\", \"cores\": 12, \"freqency\": 3696.0}, \"python\": {\"numpy\": \"1.18.3\", \"tensorflow\": {\"visible_gpu\": [], \"version\": \"2.2.0\"}, \"cupy\": \"7.2.0\"}, \"gpu\": []}, \"test_name\": \"Shuffle3D\", \"test_type\": \"OP\", \"ts\": 1590167261}, {\"avg_time\": 0.0013297398885091145, \"backend\": \"tensorflow-cpu\", \"evoflow_version\": \"0.4.1\", \"generations\": 10, \"group\": \"Shuffle\", \"input_size\": 100000, \"max_time\": 0.001994609832763672, \"min_time\": 0.0009970664978027344, \"name\": \"2D\", \"num_runs\": 3, \"shape\": [100, 100, 10], \"shape_str\": \"100x100x10\", \"std_time\": 0.00047013408649250444, \"system\": {\"os\": {\"name\": \"Windows\", \"version\": \"10.0.18362\"}, \"memory\": {\"unit\": \"MB\", \"used\": 15807, \"total\": 65451}, \"cpu\": {\"name\": \"Intel64 Family 6 Model 158 Stepping 10, GenuineIntel\", \"cores\": 12, \"freqency\": 3696.0}, \"python\": {\"numpy\": \"1.18.3\", \"tensorflow\": {\"visible_gpu\": [], \"version\": \"2.2.0\"}, \"cupy\": \"7.2.0\"}, \"gpu\": []}, \"test_name\": \"Shuffle2D\", \"test_type\": \"OP\", \"ts\": 1590167261}, {\"avg_time\": 0.0019946893056233725, \"backend\": \"tensorflow-cpu\", \"evoflow_version\": \"0.4.1\", \"generations\": 10, \"group\": \"Shuffle\", \"input_size\": 100000, \"max_time\": 0.0019948482513427734, \"min_time\": 0.001994609832763672, \"name\": \"1D\", \"num_runs\": 3, \"shape\": [100, 1000], \"shape_str\": \"100x1000\", \"std_time\": 1.1239159602905075e-07, \"system\": {\"os\": {\"name\": \"Windows\", \"version\": \"10.0.18362\"}, \"memory\": {\"unit\": \"MB\", \"used\": 15807, \"total\": 65451}, \"cpu\": {\"name\": \"Intel64 Family 6 Model 158 Stepping 10, GenuineIntel\", \"cores\": 12, \"freqency\": 3696.0}, \"python\": {\"numpy\": \"1.18.3\", \"tensorflow\": {\"visible_gpu\": [], \"version\": \"2.2.0\"}, \"cupy\": \"7.2.0\"}, \"gpu\": []}, \"test_name\": \"Shuffle1D\", \"test_type\": \"OP\", \"ts\": 1590167261}, {\"avg_time\": 0.0006649494171142578, \"backend\": \"numpy\", \"evoflow_version\": \"0.4.1\", \"generations\": 10, \"group\": \"Shuffle\", \"input_size\": 100000, \"max_time\": 0.0009975433349609375, \"min_time\": 0.0, \"name\": \"2D\", \"num_runs\": 3, \"shape\": [100, 100, 10], \"shape_str\": \"100x100x10\", \"std_time\": 0.0004701902520620762, \"system\": {\"os\": {\"name\": \"Windows\", \"version\": \"10.0.18362\"}, \"memory\": {\"unit\": \"MB\", \"used\": 15771, \"total\": 65451}, \"cpu\": {\"name\": \"Intel64 Family 6 Model 158 Stepping 10, GenuineIntel\", \"cores\": 12, \"freqency\": 3696.0}, \"python\": {\"numpy\": \"1.18.3\", \"tensorflow\": {\"visible_gpu\": [\"/physical_device:GPU:0\"], \"version\": \"2.2.0\"}, \"cupy\": \"7.2.0\"}, \"gpu\": []}, \"test_name\": \"Shuffle2D\", \"test_type\": \"OP\", \"ts\": 1590167246}, {\"avg_time\": 0.0009972254435221355, \"backend\": \"numpy\", \"evoflow_version\": \"0.4.1\", \"generations\": 10, \"group\": \"Shuffle\", \"input_size\": 100000, \"max_time\": 0.0009975433349609375, \"min_time\": 0.0009970664978027344, \"name\": \"3D\", \"num_runs\": 3, \"shape\": [100, 10, 10, 10], \"shape_str\": \"100x10x10x10\", \"std_time\": 2.247831920581015e-07, \"system\": {\"os\": {\"name\": \"Windows\", \"version\": \"10.0.18362\"}, \"memory\": {\"unit\": \"MB\", \"used\": 15771, \"total\": 65451}, \"cpu\": {\"name\": \"Intel64 Family 6 Model 158 Stepping 10, GenuineIntel\", \"cores\": 12, \"freqency\": 3696.0}, \"python\": {\"numpy\": \"1.18.3\", \"tensorflow\": {\"visible_gpu\": [\"/physical_device:GPU:0\"], \"version\": \"2.2.0\"}, \"cupy\": \"7.2.0\"}, \"gpu\": []}, \"test_name\": \"Shuffle3D\", \"test_type\": \"OP\", \"ts\": 1590167246}, {\"avg_time\": 0.0013298193613688152, \"backend\": \"tensorflow-gpu\", \"evoflow_version\": \"0.4.1\", \"generations\": 10, \"group\": \"Shuffle\", \"input_size\": 100000, \"max_time\": 0.0019943714141845703, \"min_time\": 0.000997304916381836, \"name\": \"2D\", \"num_runs\": 3, \"shape\": [100, 100, 10], \"shape_str\": \"100x100x10\", \"std_time\": 0.0004699093033197254, \"system\": {\"os\": {\"name\": \"Windows\", \"version\": \"10.0.18362\"}, \"memory\": {\"unit\": \"MB\", \"used\": 15765, \"total\": 65451}, \"cpu\": {\"name\": \"Intel64 Family 6 Model 158 Stepping 10, GenuineIntel\", \"cores\": 12, \"freqency\": 3696.0}, \"python\": {\"numpy\": \"1.18.3\", \"tensorflow\": {\"visible_gpu\": [\"/physical_device:GPU:0\"], \"version\": \"2.2.0\"}, \"cupy\": \"7.2.0\"}, \"gpu\": [{\"memory\": {\"unit\": \"MB\", \"total\": 11264, \"used\": 1471}, \"temperature\": {\"unit\": \"C\"}, \"driver\": \"445.87\", \"index\": \"0\", \"name\": \"GeForce RTX 2080 Ti\", \"value\": \"58\", \"usage\": \"0\"}]}, \"test_name\": \"Shuffle2D\", \"test_type\": \"OP\", \"ts\": 1590167273}, {\"avg_time\": 0.0016623338063557942, \"backend\": \"numpy\", \"evoflow_version\": \"0.4.1\", \"generations\": 10, \"group\": \"Shuffle\", \"input_size\": 100000, \"max_time\": 0.0019948482513427734, \"min_time\": 0.000997304916381836, \"name\": \"1D\", \"num_runs\": 3, \"shape\": [100, 1000], \"shape_str\": \"100x1000\", \"std_time\": 0.0004702464377855484, \"system\": {\"os\": {\"name\": \"Windows\", \"version\": \"10.0.18362\"}, \"memory\": {\"unit\": \"MB\", \"used\": 15771, \"total\": 65451}, \"cpu\": {\"name\": \"Intel64 Family 6 Model 158 Stepping 10, GenuineIntel\", \"cores\": 12, \"freqency\": 3696.0}, \"python\": {\"numpy\": \"1.18.3\", \"tensorflow\": {\"visible_gpu\": [\"/physical_device:GPU:0\"], \"version\": \"2.2.0\"}, \"cupy\": \"7.2.0\"}, \"gpu\": []}, \"test_name\": \"Shuffle1D\", \"test_type\": \"OP\", \"ts\": 1590167246}, {\"avg_time\": 0.0006647904713948568, \"backend\": \"cupy\", \"evoflow_version\": \"0.4.1\", \"generations\": 10, \"group\": \"Shuffle\", \"input_size\": 100000, \"max_time\": 0.000997304916381836, \"min_time\": 0.0, \"name\": \"1D\", \"num_runs\": 3, \"shape\": [100, 1000], \"shape_str\": \"100x1000\", \"std_time\": 0.0004700778604684559, \"system\": {\"os\": {\"name\": \"Windows\", \"version\": \"10.0.18362\"}, \"memory\": {\"unit\": \"MB\", \"used\": 15815, \"total\": 65451}, \"cpu\": {\"name\": \"Intel64 Family 6 Model 158 Stepping 10, GenuineIntel\", \"cores\": 12, \"freqency\": 3696.0}, \"python\": {\"numpy\": \"1.18.3\", \"tensorflow\": {\"visible_gpu\": [\"/physical_device:GPU:0\"], \"version\": \"2.2.0\"}, \"cupy\": \"7.2.0\"}, \"gpu\": [{\"memory\": {\"unit\": \"MB\", \"total\": 11264, \"used\": 1475}, \"temperature\": {\"unit\": \"C\"}, \"driver\": \"445.87\", \"index\": \"0\", \"name\": \"GeForce RTX 2080 Ti\", \"value\": \"60\", \"usage\": \"1\"}]}, \"test_name\": \"Shuffle1D\", \"test_type\": \"OP\", \"ts\": 1590167235}, {\"avg_time\": 0.0013297398885091145, \"backend\": \"tensorflow-gpu\", \"evoflow_version\": \"0.4.1\", \"generations\": 10, \"group\": \"Shuffle\", \"input_size\": 100000, \"max_time\": 0.001994609832763672, \"min_time\": 0.000997304916381836, \"name\": \"3D\", \"num_runs\": 3, \"shape\": [100, 10, 10, 10], \"shape_str\": \"100x10x10x10\", \"std_time\": 0.0004701340461895193, \"system\": {\"os\": {\"name\": \"Windows\", \"version\": \"10.0.18362\"}, \"memory\": {\"unit\": \"MB\", \"used\": 15765, \"total\": 65451}, \"cpu\": {\"name\": \"Intel64 Family 6 Model 158 Stepping 10, GenuineIntel\", \"cores\": 12, \"freqency\": 3696.0}, \"python\": {\"numpy\": \"1.18.3\", \"tensorflow\": {\"visible_gpu\": [\"/physical_device:GPU:0\"], \"version\": \"2.2.0\"}, \"cupy\": \"7.2.0\"}, \"gpu\": [{\"memory\": {\"unit\": \"MB\", \"total\": 11264, \"used\": 1471}, \"temperature\": {\"unit\": \"C\"}, \"driver\": \"445.87\", \"index\": \"0\", \"name\": \"GeForce RTX 2080 Ti\", \"value\": \"58\", \"usage\": \"0\"}]}, \"test_name\": \"Shuffle3D\", \"test_type\": \"OP\", \"ts\": 1590167273}, {\"avg_time\": 0.0016622543334960938, \"backend\": \"cupy\", \"evoflow_version\": \"0.4.1\", \"generations\": 10, \"group\": \"Shuffle\", \"input_size\": 100000, \"max_time\": 0.0019948482513427734, \"min_time\": 0.000997304916381836, \"name\": \"3D\", \"num_runs\": 3, \"shape\": [100, 10, 10, 10], \"shape_str\": \"100x10x10x10\", \"std_time\": 0.0004701902520620762, \"system\": {\"os\": {\"name\": \"Windows\", \"version\": \"10.0.18362\"}, \"memory\": {\"unit\": \"MB\", \"used\": 15815, \"total\": 65451}, \"cpu\": {\"name\": \"Intel64 Family 6 Model 158 Stepping 10, GenuineIntel\", \"cores\": 12, \"freqency\": 3696.0}, \"python\": {\"numpy\": \"1.18.3\", \"tensorflow\": {\"visible_gpu\": [\"/physical_device:GPU:0\"], \"version\": \"2.2.0\"}, \"cupy\": \"7.2.0\"}, \"gpu\": [{\"memory\": {\"unit\": \"MB\", \"total\": 11264, \"used\": 1475}, \"temperature\": {\"unit\": \"C\"}, \"driver\": \"445.87\", \"index\": \"0\", \"name\": \"GeForce RTX 2080 Ti\", \"value\": \"60\", \"usage\": \"1\"}]}, \"test_name\": \"Shuffle3D\", \"test_type\": \"OP\", \"ts\": 1590167235}, {\"avg_time\": 0.0009973843892415364, \"backend\": \"cupy\", \"evoflow_version\": \"0.4.1\", \"generations\": 10, \"group\": \"Shuffle\", \"input_size\": 100000, \"max_time\": 0.0009975433349609375, \"min_time\": 0.000997304916381836, \"name\": \"2D\", \"num_runs\": 3, \"shape\": [100, 100, 10], \"shape_str\": \"100x100x10\", \"std_time\": 1.1239159602905075e-07, \"system\": {\"os\": {\"name\": \"Windows\", \"version\": \"10.0.18362\"}, \"memory\": {\"unit\": \"MB\", \"used\": 15815, \"total\": 65451}, \"cpu\": {\"name\": \"Intel64 Family 6 Model 158 Stepping 10, GenuineIntel\", \"cores\": 12, \"freqency\": 3696.0}, \"python\": {\"numpy\": \"1.18.3\", \"tensorflow\": {\"visible_gpu\": [\"/physical_device:GPU:0\"], \"version\": \"2.2.0\"}, \"cupy\": \"7.2.0\"}, \"gpu\": [{\"memory\": {\"unit\": \"MB\", \"total\": 11264, \"used\": 1475}, \"temperature\": {\"unit\": \"C\"}, \"driver\": \"445.87\", \"index\": \"0\", \"name\": \"GeForce RTX 2080 Ti\", \"value\": \"60\", \"usage\": \"1\"}]}, \"test_name\": \"Shuffle2D\", \"test_type\": \"OP\", \"ts\": 1590167235}, {\"avg_time\": 0.012632926305135092, \"backend\": \"tensorflow-gpu\", \"evoflow_version\": \"0.4.1\", \"generations\": 10, \"group\": \"Shuffle\", \"input_size\": 1000000, \"max_time\": 0.014960289001464844, \"min_time\": 0.010970592498779297, \"name\": \"1D\", \"num_runs\": 3, \"shape\": [1000, 1000], \"shape_str\": \"1000x1000\", \"std_time\": 0.0016953106134787053, \"system\": {\"os\": {\"name\": \"Windows\", \"version\": \"10.0.18362\"}, \"memory\": {\"unit\": \"MB\", \"used\": 15765, \"total\": 65451}, \"cpu\": {\"name\": \"Intel64 Family 6 Model 158 Stepping 10, GenuineIntel\", \"cores\": 12, \"freqency\": 3696.0}, \"python\": {\"numpy\": \"1.18.3\", \"tensorflow\": {\"visible_gpu\": [\"/physical_device:GPU:0\"], \"version\": \"2.2.0\"}, \"cupy\": \"7.2.0\"}, \"gpu\": [{\"memory\": {\"unit\": \"MB\", \"total\": 11264, \"used\": 1471}, \"temperature\": {\"unit\": \"C\"}, \"driver\": \"445.87\", \"index\": \"0\", \"name\": \"GeForce RTX 2080 Ti\", \"value\": \"58\", \"usage\": \"0\"}]}, \"test_name\": \"Shuffle1D\", \"test_type\": \"OP\", \"ts\": 1590167273}, {\"avg_time\": 0.001329660415649414, \"backend\": \"cupy\", \"evoflow_version\": \"0.4.1\", \"generations\": 10, \"group\": \"Shuffle\", \"input_size\": 1000000, \"max_time\": 0.001994609832763672, \"min_time\": 0.0009970664978027344, \"name\": \"1D\", \"num_runs\": 3, \"shape\": [1000, 1000], \"shape_str\": \"1000x1000\", \"std_time\": 0.0004701902520620762, \"system\": {\"os\": {\"name\": \"Windows\", \"version\": \"10.0.18362\"}, \"memory\": {\"unit\": \"MB\", \"used\": 15815, \"total\": 65451}, \"cpu\": {\"name\": \"Intel64 Family 6 Model 158 Stepping 10, GenuineIntel\", \"cores\": 12, \"freqency\": 3696.0}, \"python\": {\"numpy\": \"1.18.3\", \"tensorflow\": {\"visible_gpu\": [\"/physical_device:GPU:0\"], \"version\": \"2.2.0\"}, \"cupy\": \"7.2.0\"}, \"gpu\": [{\"memory\": {\"unit\": \"MB\", \"total\": 11264, \"used\": 1475}, \"temperature\": {\"unit\": \"C\"}, \"driver\": \"445.87\", \"index\": \"0\", \"name\": \"GeForce RTX 2080 Ti\", \"value\": \"60\", \"usage\": \"1\"}]}, \"test_name\": \"Shuffle1D\", \"test_type\": \"OP\", \"ts\": 1590167235}, {\"avg_time\": 0.013962745666503906, \"backend\": \"tensorflow-gpu\", \"evoflow_version\": \"0.4.1\", \"generations\": 10, \"group\": \"Shuffle\", \"input_size\": 1000000, \"max_time\": 0.01495981216430664, \"min_time\": 0.012965679168701172, \"name\": \"2D\", \"num_runs\": 3, \"shape\": [100, 100, 100], \"shape_str\": \"100x100x100\", \"std_time\": 0.0008141013864135147, \"system\": {\"os\": {\"name\": \"Windows\", \"version\": \"10.0.18362\"}, \"memory\": {\"unit\": \"MB\", \"used\": 15765, \"total\": 65451}, \"cpu\": {\"name\": \"Intel64 Family 6 Model 158 Stepping 10, GenuineIntel\", \"cores\": 12, \"freqency\": 3696.0}, \"python\": {\"numpy\": \"1.18.3\", \"tensorflow\": {\"visible_gpu\": [\"/physical_device:GPU:0\"], \"version\": \"2.2.0\"}, \"cupy\": \"7.2.0\"}, \"gpu\": [{\"memory\": {\"unit\": \"MB\", \"total\": 11264, \"used\": 1471}, \"temperature\": {\"unit\": \"C\"}, \"driver\": \"445.87\", \"index\": \"0\", \"name\": \"GeForce RTX 2080 Ti\", \"value\": \"58\", \"usage\": \"0\"}]}, \"test_name\": \"Shuffle2D\", \"test_type\": \"OP\", \"ts\": 1590167273}, {\"avg_time\": 0.010638157526652018, \"backend\": \"tensorflow-cpu\", \"evoflow_version\": \"0.4.1\", \"generations\": 10, \"group\": \"Shuffle\", \"input_size\": 1000000, \"max_time\": 0.010970354080200195, \"min_time\": 0.009974002838134766, \"name\": \"3D\", \"num_runs\": 3, \"shape\": [100, 100, 10, 10], \"shape_str\": \"100x100x10x10\", \"std_time\": 0.0004696282940939862, \"system\": {\"os\": {\"name\": \"Windows\", \"version\": \"10.0.18362\"}, \"memory\": {\"unit\": \"MB\", \"used\": 15807, \"total\": 65451}, \"cpu\": {\"name\": \"Intel64 Family 6 Model 158 Stepping 10, GenuineIntel\", \"cores\": 12, \"freqency\": 3696.0}, \"python\": {\"numpy\": \"1.18.3\", \"tensorflow\": {\"visible_gpu\": [], \"version\": \"2.2.0\"}, \"cupy\": \"7.2.0\"}, \"gpu\": []}, \"test_name\": \"Shuffle3D\", \"test_type\": \"OP\", \"ts\": 1590167261}, {\"avg_time\": 0.009641011555989584, \"backend\": \"numpy\", \"evoflow_version\": \"0.4.1\", \"generations\": 10, \"group\": \"Shuffle\", \"input_size\": 1000000, \"max_time\": 0.009973764419555664, \"min_time\": 0.008975744247436523, \"name\": \"2D\", \"num_runs\": 3, \"shape\": [100, 100, 100], \"shape_str\": \"100x100x100\", \"std_time\": 0.0004704150352493203, \"system\": {\"os\": {\"name\": \"Windows\", \"version\": \"10.0.18362\"}, \"memory\": {\"unit\": \"MB\", \"used\": 15771, \"total\": 65451}, \"cpu\": {\"name\": \"Intel64 Family 6 Model 158 Stepping 10, GenuineIntel\", \"cores\": 12, \"freqency\": 3696.0}, \"python\": {\"numpy\": \"1.18.3\", \"tensorflow\": {\"visible_gpu\": [\"/physical_device:GPU:0\"], \"version\": \"2.2.0\"}, \"cupy\": \"7.2.0\"}, \"gpu\": []}, \"test_name\": \"Shuffle2D\", \"test_type\": \"OP\", \"ts\": 1590167246}, {\"avg_time\": 0.007978677749633789, \"backend\": \"numpy\", \"evoflow_version\": \"0.4.1\", \"generations\": 10, \"group\": \"Shuffle\", \"input_size\": 1000000, \"max_time\": 0.008975982666015625, \"min_time\": 0.0069811344146728516, \"name\": \"1D\", \"num_runs\": 3, \"shape\": [1000, 1000], \"shape_str\": \"1000x1000\", \"std_time\": 0.000814393405795133, \"system\": {\"os\": {\"name\": \"Windows\", \"version\": \"10.0.18362\"}, \"memory\": {\"unit\": \"MB\", \"used\": 15771, \"total\": 65451}, \"cpu\": {\"name\": \"Intel64 Family 6 Model 158 Stepping 10, GenuineIntel\", \"cores\": 12, \"freqency\": 3696.0}, \"python\": {\"numpy\": \"1.18.3\", \"tensorflow\": {\"visible_gpu\": [\"/physical_device:GPU:0\"], \"version\": \"2.2.0\"}, \"cupy\": \"7.2.0\"}, \"gpu\": []}, \"test_name\": \"Shuffle1D\", \"test_type\": \"OP\", \"ts\": 1590167246}, {\"avg_time\": 0.011303186416625977, \"backend\": \"tensorflow-cpu\", \"evoflow_version\": \"0.4.1\", \"generations\": 10, \"group\": \"Shuffle\", \"input_size\": 1000000, \"max_time\": 0.011968135833740234, \"min_time\": 0.010970354080200195, \"name\": \"1D\", \"num_runs\": 3, \"shape\": [1000, 1000], \"shape_str\": \"1000x1000\", \"std_time\": 0.0004701903326584075, \"system\": {\"os\": {\"name\": \"Windows\", \"version\": \"10.0.18362\"}, \"memory\": {\"unit\": \"MB\", \"used\": 15807, \"total\": 65451}, \"cpu\": {\"name\": \"Intel64 Family 6 Model 158 Stepping 10, GenuineIntel\", \"cores\": 12, \"freqency\": 3696.0}, \"python\": {\"numpy\": \"1.18.3\", \"tensorflow\": {\"visible_gpu\": [], \"version\": \"2.2.0\"}, \"cupy\": \"7.2.0\"}, \"gpu\": []}, \"test_name\": \"Shuffle1D\", \"test_type\": \"OP\", \"ts\": 1590167261}, {\"avg_time\": 0.0013298193613688152, \"backend\": \"cupy\", \"evoflow_version\": \"0.4.1\", \"generations\": 10, \"group\": \"Shuffle\", \"input_size\": 1000000, \"max_time\": 0.0019948482513427734, \"min_time\": 0.000997304916381836, \"name\": \"3D\", \"num_runs\": 3, \"shape\": [100, 100, 10, 10], \"shape_str\": \"100x100x10x10\", \"std_time\": 0.0004702464377855484, \"system\": {\"os\": {\"name\": \"Windows\", \"version\": \"10.0.18362\"}, \"memory\": {\"unit\": \"MB\", \"used\": 15815, \"total\": 65451}, \"cpu\": {\"name\": \"Intel64 Family 6 Model 158 Stepping 10, GenuineIntel\", \"cores\": 12, \"freqency\": 3696.0}, \"python\": {\"numpy\": \"1.18.3\", \"tensorflow\": {\"visible_gpu\": [\"/physical_device:GPU:0\"], \"version\": \"2.2.0\"}, \"cupy\": \"7.2.0\"}, \"gpu\": [{\"memory\": {\"unit\": \"MB\", \"total\": 11264, \"used\": 1475}, \"temperature\": {\"unit\": \"C\"}, \"driver\": \"445.87\", \"index\": \"0\", \"name\": \"GeForce RTX 2080 Ti\", \"value\": \"60\", \"usage\": \"1\"}]}, \"test_name\": \"Shuffle3D\", \"test_type\": \"OP\", \"ts\": 1590167235}, {\"avg_time\": 0.011967976888020834, \"backend\": \"tensorflow-gpu\", \"evoflow_version\": \"0.4.1\", \"generations\": 10, \"group\": \"Shuffle\", \"input_size\": 1000000, \"max_time\": 0.012965679168701172, \"min_time\": 0.010970354080200195, \"name\": \"3D\", \"num_runs\": 3, \"shape\": [100, 100, 10, 10], \"shape_str\": \"100x100x10x10\", \"std_time\": 0.0008145880582385632, \"system\": {\"os\": {\"name\": \"Windows\", \"version\": \"10.0.18362\"}, \"memory\": {\"unit\": \"MB\", \"used\": 15765, \"total\": 65451}, \"cpu\": {\"name\": \"Intel64 Family 6 Model 158 Stepping 10, GenuineIntel\", \"cores\": 12, \"freqency\": 3696.0}, \"python\": {\"numpy\": \"1.18.3\", \"tensorflow\": {\"visible_gpu\": [\"/physical_device:GPU:0\"], \"version\": \"2.2.0\"}, \"cupy\": \"7.2.0\"}, \"gpu\": [{\"memory\": {\"unit\": \"MB\", \"total\": 11264, \"used\": 1471}, \"temperature\": {\"unit\": \"C\"}, \"driver\": \"445.87\", \"index\": \"0\", \"name\": \"GeForce RTX 2080 Ti\", \"value\": \"58\", \"usage\": \"0\"}]}, \"test_name\": \"Shuffle3D\", \"test_type\": \"OP\", \"ts\": 1590167273}, {\"avg_time\": 0.006648858388264974, \"backend\": \"numpy\", \"evoflow_version\": \"0.4.1\", \"generations\": 10, \"group\": \"Shuffle\", \"input_size\": 1000000, \"max_time\": 0.006981372833251953, \"min_time\": 0.005983829498291016, \"name\": \"3D\", \"num_runs\": 3, \"shape\": [100, 100, 10, 10], \"shape_str\": \"100x100x10x10\", \"std_time\": 0.00047024643778554833, \"system\": {\"os\": {\"name\": \"Windows\", \"version\": \"10.0.18362\"}, \"memory\": {\"unit\": \"MB\", \"used\": 15771, \"total\": 65451}, \"cpu\": {\"name\": \"Intel64 Family 6 Model 158 Stepping 10, GenuineIntel\", \"cores\": 12, \"freqency\": 3696.0}, \"python\": {\"numpy\": \"1.18.3\", \"tensorflow\": {\"visible_gpu\": [\"/physical_device:GPU:0\"], \"version\": \"2.2.0\"}, \"cupy\": \"7.2.0\"}, \"gpu\": []}, \"test_name\": \"Shuffle3D\", \"test_type\": \"OP\", \"ts\": 1590167246}, {\"avg_time\": 0.014960050582885742, \"backend\": \"tensorflow-cpu\", \"evoflow_version\": \"0.4.1\", \"generations\": 10, \"group\": \"Shuffle\", \"input_size\": 1000000, \"max_time\": 0.014960289001464844, \"min_time\": 0.01495981216430664, \"name\": \"2D\", \"num_runs\": 3, \"shape\": [100, 100, 100], \"shape_str\": \"100x100x100\", \"std_time\": 1.9466795466607238e-07, \"system\": {\"os\": {\"name\": \"Windows\", \"version\": \"10.0.18362\"}, \"memory\": {\"unit\": \"MB\", \"used\": 15807, \"total\": 65451}, \"cpu\": {\"name\": \"Intel64 Family 6 Model 158 Stepping 10, GenuineIntel\", \"cores\": 12, \"freqency\": 3696.0}, \"python\": {\"numpy\": \"1.18.3\", \"tensorflow\": {\"visible_gpu\": [], \"version\": \"2.2.0\"}, \"cupy\": \"7.2.0\"}, \"gpu\": []}, \"test_name\": \"Shuffle2D\", \"test_type\": \"OP\", \"ts\": 1590167261}, {\"avg_time\": 0.0013298193613688152, \"backend\": \"cupy\", \"evoflow_version\": \"0.4.1\", \"generations\": 10, \"group\": \"Shuffle\", \"input_size\": 1000000, \"max_time\": 0.001994609832763672, \"min_time\": 0.000997304916381836, \"name\": \"2D\", \"num_runs\": 3, \"shape\": [100, 100, 100], \"shape_str\": \"100x100x100\", \"std_time\": 0.00047007786046845593, \"system\": {\"os\": {\"name\": \"Windows\", \"version\": \"10.0.18362\"}, \"memory\": {\"unit\": \"MB\", \"used\": 15815, \"total\": 65451}, \"cpu\": {\"name\": \"Intel64 Family 6 Model 158 Stepping 10, GenuineIntel\", \"cores\": 12, \"freqency\": 3696.0}, \"python\": {\"numpy\": \"1.18.3\", \"tensorflow\": {\"visible_gpu\": [\"/physical_device:GPU:0\"], \"version\": \"2.2.0\"}, \"cupy\": \"7.2.0\"}, \"gpu\": [{\"memory\": {\"unit\": \"MB\", \"total\": 11264, \"used\": 1475}, \"temperature\": {\"unit\": \"C\"}, \"driver\": \"445.87\", \"index\": \"0\", \"name\": \"GeForce RTX 2080 Ti\", \"value\": \"60\", \"usage\": \"1\"}]}, \"test_name\": \"Shuffle2D\", \"test_type\": \"OP\", \"ts\": 1590167235}, {\"avg_time\": 0.13596955935160318, \"backend\": \"numpy\", \"evoflow_version\": \"0.4.1\", \"generations\": 10, \"group\": \"Shuffle\", \"input_size\": 10000000, \"max_time\": 0.1466076374053955, \"min_time\": 0.12765836715698242, \"name\": \"3D\", \"num_runs\": 3, \"shape\": [100, 100, 100, 10], \"shape_str\": \"100x100x100x10\", \"std_time\": 0.007909045837438618, \"system\": {\"os\": {\"name\": \"Windows\", \"version\": \"10.0.18362\"}, \"memory\": {\"unit\": \"MB\", \"used\": 15771, \"total\": 65451}, \"cpu\": {\"name\": \"Intel64 Family 6 Model 158 Stepping 10, GenuineIntel\", \"cores\": 12, \"freqency\": 3696.0}, \"python\": {\"numpy\": \"1.18.3\", \"tensorflow\": {\"visible_gpu\": [\"/physical_device:GPU:0\"], \"version\": \"2.2.0\"}, \"cupy\": \"7.2.0\"}, \"gpu\": []}, \"test_name\": \"Shuffle3D\", \"test_type\": \"OP\", \"ts\": 1590167246}, {\"avg_time\": 0.0029920736948649087, \"backend\": \"cupy\", \"evoflow_version\": \"0.4.1\", \"generations\": 10, \"group\": \"Shuffle\", \"input_size\": 10000000, \"max_time\": 0.0029921531677246094, \"min_time\": 0.002991914749145508, \"name\": \"3D\", \"num_runs\": 3, \"shape\": [100, 100, 100, 10], \"shape_str\": \"100x100x100x10\", \"std_time\": 1.1239159602905075e-07, \"system\": {\"os\": {\"name\": \"Windows\", \"version\": \"10.0.18362\"}, \"memory\": {\"unit\": \"MB\", \"used\": 15815, \"total\": 65451}, \"cpu\": {\"name\": \"Intel64 Family 6 Model 158 Stepping 10, GenuineIntel\", \"cores\": 12, \"freqency\": 3696.0}, \"python\": {\"numpy\": \"1.18.3\", \"tensorflow\": {\"visible_gpu\": [\"/physical_device:GPU:0\"], \"version\": \"2.2.0\"}, \"cupy\": \"7.2.0\"}, \"gpu\": [{\"memory\": {\"unit\": \"MB\", \"total\": 11264, \"used\": 1475}, \"temperature\": {\"unit\": \"C\"}, \"driver\": \"445.87\", \"index\": \"0\", \"name\": \"GeForce RTX 2080 Ti\", \"value\": \"60\", \"usage\": \"1\"}]}, \"test_name\": \"Shuffle3D\", \"test_type\": \"OP\", \"ts\": 1590167235}, {\"avg_time\": 0.1800201733907064, \"backend\": \"tensorflow-cpu\", \"evoflow_version\": \"0.4.1\", \"generations\": 10, \"group\": \"Shuffle\", \"input_size\": 10000000, \"max_time\": 0.18600773811340332, \"min_time\": 0.17453336715698242, \"name\": \"3D\", \"num_runs\": 3, \"shape\": [100, 100, 100, 10], \"shape_str\": \"100x100x100x10\", \"std_time\": 0.004697755954325267, \"system\": {\"os\": {\"name\": \"Windows\", \"version\": \"10.0.18362\"}, \"memory\": {\"unit\": \"MB\", \"used\": 15807, \"total\": 65451}, \"cpu\": {\"name\": \"Intel64 Family 6 Model 158 Stepping 10, GenuineIntel\", \"cores\": 12, \"freqency\": 3696.0}, \"python\": {\"numpy\": \"1.18.3\", \"tensorflow\": {\"visible_gpu\": [], \"version\": \"2.2.0\"}, \"cupy\": \"7.2.0\"}, \"gpu\": []}, \"test_name\": \"Shuffle3D\", \"test_type\": \"OP\", \"ts\": 1590167261}, {\"avg_time\": 0.1715411345163981, \"backend\": \"tensorflow-gpu\", \"evoflow_version\": \"0.4.1\", \"generations\": 10, \"group\": \"Shuffle\", \"input_size\": 10000000, \"max_time\": 0.19248485565185547, \"min_time\": 0.15957307815551758, \"name\": \"3D\", \"num_runs\": 3, \"shape\": [100, 100, 100, 10], \"shape_str\": \"100x100x100x10\", \"std_time\": 0.01485974860938766, \"system\": {\"os\": {\"name\": \"Windows\", \"version\": \"10.0.18362\"}, \"memory\": {\"unit\": \"MB\", \"used\": 15765, \"total\": 65451}, \"cpu\": {\"name\": \"Intel64 Family 6 Model 158 Stepping 10, GenuineIntel\", \"cores\": 12, \"freqency\": 3696.0}, \"python\": {\"numpy\": \"1.18.3\", \"tensorflow\": {\"visible_gpu\": [\"/physical_device:GPU:0\"], \"version\": \"2.2.0\"}, \"cupy\": \"7.2.0\"}, \"gpu\": [{\"memory\": {\"unit\": \"MB\", \"total\": 11264, \"used\": 1471}, \"temperature\": {\"unit\": \"C\"}, \"driver\": \"445.87\", \"index\": \"0\", \"name\": \"GeForce RTX 2080 Ti\", \"value\": \"58\", \"usage\": \"0\"}]}, \"test_name\": \"Shuffle3D\", \"test_type\": \"OP\", \"ts\": 1590167273}]}}, {\"mode\": \"vega-lite\"});\n",
       "</script>"
      ],
      "text/plain": [
       "alt.FacetChart(...)"
      ]
     },
     "execution_count": 74,
     "metadata": {},
     "output_type": "execute_result"
    }
   ],
   "source": [
    "display_chart('Shuffle')"
   ]
  },
  {
   "cell_type": "code",
   "execution_count": 75,
   "metadata": {},
   "outputs": [
    {
     "data": {
      "text/html": [
       "<br/><b>1D</b>"
      ],
      "text/plain": [
       "<IPython.core.display.HTML object>"
      ]
     },
     "metadata": {},
     "output_type": "display_data"
    },
    {
     "data": {
      "text/html": [
       "<table>\n",
       "<thead>\n",
       "<tr><th>shape    </th><th>numpy        </th><th>tf-cpu       </th><th>tf-gpu       </th><th>cupy         </th></tr>\n",
       "</thead>\n",
       "<tbody>\n",
       "<tr><td>100x100  </td><td>0.0 (1.00x)  </td><td>0.001 (0.33x)</td><td>0.001 (0.25x)</td><td>0.002 (0.14x)</td></tr>\n",
       "<tr><td>100x1000 </td><td>0.002 (1.00x)</td><td>0.002 (0.83x)</td><td>0.002 (0.71x)</td><td>0.001 (2.50x)</td></tr>\n",
       "<tr><td>1000x1000</td><td>0.008 (1.00x)</td><td>0.011 (0.71x)</td><td>0.013 (0.63x)</td><td>0.001 (6.00x)</td></tr>\n",
       "</tbody>\n",
       "</table>"
      ],
      "text/plain": [
       "<IPython.core.display.HTML object>"
      ]
     },
     "metadata": {},
     "output_type": "display_data"
    },
    {
     "data": {
      "text/html": [
       "<br/><b>2D</b>"
      ],
      "text/plain": [
       "<IPython.core.display.HTML object>"
      ]
     },
     "metadata": {},
     "output_type": "display_data"
    },
    {
     "data": {
      "text/html": [
       "<table>\n",
       "<thead>\n",
       "<tr><th>shape      </th><th>numpy        </th><th>tf-cpu       </th><th>tf-gpu       </th><th>cupy         </th></tr>\n",
       "</thead>\n",
       "<tbody>\n",
       "<tr><td>100x10x10  </td><td>0.0 (1.00x)  </td><td>0.001 (0.33x)</td><td>0.001 (0.33x)</td><td>0.001 (0.25x)</td></tr>\n",
       "<tr><td>100x100x10 </td><td>0.001 (1.00x)</td><td>0.001 (0.50x)</td><td>0.001 (0.50x)</td><td>0.001 (0.67x)</td></tr>\n",
       "<tr><td>100x100x100</td><td>0.01 (1.00x) </td><td>0.015 (0.64x)</td><td>0.014 (0.69x)</td><td>0.001 (7.24x)</td></tr>\n",
       "</tbody>\n",
       "</table>"
      ],
      "text/plain": [
       "<IPython.core.display.HTML object>"
      ]
     },
     "metadata": {},
     "output_type": "display_data"
    },
    {
     "data": {
      "text/html": [
       "<br/><b>3D</b>"
      ],
      "text/plain": [
       "<IPython.core.display.HTML object>"
      ]
     },
     "metadata": {},
     "output_type": "display_data"
    },
    {
     "data": {
      "text/html": [
       "<table>\n",
       "<thead>\n",
       "<tr><th>shape         </th><th>numpy        </th><th>tf-cpu       </th><th>tf-gpu       </th><th>cupy          </th></tr>\n",
       "</thead>\n",
       "<tbody>\n",
       "<tr><td>100x10x10x10  </td><td>0.001 (1.00x)</td><td>0.001 (0.75x)</td><td>0.001 (0.75x)</td><td>0.002 (0.60x) </td></tr>\n",
       "<tr><td>100x100x10x10 </td><td>0.007 (1.00x)</td><td>0.011 (0.62x)</td><td>0.012 (0.56x)</td><td>0.001 (5.00x) </td></tr>\n",
       "<tr><td>100x100x100x10</td><td>0.136 (1.00x)</td><td>0.18 (0.76x) </td><td>0.172 (0.79x)</td><td>0.003 (45.43x)</td></tr>\n",
       "</tbody>\n",
       "</table>"
      ],
      "text/plain": [
       "<IPython.core.display.HTML object>"
      ]
     },
     "metadata": {},
     "output_type": "display_data"
    }
   ],
   "source": [
    "display_table('Shuffle')"
   ]
  },
  {
   "cell_type": "markdown",
   "metadata": {},
   "source": [
    "## Other"
   ]
  },
  {
   "cell_type": "code",
   "execution_count": 76,
   "metadata": {},
   "outputs": [
    {
     "data": {
      "text/html": [
       "\n",
       "<div id=\"altair-viz-6feb2e2c969e4ea1971bef169a24b756\"></div>\n",
       "<script type=\"text/javascript\">\n",
       "  (function(spec, embedOpt){\n",
       "    const outputDiv = document.getElementById(\"altair-viz-6feb2e2c969e4ea1971bef169a24b756\");\n",
       "    const paths = {\n",
       "      \"vega\": \"https://cdn.jsdelivr.net/npm//vega@5?noext\",\n",
       "      \"vega-lib\": \"https://cdn.jsdelivr.net/npm//vega-lib?noext\",\n",
       "      \"vega-lite\": \"https://cdn.jsdelivr.net/npm//vega-lite@4.0.2?noext\",\n",
       "      \"vega-embed\": \"https://cdn.jsdelivr.net/npm//vega-embed@6?noext\",\n",
       "    };\n",
       "\n",
       "    function loadScript(lib) {\n",
       "      return new Promise(function(resolve, reject) {\n",
       "        var s = document.createElement('script');\n",
       "        s.src = paths[lib];\n",
       "        s.async = true;\n",
       "        s.onload = () => resolve(paths[lib]);\n",
       "        s.onerror = () => reject(`Error loading script: ${paths[lib]}`);\n",
       "        document.getElementsByTagName(\"head\")[0].appendChild(s);\n",
       "      });\n",
       "    }\n",
       "\n",
       "    function showError(err) {\n",
       "      outputDiv.innerHTML = `<div class=\"error\" style=\"color:red;\">${err}</div>`;\n",
       "      throw err;\n",
       "    }\n",
       "\n",
       "    function displayChart(vegaEmbed) {\n",
       "      vegaEmbed(outputDiv, spec, embedOpt)\n",
       "        .catch(err => showError(`Javascript Error: ${err.message}<br>This usually means there's a typo in your chart specification. See the javascript console for the full traceback.`));\n",
       "    }\n",
       "\n",
       "    if(typeof define === \"function\" && define.amd) {\n",
       "      requirejs.config({paths});\n",
       "      require([\"vega-embed\"], displayChart, err => showError(`Error loading script: ${err.message}`));\n",
       "    } else if (typeof vegaEmbed === \"function\") {\n",
       "      displayChart(vegaEmbed);\n",
       "    } else {\n",
       "      loadScript(\"vega\")\n",
       "        .then(() => loadScript(\"vega-lite\"))\n",
       "        .then(() => loadScript(\"vega-embed\"))\n",
       "        .catch(showError)\n",
       "        .then(() => displayChart(vegaEmbed));\n",
       "    }\n",
       "  })({\"config\": {\"view\": {\"continuousWidth\": 400, \"continuousHeight\": 300}, \"title\": {\"anchor\": \"middle\", \"fontSize\": 20, \"offset\": 5, \"orient\": \"top\"}}, \"data\": {\"name\": \"data-f80658a7975233f125c9e954f87a2766\"}, \"facet\": {\"column\": {\"type\": \"nominal\", \"field\": \"name\"}}, \"spec\": {\"mark\": \"bar\", \"encoding\": {\"color\": {\"type\": \"nominal\", \"field\": \"backend\", \"legend\": null}, \"column\": {\"type\": \"nominal\", \"field\": \"shape_str\", \"sort\": {\"field\": \"input_size\", \"order\": \"ascending\"}, \"title\": \"\"}, \"x\": {\"type\": \"nominal\", \"axis\": {\"title\": \"\"}, \"field\": \"backend\"}, \"y\": {\"type\": \"quantitative\", \"axis\": {\"title\": \"\"}, \"field\": \"avg_time\", \"sort\": \"-x\"}}, \"resolve\": {\"scale\": {\"y\": \"independent\"}}, \"title\": \"\"}, \"spacing\": 50, \"title\": \"Fittest\", \"$schema\": \"https://vega.github.io/schema/vega-lite/v4.0.2.json\", \"datasets\": {\"data-f80658a7975233f125c9e954f87a2766\": [{\"avg_time\": 0.0016624132792154949, \"backend\": \"cupy\", \"evoflow_version\": \"0.4.1\", \"generations\": 10, \"group\": \"Fittest\", \"input_size\": 10000, \"max_time\": 0.003989458084106445, \"min_time\": 0.0, \"name\": \"1D\", \"num_runs\": 3, \"shape\": [100, 100], \"shape_str\": \"100x100\", \"std_time\": 0.001695139178140806, \"system\": {\"os\": {\"name\": \"Windows\", \"version\": \"10.0.18362\"}, \"memory\": {\"unit\": \"MB\", \"used\": 15815, \"total\": 65451}, \"cpu\": {\"name\": \"Intel64 Family 6 Model 158 Stepping 10, GenuineIntel\", \"cores\": 12, \"freqency\": 3696.0}, \"python\": {\"numpy\": \"1.18.3\", \"tensorflow\": {\"visible_gpu\": [\"/physical_device:GPU:0\"], \"version\": \"2.2.0\"}, \"cupy\": \"7.2.0\"}, \"gpu\": [{\"memory\": {\"unit\": \"MB\", \"total\": 11264, \"used\": 1475}, \"temperature\": {\"unit\": \"C\"}, \"driver\": \"445.87\", \"index\": \"0\", \"name\": \"GeForce RTX 2080 Ti\", \"value\": \"60\", \"usage\": \"1\"}]}, \"test_name\": \"Fittest1D\", \"test_type\": \"Selection\", \"ts\": 1590167235}, {\"avg_time\": 0.00033243497212727863, \"backend\": \"tensorflow-gpu\", \"evoflow_version\": \"0.4.1\", \"generations\": 10, \"group\": \"Fittest\", \"input_size\": 10000, \"max_time\": 0.000997304916381836, \"min_time\": 0.0, \"name\": \"1D\", \"num_runs\": 3, \"shape\": [100, 100], \"shape_str\": \"100x100\", \"std_time\": 0.0004701340461895193, \"system\": {\"os\": {\"name\": \"Windows\", \"version\": \"10.0.18362\"}, \"memory\": {\"unit\": \"MB\", \"used\": 15765, \"total\": 65451}, \"cpu\": {\"name\": \"Intel64 Family 6 Model 158 Stepping 10, GenuineIntel\", \"cores\": 12, \"freqency\": 3696.0}, \"python\": {\"numpy\": \"1.18.3\", \"tensorflow\": {\"visible_gpu\": [\"/physical_device:GPU:0\"], \"version\": \"2.2.0\"}, \"cupy\": \"7.2.0\"}, \"gpu\": [{\"memory\": {\"unit\": \"MB\", \"total\": 11264, \"used\": 1471}, \"temperature\": {\"unit\": \"C\"}, \"driver\": \"445.87\", \"index\": \"0\", \"name\": \"GeForce RTX 2080 Ti\", \"value\": \"58\", \"usage\": \"0\"}]}, \"test_name\": \"Fittest1D\", \"test_type\": \"Selection\", \"ts\": 1590167273}, {\"avg_time\": 0.0009972254435221355, \"backend\": \"cupy\", \"evoflow_version\": \"0.4.1\", \"generations\": 10, \"group\": \"Fittest\", \"input_size\": 10000, \"max_time\": 0.000997304916381836, \"min_time\": 0.0009970664978027344, \"name\": \"2D\", \"num_runs\": 3, \"shape\": [100, 10, 10], \"shape_str\": \"100x10x10\", \"std_time\": 1.1239159602905075e-07, \"system\": {\"os\": {\"name\": \"Windows\", \"version\": \"10.0.18362\"}, \"memory\": {\"unit\": \"MB\", \"used\": 15815, \"total\": 65451}, \"cpu\": {\"name\": \"Intel64 Family 6 Model 158 Stepping 10, GenuineIntel\", \"cores\": 12, \"freqency\": 3696.0}, \"python\": {\"numpy\": \"1.18.3\", \"tensorflow\": {\"visible_gpu\": [\"/physical_device:GPU:0\"], \"version\": \"2.2.0\"}, \"cupy\": \"7.2.0\"}, \"gpu\": [{\"memory\": {\"unit\": \"MB\", \"total\": 11264, \"used\": 1475}, \"temperature\": {\"unit\": \"C\"}, \"driver\": \"445.87\", \"index\": \"0\", \"name\": \"GeForce RTX 2080 Ti\", \"value\": \"60\", \"usage\": \"1\"}]}, \"test_name\": \"Fittest2D\", \"test_type\": \"Selection\", \"ts\": 1590167235}, {\"avg_time\": 0.0003325144449869792, \"backend\": \"tensorflow-cpu\", \"evoflow_version\": \"0.4.1\", \"generations\": 10, \"group\": \"Fittest\", \"input_size\": 10000, \"max_time\": 0.0009975433349609375, \"min_time\": 0.0, \"name\": \"2D\", \"num_runs\": 3, \"shape\": [100, 10, 10], \"shape_str\": \"100x10x10\", \"std_time\": 0.00047024643778554833, \"system\": {\"os\": {\"name\": \"Windows\", \"version\": \"10.0.18362\"}, \"memory\": {\"unit\": \"MB\", \"used\": 15807, \"total\": 65451}, \"cpu\": {\"name\": \"Intel64 Family 6 Model 158 Stepping 10, GenuineIntel\", \"cores\": 12, \"freqency\": 3696.0}, \"python\": {\"numpy\": \"1.18.3\", \"tensorflow\": {\"visible_gpu\": [], \"version\": \"2.2.0\"}, \"cupy\": \"7.2.0\"}, \"gpu\": []}, \"test_name\": \"Fittest2D\", \"test_type\": \"Selection\", \"ts\": 1590167261}, {\"avg_time\": 0.00033243497212727863, \"backend\": \"tensorflow-cpu\", \"evoflow_version\": \"0.4.1\", \"generations\": 10, \"group\": \"Fittest\", \"input_size\": 10000, \"max_time\": 0.000997304916381836, \"min_time\": 0.0, \"name\": \"1D\", \"num_runs\": 3, \"shape\": [100, 100], \"shape_str\": \"100x100\", \"std_time\": 0.0004701340461895193, \"system\": {\"os\": {\"name\": \"Windows\", \"version\": \"10.0.18362\"}, \"memory\": {\"unit\": \"MB\", \"used\": 15807, \"total\": 65451}, \"cpu\": {\"name\": \"Intel64 Family 6 Model 158 Stepping 10, GenuineIntel\", \"cores\": 12, \"freqency\": 3696.0}, \"python\": {\"numpy\": \"1.18.3\", \"tensorflow\": {\"visible_gpu\": [], \"version\": \"2.2.0\"}, \"cupy\": \"7.2.0\"}, \"gpu\": []}, \"test_name\": \"Fittest1D\", \"test_type\": \"Selection\", \"ts\": 1590167261}, {\"avg_time\": 0.0, \"backend\": \"numpy\", \"evoflow_version\": \"0.4.1\", \"generations\": 10, \"group\": \"Fittest\", \"input_size\": 10000, \"max_time\": 0.0, \"min_time\": 0.0, \"name\": \"1D\", \"num_runs\": 3, \"shape\": [100, 100], \"shape_str\": \"100x100\", \"std_time\": 0.0, \"system\": {\"os\": {\"name\": \"Windows\", \"version\": \"10.0.18362\"}, \"memory\": {\"unit\": \"MB\", \"used\": 15771, \"total\": 65451}, \"cpu\": {\"name\": \"Intel64 Family 6 Model 158 Stepping 10, GenuineIntel\", \"cores\": 12, \"freqency\": 3696.0}, \"python\": {\"numpy\": \"1.18.3\", \"tensorflow\": {\"visible_gpu\": [\"/physical_device:GPU:0\"], \"version\": \"2.2.0\"}, \"cupy\": \"7.2.0\"}, \"gpu\": []}, \"test_name\": \"Fittest1D\", \"test_type\": \"Selection\", \"ts\": 1590167246}, {\"avg_time\": 0.0009149710337320963, \"backend\": \"tensorflow-gpu\", \"evoflow_version\": \"0.4.1\", \"generations\": 10, \"group\": \"Fittest\", \"input_size\": 10000, \"max_time\": 0.0009975433349609375, \"min_time\": 0.0007500648498535156, \"name\": \"2D\", \"num_runs\": 3, \"shape\": [100, 10, 10], \"shape_str\": \"100x10x10\", \"std_time\": 0.00011660632150360152, \"system\": {\"os\": {\"name\": \"Windows\", \"version\": \"10.0.18362\"}, \"memory\": {\"unit\": \"MB\", \"used\": 15765, \"total\": 65451}, \"cpu\": {\"name\": \"Intel64 Family 6 Model 158 Stepping 10, GenuineIntel\", \"cores\": 12, \"freqency\": 3696.0}, \"python\": {\"numpy\": \"1.18.3\", \"tensorflow\": {\"visible_gpu\": [\"/physical_device:GPU:0\"], \"version\": \"2.2.0\"}, \"cupy\": \"7.2.0\"}, \"gpu\": [{\"memory\": {\"unit\": \"MB\", \"total\": 11264, \"used\": 1471}, \"temperature\": {\"unit\": \"C\"}, \"driver\": \"445.87\", \"index\": \"0\", \"name\": \"GeForce RTX 2080 Ti\", \"value\": \"58\", \"usage\": \"0\"}]}, \"test_name\": \"Fittest2D\", \"test_type\": \"Selection\", \"ts\": 1590167273}, {\"avg_time\": 0.0, \"backend\": \"numpy\", \"evoflow_version\": \"0.4.1\", \"generations\": 10, \"group\": \"Fittest\", \"input_size\": 10000, \"max_time\": 0.0, \"min_time\": 0.0, \"name\": \"2D\", \"num_runs\": 3, \"shape\": [100, 10, 10], \"shape_str\": \"100x10x10\", \"std_time\": 0.0, \"system\": {\"os\": {\"name\": \"Windows\", \"version\": \"10.0.18362\"}, \"memory\": {\"unit\": \"MB\", \"used\": 15771, \"total\": 65451}, \"cpu\": {\"name\": \"Intel64 Family 6 Model 158 Stepping 10, GenuineIntel\", \"cores\": 12, \"freqency\": 3696.0}, \"python\": {\"numpy\": \"1.18.3\", \"tensorflow\": {\"visible_gpu\": [\"/physical_device:GPU:0\"], \"version\": \"2.2.0\"}, \"cupy\": \"7.2.0\"}, \"gpu\": []}, \"test_name\": \"Fittest2D\", \"test_type\": \"Selection\", \"ts\": 1590167246}, {\"avg_time\": 0.0006647904713948568, \"backend\": \"tensorflow-gpu\", \"evoflow_version\": \"0.4.1\", \"generations\": 10, \"group\": \"Fittest\", \"input_size\": 100000, \"max_time\": 0.000997781753540039, \"min_time\": 0.0, \"name\": \"1D\", \"num_runs\": 3, \"shape\": [100, 1000], \"shape_str\": \"100x1000\", \"std_time\": 0.000470078102315218, \"system\": {\"os\": {\"name\": \"Windows\", \"version\": \"10.0.18362\"}, \"memory\": {\"unit\": \"MB\", \"used\": 15765, \"total\": 65451}, \"cpu\": {\"name\": \"Intel64 Family 6 Model 158 Stepping 10, GenuineIntel\", \"cores\": 12, \"freqency\": 3696.0}, \"python\": {\"numpy\": \"1.18.3\", \"tensorflow\": {\"visible_gpu\": [\"/physical_device:GPU:0\"], \"version\": \"2.2.0\"}, \"cupy\": \"7.2.0\"}, \"gpu\": [{\"memory\": {\"unit\": \"MB\", \"total\": 11264, \"used\": 1471}, \"temperature\": {\"unit\": \"C\"}, \"driver\": \"445.87\", \"index\": \"0\", \"name\": \"GeForce RTX 2080 Ti\", \"value\": \"58\", \"usage\": \"0\"}]}, \"test_name\": \"Fittest1D\", \"test_type\": \"Selection\", \"ts\": 1590167273}, {\"avg_time\": 0.0003325144449869792, \"backend\": \"tensorflow-cpu\", \"evoflow_version\": \"0.4.1\", \"generations\": 10, \"group\": \"Fittest\", \"input_size\": 100000, \"max_time\": 0.0009975433349609375, \"min_time\": 0.0, \"name\": \"3D\", \"num_runs\": 3, \"shape\": [100, 10, 10, 10], \"shape_str\": \"100x10x10x10\", \"std_time\": 0.00047024643778554833, \"system\": {\"os\": {\"name\": \"Windows\", \"version\": \"10.0.18362\"}, \"memory\": {\"unit\": \"MB\", \"used\": 15807, \"total\": 65451}, \"cpu\": {\"name\": \"Intel64 Family 6 Model 158 Stepping 10, GenuineIntel\", \"cores\": 12, \"freqency\": 3696.0}, \"python\": {\"numpy\": \"1.18.3\", \"tensorflow\": {\"visible_gpu\": [], \"version\": \"2.2.0\"}, \"cupy\": \"7.2.0\"}, \"gpu\": []}, \"test_name\": \"Fittest3D\", \"test_type\": \"Selection\", \"ts\": 1590167261}, {\"avg_time\": 0.0003325144449869792, \"backend\": \"tensorflow-cpu\", \"evoflow_version\": \"0.4.1\", \"generations\": 10, \"group\": \"Fittest\", \"input_size\": 100000, \"max_time\": 0.0009975433349609375, \"min_time\": 0.0, \"name\": \"2D\", \"num_runs\": 3, \"shape\": [100, 100, 10], \"shape_str\": \"100x100x10\", \"std_time\": 0.00047024643778554833, \"system\": {\"os\": {\"name\": \"Windows\", \"version\": \"10.0.18362\"}, \"memory\": {\"unit\": \"MB\", \"used\": 15807, \"total\": 65451}, \"cpu\": {\"name\": \"Intel64 Family 6 Model 158 Stepping 10, GenuineIntel\", \"cores\": 12, \"freqency\": 3696.0}, \"python\": {\"numpy\": \"1.18.3\", \"tensorflow\": {\"visible_gpu\": [], \"version\": \"2.2.0\"}, \"cupy\": \"7.2.0\"}, \"gpu\": []}, \"test_name\": \"Fittest2D\", \"test_type\": \"Selection\", \"ts\": 1590167261}, {\"avg_time\": 0.0003325144449869792, \"backend\": \"tensorflow-cpu\", \"evoflow_version\": \"0.4.1\", \"generations\": 10, \"group\": \"Fittest\", \"input_size\": 100000, \"max_time\": 0.0009975433349609375, \"min_time\": 0.0, \"name\": \"1D\", \"num_runs\": 3, \"shape\": [100, 1000], \"shape_str\": \"100x1000\", \"std_time\": 0.00047024643778554833, \"system\": {\"os\": {\"name\": \"Windows\", \"version\": \"10.0.18362\"}, \"memory\": {\"unit\": \"MB\", \"used\": 15807, \"total\": 65451}, \"cpu\": {\"name\": \"Intel64 Family 6 Model 158 Stepping 10, GenuineIntel\", \"cores\": 12, \"freqency\": 3696.0}, \"python\": {\"numpy\": \"1.18.3\", \"tensorflow\": {\"visible_gpu\": [], \"version\": \"2.2.0\"}, \"cupy\": \"7.2.0\"}, \"gpu\": []}, \"test_name\": \"Fittest1D\", \"test_type\": \"Selection\", \"ts\": 1590167261}, {\"avg_time\": 0.0003323554992675781, \"backend\": \"numpy\", \"evoflow_version\": \"0.4.1\", \"generations\": 10, \"group\": \"Fittest\", \"input_size\": 100000, \"max_time\": 0.0009970664978027344, \"min_time\": 0.0, \"name\": \"2D\", \"num_runs\": 3, \"shape\": [100, 100, 10], \"shape_str\": \"100x100x10\", \"std_time\": 0.00047002165459349024, \"system\": {\"os\": {\"name\": \"Windows\", \"version\": \"10.0.18362\"}, \"memory\": {\"unit\": \"MB\", \"used\": 15771, \"total\": 65451}, \"cpu\": {\"name\": \"Intel64 Family 6 Model 158 Stepping 10, GenuineIntel\", \"cores\": 12, \"freqency\": 3696.0}, \"python\": {\"numpy\": \"1.18.3\", \"tensorflow\": {\"visible_gpu\": [\"/physical_device:GPU:0\"], \"version\": \"2.2.0\"}, \"cupy\": \"7.2.0\"}, \"gpu\": []}, \"test_name\": \"Fittest2D\", \"test_type\": \"Selection\", \"ts\": 1590167246}, {\"avg_time\": 0.0003325144449869792, \"backend\": \"numpy\", \"evoflow_version\": \"0.4.1\", \"generations\": 10, \"group\": \"Fittest\", \"input_size\": 100000, \"max_time\": 0.0009975433349609375, \"min_time\": 0.0, \"name\": \"3D\", \"num_runs\": 3, \"shape\": [100, 10, 10, 10], \"shape_str\": \"100x10x10x10\", \"std_time\": 0.00047024643778554833, \"system\": {\"os\": {\"name\": \"Windows\", \"version\": \"10.0.18362\"}, \"memory\": {\"unit\": \"MB\", \"used\": 15771, \"total\": 65451}, \"cpu\": {\"name\": \"Intel64 Family 6 Model 158 Stepping 10, GenuineIntel\", \"cores\": 12, \"freqency\": 3696.0}, \"python\": {\"numpy\": \"1.18.3\", \"tensorflow\": {\"visible_gpu\": [\"/physical_device:GPU:0\"], \"version\": \"2.2.0\"}, \"cupy\": \"7.2.0\"}, \"gpu\": []}, \"test_name\": \"Fittest3D\", \"test_type\": \"Selection\", \"ts\": 1590167246}, {\"avg_time\": 0.0013298193613688152, \"backend\": \"tensorflow-gpu\", \"evoflow_version\": \"0.4.1\", \"generations\": 10, \"group\": \"Fittest\", \"input_size\": 100000, \"max_time\": 0.001994609832763672, \"min_time\": 0.0009970664978027344, \"name\": \"2D\", \"num_runs\": 3, \"shape\": [100, 100, 10], \"shape_str\": \"100x100x10\", \"std_time\": 0.0004700779410840571, \"system\": {\"os\": {\"name\": \"Windows\", \"version\": \"10.0.18362\"}, \"memory\": {\"unit\": \"MB\", \"used\": 15765, \"total\": 65451}, \"cpu\": {\"name\": \"Intel64 Family 6 Model 158 Stepping 10, GenuineIntel\", \"cores\": 12, \"freqency\": 3696.0}, \"python\": {\"numpy\": \"1.18.3\", \"tensorflow\": {\"visible_gpu\": [\"/physical_device:GPU:0\"], \"version\": \"2.2.0\"}, \"cupy\": \"7.2.0\"}, \"gpu\": [{\"memory\": {\"unit\": \"MB\", \"total\": 11264, \"used\": 1471}, \"temperature\": {\"unit\": \"C\"}, \"driver\": \"445.87\", \"index\": \"0\", \"name\": \"GeForce RTX 2080 Ti\", \"value\": \"58\", \"usage\": \"0\"}]}, \"test_name\": \"Fittest2D\", \"test_type\": \"Selection\", \"ts\": 1590167273}, {\"avg_time\": 0.0, \"backend\": \"numpy\", \"evoflow_version\": \"0.4.1\", \"generations\": 10, \"group\": \"Fittest\", \"input_size\": 100000, \"max_time\": 0.0, \"min_time\": 0.0, \"name\": \"1D\", \"num_runs\": 3, \"shape\": [100, 1000], \"shape_str\": \"100x1000\", \"std_time\": 0.0, \"system\": {\"os\": {\"name\": \"Windows\", \"version\": \"10.0.18362\"}, \"memory\": {\"unit\": \"MB\", \"used\": 15771, \"total\": 65451}, \"cpu\": {\"name\": \"Intel64 Family 6 Model 158 Stepping 10, GenuineIntel\", \"cores\": 12, \"freqency\": 3696.0}, \"python\": {\"numpy\": \"1.18.3\", \"tensorflow\": {\"visible_gpu\": [\"/physical_device:GPU:0\"], \"version\": \"2.2.0\"}, \"cupy\": \"7.2.0\"}, \"gpu\": []}, \"test_name\": \"Fittest1D\", \"test_type\": \"Selection\", \"ts\": 1590167246}, {\"avg_time\": 0.0006649494171142578, \"backend\": \"cupy\", \"evoflow_version\": \"0.4.1\", \"generations\": 10, \"group\": \"Fittest\", \"input_size\": 100000, \"max_time\": 0.0009975433349609375, \"min_time\": 0.0, \"name\": \"1D\", \"num_runs\": 3, \"shape\": [100, 1000], \"shape_str\": \"100x1000\", \"std_time\": 0.0004701902520620762, \"system\": {\"os\": {\"name\": \"Windows\", \"version\": \"10.0.18362\"}, \"memory\": {\"unit\": \"MB\", \"used\": 15815, \"total\": 65451}, \"cpu\": {\"name\": \"Intel64 Family 6 Model 158 Stepping 10, GenuineIntel\", \"cores\": 12, \"freqency\": 3696.0}, \"python\": {\"numpy\": \"1.18.3\", \"tensorflow\": {\"visible_gpu\": [\"/physical_device:GPU:0\"], \"version\": \"2.2.0\"}, \"cupy\": \"7.2.0\"}, \"gpu\": [{\"memory\": {\"unit\": \"MB\", \"total\": 11264, \"used\": 1475}, \"temperature\": {\"unit\": \"C\"}, \"driver\": \"445.87\", \"index\": \"0\", \"name\": \"GeForce RTX 2080 Ti\", \"value\": \"60\", \"usage\": \"1\"}]}, \"test_name\": \"Fittest1D\", \"test_type\": \"Selection\", \"ts\": 1590167235}, {\"avg_time\": 0.000997463862101237, \"backend\": \"tensorflow-gpu\", \"evoflow_version\": \"0.4.1\", \"generations\": 10, \"group\": \"Fittest\", \"input_size\": 100000, \"max_time\": 0.000997781753540039, \"min_time\": 0.0009970664978027344, \"name\": \"3D\", \"num_runs\": 3, \"shape\": [100, 10, 10, 10], \"shape_str\": \"100x10x10x10\", \"std_time\": 2.9736021254650284e-07, \"system\": {\"os\": {\"name\": \"Windows\", \"version\": \"10.0.18362\"}, \"memory\": {\"unit\": \"MB\", \"used\": 15765, \"total\": 65451}, \"cpu\": {\"name\": \"Intel64 Family 6 Model 158 Stepping 10, GenuineIntel\", \"cores\": 12, \"freqency\": 3696.0}, \"python\": {\"numpy\": \"1.18.3\", \"tensorflow\": {\"visible_gpu\": [\"/physical_device:GPU:0\"], \"version\": \"2.2.0\"}, \"cupy\": \"7.2.0\"}, \"gpu\": [{\"memory\": {\"unit\": \"MB\", \"total\": 11264, \"used\": 1471}, \"temperature\": {\"unit\": \"C\"}, \"driver\": \"445.87\", \"index\": \"0\", \"name\": \"GeForce RTX 2080 Ti\", \"value\": \"58\", \"usage\": \"0\"}]}, \"test_name\": \"Fittest3D\", \"test_type\": \"Selection\", \"ts\": 1590167273}, {\"avg_time\": 0.0006648699442545573, \"backend\": \"cupy\", \"evoflow_version\": \"0.4.1\", \"generations\": 10, \"group\": \"Fittest\", \"input_size\": 100000, \"max_time\": 0.000997304916381836, \"min_time\": 0.0, \"name\": \"3D\", \"num_runs\": 3, \"shape\": [100, 10, 10, 10], \"shape_str\": \"100x10x10x10\", \"std_time\": 0.0004701340461895193, \"system\": {\"os\": {\"name\": \"Windows\", \"version\": \"10.0.18362\"}, \"memory\": {\"unit\": \"MB\", \"used\": 15815, \"total\": 65451}, \"cpu\": {\"name\": \"Intel64 Family 6 Model 158 Stepping 10, GenuineIntel\", \"cores\": 12, \"freqency\": 3696.0}, \"python\": {\"numpy\": \"1.18.3\", \"tensorflow\": {\"visible_gpu\": [\"/physical_device:GPU:0\"], \"version\": \"2.2.0\"}, \"cupy\": \"7.2.0\"}, \"gpu\": [{\"memory\": {\"unit\": \"MB\", \"total\": 11264, \"used\": 1475}, \"temperature\": {\"unit\": \"C\"}, \"driver\": \"445.87\", \"index\": \"0\", \"name\": \"GeForce RTX 2080 Ti\", \"value\": \"60\", \"usage\": \"1\"}]}, \"test_name\": \"Fittest3D\", \"test_type\": \"Selection\", \"ts\": 1590167235}, {\"avg_time\": 0.0006648699442545573, \"backend\": \"cupy\", \"evoflow_version\": \"0.4.1\", \"generations\": 10, \"group\": \"Fittest\", \"input_size\": 100000, \"max_time\": 0.000997304916381836, \"min_time\": 0.0, \"name\": \"2D\", \"num_runs\": 3, \"shape\": [100, 100, 10], \"shape_str\": \"100x100x10\", \"std_time\": 0.0004701340461895193, \"system\": {\"os\": {\"name\": \"Windows\", \"version\": \"10.0.18362\"}, \"memory\": {\"unit\": \"MB\", \"used\": 15815, \"total\": 65451}, \"cpu\": {\"name\": \"Intel64 Family 6 Model 158 Stepping 10, GenuineIntel\", \"cores\": 12, \"freqency\": 3696.0}, \"python\": {\"numpy\": \"1.18.3\", \"tensorflow\": {\"visible_gpu\": [\"/physical_device:GPU:0\"], \"version\": \"2.2.0\"}, \"cupy\": \"7.2.0\"}, \"gpu\": [{\"memory\": {\"unit\": \"MB\", \"total\": 11264, \"used\": 1475}, \"temperature\": {\"unit\": \"C\"}, \"driver\": \"445.87\", \"index\": \"0\", \"name\": \"GeForce RTX 2080 Ti\", \"value\": \"60\", \"usage\": \"1\"}]}, \"test_name\": \"Fittest2D\", \"test_type\": \"Selection\", \"ts\": 1590167235}, {\"avg_time\": 0.003989219665527344, \"backend\": \"tensorflow-gpu\", \"evoflow_version\": \"0.4.1\", \"generations\": 10, \"group\": \"Fittest\", \"input_size\": 1000000, \"max_time\": 0.00498652458190918, \"min_time\": 0.0029916763305664062, \"name\": \"1D\", \"num_runs\": 3, \"shape\": [1000, 1000], \"shape_str\": \"1000x1000\", \"std_time\": 0.000814393405795133, \"system\": {\"os\": {\"name\": \"Windows\", \"version\": \"10.0.18362\"}, \"memory\": {\"unit\": \"MB\", \"used\": 15765, \"total\": 65451}, \"cpu\": {\"name\": \"Intel64 Family 6 Model 158 Stepping 10, GenuineIntel\", \"cores\": 12, \"freqency\": 3696.0}, \"python\": {\"numpy\": \"1.18.3\", \"tensorflow\": {\"visible_gpu\": [\"/physical_device:GPU:0\"], \"version\": \"2.2.0\"}, \"cupy\": \"7.2.0\"}, \"gpu\": [{\"memory\": {\"unit\": \"MB\", \"total\": 11264, \"used\": 1471}, \"temperature\": {\"unit\": \"C\"}, \"driver\": \"445.87\", \"index\": \"0\", \"name\": \"GeForce RTX 2080 Ti\", \"value\": \"58\", \"usage\": \"0\"}]}, \"test_name\": \"Fittest1D\", \"test_type\": \"Selection\", \"ts\": 1590167273}, {\"avg_time\": 0.0003325144449869792, \"backend\": \"cupy\", \"evoflow_version\": \"0.4.1\", \"generations\": 10, \"group\": \"Fittest\", \"input_size\": 1000000, \"max_time\": 0.0009975433349609375, \"min_time\": 0.0, \"name\": \"1D\", \"num_runs\": 3, \"shape\": [1000, 1000], \"shape_str\": \"1000x1000\", \"std_time\": 0.00047024643778554833, \"system\": {\"os\": {\"name\": \"Windows\", \"version\": \"10.0.18362\"}, \"memory\": {\"unit\": \"MB\", \"used\": 15815, \"total\": 65451}, \"cpu\": {\"name\": \"Intel64 Family 6 Model 158 Stepping 10, GenuineIntel\", \"cores\": 12, \"freqency\": 3696.0}, \"python\": {\"numpy\": \"1.18.3\", \"tensorflow\": {\"visible_gpu\": [\"/physical_device:GPU:0\"], \"version\": \"2.2.0\"}, \"cupy\": \"7.2.0\"}, \"gpu\": [{\"memory\": {\"unit\": \"MB\", \"total\": 11264, \"used\": 1475}, \"temperature\": {\"unit\": \"C\"}, \"driver\": \"445.87\", \"index\": \"0\", \"name\": \"GeForce RTX 2080 Ti\", \"value\": \"60\", \"usage\": \"1\"}]}, \"test_name\": \"Fittest1D\", \"test_type\": \"Selection\", \"ts\": 1590167235}, {\"avg_time\": 0.004321893056233724, \"backend\": \"tensorflow-gpu\", \"evoflow_version\": \"0.4.1\", \"generations\": 10, \"group\": \"Fittest\", \"input_size\": 1000000, \"max_time\": 0.005984067916870117, \"min_time\": 0.0029921531677246094, \"name\": \"2D\", \"num_runs\": 3, \"shape\": [100, 100, 100], \"shape_str\": \"100x100x100\", \"std_time\": 0.0012438577690820215, \"system\": {\"os\": {\"name\": \"Windows\", \"version\": \"10.0.18362\"}, \"memory\": {\"unit\": \"MB\", \"used\": 15765, \"total\": 65451}, \"cpu\": {\"name\": \"Intel64 Family 6 Model 158 Stepping 10, GenuineIntel\", \"cores\": 12, \"freqency\": 3696.0}, \"python\": {\"numpy\": \"1.18.3\", \"tensorflow\": {\"visible_gpu\": [\"/physical_device:GPU:0\"], \"version\": \"2.2.0\"}, \"cupy\": \"7.2.0\"}, \"gpu\": [{\"memory\": {\"unit\": \"MB\", \"total\": 11264, \"used\": 1471}, \"temperature\": {\"unit\": \"C\"}, \"driver\": \"445.87\", \"index\": \"0\", \"name\": \"GeForce RTX 2080 Ti\", \"value\": \"58\", \"usage\": \"0\"}]}, \"test_name\": \"Fittest2D\", \"test_type\": \"Selection\", \"ts\": 1590167273}, {\"avg_time\": 0.0026597181955973306, \"backend\": \"tensorflow-cpu\", \"evoflow_version\": \"0.4.1\", \"generations\": 10, \"group\": \"Fittest\", \"input_size\": 1000000, \"max_time\": 0.002992391586303711, \"min_time\": 0.0019948482513427734, \"name\": \"3D\", \"num_runs\": 3, \"shape\": [100, 100, 10, 10], \"shape_str\": \"100x100x10x10\", \"std_time\": 0.00047013408649250444, \"system\": {\"os\": {\"name\": \"Windows\", \"version\": \"10.0.18362\"}, \"memory\": {\"unit\": \"MB\", \"used\": 15807, \"total\": 65451}, \"cpu\": {\"name\": \"Intel64 Family 6 Model 158 Stepping 10, GenuineIntel\", \"cores\": 12, \"freqency\": 3696.0}, \"python\": {\"numpy\": \"1.18.3\", \"tensorflow\": {\"visible_gpu\": [], \"version\": \"2.2.0\"}, \"cupy\": \"7.2.0\"}, \"gpu\": []}, \"test_name\": \"Fittest3D\", \"test_type\": \"Selection\", \"ts\": 1590167261}, {\"avg_time\": 0.005319118499755859, \"backend\": \"numpy\", \"evoflow_version\": \"0.4.1\", \"generations\": 10, \"group\": \"Fittest\", \"input_size\": 1000000, \"max_time\": 0.005983829498291016, \"min_time\": 0.004986763000488281, \"name\": \"2D\", \"num_runs\": 3, \"shape\": [100, 100, 100], \"shape_str\": \"100x100x100\", \"std_time\": 0.00047002165459349024, \"system\": {\"os\": {\"name\": \"Windows\", \"version\": \"10.0.18362\"}, \"memory\": {\"unit\": \"MB\", \"used\": 15771, \"total\": 65451}, \"cpu\": {\"name\": \"Intel64 Family 6 Model 158 Stepping 10, GenuineIntel\", \"cores\": 12, \"freqency\": 3696.0}, \"python\": {\"numpy\": \"1.18.3\", \"tensorflow\": {\"visible_gpu\": [\"/physical_device:GPU:0\"], \"version\": \"2.2.0\"}, \"cupy\": \"7.2.0\"}, \"gpu\": []}, \"test_name\": \"Fittest2D\", \"test_type\": \"Selection\", \"ts\": 1590167246}, {\"avg_time\": 0.005651553471883138, \"backend\": \"numpy\", \"evoflow_version\": \"0.4.1\", \"generations\": 10, \"group\": \"Fittest\", \"input_size\": 1000000, \"max_time\": 0.005984306335449219, \"min_time\": 0.004986286163330078, \"name\": \"1D\", \"num_runs\": 3, \"shape\": [1000, 1000], \"shape_str\": \"1000x1000\", \"std_time\": 0.0004704150352493203, \"system\": {\"os\": {\"name\": \"Windows\", \"version\": \"10.0.18362\"}, \"memory\": {\"unit\": \"MB\", \"used\": 15771, \"total\": 65451}, \"cpu\": {\"name\": \"Intel64 Family 6 Model 158 Stepping 10, GenuineIntel\", \"cores\": 12, \"freqency\": 3696.0}, \"python\": {\"numpy\": \"1.18.3\", \"tensorflow\": {\"visible_gpu\": [\"/physical_device:GPU:0\"], \"version\": \"2.2.0\"}, \"cupy\": \"7.2.0\"}, \"gpu\": []}, \"test_name\": \"Fittest1D\", \"test_type\": \"Selection\", \"ts\": 1590167246}, {\"avg_time\": 0.0026596387227376304, \"backend\": \"tensorflow-cpu\", \"evoflow_version\": \"0.4.1\", \"generations\": 10, \"group\": \"Fittest\", \"input_size\": 1000000, \"max_time\": 0.0029921531677246094, \"min_time\": 0.0019958019256591797, \"name\": \"1D\", \"num_runs\": 3, \"shape\": [1000, 1000], \"shape_str\": \"1000x1000\", \"std_time\": 0.0004694037531009595, \"system\": {\"os\": {\"name\": \"Windows\", \"version\": \"10.0.18362\"}, \"memory\": {\"unit\": \"MB\", \"used\": 15807, \"total\": 65451}, \"cpu\": {\"name\": \"Intel64 Family 6 Model 158 Stepping 10, GenuineIntel\", \"cores\": 12, \"freqency\": 3696.0}, \"python\": {\"numpy\": \"1.18.3\", \"tensorflow\": {\"visible_gpu\": [], \"version\": \"2.2.0\"}, \"cupy\": \"7.2.0\"}, \"gpu\": []}, \"test_name\": \"Fittest1D\", \"test_type\": \"Selection\", \"ts\": 1590167261}, {\"avg_time\": 0.0006648699442545573, \"backend\": \"cupy\", \"evoflow_version\": \"0.4.1\", \"generations\": 10, \"group\": \"Fittest\", \"input_size\": 1000000, \"max_time\": 0.000997304916381836, \"min_time\": 0.0, \"name\": \"3D\", \"num_runs\": 3, \"shape\": [100, 100, 10, 10], \"shape_str\": \"100x100x10x10\", \"std_time\": 0.0004701340461895193, \"system\": {\"os\": {\"name\": \"Windows\", \"version\": \"10.0.18362\"}, \"memory\": {\"unit\": \"MB\", \"used\": 15815, \"total\": 65451}, \"cpu\": {\"name\": \"Intel64 Family 6 Model 158 Stepping 10, GenuineIntel\", \"cores\": 12, \"freqency\": 3696.0}, \"python\": {\"numpy\": \"1.18.3\", \"tensorflow\": {\"visible_gpu\": [\"/physical_device:GPU:0\"], \"version\": \"2.2.0\"}, \"cupy\": \"7.2.0\"}, \"gpu\": [{\"memory\": {\"unit\": \"MB\", \"total\": 11264, \"used\": 1475}, \"temperature\": {\"unit\": \"C\"}, \"driver\": \"445.87\", \"index\": \"0\", \"name\": \"GeForce RTX 2080 Ti\", \"value\": \"60\", \"usage\": \"1\"}]}, \"test_name\": \"Fittest3D\", \"test_type\": \"Selection\", \"ts\": 1590167235}, {\"avg_time\": 0.0043218135833740234, \"backend\": \"tensorflow-gpu\", \"evoflow_version\": \"0.4.1\", \"generations\": 10, \"group\": \"Fittest\", \"input_size\": 1000000, \"max_time\": 0.00498652458190918, \"min_time\": 0.003989219665527344, \"name\": \"3D\", \"num_runs\": 3, \"shape\": [100, 100, 10, 10], \"shape_str\": \"100x100x10x10\", \"std_time\": 0.0004700216949061126, \"system\": {\"os\": {\"name\": \"Windows\", \"version\": \"10.0.18362\"}, \"memory\": {\"unit\": \"MB\", \"used\": 15765, \"total\": 65451}, \"cpu\": {\"name\": \"Intel64 Family 6 Model 158 Stepping 10, GenuineIntel\", \"cores\": 12, \"freqency\": 3696.0}, \"python\": {\"numpy\": \"1.18.3\", \"tensorflow\": {\"visible_gpu\": [\"/physical_device:GPU:0\"], \"version\": \"2.2.0\"}, \"cupy\": \"7.2.0\"}, \"gpu\": [{\"memory\": {\"unit\": \"MB\", \"total\": 11264, \"used\": 1471}, \"temperature\": {\"unit\": \"C\"}, \"driver\": \"445.87\", \"index\": \"0\", \"name\": \"GeForce RTX 2080 Ti\", \"value\": \"58\", \"usage\": \"0\"}]}, \"test_name\": \"Fittest3D\", \"test_type\": \"Selection\", \"ts\": 1590167273}, {\"avg_time\": 0.005319118499755859, \"backend\": \"numpy\", \"evoflow_version\": \"0.4.1\", \"generations\": 10, \"group\": \"Fittest\", \"input_size\": 1000000, \"max_time\": 0.005984067916870117, \"min_time\": 0.00498652458190918, \"name\": \"3D\", \"num_runs\": 3, \"shape\": [100, 100, 10, 10], \"shape_str\": \"100x100x10x10\", \"std_time\": 0.0004701902520620762, \"system\": {\"os\": {\"name\": \"Windows\", \"version\": \"10.0.18362\"}, \"memory\": {\"unit\": \"MB\", \"used\": 15771, \"total\": 65451}, \"cpu\": {\"name\": \"Intel64 Family 6 Model 158 Stepping 10, GenuineIntel\", \"cores\": 12, \"freqency\": 3696.0}, \"python\": {\"numpy\": \"1.18.3\", \"tensorflow\": {\"visible_gpu\": [\"/physical_device:GPU:0\"], \"version\": \"2.2.0\"}, \"cupy\": \"7.2.0\"}, \"gpu\": []}, \"test_name\": \"Fittest3D\", \"test_type\": \"Selection\", \"ts\": 1590167246}, {\"avg_time\": 0.0026595592498779297, \"backend\": \"tensorflow-cpu\", \"evoflow_version\": \"0.4.1\", \"generations\": 10, \"group\": \"Fittest\", \"input_size\": 1000000, \"max_time\": 0.0029921531677246094, \"min_time\": 0.001995086669921875, \"name\": \"2D\", \"num_runs\": 3, \"shape\": [100, 100, 100], \"shape_str\": \"100x100x100\", \"std_time\": 0.0004698531579353873, \"system\": {\"os\": {\"name\": \"Windows\", \"version\": \"10.0.18362\"}, \"memory\": {\"unit\": \"MB\", \"used\": 15807, \"total\": 65451}, \"cpu\": {\"name\": \"Intel64 Family 6 Model 158 Stepping 10, GenuineIntel\", \"cores\": 12, \"freqency\": 3696.0}, \"python\": {\"numpy\": \"1.18.3\", \"tensorflow\": {\"visible_gpu\": [], \"version\": \"2.2.0\"}, \"cupy\": \"7.2.0\"}, \"gpu\": []}, \"test_name\": \"Fittest2D\", \"test_type\": \"Selection\", \"ts\": 1590167261}, {\"avg_time\": 0.0006648699442545573, \"backend\": \"cupy\", \"evoflow_version\": \"0.4.1\", \"generations\": 10, \"group\": \"Fittest\", \"input_size\": 1000000, \"max_time\": 0.000997304916381836, \"min_time\": 0.0, \"name\": \"2D\", \"num_runs\": 3, \"shape\": [100, 100, 100], \"shape_str\": \"100x100x100\", \"std_time\": 0.0004701340461895193, \"system\": {\"os\": {\"name\": \"Windows\", \"version\": \"10.0.18362\"}, \"memory\": {\"unit\": \"MB\", \"used\": 15815, \"total\": 65451}, \"cpu\": {\"name\": \"Intel64 Family 6 Model 158 Stepping 10, GenuineIntel\", \"cores\": 12, \"freqency\": 3696.0}, \"python\": {\"numpy\": \"1.18.3\", \"tensorflow\": {\"visible_gpu\": [\"/physical_device:GPU:0\"], \"version\": \"2.2.0\"}, \"cupy\": \"7.2.0\"}, \"gpu\": [{\"memory\": {\"unit\": \"MB\", \"total\": 11264, \"used\": 1475}, \"temperature\": {\"unit\": \"C\"}, \"driver\": \"445.87\", \"index\": \"0\", \"name\": \"GeForce RTX 2080 Ti\", \"value\": \"60\", \"usage\": \"1\"}]}, \"test_name\": \"Fittest2D\", \"test_type\": \"Selection\", \"ts\": 1590167235}, {\"avg_time\": 0.055353800455729164, \"backend\": \"numpy\", \"evoflow_version\": \"0.4.1\", \"generations\": 10, \"group\": \"Fittest\", \"input_size\": 10000000, \"max_time\": 0.056354522705078125, \"min_time\": 0.054853200912475586, \"name\": \"3D\", \"num_runs\": 3, \"shape\": [100, 100, 100, 10], \"shape_str\": \"100x100x100x10\", \"std_time\": 0.000707617515375808, \"system\": {\"os\": {\"name\": \"Windows\", \"version\": \"10.0.18362\"}, \"memory\": {\"unit\": \"MB\", \"used\": 15771, \"total\": 65451}, \"cpu\": {\"name\": \"Intel64 Family 6 Model 158 Stepping 10, GenuineIntel\", \"cores\": 12, \"freqency\": 3696.0}, \"python\": {\"numpy\": \"1.18.3\", \"tensorflow\": {\"visible_gpu\": [\"/physical_device:GPU:0\"], \"version\": \"2.2.0\"}, \"cupy\": \"7.2.0\"}, \"gpu\": []}, \"test_name\": \"Fittest3D\", \"test_type\": \"Selection\", \"ts\": 1590167246}, {\"avg_time\": 0.001994927724202474, \"backend\": \"cupy\", \"evoflow_version\": \"0.4.1\", \"generations\": 10, \"group\": \"Fittest\", \"input_size\": 10000000, \"max_time\": 0.0039899349212646484, \"min_time\": 0.000997304916381836, \"name\": \"3D\", \"num_runs\": 3, \"shape\": [100, 100, 100, 10], \"shape_str\": \"100x100x100x10\", \"std_time\": 0.0014106831209165437, \"system\": {\"os\": {\"name\": \"Windows\", \"version\": \"10.0.18362\"}, \"memory\": {\"unit\": \"MB\", \"used\": 15815, \"total\": 65451}, \"cpu\": {\"name\": \"Intel64 Family 6 Model 158 Stepping 10, GenuineIntel\", \"cores\": 12, \"freqency\": 3696.0}, \"python\": {\"numpy\": \"1.18.3\", \"tensorflow\": {\"visible_gpu\": [\"/physical_device:GPU:0\"], \"version\": \"2.2.0\"}, \"cupy\": \"7.2.0\"}, \"gpu\": [{\"memory\": {\"unit\": \"MB\", \"total\": 11264, \"used\": 1475}, \"temperature\": {\"unit\": \"C\"}, \"driver\": \"445.87\", \"index\": \"0\", \"name\": \"GeForce RTX 2080 Ti\", \"value\": \"60\", \"usage\": \"1\"}]}, \"test_name\": \"Fittest3D\", \"test_type\": \"Selection\", \"ts\": 1590167235}, {\"avg_time\": 0.019946575164794922, \"backend\": \"tensorflow-cpu\", \"evoflow_version\": \"0.4.1\", \"generations\": 10, \"group\": \"Fittest\", \"input_size\": 10000000, \"max_time\": 0.019946575164794922, \"min_time\": 0.019946575164794922, \"name\": \"3D\", \"num_runs\": 3, \"shape\": [100, 100, 100, 10], \"shape_str\": \"100x100x100x10\", \"std_time\": 0.0, \"system\": {\"os\": {\"name\": \"Windows\", \"version\": \"10.0.18362\"}, \"memory\": {\"unit\": \"MB\", \"used\": 15807, \"total\": 65451}, \"cpu\": {\"name\": \"Intel64 Family 6 Model 158 Stepping 10, GenuineIntel\", \"cores\": 12, \"freqency\": 3696.0}, \"python\": {\"numpy\": \"1.18.3\", \"tensorflow\": {\"visible_gpu\": [], \"version\": \"2.2.0\"}, \"cupy\": \"7.2.0\"}, \"gpu\": []}, \"test_name\": \"Fittest3D\", \"test_type\": \"Selection\", \"ts\": 1590167261}, {\"avg_time\": 0.03922843933105469, \"backend\": \"tensorflow-gpu\", \"evoflow_version\": \"0.4.1\", \"generations\": 10, \"group\": \"Fittest\", \"input_size\": 10000000, \"max_time\": 0.05585074424743652, \"min_time\": 0.02991962432861328, \"name\": \"3D\", \"num_runs\": 3, \"shape\": [100, 100, 100, 10], \"shape_str\": \"100x100x100x10\", \"std_time\": 0.01178193804380471, \"system\": {\"os\": {\"name\": \"Windows\", \"version\": \"10.0.18362\"}, \"memory\": {\"unit\": \"MB\", \"used\": 15765, \"total\": 65451}, \"cpu\": {\"name\": \"Intel64 Family 6 Model 158 Stepping 10, GenuineIntel\", \"cores\": 12, \"freqency\": 3696.0}, \"python\": {\"numpy\": \"1.18.3\", \"tensorflow\": {\"visible_gpu\": [\"/physical_device:GPU:0\"], \"version\": \"2.2.0\"}, \"cupy\": \"7.2.0\"}, \"gpu\": [{\"memory\": {\"unit\": \"MB\", \"total\": 11264, \"used\": 1471}, \"temperature\": {\"unit\": \"C\"}, \"driver\": \"445.87\", \"index\": \"0\", \"name\": \"GeForce RTX 2080 Ti\", \"value\": \"58\", \"usage\": \"0\"}]}, \"test_name\": \"Fittest3D\", \"test_type\": \"Selection\", \"ts\": 1590167273}]}}, {\"mode\": \"vega-lite\"});\n",
       "</script>"
      ],
      "text/plain": [
       "alt.FacetChart(...)"
      ]
     },
     "execution_count": 76,
     "metadata": {},
     "output_type": "execute_result"
    }
   ],
   "source": [
    "display_chart('Fittest')"
   ]
  },
  {
   "cell_type": "code",
   "execution_count": 77,
   "metadata": {},
   "outputs": [
    {
     "data": {
      "text/html": [
       "<br/><b>1D</b>"
      ],
      "text/plain": [
       "<IPython.core.display.HTML object>"
      ]
     },
     "metadata": {},
     "output_type": "display_data"
    },
    {
     "data": {
      "text/html": [
       "<table>\n",
       "<thead>\n",
       "<tr><th>shape    </th><th>numpy        </th><th>tf-cpu       </th><th>tf-gpu       </th><th>cupy         </th></tr>\n",
       "</thead>\n",
       "<tbody>\n",
       "<tr><td>100x100  </td><td>0.0 (1.00x)  </td><td>0.001 (0.33x)</td><td>0.001 (0.25x)</td><td>0.002 (0.14x)</td></tr>\n",
       "<tr><td>100x1000 </td><td>0.002 (1.00x)</td><td>0.002 (0.83x)</td><td>0.002 (0.71x)</td><td>0.001 (2.50x)</td></tr>\n",
       "<tr><td>1000x1000</td><td>0.008 (1.00x)</td><td>0.011 (0.71x)</td><td>0.013 (0.63x)</td><td>0.001 (6.00x)</td></tr>\n",
       "</tbody>\n",
       "</table>"
      ],
      "text/plain": [
       "<IPython.core.display.HTML object>"
      ]
     },
     "metadata": {},
     "output_type": "display_data"
    },
    {
     "data": {
      "text/html": [
       "<br/><b>2D</b>"
      ],
      "text/plain": [
       "<IPython.core.display.HTML object>"
      ]
     },
     "metadata": {},
     "output_type": "display_data"
    },
    {
     "data": {
      "text/html": [
       "<table>\n",
       "<thead>\n",
       "<tr><th>shape      </th><th>numpy        </th><th>tf-cpu       </th><th>tf-gpu       </th><th>cupy         </th></tr>\n",
       "</thead>\n",
       "<tbody>\n",
       "<tr><td>100x10x10  </td><td>0.0 (1.00x)  </td><td>0.001 (0.33x)</td><td>0.001 (0.33x)</td><td>0.001 (0.25x)</td></tr>\n",
       "<tr><td>100x100x10 </td><td>0.001 (1.00x)</td><td>0.001 (0.50x)</td><td>0.001 (0.50x)</td><td>0.001 (0.67x)</td></tr>\n",
       "<tr><td>100x100x100</td><td>0.01 (1.00x) </td><td>0.015 (0.64x)</td><td>0.014 (0.69x)</td><td>0.001 (7.24x)</td></tr>\n",
       "</tbody>\n",
       "</table>"
      ],
      "text/plain": [
       "<IPython.core.display.HTML object>"
      ]
     },
     "metadata": {},
     "output_type": "display_data"
    },
    {
     "data": {
      "text/html": [
       "<br/><b>3D</b>"
      ],
      "text/plain": [
       "<IPython.core.display.HTML object>"
      ]
     },
     "metadata": {},
     "output_type": "display_data"
    },
    {
     "data": {
      "text/html": [
       "<table>\n",
       "<thead>\n",
       "<tr><th>shape         </th><th>numpy        </th><th>tf-cpu       </th><th>tf-gpu       </th><th>cupy          </th></tr>\n",
       "</thead>\n",
       "<tbody>\n",
       "<tr><td>100x10x10x10  </td><td>0.001 (1.00x)</td><td>0.001 (0.75x)</td><td>0.001 (0.75x)</td><td>0.002 (0.60x) </td></tr>\n",
       "<tr><td>100x100x10x10 </td><td>0.007 (1.00x)</td><td>0.011 (0.62x)</td><td>0.012 (0.56x)</td><td>0.001 (5.00x) </td></tr>\n",
       "<tr><td>100x100x100x10</td><td>0.136 (1.00x)</td><td>0.18 (0.76x) </td><td>0.172 (0.79x)</td><td>0.003 (45.43x)</td></tr>\n",
       "</tbody>\n",
       "</table>"
      ],
      "text/plain": [
       "<IPython.core.display.HTML object>"
      ]
     },
     "metadata": {},
     "output_type": "display_data"
    }
   ],
   "source": [
    "display_table('Shuffle')"
   ]
  },
  {
   "cell_type": "code",
   "execution_count": 78,
   "metadata": {
    "scrolled": false
   },
   "outputs": [
    {
     "data": {
      "text/plain": [
       "['Fittest']"
      ]
     },
     "execution_count": 78,
     "metadata": {},
     "output_type": "execute_result"
    }
   ],
   "source": [
    "sorted(set(df[df['test_type']=='Selection']['group']))\n"
   ]
  }
 ],
 "metadata": {
  "kernelspec": {
   "display_name": "Python 3.6.7 64-bit",
   "language": "python",
   "name": "python36764bit1164f64651f442398f7288c44aeadef0"
  },
  "language_info": {
   "codemirror_mode": {
    "name": "ipython",
    "version": 3
   },
   "file_extension": ".py",
   "mimetype": "text/x-python",
   "name": "python",
   "nbconvert_exporter": "python",
   "pygments_lexer": "ipython3",
   "version": "3.6.7rc1"
  }
 },
 "nbformat": 4,
 "nbformat_minor": 2
}
